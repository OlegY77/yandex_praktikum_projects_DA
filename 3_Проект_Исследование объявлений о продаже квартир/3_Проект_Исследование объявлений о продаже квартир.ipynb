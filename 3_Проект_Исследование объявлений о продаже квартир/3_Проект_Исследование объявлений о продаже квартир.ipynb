﻿{
 "cells": [
  {
   "cell_type": "markdown",
   "metadata": {},
   "source": [
    "# Исследование объявлений о продаже квартир.\n",
    "Предоставлена информация с сервиса Яндекс.Недвижимость — объявления о продаже квартир в Санкт-Петербурге и соседних населённых пунктах за несколько лет.\n",
    "На основании полученных данных необходимо научиться определять рыночную стоимость объектов недвижимости.\n",
    "Исследование поможет построить автоматизированную систему для отслеживания аномалий."
   ]
  },
  {
   "cell_type": "markdown",
   "metadata": {},
   "source": [
    "### Шаг 1. Откройем файл с данными и изучим общую информацию. "
   ]
  },
  {
   "cell_type": "code",
   "execution_count": 1,
   "metadata": {},
   "outputs": [
    {
     "name": "stdout",
     "output_type": "stream",
     "text": [
      "<class 'pandas.core.frame.DataFrame'>\n",
      "RangeIndex: 23699 entries, 0 to 23698\n",
      "Data columns (total 1 columns):\n",
      "total_images\tlast_price\ttotal_area\tfirst_day_exposition\trooms\tceiling_height\tfloors_total\tliving_area\tfloor\tis_apartment\tstudio\topen_plan\tkitchen_area\tbalcony\tlocality_name\tairports_nearest\tcityCenters_nearest\tparks_around3000\tparks_nearest\tponds_around3000\tponds_nearest\tdays_exposition    23699 non-null object\n",
      "dtypes: object(1)\n",
      "memory usage: 185.3+ KB\n"
     ]
    }
   ],
   "source": [
    "import pandas\n",
    "import pandas as pd\n",
    "import numpy as np\n",
    "pd.options.mode.chained_assignment = None  # отключаем предупреждения Pandas\n",
    "data = pd.read_csv('датафрейм')\n",
    "data.info()"
   ]
  },
  {
   "cell_type": "markdown",
   "metadata": {},
   "source": [
    "Открыли файл, посмотрели общую информацию - данные склеились - формат csv, приведем к удобочитаеммоу формату"
   ]
  },
  {
   "cell_type": "code",
   "execution_count": 2,
   "metadata": {},
   "outputs": [
    {
     "name": "stdout",
     "output_type": "stream",
     "text": [
      "<class 'pandas.core.frame.DataFrame'>\n",
      "RangeIndex: 23699 entries, 0 to 23698\n",
      "Data columns (total 22 columns):\n",
      "total_images            23699 non-null int64\n",
      "last_price              23699 non-null float64\n",
      "total_area              23699 non-null float64\n",
      "first_day_exposition    23699 non-null object\n",
      "rooms                   23699 non-null int64\n",
      "ceiling_height          14504 non-null float64\n",
      "floors_total            23613 non-null float64\n",
      "living_area             21796 non-null float64\n",
      "floor                   23699 non-null int64\n",
      "is_apartment            2775 non-null object\n",
      "studio                  23699 non-null bool\n",
      "open_plan               23699 non-null bool\n",
      "kitchen_area            21421 non-null float64\n",
      "balcony                 12180 non-null float64\n",
      "locality_name           23650 non-null object\n",
      "airports_nearest        18157 non-null float64\n",
      "cityCenters_nearest     18180 non-null float64\n",
      "parks_around3000        18181 non-null float64\n",
      "parks_nearest           8079 non-null float64\n",
      "ponds_around3000        18181 non-null float64\n",
      "ponds_nearest           9110 non-null float64\n",
      "days_exposition         20518 non-null float64\n",
      "dtypes: bool(2), float64(14), int64(3), object(3)\n",
      "memory usage: 3.7+ MB\n"
     ]
    }
   ],
   "source": [
    "data = pd.read_csv('датафрейм', sep= '\\t')\n",
    "data.info()"
   ]
  },
  {
   "cell_type": "markdown",
   "metadata": {},
   "source": [
    "Получилось привести датафрейм к привычному формату, итак:\n",
    "1. В датафрейм 22 столбца, содержащий в максиммуе 23669 строк. Форматы строк int64, float64, object и bool.\n",
    "Посмотрю на все столбцы по порядку, определю его содержание, посмотрю с какими проблемами могу столкнуться при анализе, напишу примерный план действий по каждому столбцу.\n",
    "2. total_images - число фотографий квартиры в объявлении - пропусков нет, формат int64, с этим все хорошо.\n",
    "3. last_price - цена на момент снятия с публикац, пропусков нет, формат float64, преобразую в int64.\n",
    "4. total_area - площадь квартиры в квадратных метрах (м²) - пропусков нет.\n",
    "5. first_day_exposition - дата публикации - пропусков нет, формат object - неправильный, преобразую, причем в дальнейшем надо будет дифференцировать по дням недели, месяцами годам.\n",
    "6. rooms - число комнат - пропусков нет, формат int64, с этим все хорошо.\n",
    "7. ceiling_height - высота потолков (м) - много пропусков, формат float64, пропуски заполню, при дальнейшем анализе.\n",
    "8. floors_total - всего этажей в доме - немного пропусков, формат float64, заменю на int64, посмотрю далее на пропуски.\n",
    "8. living_area - жилая площадь (м²) - много пропусков, формат float64, над пропусками подумаю далее.\n",
    "9. floor  - этаж - пропусков нет, формат int64, с этим все хорошо.\n",
    "10. is_apartment - апартаменты, формат object - почему? Либо это апартаменты, либо нет. Это другой юридический статус и это имеет значение. Много \"пропусков\", впрочем, может быть это не пропуск, а, здесь только аппартаменты. Подумаю далее.\n",
    "11. studio - квартира-студия (булев тип). Студия это про планировку. Она либо студия, либо не студия.\n",
    "12. open_plan - свободная планировка (булев тип), аналогично, планировка либо свободная - стены без перегородок - нет несущих стен в самой квартире, либо не свободная.\n",
    "13. kitchen_area - площадь кухни (м²) - много пропусков, формат float64, формат оставлю, над пропусками подумаю далее.\n",
    "14. balcony - число балконов - много пропусков, формат float64, поменяю на int64, над пропусками подумаю далее.\n",
    "15. locality_name - название населённого пункта, есть пропуски, надо будет заполнить по максиммуму.\n",
    "16. airports_nearest расстояние до ближайшего аэропорта в метрах (м) - много пропусков, формат float64, поменяю на int64, над пропусками подумаю далее.\n",
    "17. cityCenters_nearest - расстояние до центра города (м), формат float64, поменяю на int64, над пропусками подумаю далее.\n",
    "18. parks_around3000 - число парков в радиусе 3 км, формат float64, поменяю на int64, над пропусками подумаю далее.\n",
    "19. parks_nearest - расстояние до ближайшего парка (м), формат float64, поменяю на int64, над пропусками подумаю далее.\n",
    "20. ponds_around3000 - число водоёмов в радиусе 3 км, формат float64, поменяю на int64, над пропусками подумаю далее, может нет там водоемов на расстоянии 3000 метров?\n",
    "21. ponds_nearest - расстояние до ближайшего водоёма (м), формат float64, поменяю на int64, над пропусками подумаю далее.\n",
    "22. days_exposition - сколько дней было размещено объявление (от публикации до снятия), много пропусков, а если это архив объявлений, значит это уже не действующиме объявления? То есть снятые, так или иначе? Надо подумать. Формат float64, поменяю на int64."
   ]
  },
  {
   "cell_type": "markdown",
   "metadata": {},
   "source": [
    "Посмотрим, также на сводную информацию о данных"
   ]
  },
  {
   "cell_type": "code",
   "execution_count": 3,
   "metadata": {},
   "outputs": [
    {
     "data": {
      "text/html": [
       "<div>\n",
       "<style scoped>\n",
       "    .dataframe tbody tr th:only-of-type {\n",
       "        vertical-align: middle;\n",
       "    }\n",
       "\n",
       "    .dataframe tbody tr th {\n",
       "        vertical-align: top;\n",
       "    }\n",
       "\n",
       "    .dataframe thead th {\n",
       "        text-align: right;\n",
       "    }\n",
       "</style>\n",
       "<table border=\"1\" class=\"dataframe\">\n",
       "  <thead>\n",
       "    <tr style=\"text-align: right;\">\n",
       "      <th></th>\n",
       "      <th>total_images</th>\n",
       "      <th>last_price</th>\n",
       "      <th>total_area</th>\n",
       "      <th>rooms</th>\n",
       "      <th>ceiling_height</th>\n",
       "      <th>floors_total</th>\n",
       "      <th>living_area</th>\n",
       "      <th>floor</th>\n",
       "      <th>kitchen_area</th>\n",
       "      <th>balcony</th>\n",
       "      <th>airports_nearest</th>\n",
       "      <th>cityCenters_nearest</th>\n",
       "      <th>parks_around3000</th>\n",
       "      <th>parks_nearest</th>\n",
       "      <th>ponds_around3000</th>\n",
       "      <th>ponds_nearest</th>\n",
       "      <th>days_exposition</th>\n",
       "    </tr>\n",
       "  </thead>\n",
       "  <tbody>\n",
       "    <tr>\n",
       "      <td>count</td>\n",
       "      <td>23699.000000</td>\n",
       "      <td>2.369900e+04</td>\n",
       "      <td>23699.000000</td>\n",
       "      <td>23699.000000</td>\n",
       "      <td>14504.000000</td>\n",
       "      <td>23613.000000</td>\n",
       "      <td>21796.000000</td>\n",
       "      <td>23699.000000</td>\n",
       "      <td>21421.000000</td>\n",
       "      <td>12180.000000</td>\n",
       "      <td>18157.000000</td>\n",
       "      <td>18180.000000</td>\n",
       "      <td>18181.000000</td>\n",
       "      <td>8079.000000</td>\n",
       "      <td>18181.000000</td>\n",
       "      <td>9110.000000</td>\n",
       "      <td>20518.000000</td>\n",
       "    </tr>\n",
       "    <tr>\n",
       "      <td>mean</td>\n",
       "      <td>9.858475</td>\n",
       "      <td>6.541549e+06</td>\n",
       "      <td>60.348651</td>\n",
       "      <td>2.070636</td>\n",
       "      <td>2.771499</td>\n",
       "      <td>10.673824</td>\n",
       "      <td>34.457852</td>\n",
       "      <td>5.892358</td>\n",
       "      <td>10.569807</td>\n",
       "      <td>1.150082</td>\n",
       "      <td>28793.672193</td>\n",
       "      <td>14191.277833</td>\n",
       "      <td>0.611408</td>\n",
       "      <td>490.804555</td>\n",
       "      <td>0.770255</td>\n",
       "      <td>517.980900</td>\n",
       "      <td>180.888634</td>\n",
       "    </tr>\n",
       "    <tr>\n",
       "      <td>std</td>\n",
       "      <td>5.682529</td>\n",
       "      <td>1.088701e+07</td>\n",
       "      <td>35.654083</td>\n",
       "      <td>1.078405</td>\n",
       "      <td>1.261056</td>\n",
       "      <td>6.597173</td>\n",
       "      <td>22.030445</td>\n",
       "      <td>4.885249</td>\n",
       "      <td>5.905438</td>\n",
       "      <td>1.071300</td>\n",
       "      <td>12630.880622</td>\n",
       "      <td>8608.386210</td>\n",
       "      <td>0.802074</td>\n",
       "      <td>342.317995</td>\n",
       "      <td>0.938346</td>\n",
       "      <td>277.720643</td>\n",
       "      <td>219.727988</td>\n",
       "    </tr>\n",
       "    <tr>\n",
       "      <td>min</td>\n",
       "      <td>0.000000</td>\n",
       "      <td>1.219000e+04</td>\n",
       "      <td>12.000000</td>\n",
       "      <td>0.000000</td>\n",
       "      <td>1.000000</td>\n",
       "      <td>1.000000</td>\n",
       "      <td>2.000000</td>\n",
       "      <td>1.000000</td>\n",
       "      <td>1.300000</td>\n",
       "      <td>0.000000</td>\n",
       "      <td>0.000000</td>\n",
       "      <td>181.000000</td>\n",
       "      <td>0.000000</td>\n",
       "      <td>1.000000</td>\n",
       "      <td>0.000000</td>\n",
       "      <td>13.000000</td>\n",
       "      <td>1.000000</td>\n",
       "    </tr>\n",
       "    <tr>\n",
       "      <td>25%</td>\n",
       "      <td>6.000000</td>\n",
       "      <td>3.400000e+06</td>\n",
       "      <td>40.000000</td>\n",
       "      <td>1.000000</td>\n",
       "      <td>2.520000</td>\n",
       "      <td>5.000000</td>\n",
       "      <td>18.600000</td>\n",
       "      <td>2.000000</td>\n",
       "      <td>7.000000</td>\n",
       "      <td>0.000000</td>\n",
       "      <td>18585.000000</td>\n",
       "      <td>9238.000000</td>\n",
       "      <td>0.000000</td>\n",
       "      <td>288.000000</td>\n",
       "      <td>0.000000</td>\n",
       "      <td>294.000000</td>\n",
       "      <td>45.000000</td>\n",
       "    </tr>\n",
       "    <tr>\n",
       "      <td>50%</td>\n",
       "      <td>9.000000</td>\n",
       "      <td>4.650000e+06</td>\n",
       "      <td>52.000000</td>\n",
       "      <td>2.000000</td>\n",
       "      <td>2.650000</td>\n",
       "      <td>9.000000</td>\n",
       "      <td>30.000000</td>\n",
       "      <td>4.000000</td>\n",
       "      <td>9.100000</td>\n",
       "      <td>1.000000</td>\n",
       "      <td>26726.000000</td>\n",
       "      <td>13098.500000</td>\n",
       "      <td>0.000000</td>\n",
       "      <td>455.000000</td>\n",
       "      <td>1.000000</td>\n",
       "      <td>502.000000</td>\n",
       "      <td>95.000000</td>\n",
       "    </tr>\n",
       "    <tr>\n",
       "      <td>75%</td>\n",
       "      <td>14.000000</td>\n",
       "      <td>6.800000e+06</td>\n",
       "      <td>69.900000</td>\n",
       "      <td>3.000000</td>\n",
       "      <td>2.800000</td>\n",
       "      <td>16.000000</td>\n",
       "      <td>42.300000</td>\n",
       "      <td>8.000000</td>\n",
       "      <td>12.000000</td>\n",
       "      <td>2.000000</td>\n",
       "      <td>37273.000000</td>\n",
       "      <td>16293.000000</td>\n",
       "      <td>1.000000</td>\n",
       "      <td>612.000000</td>\n",
       "      <td>1.000000</td>\n",
       "      <td>729.000000</td>\n",
       "      <td>232.000000</td>\n",
       "    </tr>\n",
       "    <tr>\n",
       "      <td>max</td>\n",
       "      <td>50.000000</td>\n",
       "      <td>7.630000e+08</td>\n",
       "      <td>900.000000</td>\n",
       "      <td>19.000000</td>\n",
       "      <td>100.000000</td>\n",
       "      <td>60.000000</td>\n",
       "      <td>409.700000</td>\n",
       "      <td>33.000000</td>\n",
       "      <td>112.000000</td>\n",
       "      <td>5.000000</td>\n",
       "      <td>84869.000000</td>\n",
       "      <td>65968.000000</td>\n",
       "      <td>3.000000</td>\n",
       "      <td>3190.000000</td>\n",
       "      <td>3.000000</td>\n",
       "      <td>1344.000000</td>\n",
       "      <td>1580.000000</td>\n",
       "    </tr>\n",
       "  </tbody>\n",
       "</table>\n",
       "</div>"
      ],
      "text/plain": [
       "       total_images    last_price    total_area         rooms  ceiling_height  \\\n",
       "count  23699.000000  2.369900e+04  23699.000000  23699.000000    14504.000000   \n",
       "mean       9.858475  6.541549e+06     60.348651      2.070636        2.771499   \n",
       "std        5.682529  1.088701e+07     35.654083      1.078405        1.261056   \n",
       "min        0.000000  1.219000e+04     12.000000      0.000000        1.000000   \n",
       "25%        6.000000  3.400000e+06     40.000000      1.000000        2.520000   \n",
       "50%        9.000000  4.650000e+06     52.000000      2.000000        2.650000   \n",
       "75%       14.000000  6.800000e+06     69.900000      3.000000        2.800000   \n",
       "max       50.000000  7.630000e+08    900.000000     19.000000      100.000000   \n",
       "\n",
       "       floors_total   living_area         floor  kitchen_area       balcony  \\\n",
       "count  23613.000000  21796.000000  23699.000000  21421.000000  12180.000000   \n",
       "mean      10.673824     34.457852      5.892358     10.569807      1.150082   \n",
       "std        6.597173     22.030445      4.885249      5.905438      1.071300   \n",
       "min        1.000000      2.000000      1.000000      1.300000      0.000000   \n",
       "25%        5.000000     18.600000      2.000000      7.000000      0.000000   \n",
       "50%        9.000000     30.000000      4.000000      9.100000      1.000000   \n",
       "75%       16.000000     42.300000      8.000000     12.000000      2.000000   \n",
       "max       60.000000    409.700000     33.000000    112.000000      5.000000   \n",
       "\n",
       "       airports_nearest  cityCenters_nearest  parks_around3000  parks_nearest  \\\n",
       "count      18157.000000         18180.000000      18181.000000    8079.000000   \n",
       "mean       28793.672193         14191.277833          0.611408     490.804555   \n",
       "std        12630.880622          8608.386210          0.802074     342.317995   \n",
       "min            0.000000           181.000000          0.000000       1.000000   \n",
       "25%        18585.000000          9238.000000          0.000000     288.000000   \n",
       "50%        26726.000000         13098.500000          0.000000     455.000000   \n",
       "75%        37273.000000         16293.000000          1.000000     612.000000   \n",
       "max        84869.000000         65968.000000          3.000000    3190.000000   \n",
       "\n",
       "       ponds_around3000  ponds_nearest  days_exposition  \n",
       "count      18181.000000    9110.000000     20518.000000  \n",
       "mean           0.770255     517.980900       180.888634  \n",
       "std            0.938346     277.720643       219.727988  \n",
       "min            0.000000      13.000000         1.000000  \n",
       "25%            0.000000     294.000000        45.000000  \n",
       "50%            1.000000     502.000000        95.000000  \n",
       "75%            1.000000     729.000000       232.000000  \n",
       "max            3.000000    1344.000000      1580.000000  "
      ]
     },
     "execution_count": 3,
     "metadata": {},
     "output_type": "execute_result"
    }
   ],
   "source": [
    "data.describe()"
   ]
  },
  {
   "cell_type": "code",
   "execution_count": 4,
   "metadata": {},
   "outputs": [
    {
     "data": {
      "text/html": [
       "<div>\n",
       "<style scoped>\n",
       "    .dataframe tbody tr th:only-of-type {\n",
       "        vertical-align: middle;\n",
       "    }\n",
       "\n",
       "    .dataframe tbody tr th {\n",
       "        vertical-align: top;\n",
       "    }\n",
       "\n",
       "    .dataframe thead th {\n",
       "        text-align: right;\n",
       "    }\n",
       "</style>\n",
       "<table border=\"1\" class=\"dataframe\">\n",
       "  <thead>\n",
       "    <tr style=\"text-align: right;\">\n",
       "      <th></th>\n",
       "      <th>total_images</th>\n",
       "      <th>last_price</th>\n",
       "      <th>total_area</th>\n",
       "      <th>first_day_exposition</th>\n",
       "      <th>rooms</th>\n",
       "      <th>ceiling_height</th>\n",
       "      <th>floors_total</th>\n",
       "      <th>living_area</th>\n",
       "      <th>floor</th>\n",
       "      <th>is_apartment</th>\n",
       "      <th>...</th>\n",
       "      <th>kitchen_area</th>\n",
       "      <th>balcony</th>\n",
       "      <th>locality_name</th>\n",
       "      <th>airports_nearest</th>\n",
       "      <th>cityCenters_nearest</th>\n",
       "      <th>parks_around3000</th>\n",
       "      <th>parks_nearest</th>\n",
       "      <th>ponds_around3000</th>\n",
       "      <th>ponds_nearest</th>\n",
       "      <th>days_exposition</th>\n",
       "    </tr>\n",
       "  </thead>\n",
       "  <tbody>\n",
       "    <tr>\n",
       "      <td>0</td>\n",
       "      <td>20</td>\n",
       "      <td>13000000.0</td>\n",
       "      <td>108.0</td>\n",
       "      <td>2019-03-07T00:00:00</td>\n",
       "      <td>3</td>\n",
       "      <td>2.70</td>\n",
       "      <td>16.0</td>\n",
       "      <td>51.0</td>\n",
       "      <td>8</td>\n",
       "      <td>NaN</td>\n",
       "      <td>...</td>\n",
       "      <td>25.0</td>\n",
       "      <td>NaN</td>\n",
       "      <td>Санкт-Петербург</td>\n",
       "      <td>18863.0</td>\n",
       "      <td>16028.0</td>\n",
       "      <td>1.0</td>\n",
       "      <td>482.0</td>\n",
       "      <td>2.0</td>\n",
       "      <td>755.0</td>\n",
       "      <td>NaN</td>\n",
       "    </tr>\n",
       "    <tr>\n",
       "      <td>1</td>\n",
       "      <td>7</td>\n",
       "      <td>3350000.0</td>\n",
       "      <td>40.4</td>\n",
       "      <td>2018-12-04T00:00:00</td>\n",
       "      <td>1</td>\n",
       "      <td>NaN</td>\n",
       "      <td>11.0</td>\n",
       "      <td>18.6</td>\n",
       "      <td>1</td>\n",
       "      <td>NaN</td>\n",
       "      <td>...</td>\n",
       "      <td>11.0</td>\n",
       "      <td>2.0</td>\n",
       "      <td>посёлок Шушары</td>\n",
       "      <td>12817.0</td>\n",
       "      <td>18603.0</td>\n",
       "      <td>0.0</td>\n",
       "      <td>NaN</td>\n",
       "      <td>0.0</td>\n",
       "      <td>NaN</td>\n",
       "      <td>81.0</td>\n",
       "    </tr>\n",
       "    <tr>\n",
       "      <td>2</td>\n",
       "      <td>10</td>\n",
       "      <td>5196000.0</td>\n",
       "      <td>56.0</td>\n",
       "      <td>2015-08-20T00:00:00</td>\n",
       "      <td>2</td>\n",
       "      <td>NaN</td>\n",
       "      <td>5.0</td>\n",
       "      <td>34.3</td>\n",
       "      <td>4</td>\n",
       "      <td>NaN</td>\n",
       "      <td>...</td>\n",
       "      <td>8.3</td>\n",
       "      <td>0.0</td>\n",
       "      <td>Санкт-Петербург</td>\n",
       "      <td>21741.0</td>\n",
       "      <td>13933.0</td>\n",
       "      <td>1.0</td>\n",
       "      <td>90.0</td>\n",
       "      <td>2.0</td>\n",
       "      <td>574.0</td>\n",
       "      <td>558.0</td>\n",
       "    </tr>\n",
       "    <tr>\n",
       "      <td>3</td>\n",
       "      <td>0</td>\n",
       "      <td>64900000.0</td>\n",
       "      <td>159.0</td>\n",
       "      <td>2015-07-24T00:00:00</td>\n",
       "      <td>3</td>\n",
       "      <td>NaN</td>\n",
       "      <td>14.0</td>\n",
       "      <td>NaN</td>\n",
       "      <td>9</td>\n",
       "      <td>NaN</td>\n",
       "      <td>...</td>\n",
       "      <td>NaN</td>\n",
       "      <td>0.0</td>\n",
       "      <td>Санкт-Петербург</td>\n",
       "      <td>28098.0</td>\n",
       "      <td>6800.0</td>\n",
       "      <td>2.0</td>\n",
       "      <td>84.0</td>\n",
       "      <td>3.0</td>\n",
       "      <td>234.0</td>\n",
       "      <td>424.0</td>\n",
       "    </tr>\n",
       "    <tr>\n",
       "      <td>4</td>\n",
       "      <td>2</td>\n",
       "      <td>10000000.0</td>\n",
       "      <td>100.0</td>\n",
       "      <td>2018-06-19T00:00:00</td>\n",
       "      <td>2</td>\n",
       "      <td>3.03</td>\n",
       "      <td>14.0</td>\n",
       "      <td>32.0</td>\n",
       "      <td>13</td>\n",
       "      <td>NaN</td>\n",
       "      <td>...</td>\n",
       "      <td>41.0</td>\n",
       "      <td>NaN</td>\n",
       "      <td>Санкт-Петербург</td>\n",
       "      <td>31856.0</td>\n",
       "      <td>8098.0</td>\n",
       "      <td>2.0</td>\n",
       "      <td>112.0</td>\n",
       "      <td>1.0</td>\n",
       "      <td>48.0</td>\n",
       "      <td>121.0</td>\n",
       "    </tr>\n",
       "  </tbody>\n",
       "</table>\n",
       "<p>5 rows × 22 columns</p>\n",
       "</div>"
      ],
      "text/plain": [
       "   total_images  last_price  total_area first_day_exposition  rooms  \\\n",
       "0            20  13000000.0       108.0  2019-03-07T00:00:00      3   \n",
       "1             7   3350000.0        40.4  2018-12-04T00:00:00      1   \n",
       "2            10   5196000.0        56.0  2015-08-20T00:00:00      2   \n",
       "3             0  64900000.0       159.0  2015-07-24T00:00:00      3   \n",
       "4             2  10000000.0       100.0  2018-06-19T00:00:00      2   \n",
       "\n",
       "   ceiling_height  floors_total  living_area  floor is_apartment  ...  \\\n",
       "0            2.70          16.0         51.0      8          NaN  ...   \n",
       "1             NaN          11.0         18.6      1          NaN  ...   \n",
       "2             NaN           5.0         34.3      4          NaN  ...   \n",
       "3             NaN          14.0          NaN      9          NaN  ...   \n",
       "4            3.03          14.0         32.0     13          NaN  ...   \n",
       "\n",
       "   kitchen_area  balcony    locality_name  airports_nearest  \\\n",
       "0          25.0      NaN  Санкт-Петербург           18863.0   \n",
       "1          11.0      2.0   посёлок Шушары           12817.0   \n",
       "2           8.3      0.0  Санкт-Петербург           21741.0   \n",
       "3           NaN      0.0  Санкт-Петербург           28098.0   \n",
       "4          41.0      NaN  Санкт-Петербург           31856.0   \n",
       "\n",
       "  cityCenters_nearest  parks_around3000  parks_nearest  ponds_around3000  \\\n",
       "0             16028.0               1.0          482.0               2.0   \n",
       "1             18603.0               0.0            NaN               0.0   \n",
       "2             13933.0               1.0           90.0               2.0   \n",
       "3              6800.0               2.0           84.0               3.0   \n",
       "4              8098.0               2.0          112.0               1.0   \n",
       "\n",
       "   ponds_nearest  days_exposition  \n",
       "0          755.0              NaN  \n",
       "1            NaN             81.0  \n",
       "2          574.0            558.0  \n",
       "3          234.0            424.0  \n",
       "4           48.0            121.0  \n",
       "\n",
       "[5 rows x 22 columns]"
      ]
     },
     "execution_count": 4,
     "metadata": {},
     "output_type": "execute_result"
    }
   ],
   "source": [
    "data.head(5)"
   ]
  },
  {
   "cell_type": "markdown",
   "metadata": {},
   "source": [
    "Много NaN"
   ]
  },
  {
   "cell_type": "code",
   "execution_count": 5,
   "metadata": {},
   "outputs": [
    {
     "data": {
      "text/html": [
       "<div>\n",
       "<style scoped>\n",
       "    .dataframe tbody tr th:only-of-type {\n",
       "        vertical-align: middle;\n",
       "    }\n",
       "\n",
       "    .dataframe tbody tr th {\n",
       "        vertical-align: top;\n",
       "    }\n",
       "\n",
       "    .dataframe thead th {\n",
       "        text-align: right;\n",
       "    }\n",
       "</style>\n",
       "<table border=\"1\" class=\"dataframe\">\n",
       "  <thead>\n",
       "    <tr style=\"text-align: right;\">\n",
       "      <th></th>\n",
       "      <th>total_images</th>\n",
       "      <th>last_price</th>\n",
       "      <th>total_area</th>\n",
       "      <th>first_day_exposition</th>\n",
       "      <th>rooms</th>\n",
       "      <th>ceiling_height</th>\n",
       "      <th>floors_total</th>\n",
       "      <th>living_area</th>\n",
       "      <th>floor</th>\n",
       "      <th>is_apartment</th>\n",
       "      <th>...</th>\n",
       "      <th>kitchen_area</th>\n",
       "      <th>balcony</th>\n",
       "      <th>locality_name</th>\n",
       "      <th>airports_nearest</th>\n",
       "      <th>cityCenters_nearest</th>\n",
       "      <th>parks_around3000</th>\n",
       "      <th>parks_nearest</th>\n",
       "      <th>ponds_around3000</th>\n",
       "      <th>ponds_nearest</th>\n",
       "      <th>days_exposition</th>\n",
       "    </tr>\n",
       "  </thead>\n",
       "  <tbody>\n",
       "    <tr>\n",
       "      <td>23694</td>\n",
       "      <td>9</td>\n",
       "      <td>9700000.0</td>\n",
       "      <td>133.81</td>\n",
       "      <td>2017-03-21T00:00:00</td>\n",
       "      <td>3</td>\n",
       "      <td>3.7</td>\n",
       "      <td>5.0</td>\n",
       "      <td>73.3</td>\n",
       "      <td>3</td>\n",
       "      <td>NaN</td>\n",
       "      <td>...</td>\n",
       "      <td>13.83</td>\n",
       "      <td>NaN</td>\n",
       "      <td>Санкт-Петербург</td>\n",
       "      <td>24665.0</td>\n",
       "      <td>4232.0</td>\n",
       "      <td>1.0</td>\n",
       "      <td>796.0</td>\n",
       "      <td>3.0</td>\n",
       "      <td>381.0</td>\n",
       "      <td>NaN</td>\n",
       "    </tr>\n",
       "    <tr>\n",
       "      <td>23695</td>\n",
       "      <td>14</td>\n",
       "      <td>3100000.0</td>\n",
       "      <td>59.00</td>\n",
       "      <td>2018-01-15T00:00:00</td>\n",
       "      <td>3</td>\n",
       "      <td>NaN</td>\n",
       "      <td>5.0</td>\n",
       "      <td>38.0</td>\n",
       "      <td>4</td>\n",
       "      <td>NaN</td>\n",
       "      <td>...</td>\n",
       "      <td>8.50</td>\n",
       "      <td>NaN</td>\n",
       "      <td>Тосно</td>\n",
       "      <td>NaN</td>\n",
       "      <td>NaN</td>\n",
       "      <td>NaN</td>\n",
       "      <td>NaN</td>\n",
       "      <td>NaN</td>\n",
       "      <td>NaN</td>\n",
       "      <td>45.0</td>\n",
       "    </tr>\n",
       "    <tr>\n",
       "      <td>23696</td>\n",
       "      <td>18</td>\n",
       "      <td>2500000.0</td>\n",
       "      <td>56.70</td>\n",
       "      <td>2018-02-11T00:00:00</td>\n",
       "      <td>2</td>\n",
       "      <td>NaN</td>\n",
       "      <td>3.0</td>\n",
       "      <td>29.7</td>\n",
       "      <td>1</td>\n",
       "      <td>NaN</td>\n",
       "      <td>...</td>\n",
       "      <td>NaN</td>\n",
       "      <td>NaN</td>\n",
       "      <td>село Рождествено</td>\n",
       "      <td>NaN</td>\n",
       "      <td>NaN</td>\n",
       "      <td>NaN</td>\n",
       "      <td>NaN</td>\n",
       "      <td>NaN</td>\n",
       "      <td>NaN</td>\n",
       "      <td>NaN</td>\n",
       "    </tr>\n",
       "    <tr>\n",
       "      <td>23697</td>\n",
       "      <td>13</td>\n",
       "      <td>11475000.0</td>\n",
       "      <td>76.75</td>\n",
       "      <td>2017-03-28T00:00:00</td>\n",
       "      <td>2</td>\n",
       "      <td>3.0</td>\n",
       "      <td>17.0</td>\n",
       "      <td>NaN</td>\n",
       "      <td>12</td>\n",
       "      <td>NaN</td>\n",
       "      <td>...</td>\n",
       "      <td>23.30</td>\n",
       "      <td>2.0</td>\n",
       "      <td>Санкт-Петербург</td>\n",
       "      <td>39140.0</td>\n",
       "      <td>10364.0</td>\n",
       "      <td>2.0</td>\n",
       "      <td>173.0</td>\n",
       "      <td>3.0</td>\n",
       "      <td>196.0</td>\n",
       "      <td>602.0</td>\n",
       "    </tr>\n",
       "    <tr>\n",
       "      <td>23698</td>\n",
       "      <td>4</td>\n",
       "      <td>1350000.0</td>\n",
       "      <td>32.30</td>\n",
       "      <td>2017-07-21T00:00:00</td>\n",
       "      <td>1</td>\n",
       "      <td>2.5</td>\n",
       "      <td>5.0</td>\n",
       "      <td>12.3</td>\n",
       "      <td>1</td>\n",
       "      <td>NaN</td>\n",
       "      <td>...</td>\n",
       "      <td>9.00</td>\n",
       "      <td>NaN</td>\n",
       "      <td>поселок Новый Учхоз</td>\n",
       "      <td>NaN</td>\n",
       "      <td>NaN</td>\n",
       "      <td>NaN</td>\n",
       "      <td>NaN</td>\n",
       "      <td>NaN</td>\n",
       "      <td>NaN</td>\n",
       "      <td>NaN</td>\n",
       "    </tr>\n",
       "  </tbody>\n",
       "</table>\n",
       "<p>5 rows × 22 columns</p>\n",
       "</div>"
      ],
      "text/plain": [
       "       total_images  last_price  total_area first_day_exposition  rooms  \\\n",
       "23694             9   9700000.0      133.81  2017-03-21T00:00:00      3   \n",
       "23695            14   3100000.0       59.00  2018-01-15T00:00:00      3   \n",
       "23696            18   2500000.0       56.70  2018-02-11T00:00:00      2   \n",
       "23697            13  11475000.0       76.75  2017-03-28T00:00:00      2   \n",
       "23698             4   1350000.0       32.30  2017-07-21T00:00:00      1   \n",
       "\n",
       "       ceiling_height  floors_total  living_area  floor is_apartment  ...  \\\n",
       "23694             3.7           5.0         73.3      3          NaN  ...   \n",
       "23695             NaN           5.0         38.0      4          NaN  ...   \n",
       "23696             NaN           3.0         29.7      1          NaN  ...   \n",
       "23697             3.0          17.0          NaN     12          NaN  ...   \n",
       "23698             2.5           5.0         12.3      1          NaN  ...   \n",
       "\n",
       "       kitchen_area  balcony        locality_name  airports_nearest  \\\n",
       "23694         13.83      NaN      Санкт-Петербург           24665.0   \n",
       "23695          8.50      NaN                Тосно               NaN   \n",
       "23696           NaN      NaN     село Рождествено               NaN   \n",
       "23697         23.30      2.0      Санкт-Петербург           39140.0   \n",
       "23698          9.00      NaN  поселок Новый Учхоз               NaN   \n",
       "\n",
       "      cityCenters_nearest  parks_around3000  parks_nearest  ponds_around3000  \\\n",
       "23694              4232.0               1.0          796.0               3.0   \n",
       "23695                 NaN               NaN            NaN               NaN   \n",
       "23696                 NaN               NaN            NaN               NaN   \n",
       "23697             10364.0               2.0          173.0               3.0   \n",
       "23698                 NaN               NaN            NaN               NaN   \n",
       "\n",
       "       ponds_nearest  days_exposition  \n",
       "23694          381.0              NaN  \n",
       "23695            NaN             45.0  \n",
       "23696            NaN              NaN  \n",
       "23697          196.0            602.0  \n",
       "23698            NaN              NaN  \n",
       "\n",
       "[5 rows x 22 columns]"
      ]
     },
     "execution_count": 5,
     "metadata": {},
     "output_type": "execute_result"
    }
   ],
   "source": [
    "data.tail(5)"
   ]
  },
  {
   "cell_type": "markdown",
   "metadata": {},
   "source": [
    "Очень много NaN."
   ]
  },
  {
   "cell_type": "markdown",
   "metadata": {},
   "source": [
    "Странности:\n",
    "1. total_area - площадь квартиры в квадратных метрах (м²) - 12 м2 - минимальная? В принципе может быть, но надо посмотреть сколько таких квартир.\n",
    "2. rooms - число комнат, пропусков нет, но минимальное количество \"0\". Зато есть квартира с 19 комнатами!\n",
    "3. ceiling_height - высота потолков (м) - средняя величина реальна, а во с потолками высотой 1 метр и 100 метров надо что-то делать.\n",
    "4. floors_total - всего этажей в доме, минимальное значение 1, а втот максимальное в 60. Самое высокое здание в СпБ - Лахта-центр, см. https://ru.wikipedia.org/wiki/%D0%9B%D0%B0%D1%85%D1%82%D0%B0-%D1%86%D0%B5%D0%BD%D1%82%D1%80, но он еще не сдан, впрочем это и не жилой комплекс.\n",
    "5. living_area\t- - жилая площадь (м²), минимальное 2м2, не может быть. Максимальная 409 м2, вполне, надо смотреть.\n",
    "6. floor - этаж, максимально 33, вполне может быть.\n",
    "7. kitchen_area - площадь кухни (м²) - минимальная 1,3 м2 - не может быть, максимальная 112 м2, многовато.\n",
    "8. balcony - число балконов, минимально 0 балконов, вполне может быть, максимально 5 балконов, что-то многовато.\n",
    "9. airports_nearest - — расстояние до ближайшего аэропорта в метрах (м), минимальное 0, квартира в аэропорту? Вряд ли. Максимальное 84 км, может быть, если это не сам СпБ.\n",
    "10. cityCenters_nearest - расстояние до центра города (м), максимально 65 км, может быть, если это не Спб.\n",
    "11. parks_around3000 - число парков в радиусе 3 км. Минмальное 0. Вполне может быть.\n",
    "12. parks_nearest - расстояние до ближайшего парка (м), минимальное 1 м. Наверное, может быть, если дом, вплотную стоит к парку.\n",
    "13. ponds_around3000 и \tponds_nearest - число водоёмов в радиусе 3 км и расстояние до ближайшего водоёма (м), вроде поже на реальные данные, но надо посмотреть в совокупности.\n",
    "14. days_exposition - сколько дней было размещено объявление (от публикации до снятия), минимальное 1 день, может быть,если очень хорошая цена. Среднее 180 дней. Недвижимость продается по 6 месяцев? Может быть. Максимальный срок 1580 дней. То есть 4 с лишним года. Бывает и такое, наверное.\n",
    "\n",
    "Для некоторых столбцов, количество отутствующих данных - NaN, очень и очень велико. А можно вернуть выгрузку на доработку?"
   ]
  },
  {
   "cell_type": "markdown",
   "metadata": {},
   "source": [
    "### Вывод"
   ]
  },
  {
   "cell_type": "markdown",
   "metadata": {},
   "source": [
    "В работе поступил датафрейм, содержащий большое количество \"разношерстных\" данных, много пропусков, много NaN, есть очевидные ошибки или фейки. Буду приводить к нормальному виду, заполню пропуски, категоризирую, сопоставлю данные. Цель - привести датафрейм к удобочитаемому и удобоанализируемому виду."
   ]
  },
  {
   "cell_type": "markdown",
   "metadata": {},
   "source": [
    "2.1. Удаление пропусков, преобразование типов."
   ]
  },
  {
   "cell_type": "markdown",
   "metadata": {},
   "source": [
    "Столбец total_images, без изменений"
   ]
  },
  {
   "cell_type": "code",
   "execution_count": 6,
   "metadata": {},
   "outputs": [
    {
     "name": "stdout",
     "output_type": "stream",
     "text": [
      "Количество NaN в столбце total_images: 0\n"
     ]
    }
   ],
   "source": [
    "print('Количество NaN в столбце total_images:', data['total_images'].isnull().sum())"
   ]
  },
  {
   "cell_type": "markdown",
   "metadata": {},
   "source": [
    "Тут все ОК, пропусков нет, датафрейм выгрузился корректно"
   ]
  },
  {
   "cell_type": "markdown",
   "metadata": {},
   "source": [
    "Столец last_price"
   ]
  },
  {
   "cell_type": "code",
   "execution_count": 7,
   "metadata": {},
   "outputs": [
    {
     "name": "stdout",
     "output_type": "stream",
     "text": [
      "Количество NaN в столбце last_price: 0\n"
     ]
    },
    {
     "data": {
      "text/plain": [
       "0        13000000\n",
       "1         3350000\n",
       "2         5196000\n",
       "3        64900000\n",
       "4        10000000\n",
       "           ...   \n",
       "23694     9700000\n",
       "23695     3100000\n",
       "23696     2500000\n",
       "23697    11475000\n",
       "23698     1350000\n",
       "Name: last_price, Length: 23699, dtype: Int64"
      ]
     },
     "execution_count": 7,
     "metadata": {},
     "output_type": "execute_result"
    }
   ],
   "source": [
    "print('Количество NaN в столбце last_price:', data['last_price'].isnull().sum())\n",
    "data['last_price'].astype('Int64')"
   ]
  },
  {
   "cell_type": "markdown",
   "metadata": {},
   "source": [
    "Тут все логично, первое на что смотрят люди, это цена."
   ]
  },
  {
   "cell_type": "markdown",
   "metadata": {},
   "source": [
    "Столбец last_price приведу к тысячам"
   ]
  },
  {
   "cell_type": "code",
   "execution_count": 8,
   "metadata": {},
   "outputs": [],
   "source": [
    "data['last_price'] = (data[data['last_price'].notnull()]['last_price']/1000*1.0).round()"
   ]
  },
  {
   "cell_type": "markdown",
   "metadata": {},
   "source": [
    "Столбец total_area"
   ]
  },
  {
   "cell_type": "code",
   "execution_count": 9,
   "metadata": {},
   "outputs": [
    {
     "name": "stdout",
     "output_type": "stream",
     "text": [
      "Количество NaN в столбце total_area: 0\n"
     ]
    },
    {
     "data": {
      "text/plain": [
       "0        108\n",
       "1         40\n",
       "2         56\n",
       "3        159\n",
       "4        100\n",
       "        ... \n",
       "23694    133\n",
       "23695     59\n",
       "23696     56\n",
       "23697     76\n",
       "23698     32\n",
       "Name: total_area, Length: 23699, dtype: int64"
      ]
     },
     "execution_count": 9,
     "metadata": {},
     "output_type": "execute_result"
    }
   ],
   "source": [
    "print('Количество NaN в столбце total_area:', data['total_area'].isnull().sum())\n",
    "#data['total_area'].astype('Int64') этот код не работает, падает с ошибкой - \"cannot safely cast non-equivalent float64 to int64\", придется применять try/except\n",
    "data['total_area'].astype('float64') # помогло, сначала преобразовать во float64, а затем в int64\n",
    "data['total_area'].astype('int64')"
   ]
  },
  {
   "cell_type": "markdown",
   "metadata": {},
   "source": [
    "Пропусков нет, все ОК."
   ]
  },
  {
   "cell_type": "markdown",
   "metadata": {},
   "source": [
    "Столбец first_day_exposition, сейчас в таком формате 2018-02-28T00:00:00. Вызову библиотеку. Где-то вычитал, что вызывать сразу все библиотеки в Python не принято."
   ]
  },
  {
   "cell_type": "code",
   "execution_count": 10,
   "metadata": {},
   "outputs": [
    {
     "name": "stdout",
     "output_type": "stream",
     "text": [
      "0       2019-03-07\n",
      "1       2018-12-04\n",
      "2       2015-08-20\n",
      "3       2015-07-24\n",
      "4       2018-06-19\n",
      "           ...    \n",
      "23694   2017-03-21\n",
      "23695   2018-01-15\n",
      "23696   2018-02-11\n",
      "23697   2017-03-28\n",
      "23698   2017-07-21\n",
      "Name: first_day_exposition, Length: 23699, dtype: datetime64[ns]\n"
     ]
    }
   ],
   "source": [
    "from datetime import datetime \n",
    "data['first_day_exposition'] = pd.to_datetime(data['first_day_exposition'], format='%Y-%m-%dT%H:%M:%S')\n",
    "print(data['first_day_exposition'])"
   ]
  },
  {
   "cell_type": "code",
   "execution_count": 11,
   "metadata": {},
   "outputs": [
    {
     "name": "stdout",
     "output_type": "stream",
     "text": [
      "Количество NaN в столбце first_day_exposition: 0\n"
     ]
    }
   ],
   "source": [
    "print('Количество NaN в столбце first_day_exposition:', data['first_day_exposition'].isnull().sum())"
   ]
  },
  {
   "cell_type": "markdown",
   "metadata": {},
   "source": [
    "Пропусокв нет, прекрасно."
   ]
  },
  {
   "cell_type": "markdown",
   "metadata": {},
   "source": [
    "Столбец rooms без изменений"
   ]
  },
  {
   "cell_type": "code",
   "execution_count": 12,
   "metadata": {},
   "outputs": [
    {
     "name": "stdout",
     "output_type": "stream",
     "text": [
      "Количество NaN в столбце rooms: 0\n"
     ]
    }
   ],
   "source": [
    "print('Количество NaN в столбце rooms:', data['rooms'].isnull().sum())"
   ]
  },
  {
   "cell_type": "markdown",
   "metadata": {},
   "source": [
    "Тоже все ОК."
   ]
  },
  {
   "cell_type": "markdown",
   "metadata": {},
   "source": [
    "Столбец ceiling_height - высота потолков. В СпБ очень много разных зданий, причем в одном и том же здании могут быть потолки разной высоты - где жила дворянская семья, там 3.2, где жила прислуга 2.6, например.\n",
    "Причешу всех \"под одну гребенку\". Здесь оставлю тип данных float64, так разница 2 метра и 2,65 очень велика, а 3 метровых потолков не так уж и часто встретишь."
   ]
  },
  {
   "cell_type": "code",
   "execution_count": 13,
   "metadata": {},
   "outputs": [
    {
     "name": "stdout",
     "output_type": "stream",
     "text": [
      "Количество NaN в столбце ceiling_height: 9195\n",
      "2.65\n",
      "Количество NaN в столбце ceiling_height: 0\n"
     ]
    }
   ],
   "source": [
    "print('Количество NaN в столбце ceiling_height:', data['ceiling_height'].isnull().sum())\n",
    "data_ceiling_height_median = data['ceiling_height'].median()\n",
    "print(data_ceiling_height_median)\n",
    "data['ceiling_height'].loc[(data['ceiling_height'] != data_ceiling_height_median)] = 2.65\n",
    "print('Количество NaN в столбце ceiling_height:', data['ceiling_height'].isnull().sum())"
   ]
  },
  {
   "cell_type": "markdown",
   "metadata": {},
   "source": [
    "Сделано."
   ]
  },
  {
   "cell_type": "markdown",
   "metadata": {},
   "source": [
    "Столбец floors_total - всего этажей в доме."
   ]
  },
  {
   "cell_type": "code",
   "execution_count": 14,
   "metadata": {},
   "outputs": [
    {
     "name": "stdout",
     "output_type": "stream",
     "text": [
      "Количество NaN в столбце floors_total: 86\n"
     ]
    }
   ],
   "source": [
    "print('Количество NaN в столбце floors_total:', data['floors_total'].isnull().sum())"
   ]
  },
  {
   "cell_type": "markdown",
   "metadata": {},
   "source": [
    "86 штук, всего 0,4% от всего датафрейма. Без привязки к конкретному дому, невозможно определить сколько в нем этажей, некоторые дома, могут состоять из корпусов разной этажности, заменю NaN на нулевые, затем на медианну, чтобы устранить выбросы."
   ]
  },
  {
   "cell_type": "code",
   "execution_count": 15,
   "metadata": {},
   "outputs": [
    {
     "name": "stdout",
     "output_type": "stream",
     "text": [
      "9.0\n",
      "Количество NaN в столбце floors_total: 0\n"
     ]
    }
   ],
   "source": [
    "data_floors_total_median = data['floors_total'].median()\n",
    "data['floors_total'] = data['floors_total'].fillna(0)\n",
    "print(data_floors_total_median)\n",
    "data['floors_total'].loc[(data['floors_total'] == 0)] = 9\n",
    "print('Количество NaN в столбце floors_total:', data['floors_total'].isnull().sum())"
   ]
  },
  {
   "cell_type": "code",
   "execution_count": 16,
   "metadata": {},
   "outputs": [
    {
     "data": {
      "text/plain": [
       "0        16\n",
       "1        11\n",
       "2         5\n",
       "3        14\n",
       "4        14\n",
       "         ..\n",
       "23694     5\n",
       "23695     5\n",
       "23696     3\n",
       "23697    17\n",
       "23698     5\n",
       "Name: floors_total, Length: 23699, dtype: int64"
      ]
     },
     "execution_count": 16,
     "metadata": {},
     "output_type": "execute_result"
    }
   ],
   "source": [
    "data['floors_total'].astype('int64')"
   ]
  },
  {
   "cell_type": "markdown",
   "metadata": {},
   "source": [
    "9 этажей, походе на правду. Причина пропуска - скорее всего, это необязательный параметр, вот люди и не вносили."
   ]
  },
  {
   "cell_type": "markdown",
   "metadata": {},
   "source": [
    "Столбец living_area"
   ]
  },
  {
   "cell_type": "code",
   "execution_count": 17,
   "metadata": {},
   "outputs": [
    {
     "name": "stdout",
     "output_type": "stream",
     "text": [
      "Количество NaN в столбце living_area: 1903\n"
     ]
    }
   ],
   "source": [
    "print('Количество NaN в столбце living_area:', data['living_area'].isnull().sum())"
   ]
  },
  {
   "cell_type": "markdown",
   "metadata": {},
   "source": [
    "1903 значения, всего 8% от всего датафрейма, не много, но и не мало."
   ]
  },
  {
   "cell_type": "markdown",
   "metadata": {},
   "source": [
    "Посмотрю в совокупности на пропуски в столбцах living_area и total_area "
   ]
  },
  {
   "cell_type": "code",
   "execution_count": 18,
   "metadata": {},
   "outputs": [
    {
     "name": "stdout",
     "output_type": "stream",
     "text": [
      "<class 'pandas.core.frame.DataFrame'>\n",
      "Int64Index: 0 entries\n",
      "Data columns (total 22 columns):\n",
      "total_images            0 non-null int64\n",
      "last_price              0 non-null float64\n",
      "total_area              0 non-null float64\n",
      "first_day_exposition    0 non-null datetime64[ns]\n",
      "rooms                   0 non-null int64\n",
      "ceiling_height          0 non-null float64\n",
      "floors_total            0 non-null float64\n",
      "living_area             0 non-null float64\n",
      "floor                   0 non-null int64\n",
      "is_apartment            0 non-null object\n",
      "studio                  0 non-null bool\n",
      "open_plan               0 non-null bool\n",
      "kitchen_area            0 non-null float64\n",
      "balcony                 0 non-null float64\n",
      "locality_name           0 non-null object\n",
      "airports_nearest        0 non-null float64\n",
      "cityCenters_nearest     0 non-null float64\n",
      "parks_around3000        0 non-null float64\n",
      "parks_nearest           0 non-null float64\n",
      "ponds_around3000        0 non-null float64\n",
      "ponds_nearest           0 non-null float64\n",
      "days_exposition         0 non-null float64\n",
      "dtypes: bool(2), datetime64[ns](1), float64(14), int64(3), object(2)\n",
      "memory usage: 0.0+ bytes\n"
     ]
    }
   ],
   "source": [
    "data[(data['living_area'].isnull() == True) & (data['total_area'].isnull() == True)].info()"
   ]
  },
  {
   "cell_type": "markdown",
   "metadata": {},
   "source": [
    "Совпадения не найдены, найду, отношение (коэффициент) для общей и жилой площади"
   ]
  },
  {
   "cell_type": "code",
   "execution_count": 19,
   "metadata": {},
   "outputs": [
    {
     "name": "stdout",
     "output_type": "stream",
     "text": [
      "1.7333333333333334\n"
     ]
    }
   ],
   "source": [
    "data_relationship_total_area_living_area = data['total_area'].median() / data['living_area'].median()\n",
    "print(data_relationship_total_area_living_area)"
   ]
  },
  {
   "cell_type": "markdown",
   "metadata": {},
   "source": [
    "Заменю пропущенные значения"
   ]
  },
  {
   "cell_type": "code",
   "execution_count": 20,
   "metadata": {},
   "outputs": [],
   "source": [
    "data['living_area'] = data['living_area'].fillna(data['total_area'] / 1.73)"
   ]
  },
  {
   "cell_type": "code",
   "execution_count": 21,
   "metadata": {},
   "outputs": [
    {
     "name": "stdout",
     "output_type": "stream",
     "text": [
      "Количество NaN в столбце living_area: 0\n"
     ]
    }
   ],
   "source": [
    "print('Количество NaN в столбце living_area:', data['living_area'].isnull().sum())"
   ]
  },
  {
   "cell_type": "markdown",
   "metadata": {},
   "source": [
    "Очень странно, что не заполнена жилая площадь, впрочем это может быть маркетинговая уловка, если площадь квартиры состоит из коридоров и встроенных шкафов:)"
   ]
  },
  {
   "cell_type": "markdown",
   "metadata": {},
   "source": [
    "Столбец floor"
   ]
  },
  {
   "cell_type": "code",
   "execution_count": 22,
   "metadata": {},
   "outputs": [
    {
     "name": "stdout",
     "output_type": "stream",
     "text": [
      "Количество NaN в столбце floor: 0\n"
     ]
    }
   ],
   "source": [
    "print('Количество NaN в столбце floor:', data['floor'].isnull().sum())"
   ]
  },
  {
   "cell_type": "markdown",
   "metadata": {},
   "source": [
    "Категоризирую этажи"
   ]
  },
  {
   "cell_type": "code",
   "execution_count": 23,
   "metadata": {},
   "outputs": [],
   "source": [
    "data.loc[ data['floor'] == 1, 'floor_category' ] = \"первый\"\n",
    "data.loc[ data['floor'] == data['floors_total'], 'floor_category' ] = \"последний\"\n",
    "data['floor_category'] = data['floor_category'].fillna('другой')"
   ]
  },
  {
   "cell_type": "code",
   "execution_count": 24,
   "metadata": {},
   "outputs": [
    {
     "data": {
      "text/plain": [
       "0    другой\n",
       "1    первый\n",
       "2    другой\n",
       "3    другой\n",
       "4    другой\n",
       "5    другой\n",
       "6    другой\n",
       "7    другой\n",
       "8    другой\n",
       "9    другой\n",
       "Name: floor_category, dtype: object"
      ]
     },
     "execution_count": 24,
     "metadata": {},
     "output_type": "execute_result"
    }
   ],
   "source": [
    "data['floor_category'].head(10)"
   ]
  },
  {
   "cell_type": "markdown",
   "metadata": {},
   "source": [
    "Сделано."
   ]
  },
  {
   "cell_type": "markdown",
   "metadata": {},
   "source": [
    "Тут все ОК."
   ]
  },
  {
   "cell_type": "markdown",
   "metadata": {},
   "source": [
    "Столбец is_apartment"
   ]
  },
  {
   "cell_type": "code",
   "execution_count": 25,
   "metadata": {},
   "outputs": [
    {
     "name": "stdout",
     "output_type": "stream",
     "text": [
      "Количество NaN в столбце is_apartment: 20924\n"
     ]
    }
   ],
   "source": [
    "print('Количество NaN в столбце is_apartment:', data['is_apartment'].isnull().sum())"
   ]
  },
  {
   "cell_type": "markdown",
   "metadata": {},
   "source": [
    "На первый взгляд много пропусков - 88% от всего датафрейма, если бы речь шла не об апартаментах. Апартменты, это, прежде всего не про площадь, планировку и цену, это, прежде всего юридический статус. Для этого вида жилья, оставшиеся 12% предложений, вполне естественны их, значительно меньше, чем обычных квартир. Заменю пропущенные значения на ноль."
   ]
  },
  {
   "cell_type": "code",
   "execution_count": 26,
   "metadata": {},
   "outputs": [],
   "source": [
    "data['is_apartment'] = data['living_area'].fillna(0)"
   ]
  },
  {
   "cell_type": "markdown",
   "metadata": {},
   "source": [
    "Категоризирую, апартаменты - 1, не апартаменты - 0."
   ]
  },
  {
   "cell_type": "code",
   "execution_count": 27,
   "metadata": {},
   "outputs": [
    {
     "data": {
      "text/plain": [
       "0        1\n",
       "1        1\n",
       "2        1\n",
       "3        1\n",
       "4        1\n",
       "        ..\n",
       "23694    1\n",
       "23695    1\n",
       "23696    1\n",
       "23697    1\n",
       "23698    1\n",
       "Name: is_apartment, Length: 23699, dtype: Int64"
      ]
     },
     "execution_count": 27,
     "metadata": {},
     "output_type": "execute_result"
    }
   ],
   "source": [
    "data['is_apartment'].loc[(data['is_apartment'] == 0)] = 0\n",
    "data['is_apartment'].loc[(data['is_apartment'] != 0)] = 1\n",
    "data['is_apartment'].astype('Int64')"
   ]
  },
  {
   "cell_type": "code",
   "execution_count": 28,
   "metadata": {},
   "outputs": [
    {
     "name": "stdout",
     "output_type": "stream",
     "text": [
      "Количество NaN в столбце is_apartment: 0\n"
     ]
    }
   ],
   "source": [
    "print('Количество NaN в столбце is_apartment:', data['is_apartment'].isnull().sum())"
   ]
  },
  {
   "cell_type": "markdown",
   "metadata": {},
   "source": [
    "Сделано."
   ]
  },
  {
   "cell_type": "markdown",
   "metadata": {},
   "source": [
    "Столбец studio"
   ]
  },
  {
   "cell_type": "code",
   "execution_count": 29,
   "metadata": {},
   "outputs": [
    {
     "name": "stdout",
     "output_type": "stream",
     "text": [
      "Количество NaN в столбце studio: 0\n"
     ]
    }
   ],
   "source": [
    "print('Количество NaN в столбце studio:', data['studio'].isnull().sum())"
   ]
  },
  {
   "cell_type": "markdown",
   "metadata": {},
   "source": [
    "Пропусков нет, заменю булевы значения на 0 и 1, соответственно"
   ]
  },
  {
   "cell_type": "code",
   "execution_count": 30,
   "metadata": {},
   "outputs": [
    {
     "data": {
      "text/plain": [
       "0        False\n",
       "1        False\n",
       "2        False\n",
       "3        False\n",
       "4        False\n",
       "         ...  \n",
       "23694    False\n",
       "23695    False\n",
       "23696    False\n",
       "23697    False\n",
       "23698    False\n",
       "Name: studio, Length: 23699, dtype: bool"
      ]
     },
     "execution_count": 30,
     "metadata": {},
     "output_type": "execute_result"
    }
   ],
   "source": [
    "data['studio']"
   ]
  },
  {
   "cell_type": "code",
   "execution_count": 31,
   "metadata": {},
   "outputs": [
    {
     "data": {
      "text/plain": [
       "0        0\n",
       "1        0\n",
       "2        0\n",
       "3        0\n",
       "4        0\n",
       "        ..\n",
       "23694    0\n",
       "23695    0\n",
       "23696    0\n",
       "23697    0\n",
       "23698    0\n",
       "Name: studio, Length: 23699, dtype: Int64"
      ]
     },
     "execution_count": 31,
     "metadata": {},
     "output_type": "execute_result"
    }
   ],
   "source": [
    "data['studio'].astype('Int64')"
   ]
  },
  {
   "cell_type": "code",
   "execution_count": 32,
   "metadata": {},
   "outputs": [
    {
     "name": "stdout",
     "output_type": "stream",
     "text": [
      "149\n"
     ]
    }
   ],
   "source": [
    "data['studio'].loc[(data['studio'] == 0)] = 0\n",
    "data['studio'].loc[(data['studio'] != 0)] = 1\n",
    "print(data['studio'].sum())"
   ]
  },
  {
   "cell_type": "markdown",
   "metadata": {},
   "source": [
    "Получилось, что студий 149, остальные, соответственно не студии. Ну ОК."
   ]
  },
  {
   "cell_type": "markdown",
   "metadata": {},
   "source": [
    "Столбец open_plan"
   ]
  },
  {
   "cell_type": "code",
   "execution_count": 33,
   "metadata": {},
   "outputs": [
    {
     "name": "stdout",
     "output_type": "stream",
     "text": [
      "Количество NaN в столбце open_plan: 0\n"
     ]
    }
   ],
   "source": [
    "print('Количество NaN в столбце open_plan:', data['open_plan'].isnull().sum())"
   ]
  },
  {
   "cell_type": "markdown",
   "metadata": {},
   "source": [
    "Пропусков нет, булев тип, произведу замену, аналогичу столбцу studio"
   ]
  },
  {
   "cell_type": "code",
   "execution_count": 34,
   "metadata": {},
   "outputs": [],
   "source": [
    "data['open_plan'].astype('Int64')\n",
    "data['open_plan'].loc[(data['open_plan'] == 0)] = 0\n",
    "data['open_plan'].loc[(data['open_plan'] != 0)] = 1"
   ]
  },
  {
   "cell_type": "markdown",
   "metadata": {},
   "source": [
    "Сделано."
   ]
  },
  {
   "cell_type": "markdown",
   "metadata": {},
   "source": [
    "Столбец kitchen_area, здесь, оставлю тип float64, так как разница для кухни в 5 и 5,7 очень велика, а у нас много таких кухонь, особенно в хрущевках и отчасти в брежневках. Пропущенные значения заменю медианной, чтобы устранить выбросы."
   ]
  },
  {
   "cell_type": "code",
   "execution_count": 35,
   "metadata": {},
   "outputs": [
    {
     "name": "stdout",
     "output_type": "stream",
     "text": [
      "Количество NaN в столбце kitchen_area: 2278\n",
      "9.1\n",
      "Количество NaN в столбце kitchen_area: 0\n"
     ]
    }
   ],
   "source": [
    "print('Количество NaN в столбце kitchen_area:', data['kitchen_area'].isnull().sum())\n",
    "data_kitchen_area_median = data['kitchen_area'].median()\n",
    "print(data_kitchen_area_median)\n",
    "data['kitchen_area'].loc[(data['kitchen_area'] != data_kitchen_area_median)] = 9.1\n",
    "print('Количество NaN в столбце kitchen_area:', data['kitchen_area'].isnull().sum())"
   ]
  },
  {
   "cell_type": "markdown",
   "metadata": {},
   "source": [
    "Причиина пропусков, скорее всего, маркетинговый ход, чтобы не показывать маленькую кухоньку."
   ]
  },
  {
   "cell_type": "markdown",
   "metadata": {},
   "source": [
    "Столбец balcony. Тут все просто - балкон либо есть, либо его нет, а косвенно определить наличие/отсутствие балкона неевозможно"
   ]
  },
  {
   "cell_type": "code",
   "execution_count": 36,
   "metadata": {},
   "outputs": [
    {
     "data": {
      "text/plain": [
       "0        1\n",
       "1        1\n",
       "2        0\n",
       "3        0\n",
       "4        1\n",
       "        ..\n",
       "23694    1\n",
       "23695    1\n",
       "23696    1\n",
       "23697    1\n",
       "23698    1\n",
       "Name: balcony, Length: 23699, dtype: Int64"
      ]
     },
     "execution_count": 36,
     "metadata": {},
     "output_type": "execute_result"
    }
   ],
   "source": [
    "data['balcony'].loc[(data['balcony'] == 0)] = 0\n",
    "data['balcony'].loc[(data['balcony'] != 0)] = 1\n",
    "data['balcony'].astype('Int64')"
   ]
  },
  {
   "cell_type": "markdown",
   "metadata": {},
   "source": [
    "Сделано."
   ]
  },
  {
   "cell_type": "markdown",
   "metadata": {},
   "source": [
    "Столбец locality_name"
   ]
  },
  {
   "cell_type": "code",
   "execution_count": 37,
   "metadata": {},
   "outputs": [
    {
     "name": "stdout",
     "output_type": "stream",
     "text": [
      "Количество NaN в столбце locality_name: 49\n"
     ]
    }
   ],
   "source": [
    "print('Количество NaN в столбце locality_name:', data['locality_name'].isnull().sum())"
   ]
  },
  {
   "cell_type": "markdown",
   "metadata": {},
   "source": [
    "Всего 49 пропущенных значений, то есть 0,2% датафрейма, попробую привести к строковому формат, удалю дубликаты и еще раз посмотрю на количество пропущеных значений"
   ]
  },
  {
   "cell_type": "code",
   "execution_count": 38,
   "metadata": {},
   "outputs": [
    {
     "name": "stdout",
     "output_type": "stream",
     "text": [
      "Количество NaN в столбце locality_name: 49\n"
     ]
    }
   ],
   "source": [
    "data['locality_name'] = data['locality_name'].str.lower()\n",
    "data['locality_name'].drop_duplicates().reset_index(drop = True)\n",
    "print('Количество NaN в столбце locality_name:', data['locality_name'].isnull().sum())"
   ]
  },
  {
   "cell_type": "markdown",
   "metadata": {},
   "source": [
    "Не помогло, удалю, без жалости"
   ]
  },
  {
   "cell_type": "code",
   "execution_count": 39,
   "metadata": {},
   "outputs": [
    {
     "name": "stdout",
     "output_type": "stream",
     "text": [
      "Количество NaN в столбце locality_name: 0\n"
     ]
    }
   ],
   "source": [
    "data.dropna(subset = ['locality_name'], inplace = True)\n",
    "print('Количество NaN в столбце locality_name:', data['locality_name'].isnull().sum())"
   ]
  },
  {
   "cell_type": "markdown",
   "metadata": {},
   "source": [
    "Причина пропусков, скорее всего, просто ошибка в датафрейме, при размещении объявления, адрес важынй параметр, обязательный к заполнению. Где-то что-то слетело."
   ]
  },
  {
   "cell_type": "markdown",
   "metadata": {},
   "source": [
    "Столбец airports_nearest. В задании не сказано, определить зависимость цены от расстояния до аэропорта, поэтому волюнтаристки, заменю на медианну, чтобы устранить возможные выбросы."
   ]
  },
  {
   "cell_type": "code",
   "execution_count": 40,
   "metadata": {},
   "outputs": [
    {
     "name": "stdout",
     "output_type": "stream",
     "text": [
      "Количество NaN в столбце airports_nearest: 5534\n",
      "26756.5\n"
     ]
    }
   ],
   "source": [
    "print('Количество NaN в столбце airports_nearest:', data['airports_nearest'].isnull().sum())\n",
    "data_airports_nearest_median = data['airports_nearest'].median()\n",
    "data['airports_nearest'] = data['airports_nearest'].fillna(0)\n",
    "print(data_airports_nearest_median)\n",
    "data.loc[(data['airports_nearest'] == 0), 'airports_nearest'] = 26756"
   ]
  },
  {
   "cell_type": "code",
   "execution_count": 41,
   "metadata": {},
   "outputs": [
    {
     "data": {
      "text/plain": [
       "0        18863\n",
       "1        12817\n",
       "2        21741\n",
       "3        28098\n",
       "4        31856\n",
       "         ...  \n",
       "23694    24665\n",
       "23695    26756\n",
       "23696    26756\n",
       "23697    39140\n",
       "23698    26756\n",
       "Name: airports_nearest, Length: 23650, dtype: Int64"
      ]
     },
     "execution_count": 41,
     "metadata": {},
     "output_type": "execute_result"
    }
   ],
   "source": [
    "data['airports_nearest'].astype('Int64')"
   ]
  },
  {
   "cell_type": "code",
   "execution_count": 42,
   "metadata": {},
   "outputs": [
    {
     "name": "stdout",
     "output_type": "stream",
     "text": [
      "Количество NaN в столбце airports_nearest: 0\n"
     ]
    }
   ],
   "source": [
    "print('Количество NaN в столбце airports_nearest:', data['airports_nearest'].isnull().sum())"
   ]
  },
  {
   "cell_type": "markdown",
   "metadata": {},
   "source": [
    "Сделано."
   ]
  },
  {
   "cell_type": "markdown",
   "metadata": {},
   "source": [
    "Столбец cityCenters_nearest"
   ]
  },
  {
   "cell_type": "code",
   "execution_count": 43,
   "metadata": {},
   "outputs": [
    {
     "name": "stdout",
     "output_type": "stream",
     "text": [
      "Количество NaN в столбце cityCenters_nearest: 5511\n"
     ]
    }
   ],
   "source": [
    "print('Количество NaN в столбце cityCenters_nearest:', data['cityCenters_nearest'].isnull().sum())"
   ]
  },
  {
   "cell_type": "markdown",
   "metadata": {},
   "source": [
    "Очень много. Посмотрю на количество уникальных населенных пунктов"
   ]
  },
  {
   "cell_type": "code",
   "execution_count": 44,
   "metadata": {},
   "outputs": [
    {
     "data": {
      "text/plain": [
       "364"
      ]
     },
     "execution_count": 44,
     "metadata": {},
     "output_type": "execute_result"
    }
   ],
   "source": [
    "data.locality_name.nunique()"
   ]
  },
  {
   "cell_type": "markdown",
   "metadata": {},
   "source": [
    "364 уникальных населенных пункта"
   ]
  },
  {
   "cell_type": "markdown",
   "metadata": {},
   "source": [
    "Важный столбец, буду заполнять. Агрериую. У регионов, где не заполнен cityCenter_nearets получится NaN"
   ]
  },
  {
   "cell_type": "code",
   "execution_count": 45,
   "metadata": {},
   "outputs": [
    {
     "name": "stdout",
     "output_type": "stream",
     "text": [
      "               cityCenters_nearest\n",
      "locality_name                     \n",
      "бокситогорск                   NaN\n",
      "волосово                       NaN\n",
      "волхов                         NaN\n",
      "всеволожск                     NaN\n",
      "выборг                         NaN\n",
      "...                            ...\n",
      "сосновый бор                   NaN\n",
      "сясьстрой                      NaN\n",
      "тихвин                         NaN\n",
      "тосно                          NaN\n",
      "шлиссельбург                   NaN\n",
      "\n",
      "[364 rows x 1 columns]\n"
     ]
    }
   ],
   "source": [
    "median_table = data.groupby(['locality_name']).agg({'cityCenters_nearest' : 'median'})\n",
    "print(median_table)"
   ]
  },
  {
   "cell_type": "markdown",
   "metadata": {},
   "source": [
    "Получу список городов, у которых не заполнено расстояние"
   ]
  },
  {
   "cell_type": "code",
   "execution_count": 46,
   "metadata": {},
   "outputs": [
    {
     "name": "stdout",
     "output_type": "stream",
     "text": [
      "Index(['бокситогорск', 'волосово', 'волхов', 'всеволожск', 'выборг', 'высоцк',\n",
      "       'гатчина', 'городской поселок большая ижора',\n",
      "       'городской поселок янино-1', 'городской посёлок будогощь',\n",
      "       ...\n",
      "       'село русско-высоцкое', 'село старая ладога', 'село шум', 'сертолово',\n",
      "       'сланцы', 'сосновый бор', 'сясьстрой', 'тихвин', 'тосно',\n",
      "       'шлиссельбург'],\n",
      "      dtype='object', name='locality_name', length=336)\n"
     ]
    }
   ],
   "source": [
    "city_to_del = median_table.loc[median_table['cityCenters_nearest'].isnull()].index\n",
    "print(city_to_del)"
   ]
  },
  {
   "cell_type": "markdown",
   "metadata": {},
   "source": [
    "Количество строк в исходных данных"
   ]
  },
  {
   "cell_type": "code",
   "execution_count": 47,
   "metadata": {},
   "outputs": [
    {
     "data": {
      "text/plain": [
       "23650"
      ]
     },
     "execution_count": 47,
     "metadata": {},
     "output_type": "execute_result"
    }
   ],
   "source": [
    "len(data)"
   ]
  },
  {
   "cell_type": "code",
   "execution_count": 48,
   "metadata": {},
   "outputs": [],
   "source": [
    "data = data.query('locality_name not in @city_to_del')"
   ]
  },
  {
   "cell_type": "markdown",
   "metadata": {},
   "source": [
    "Количество строк после удаления"
   ]
  },
  {
   "cell_type": "code",
   "execution_count": 49,
   "metadata": {},
   "outputs": [
    {
     "data": {
      "text/plain": [
       "18264"
      ]
     },
     "execution_count": 49,
     "metadata": {},
     "output_type": "execute_result"
    }
   ],
   "source": [
    "len(data)"
   ]
  },
  {
   "cell_type": "code",
   "execution_count": 50,
   "metadata": {},
   "outputs": [
    {
     "name": "stdout",
     "output_type": "stream",
     "text": [
      "Количество NaN в столбце cityCenters_nearest: 125\n"
     ]
    }
   ],
   "source": [
    "print('Количество NaN в столбце cityCenters_nearest:', data['cityCenters_nearest'].isnull().sum())"
   ]
  },
  {
   "cell_type": "markdown",
   "metadata": {},
   "source": [
    "Все равно осталось 125 незаполненых значений, это 0,7% обработанного датафрейма или 0,5% исходного датафрейма. Удалю."
   ]
  },
  {
   "cell_type": "code",
   "execution_count": 51,
   "metadata": {},
   "outputs": [],
   "source": [
    "data['cityCenters_nearest'] = data['cityCenters_nearest'].fillna(0)"
   ]
  },
  {
   "cell_type": "code",
   "execution_count": 52,
   "metadata": {},
   "outputs": [
    {
     "data": {
      "text/plain": [
       "0        16028\n",
       "1        18603\n",
       "2        13933\n",
       "3         6800\n",
       "4         8098\n",
       "         ...  \n",
       "23690     6263\n",
       "23691     4489\n",
       "23693    34104\n",
       "23694     4232\n",
       "23697    10364\n",
       "Name: cityCenters_nearest, Length: 18264, dtype: Int64"
      ]
     },
     "execution_count": 52,
     "metadata": {},
     "output_type": "execute_result"
    }
   ],
   "source": [
    "data['cityCenters_nearest'].astype('Int64')"
   ]
  },
  {
   "cell_type": "code",
   "execution_count": 53,
   "metadata": {},
   "outputs": [
    {
     "name": "stdout",
     "output_type": "stream",
     "text": [
      "Количество NaN в столбце cityCenters_nearest: 0\n"
     ]
    }
   ],
   "source": [
    "print('Количество NaN в столбце cityCenters_nearest:', data['cityCenters_nearest'].isnull().sum())"
   ]
  },
  {
   "cell_type": "markdown",
   "metadata": {},
   "source": [
    "Сделано."
   ]
  },
  {
   "cell_type": "code",
   "execution_count": 54,
   "metadata": {},
   "outputs": [
    {
     "data": {
      "text/plain": [
       "18264"
      ]
     },
     "execution_count": 54,
     "metadata": {},
     "output_type": "execute_result"
    }
   ],
   "source": [
    "len(data)"
   ]
  },
  {
   "cell_type": "markdown",
   "metadata": {},
   "source": [
    "От исходного датафрейма осталось 18264 строк, то есть 77%, конечно, хотелось бы больше, но учитывая качество данных, это неплохо, почти 80%"
   ]
  },
  {
   "cell_type": "markdown",
   "metadata": {},
   "source": [
    "Столбец parks_around3000. В задании не сказано, определить зависимость цены от числа парков в радиусе 3 км, поэтому волюнтаристки, заменю на медианну, чтобы устранить возможные выбросы."
   ]
  },
  {
   "cell_type": "code",
   "execution_count": 55,
   "metadata": {},
   "outputs": [
    {
     "name": "stdout",
     "output_type": "stream",
     "text": [
      "Количество NaN в столбце parks_around3000: 124\n"
     ]
    },
    {
     "data": {
      "text/plain": [
       "0        1\n",
       "1        0\n",
       "2        1\n",
       "3        2\n",
       "4        2\n",
       "        ..\n",
       "23690    1\n",
       "23691    0\n",
       "23693    1\n",
       "23694    1\n",
       "23697    2\n",
       "Name: parks_around3000, Length: 18264, dtype: Int64"
      ]
     },
     "execution_count": 55,
     "metadata": {},
     "output_type": "execute_result"
    }
   ],
   "source": [
    "print('Количество NaN в столбце parks_around3000:', data['parks_around3000'].isnull().sum())\n",
    "data['parks_around3000'].fillna(data['parks_around3000'].median(), inplace=True)\n",
    "data['parks_around3000'].astype('Int64')"
   ]
  },
  {
   "cell_type": "code",
   "execution_count": 56,
   "metadata": {},
   "outputs": [
    {
     "name": "stdout",
     "output_type": "stream",
     "text": [
      "Количество NaN в столбце parks_around3000: 0\n"
     ]
    }
   ],
   "source": [
    "print('Количество NaN в столбце parks_around3000:', data['parks_around3000'].isnull().sum())"
   ]
  },
  {
   "cell_type": "markdown",
   "metadata": {},
   "source": [
    "Сделано."
   ]
  },
  {
   "cell_type": "markdown",
   "metadata": {},
   "source": [
    "Столбец parks_nearest. Поступлю аналогично"
   ]
  },
  {
   "cell_type": "code",
   "execution_count": 57,
   "metadata": {},
   "outputs": [
    {
     "name": "stdout",
     "output_type": "stream",
     "text": [
      "Количество NaN в столбце parks_nearest: 10200\n",
      "454.5\n"
     ]
    },
    {
     "data": {
      "text/plain": [
       "0        482\n",
       "1        454\n",
       "2         90\n",
       "3         84\n",
       "4        112\n",
       "        ... \n",
       "23690    300\n",
       "23691    454\n",
       "23693    352\n",
       "23694    796\n",
       "23697    173\n",
       "Name: parks_nearest, Length: 18264, dtype: Int64"
      ]
     },
     "execution_count": 57,
     "metadata": {},
     "output_type": "execute_result"
    }
   ],
   "source": [
    "print('Количество NaN в столбце parks_nearest:', data['parks_nearest'].isnull().sum())\n",
    "data_parks_nearest_median = data['parks_nearest'].median()\n",
    "print(data_parks_nearest_median)\n",
    "data['parks_nearest'].fillna(454, inplace=True)\n",
    "data['parks_nearest'].astype('Int64')"
   ]
  },
  {
   "cell_type": "code",
   "execution_count": 58,
   "metadata": {},
   "outputs": [
    {
     "name": "stdout",
     "output_type": "stream",
     "text": [
      "Количество NaN в столбце parks_nearest: 0\n"
     ]
    }
   ],
   "source": [
    "print('Количество NaN в столбце parks_nearest:', data['parks_nearest'].isnull().sum())"
   ]
  },
  {
   "cell_type": "markdown",
   "metadata": {},
   "source": [
    "Сделано."
   ]
  },
  {
   "cell_type": "markdown",
   "metadata": {},
   "source": [
    "Столбец ponds_around3000, аналогично"
   ]
  },
  {
   "cell_type": "code",
   "execution_count": 59,
   "metadata": {},
   "outputs": [
    {
     "name": "stdout",
     "output_type": "stream",
     "text": [
      "Количество NaN в столбце ponds_around3000: 124\n"
     ]
    },
    {
     "data": {
      "text/plain": [
       "0        2\n",
       "1        0\n",
       "2        2\n",
       "3        3\n",
       "4        1\n",
       "        ..\n",
       "23690    0\n",
       "23691    1\n",
       "23693    1\n",
       "23694    3\n",
       "23697    3\n",
       "Name: ponds_around3000, Length: 18264, dtype: Int64"
      ]
     },
     "execution_count": 59,
     "metadata": {},
     "output_type": "execute_result"
    }
   ],
   "source": [
    "print('Количество NaN в столбце ponds_around3000:', data['ponds_around3000'].isnull().sum())\n",
    "data['ponds_around3000'].fillna(data['ponds_around3000'].median(), inplace=True)\n",
    "data['ponds_around3000'].astype('Int64')"
   ]
  },
  {
   "cell_type": "code",
   "execution_count": 60,
   "metadata": {},
   "outputs": [
    {
     "name": "stdout",
     "output_type": "stream",
     "text": [
      "Количество NaN в столбце ponds_around3000: 0\n"
     ]
    }
   ],
   "source": [
    "print('Количество NaN в столбце ponds_around3000:', data['ponds_around3000'].isnull().sum())"
   ]
  },
  {
   "cell_type": "markdown",
   "metadata": {},
   "source": [
    "Сделано."
   ]
  },
  {
   "cell_type": "markdown",
   "metadata": {},
   "source": [
    "Столбец ponds_nearest, аналогично"
   ]
  },
  {
   "cell_type": "code",
   "execution_count": 61,
   "metadata": {},
   "outputs": [
    {
     "name": "stdout",
     "output_type": "stream",
     "text": [
      "Количество NaN в столбце ponds_nearest: 9179\n"
     ]
    },
    {
     "data": {
      "text/plain": [
       "0        755\n",
       "1        502\n",
       "2        574\n",
       "3        234\n",
       "4         48\n",
       "        ... \n",
       "23690    502\n",
       "23691    806\n",
       "23693    675\n",
       "23694    381\n",
       "23697    196\n",
       "Name: ponds_nearest, Length: 18264, dtype: Int64"
      ]
     },
     "execution_count": 61,
     "metadata": {},
     "output_type": "execute_result"
    }
   ],
   "source": [
    "print('Количество NaN в столбце ponds_nearest:', data['ponds_nearest'].isnull().sum())\n",
    "data['ponds_nearest'].fillna(data['ponds_nearest'].median(), inplace=True)\n",
    "data['ponds_nearest'].astype('Int64')"
   ]
  },
  {
   "cell_type": "code",
   "execution_count": 62,
   "metadata": {},
   "outputs": [
    {
     "name": "stdout",
     "output_type": "stream",
     "text": [
      "Количество NaN в столбце ponds_nearest: 0\n"
     ]
    }
   ],
   "source": [
    "print('Количество NaN в столбце ponds_nearest:', data['ponds_nearest'].isnull().sum())"
   ]
  },
  {
   "cell_type": "markdown",
   "metadata": {},
   "source": [
    "Сделано."
   ]
  },
  {
   "cell_type": "markdown",
   "metadata": {},
   "source": [
    "Пропуски в столбцах airports_nearest, parks_around3000, parks_nearest, ponds_around3000, ponds_nearest обусловлены, прежде всего тем, что это необязательный параметр, однако, СпБ и Ленинградская область богата на водные ресрусы, лесные массивы, не пустыня, совсем и не степь, 100% поблизости есть какой-то водоем, парк."
   ]
  },
  {
   "cell_type": "markdown",
   "metadata": {},
   "source": [
    "Столбец days_exposition"
   ]
  },
  {
   "cell_type": "code",
   "execution_count": 63,
   "metadata": {},
   "outputs": [
    {
     "name": "stdout",
     "output_type": "stream",
     "text": [
      "Количество NaN в столбце days_exposition: 2355\n"
     ]
    }
   ],
   "source": [
    "print('Количество NaN в столбце days_exposition:', data['days_exposition'].isnull().sum())"
   ]
  },
  {
   "cell_type": "markdown",
   "metadata": {},
   "source": [
    "Большое количество пропусков, 12% от обработанного датафрейма. Вероятно, эти объекты еще не проданы, находятся в экспозиции или находились в экспозиции на момент выгрузки данных. Заполню медианной, чтобы устранить возможные выбросы."
   ]
  },
  {
   "cell_type": "code",
   "execution_count": 64,
   "metadata": {},
   "outputs": [
    {
     "name": "stdout",
     "output_type": "stream",
     "text": [
      "96.0\n"
     ]
    }
   ],
   "source": [
    "print(data['days_exposition'].median())"
   ]
  },
  {
   "cell_type": "markdown",
   "metadata": {},
   "source": [
    "Объект продается чуть больше 3 месяцев, вполне реально"
   ]
  },
  {
   "cell_type": "code",
   "execution_count": 65,
   "metadata": {},
   "outputs": [],
   "source": [
    "data['days_exposition'] = data['days_exposition'].fillna(96)"
   ]
  },
  {
   "cell_type": "code",
   "execution_count": 66,
   "metadata": {},
   "outputs": [
    {
     "data": {
      "text/plain": [
       "0         96\n",
       "1         81\n",
       "2        558\n",
       "3        424\n",
       "4        121\n",
       "        ... \n",
       "23690     15\n",
       "23691    519\n",
       "23693    239\n",
       "23694     96\n",
       "23697    602\n",
       "Name: days_exposition, Length: 18264, dtype: int64"
      ]
     },
     "execution_count": 66,
     "metadata": {},
     "output_type": "execute_result"
    }
   ],
   "source": [
    "data['days_exposition'].astype('int64')"
   ]
  },
  {
   "cell_type": "code",
   "execution_count": 67,
   "metadata": {},
   "outputs": [
    {
     "name": "stdout",
     "output_type": "stream",
     "text": [
      "Количество NaN в столбце days_exposition: 0\n"
     ]
    }
   ],
   "source": [
    "print('Количество NaN в столбце days_exposition:', data['days_exposition'].isnull().sum())"
   ]
  },
  {
   "cell_type": "markdown",
   "metadata": {},
   "source": [
    "Сделано."
   ]
  },
  {
   "cell_type": "markdown",
   "metadata": {},
   "source": [
    "Посмотрю на пропуски по всем столбцам:"
   ]
  },
  {
   "cell_type": "code",
   "execution_count": 68,
   "metadata": {},
   "outputs": [
    {
     "name": "stdout",
     "output_type": "stream",
     "text": [
      "Количество NaN в столбце total_images: 0\n",
      "Количество NaN в столбце last_price: 0\n",
      "Количество NaN в столбце total_area 0\n",
      "Количество NaN в столбце first_day_exposition 0\n",
      "Количество NaN в столбце rooms 0\n",
      "Количество NaN в столбце ceiling_height 0\n",
      "Количество NaN в столбце floors_total 0\n",
      "Количество NaN в столбце living_area 0\n",
      "Количество NaN в столбце floor 0\n",
      "Количество NaN в столбце is_apartment 0\n",
      "Количество NaN в столбце studio 0\n",
      "Количество NaN в столбце open_plan 0\n",
      "Количество NaN в столбце kitchen_area 0\n",
      "Количество NaN в столбце balcony 0\n",
      "Количество NaN в столбце locality_name 0\n",
      "Количество NaN в столбце airports_nearest 0\n",
      "Количество NaN в столбце cityCenters_nearest 0\n",
      "Количество NaN в столбце parks_around3000 0\n",
      "Количество NaN в столбце parks_nearest 0\n",
      "Количество NaN в столбце ponds_around3000 0\n",
      "Количество NaN в столбце ponds_nearest 0\n",
      "Количество NaN в столбце days_exposition 0\n"
     ]
    }
   ],
   "source": [
    "print('Количество NaN в столбце total_images:', data['total_images'].isnull().sum())\n",
    "print('Количество NaN в столбце last_price:', data['last_price'].isnull().sum())\n",
    "print('Количество NaN в столбце total_area', data['total_area'].isnull().sum())\n",
    "print('Количество NaN в столбце first_day_exposition', data['first_day_exposition'].isnull().sum())\n",
    "print('Количество NaN в столбце rooms', data['rooms'].isnull().sum())\n",
    "print('Количество NaN в столбце ceiling_height', data['ceiling_height'].isnull().sum())\n",
    "print('Количество NaN в столбце floors_total', data['floors_total'].isnull().sum())\n",
    "print('Количество NaN в столбце living_area', data['living_area'].isnull().sum())\n",
    "print('Количество NaN в столбце floor', data['floor'].isnull().sum())\n",
    "print('Количество NaN в столбце is_apartment', data['is_apartment'].isnull().sum())\n",
    "print('Количество NaN в столбце studio', data['studio'].isnull().sum())\n",
    "print('Количество NaN в столбце open_plan', data['open_plan'].isnull().sum())\n",
    "print('Количество NaN в столбце kitchen_area', data['kitchen_area'].isnull().sum())\n",
    "print('Количество NaN в столбце balcony', data['balcony'].isnull().sum())\n",
    "print('Количество NaN в столбце locality_name', data['locality_name'].isnull().sum())\n",
    "print('Количество NaN в столбце airports_nearest', data['airports_nearest'].isnull().sum())\n",
    "print('Количество NaN в столбце cityCenters_nearest', data['cityCenters_nearest'].isnull().sum())\n",
    "print('Количество NaN в столбце parks_around3000', data['parks_around3000'].isnull().sum())\n",
    "print('Количество NaN в столбце parks_nearest', data['parks_nearest'].isnull().sum())\n",
    "print('Количество NaN в столбце ponds_around3000', data['ponds_around3000'].isnull().sum())\n",
    "print('Количество NaN в столбце ponds_nearest', data['ponds_nearest'].isnull().sum())\n",
    "print('Количество NaN в столбце days_exposition', data['days_exposition'].isnull().sum())"
   ]
  },
  {
   "cell_type": "markdown",
   "metadata": {},
   "source": [
    "Пропуски заполнил, данные где это нужно заменил, местами категоризировал, перехожу к заданию"
   ]
  },
  {
   "cell_type": "markdown",
   "metadata": {},
   "source": [
    "## Шаг 3. Посчитайте и добавьте в таблицу\n",
    "цену квадратного метра;\n",
    "день недели, месяц и год публикации объявления;\n",
    "этаж, на котором расположена квартира; варианты — первый, последний, другой;\n",
    "соотношение жилой и общей площади, а также отношение площади кухни к общей**"
   ]
  },
  {
   "cell_type": "markdown",
   "metadata": {},
   "source": [
    "Цена за квадратный метр"
   ]
  },
  {
   "cell_type": "code",
   "execution_count": 69,
   "metadata": {},
   "outputs": [
    {
     "name": "stdout",
     "output_type": "stream",
     "text": [
      "0        120.370370\n",
      "1         82.920792\n",
      "2         92.785714\n",
      "3        408.176101\n",
      "4        100.000000\n",
      "            ...    \n",
      "23690    105.769231\n",
      "23691    129.903978\n",
      "23693     73.717949\n",
      "23694     72.490845\n",
      "23697    149.511401\n",
      "Name: price_of_m2, Length: 18264, dtype: float64\n"
     ]
    },
    {
     "data": {
      "text/plain": [
       "0        120\n",
       "1         82\n",
       "2         92\n",
       "3        408\n",
       "4        100\n",
       "        ... \n",
       "23690    105\n",
       "23691    129\n",
       "23693     73\n",
       "23694     72\n",
       "23697    149\n",
       "Name: price_of_m2, Length: 18264, dtype: int64"
      ]
     },
     "execution_count": 69,
     "metadata": {},
     "output_type": "execute_result"
    }
   ],
   "source": [
    "data['price_of_m2'] = data['last_price'] / data['total_area']\n",
    "print(data['price_of_m2'])\n",
    "data['price_of_m2'].astype('int64')"
   ]
  },
  {
   "cell_type": "markdown",
   "metadata": {},
   "source": [
    "Столбец price_of_m2 приведен к тысячам, ранее, тк приводил к тысячам столбец total_area с двумя знаками после запятой"
   ]
  },
  {
   "cell_type": "markdown",
   "metadata": {},
   "source": [
    "День недели, месяц и год публикации объявления"
   ]
  },
  {
   "cell_type": "markdown",
   "metadata": {},
   "source": [
    "Добавлю год и месяц публикации объявления"
   ]
  },
  {
   "cell_type": "code",
   "execution_count": 70,
   "metadata": {},
   "outputs": [],
   "source": [
    "data['year'] = data['first_day_exposition'].apply(lambda x: x.year)\n",
    "data['month'] = data['first_day_exposition'].apply(lambda x: x.month)"
   ]
  },
  {
   "cell_type": "markdown",
   "metadata": {},
   "source": [
    "Проставлю день недели в формате числа (1 - понедельник, 7 - воскресенье):"
   ]
  },
  {
   "cell_type": "code",
   "execution_count": 71,
   "metadata": {},
   "outputs": [],
   "source": [
    "data['day'] = data['first_day_exposition'].apply(lambda x: x.isoweekday())"
   ]
  },
  {
   "cell_type": "markdown",
   "metadata": {},
   "source": [
    "Cоздам словарь, чтобы изменить значение с чисел на текст (напр., 'суббота'):"
   ]
  },
  {
   "cell_type": "code",
   "execution_count": 72,
   "metadata": {},
   "outputs": [],
   "source": [
    "dict_of_weekdays = {1: '1 - понедельник', 2: '2 - вторник', 3: '3 - среда', 4: '4 - четверг', \n",
    "                    5: '5 - пятница', 6: '6 - суббота', 7: '7 - воскресенье'}"
   ]
  },
  {
   "cell_type": "markdown",
   "metadata": {},
   "source": [
    "Меняю значения:"
   ]
  },
  {
   "cell_type": "code",
   "execution_count": 73,
   "metadata": {},
   "outputs": [],
   "source": [
    "data['day'] = data['day'].map(dict_of_weekdays)"
   ]
  },
  {
   "cell_type": "markdown",
   "metadata": {},
   "source": [
    "Добавлю столбцы с соотношением жилой и общей площади, а также с отношением площади кухни к общей:"
   ]
  },
  {
   "cell_type": "code",
   "execution_count": 74,
   "metadata": {},
   "outputs": [],
   "source": [
    "data['living_area_part'] = data['living_area'] / data['total_area']\n",
    "data['kitchen_area_part'] = data['kitchen_area'] / data['total_area']"
   ]
  },
  {
   "cell_type": "markdown",
   "metadata": {},
   "source": [
    "### Шаг 4. Проведите исследовательский анализ данных и выполните инструкции:"
   ]
  },
  {
   "cell_type": "markdown",
   "metadata": {},
   "source": [
    "Изучу следующие параметры: площадь, цена, число комнат, высота потолков"
   ]
  },
  {
   "cell_type": "code",
   "execution_count": 75,
   "metadata": {},
   "outputs": [
    {
     "data": {
      "text/html": [
       "<div>\n",
       "<style scoped>\n",
       "    .dataframe tbody tr th:only-of-type {\n",
       "        vertical-align: middle;\n",
       "    }\n",
       "\n",
       "    .dataframe tbody tr th {\n",
       "        vertical-align: top;\n",
       "    }\n",
       "\n",
       "    .dataframe thead th {\n",
       "        text-align: right;\n",
       "    }\n",
       "</style>\n",
       "<table border=\"1\" class=\"dataframe\">\n",
       "  <thead>\n",
       "    <tr style=\"text-align: right;\">\n",
       "      <th></th>\n",
       "      <th>total_area</th>\n",
       "      <th>last_price</th>\n",
       "      <th>rooms</th>\n",
       "      <th>ceiling_height</th>\n",
       "    </tr>\n",
       "  </thead>\n",
       "  <tbody>\n",
       "    <tr>\n",
       "      <td>count</td>\n",
       "      <td>18264.000000</td>\n",
       "      <td>18264.000000</td>\n",
       "      <td>18264.00000</td>\n",
       "      <td>1.826400e+04</td>\n",
       "    </tr>\n",
       "    <tr>\n",
       "      <td>mean</td>\n",
       "      <td>63.365787</td>\n",
       "      <td>7585.632063</td>\n",
       "      <td>2.13721</td>\n",
       "      <td>2.650000e+00</td>\n",
       "    </tr>\n",
       "    <tr>\n",
       "      <td>std</td>\n",
       "      <td>38.928090</td>\n",
       "      <td>12176.979954</td>\n",
       "      <td>1.12393</td>\n",
       "      <td>4.441014e-16</td>\n",
       "    </tr>\n",
       "    <tr>\n",
       "      <td>min</td>\n",
       "      <td>12.000000</td>\n",
       "      <td>12.000000</td>\n",
       "      <td>0.00000</td>\n",
       "      <td>2.650000e+00</td>\n",
       "    </tr>\n",
       "    <tr>\n",
       "      <td>25%</td>\n",
       "      <td>41.100000</td>\n",
       "      <td>4000.000000</td>\n",
       "      <td>1.00000</td>\n",
       "      <td>2.650000e+00</td>\n",
       "    </tr>\n",
       "    <tr>\n",
       "      <td>50%</td>\n",
       "      <td>54.000000</td>\n",
       "      <td>5250.000000</td>\n",
       "      <td>2.00000</td>\n",
       "      <td>2.650000e+00</td>\n",
       "    </tr>\n",
       "    <tr>\n",
       "      <td>75%</td>\n",
       "      <td>73.000000</td>\n",
       "      <td>7690.000000</td>\n",
       "      <td>3.00000</td>\n",
       "      <td>2.650000e+00</td>\n",
       "    </tr>\n",
       "    <tr>\n",
       "      <td>max</td>\n",
       "      <td>900.000000</td>\n",
       "      <td>763000.000000</td>\n",
       "      <td>19.00000</td>\n",
       "      <td>2.650000e+00</td>\n",
       "    </tr>\n",
       "  </tbody>\n",
       "</table>\n",
       "</div>"
      ],
      "text/plain": [
       "         total_area     last_price        rooms  ceiling_height\n",
       "count  18264.000000   18264.000000  18264.00000    1.826400e+04\n",
       "mean      63.365787    7585.632063      2.13721    2.650000e+00\n",
       "std       38.928090   12176.979954      1.12393    4.441014e-16\n",
       "min       12.000000      12.000000      0.00000    2.650000e+00\n",
       "25%       41.100000    4000.000000      1.00000    2.650000e+00\n",
       "50%       54.000000    5250.000000      2.00000    2.650000e+00\n",
       "75%       73.000000    7690.000000      3.00000    2.650000e+00\n",
       "max      900.000000  763000.000000     19.00000    2.650000e+00"
      ]
     },
     "execution_count": 75,
     "metadata": {},
     "output_type": "execute_result"
    }
   ],
   "source": [
    "data[['total_area', 'last_price', 'rooms', 'ceiling_height']].describe()"
   ]
  },
  {
   "cell_type": "markdown",
   "metadata": {},
   "source": [
    "По площади есть как квартира 12 кв.м., а есть и 900 кв.м. Среднее значение похоже на правду,\n",
    "Цене за квартиру - можно найти за 12 тысяч рублей, а можно и за 763 млн, как говорится на любой вкус и кошелек:), квартира за 763 млн. руб. в СпБ не кажется уж очень странным.\n",
    "Число комнат - от 0 (студия) до 19. Возможно, это общежития или нежилые помещения или просто не указали в объявлении,\n",
    "Высоту потолков, ранее категоризировал."
   ]
  },
  {
   "cell_type": "markdown",
   "metadata": {},
   "source": [
    "Посмотрю на количество квартир с очень высокой ценой, в 2 раза выше, чем средняя"
   ]
  },
  {
   "cell_type": "code",
   "execution_count": 76,
   "metadata": {},
   "outputs": [
    {
     "name": "stdout",
     "output_type": "stream",
     "text": [
      "1189\n"
     ]
    }
   ],
   "source": [
    "data_expensive_apartment = data['last_price'][data['last_price'] > 15170].count()\n",
    "print(data_expensive_apartment)"
   ]
  },
  {
   "cell_type": "markdown",
   "metadata": {},
   "source": [
    "Всего 1189, то есть 6% от всего датафрейма, это немного и вполне реально, для СпБ. Посмотрю на количество квартир с ценой от 700 млн. руб."
   ]
  },
  {
   "cell_type": "code",
   "execution_count": 77,
   "metadata": {},
   "outputs": [
    {
     "name": "stdout",
     "output_type": "stream",
     "text": [
      "1\n"
     ]
    }
   ],
   "source": [
    "data_expensive_apartment_700 = data['last_price'][data['last_price'] > 700000].count()\n",
    "print(data_expensive_apartment_700)"
   ]
  },
  {
   "cell_type": "markdown",
   "metadata": {},
   "source": [
    "Всего 1, почему бы и нет, бывают и значительно дороже квартиры. Удалять не стоит."
   ]
  },
  {
   "cell_type": "markdown",
   "metadata": {},
   "source": [
    "Построю гистограммы для площади, цены, числа комнат"
   ]
  },
  {
   "cell_type": "code",
   "execution_count": 78,
   "metadata": {},
   "outputs": [],
   "source": [
    "import matplotlib.pyplot as plt"
   ]
  },
  {
   "cell_type": "markdown",
   "metadata": {},
   "source": [
    "Гистограмма площади распределения квартир"
   ]
  },
  {
   "cell_type": "code",
   "execution_count": 79,
   "metadata": {},
   "outputs": [
    {
     "data": {
      "text/plain": [
       "<matplotlib.axes._subplots.AxesSubplot at 0x7f932d11af10>"
      ]
     },
     "execution_count": 79,
     "metadata": {},
     "output_type": "execute_result"
    },
    {
     "data": {
      "image/png": "[encoded data removed]",
      "text/plain": [
       "<Figure size 432x288 with 1 Axes>"
      ]
     },
     "metadata": {
      "needs_background": "light"
     },
     "output_type": "display_data"
    }
   ],
   "source": [
    "data['total_area'].hist(bins=30, range=(12, 900))"
   ]
  },
  {
   "cell_type": "markdown",
   "metadata": {},
   "source": [
    "Как видно из гистограммы, большинство площадей находятся в пределах от 0 до 200 метров"
   ]
  },
  {
   "cell_type": "code",
   "execution_count": 80,
   "metadata": {},
   "outputs": [
    {
     "data": {
      "text/plain": [
       "<matplotlib.axes._subplots.AxesSubplot at 0x7f932c918a10>"
      ]
     },
     "execution_count": 80,
     "metadata": {},
     "output_type": "execute_result"
    },
    {
     "data": {
      "image/png": "[encoded data removed]",
      "text/plain": [
       "<Figure size 432x288 with 1 Axes>"
      ]
     },
     "metadata": {
      "needs_background": "light"
     },
     "output_type": "display_data"
    }
   ],
   "source": [
    "plt.xlim(0, 200)\n",
    "plt.ylim(0, 10000)\n",
    "data['total_area'].hist(bins=50, range=(12, 900))"
   ]
  },
  {
   "cell_type": "markdown",
   "metadata": {},
   "source": [
    "Как видно из представленной диаграмма, большинство квартир находятся в диапазоне площадей от 30 кв. м. до 50 кв. м. Логично - однушки, двушки. Квартир с площадью от 200 кв. м. исчеазюще мало, также минмальное количество объектов с площадью менее 12 м. кв. "
   ]
  },
  {
   "cell_type": "markdown",
   "metadata": {},
   "source": [
    "Гистограмма цены"
   ]
  },
  {
   "cell_type": "code",
   "execution_count": 81,
   "metadata": {},
   "outputs": [
    {
     "data": {
      "text/plain": [
       "<matplotlib.axes._subplots.AxesSubplot at 0x7f932c768a50>"
      ]
     },
     "execution_count": 81,
     "metadata": {},
     "output_type": "execute_result"
    },
    {
     "data": {
      "image/png": "[encoded data removed]",
      "text/plain": [
       "<Figure size 432x288 with 1 Axes>"
      ]
     },
     "metadata": {
      "needs_background": "light"
     },
     "output_type": "display_data"
    }
   ],
   "source": [
    "data['last_price'].hist(bins=10, range=(12, 763000))"
   ]
  },
  {
   "cell_type": "markdown",
   "metadata": {},
   "source": [
    "Как видно из этой гистограммы, большиинство цен на квартиры находятся в диапазоне от 0 до 50 млн. руб., посмотрю подробнее"
   ]
  },
  {
   "cell_type": "code",
   "execution_count": 82,
   "metadata": {},
   "outputs": [
    {
     "data": {
      "text/plain": [
       "<matplotlib.axes._subplots.AxesSubplot at 0x7f932c6a95d0>"
      ]
     },
     "execution_count": 82,
     "metadata": {},
     "output_type": "execute_result"
    },
    {
     "data": {
      "image/png": "[encoded data removed]",
      "text/plain": [
       "<Figure size 432x288 with 1 Axes>"
      ]
     },
     "metadata": {
      "needs_background": "light"
     },
     "output_type": "display_data"
    }
   ],
   "source": [
    "plt.xlim(0, 50000)\n",
    "plt.ylim(0, 5000)\n",
    "data['last_price'].hist(bins=50, range=(12, 50000))"
   ]
  },
  {
   "cell_type": "markdown",
   "metadata": {},
   "source": [
    "Как видно из диаграммы, большинство квартир находятся в диапазоне цен от 2.5 млн. руб., до 10 млн. руб., при этом, начиная со стоимости 20 млн. руб., количество предложений начинает резко уменьшаться. Что подтвержадет предыдущий вывод - в основном в продаже однушки, может быть двушки."
   ]
  },
  {
   "cell_type": "markdown",
   "metadata": {},
   "source": [
    "Гистограмма числа комнат"
   ]
  },
  {
   "cell_type": "code",
   "execution_count": 83,
   "metadata": {},
   "outputs": [
    {
     "data": {
      "text/plain": [
       "<matplotlib.axes._subplots.AxesSubplot at 0x7f932c5d6a90>"
      ]
     },
     "execution_count": 83,
     "metadata": {},
     "output_type": "execute_result"
    },
    {
     "data": {
      "image/png": "[encoded data removed]",
      "text/plain": [
       "<Figure size 432x288 with 1 Axes>"
      ]
     },
     "metadata": {
      "needs_background": "light"
     },
     "output_type": "display_data"
    }
   ],
   "source": [
    "data['rooms'].hist(bins=10, range=(0, 19))"
   ]
  },
  {
   "cell_type": "code",
   "execution_count": 84,
   "metadata": {},
   "outputs": [
    {
     "data": {
      "text/plain": [
       "<matplotlib.axes._subplots.AxesSubplot at 0x7f932c4afd50>"
      ]
     },
     "execution_count": 84,
     "metadata": {},
     "output_type": "execute_result"
    },
    {
     "data": {
      "image/png": "[encoded data removed]",
      "text/plain": [
       "<Figure size 432x288 with 1 Axes>"
      ]
     },
     "metadata": {
      "needs_background": "light"
     },
     "output_type": "display_data"
    }
   ],
   "source": [
    "data['rooms'].hist(bins=10, range=(0, 7))"
   ]
  },
  {
   "cell_type": "markdown",
   "metadata": {},
   "source": [
    "Предыдущие выводы подтвержадются, большинство объектов это 1-2 комнатные квартиры, впрочем, не мало и 3-4 комнатных, встречаются единичные случаи 5-6 комнатных квартир, объектов с большим количеством комнат исчезающе мало."
   ]
  },
  {
   "cell_type": "markdown",
   "metadata": {},
   "source": [
    "Время продажи квартир\n",
    "### Изучите время продажи квартиры. Постройте гистограмму. Посчитайте среднее и медиану. Опишите, сколько обычно занимает продажа. Когда можно считать, что продажи прошли очень быстро, а когда необычно долго?\""
   ]
  },
  {
   "cell_type": "markdown",
   "metadata": {},
   "source": [
    "Среднее время продажи квартир"
   ]
  },
  {
   "cell_type": "code",
   "execution_count": 85,
   "metadata": {},
   "outputs": [
    {
     "data": {
      "text/plain": [
       "171.08125273762593"
      ]
     },
     "execution_count": 85,
     "metadata": {},
     "output_type": "execute_result"
    }
   ],
   "source": [
    "data['days_exposition'].mean()"
   ]
  },
  {
   "cell_type": "markdown",
   "metadata": {},
   "source": [
    "Медианное время продажи квартир"
   ]
  },
  {
   "cell_type": "code",
   "execution_count": 86,
   "metadata": {},
   "outputs": [
    {
     "data": {
      "text/plain": [
       "96.0"
      ]
     },
     "execution_count": 86,
     "metadata": {},
     "output_type": "execute_result"
    }
   ],
   "source": [
    "data['days_exposition'].median()"
   ]
  },
  {
   "cell_type": "markdown",
   "metadata": {},
   "source": [
    "Гистограмма времени продажи квартир"
   ]
  },
  {
   "cell_type": "code",
   "execution_count": 87,
   "metadata": {},
   "outputs": [
    {
     "data": {
      "text/plain": [
       "<matplotlib.axes._subplots.AxesSubplot at 0x7f932c3e9910>"
      ]
     },
     "execution_count": 87,
     "metadata": {},
     "output_type": "execute_result"
    },
    {
     "data": {
      "image/png": "[encoded data removed]",
      "text/plain": [
       "<Figure size 432x288 with 1 Axes>"
      ]
     },
     "metadata": {
      "needs_background": "light"
     },
     "output_type": "display_data"
    }
   ],
   "source": [
    "data['days_exposition'].hist(bins=10, range=(1, 1580))"
   ]
  },
  {
   "cell_type": "markdown",
   "metadata": {},
   "source": [
    "Как видно из гистограммы, объекты продаются за период от 0 до, примерно, 180 дней, посмотрю подробнее"
   ]
  },
  {
   "cell_type": "code",
   "execution_count": 88,
   "metadata": {},
   "outputs": [
    {
     "data": {
      "text/plain": [
       "<matplotlib.axes._subplots.AxesSubplot at 0x7f932c329fd0>"
      ]
     },
     "execution_count": 88,
     "metadata": {},
     "output_type": "execute_result"
    },
    {
     "data": {
      "image/png": "[encoded data removed]",
      "text/plain": [
       "<Figure size 432x288 with 1 Axes>"
      ]
     },
     "metadata": {
      "needs_background": "light"
     },
     "output_type": "display_data"
    }
   ],
   "source": [
    "data['days_exposition'].hist(bins=10, range=(1, 200))"
   ]
  },
  {
   "cell_type": "markdown",
   "metadata": {},
   "source": [
    "Здесь, намного интереснее, как видно из гистограммы, подавляющее большинство объектов прродаются в период с 75 до 100 дней, что близко к медианным значениям. Можно считать, что продажи прошли очень быстро, если они прошли в период от 1 дня до, примерно 3 недель. Начиная со срока, примерно 180 дней процесс прдажи затягивается, очевидно у объектов ниже ликвbдность. Вывод - большинство объектов прода.тся за период с 80 до 100 дней, то есть, примерно, за 3 месяца. Если объект не был продан за это время, значит объект низколикивдный. Причины низкой ликвидности могут быть разные, в том числе, какие-то выявленные юридические риски."
   ]
  },
  {
   "cell_type": "markdown",
   "metadata": {},
   "source": [
    "Уберу редкие и выбивающиеся значения. Опишу, какие особенности обнаружил. Еще раз посмотрю на датафрейм."
   ]
  },
  {
   "cell_type": "code",
   "execution_count": 89,
   "metadata": {},
   "outputs": [
    {
     "data": {
      "text/html": [
       "<div>\n",
       "<style scoped>\n",
       "    .dataframe tbody tr th:only-of-type {\n",
       "        vertical-align: middle;\n",
       "    }\n",
       "\n",
       "    .dataframe tbody tr th {\n",
       "        vertical-align: top;\n",
       "    }\n",
       "\n",
       "    .dataframe thead th {\n",
       "        text-align: right;\n",
       "    }\n",
       "</style>\n",
       "<table border=\"1\" class=\"dataframe\">\n",
       "  <thead>\n",
       "    <tr style=\"text-align: right;\">\n",
       "      <th></th>\n",
       "      <th>total_images</th>\n",
       "      <th>last_price</th>\n",
       "      <th>total_area</th>\n",
       "      <th>rooms</th>\n",
       "      <th>ceiling_height</th>\n",
       "      <th>floors_total</th>\n",
       "      <th>living_area</th>\n",
       "      <th>floor</th>\n",
       "      <th>is_apartment</th>\n",
       "      <th>studio</th>\n",
       "      <th>...</th>\n",
       "      <th>parks_around3000</th>\n",
       "      <th>parks_nearest</th>\n",
       "      <th>ponds_around3000</th>\n",
       "      <th>ponds_nearest</th>\n",
       "      <th>days_exposition</th>\n",
       "      <th>price_of_m2</th>\n",
       "      <th>year</th>\n",
       "      <th>month</th>\n",
       "      <th>living_area_part</th>\n",
       "      <th>kitchen_area_part</th>\n",
       "    </tr>\n",
       "  </thead>\n",
       "  <tbody>\n",
       "    <tr>\n",
       "      <td>count</td>\n",
       "      <td>18264.000000</td>\n",
       "      <td>18264.000000</td>\n",
       "      <td>18264.000000</td>\n",
       "      <td>18264.00000</td>\n",
       "      <td>1.826400e+04</td>\n",
       "      <td>18264.000000</td>\n",
       "      <td>18264.000000</td>\n",
       "      <td>18264.000000</td>\n",
       "      <td>18264.0</td>\n",
       "      <td>18264.000000</td>\n",
       "      <td>...</td>\n",
       "      <td>18264.000000</td>\n",
       "      <td>18264.000000</td>\n",
       "      <td>18264.000000</td>\n",
       "      <td>18264.000000</td>\n",
       "      <td>18264.000000</td>\n",
       "      <td>18264.000000</td>\n",
       "      <td>18264.000000</td>\n",
       "      <td>18264.000000</td>\n",
       "      <td>18264.000000</td>\n",
       "      <td>18264.000000</td>\n",
       "    </tr>\n",
       "    <tr>\n",
       "      <td>mean</td>\n",
       "      <td>10.034330</td>\n",
       "      <td>7585.632063</td>\n",
       "      <td>63.365787</td>\n",
       "      <td>2.13721</td>\n",
       "      <td>2.650000e+00</td>\n",
       "      <td>11.169733</td>\n",
       "      <td>36.364492</td>\n",
       "      <td>6.142576</td>\n",
       "      <td>1.0</td>\n",
       "      <td>0.005147</td>\n",
       "      <td>...</td>\n",
       "      <td>0.607424</td>\n",
       "      <td>470.261662</td>\n",
       "      <td>0.771244</td>\n",
       "      <td>509.988611</td>\n",
       "      <td>171.081253</td>\n",
       "      <td>110.685423</td>\n",
       "      <td>2017.344722</td>\n",
       "      <td>6.401445</td>\n",
       "      <td>0.565544</td>\n",
       "      <td>0.175891</td>\n",
       "    </tr>\n",
       "    <tr>\n",
       "      <td>std</td>\n",
       "      <td>5.741638</td>\n",
       "      <td>12176.979954</td>\n",
       "      <td>38.928090</td>\n",
       "      <td>1.12393</td>\n",
       "      <td>4.441014e-16</td>\n",
       "      <td>6.533525</td>\n",
       "      <td>24.341135</td>\n",
       "      <td>4.953039</td>\n",
       "      <td>0.0</td>\n",
       "      <td>0.071558</td>\n",
       "      <td>...</td>\n",
       "      <td>0.800852</td>\n",
       "      <td>228.343882</td>\n",
       "      <td>0.934950</td>\n",
       "      <td>196.116593</td>\n",
       "      <td>210.259284</td>\n",
       "      <td>50.468727</td>\n",
       "      <td>1.051581</td>\n",
       "      <td>3.473136</td>\n",
       "      <td>0.101470</td>\n",
       "      <td>0.069484</td>\n",
       "    </tr>\n",
       "    <tr>\n",
       "      <td>min</td>\n",
       "      <td>0.000000</td>\n",
       "      <td>12.000000</td>\n",
       "      <td>12.000000</td>\n",
       "      <td>0.00000</td>\n",
       "      <td>2.650000e+00</td>\n",
       "      <td>1.000000</td>\n",
       "      <td>2.000000</td>\n",
       "      <td>1.000000</td>\n",
       "      <td>1.0</td>\n",
       "      <td>0.000000</td>\n",
       "      <td>...</td>\n",
       "      <td>0.000000</td>\n",
       "      <td>1.000000</td>\n",
       "      <td>0.000000</td>\n",
       "      <td>13.000000</td>\n",
       "      <td>1.000000</td>\n",
       "      <td>0.110092</td>\n",
       "      <td>2014.000000</td>\n",
       "      <td>1.000000</td>\n",
       "      <td>0.021583</td>\n",
       "      <td>0.010111</td>\n",
       "    </tr>\n",
       "    <tr>\n",
       "      <td>25%</td>\n",
       "      <td>6.000000</td>\n",
       "      <td>4000.000000</td>\n",
       "      <td>41.100000</td>\n",
       "      <td>1.00000</td>\n",
       "      <td>2.650000e+00</td>\n",
       "      <td>5.000000</td>\n",
       "      <td>19.653179</td>\n",
       "      <td>3.000000</td>\n",
       "      <td>1.0</td>\n",
       "      <td>0.000000</td>\n",
       "      <td>...</td>\n",
       "      <td>0.000000</td>\n",
       "      <td>454.000000</td>\n",
       "      <td>0.000000</td>\n",
       "      <td>502.000000</td>\n",
       "      <td>46.000000</td>\n",
       "      <td>87.405889</td>\n",
       "      <td>2017.000000</td>\n",
       "      <td>3.000000</td>\n",
       "      <td>0.501557</td>\n",
       "      <td>0.124658</td>\n",
       "    </tr>\n",
       "    <tr>\n",
       "      <td>50%</td>\n",
       "      <td>10.000000</td>\n",
       "      <td>5250.000000</td>\n",
       "      <td>54.000000</td>\n",
       "      <td>2.00000</td>\n",
       "      <td>2.650000e+00</td>\n",
       "      <td>9.000000</td>\n",
       "      <td>31.000000</td>\n",
       "      <td>5.000000</td>\n",
       "      <td>1.0</td>\n",
       "      <td>0.000000</td>\n",
       "      <td>...</td>\n",
       "      <td>0.000000</td>\n",
       "      <td>454.000000</td>\n",
       "      <td>1.000000</td>\n",
       "      <td>502.000000</td>\n",
       "      <td>96.000000</td>\n",
       "      <td>101.665126</td>\n",
       "      <td>2017.000000</td>\n",
       "      <td>6.000000</td>\n",
       "      <td>0.578035</td>\n",
       "      <td>0.168519</td>\n",
       "    </tr>\n",
       "    <tr>\n",
       "      <td>75%</td>\n",
       "      <td>14.000000</td>\n",
       "      <td>7690.000000</td>\n",
       "      <td>73.000000</td>\n",
       "      <td>3.00000</td>\n",
       "      <td>2.650000e+00</td>\n",
       "      <td>16.000000</td>\n",
       "      <td>43.600000</td>\n",
       "      <td>8.000000</td>\n",
       "      <td>1.0</td>\n",
       "      <td>0.000000</td>\n",
       "      <td>...</td>\n",
       "      <td>1.000000</td>\n",
       "      <td>454.000000</td>\n",
       "      <td>1.000000</td>\n",
       "      <td>502.000000</td>\n",
       "      <td>201.000000</td>\n",
       "      <td>121.021800</td>\n",
       "      <td>2018.000000</td>\n",
       "      <td>10.000000</td>\n",
       "      <td>0.632765</td>\n",
       "      <td>0.221411</td>\n",
       "    </tr>\n",
       "    <tr>\n",
       "      <td>max</td>\n",
       "      <td>50.000000</td>\n",
       "      <td>763000.000000</td>\n",
       "      <td>900.000000</td>\n",
       "      <td>19.00000</td>\n",
       "      <td>2.650000e+00</td>\n",
       "      <td>60.000000</td>\n",
       "      <td>409.700000</td>\n",
       "      <td>33.000000</td>\n",
       "      <td>1.0</td>\n",
       "      <td>1.000000</td>\n",
       "      <td>...</td>\n",
       "      <td>3.000000</td>\n",
       "      <td>3190.000000</td>\n",
       "      <td>3.000000</td>\n",
       "      <td>1344.000000</td>\n",
       "      <td>1572.000000</td>\n",
       "      <td>1907.500000</td>\n",
       "      <td>2019.000000</td>\n",
       "      <td>12.000000</td>\n",
       "      <td>1.000000</td>\n",
       "      <td>0.758333</td>\n",
       "    </tr>\n",
       "  </tbody>\n",
       "</table>\n",
       "<p>8 rows × 25 columns</p>\n",
       "</div>"
      ],
      "text/plain": [
       "       total_images     last_price    total_area        rooms  ceiling_height  \\\n",
       "count  18264.000000   18264.000000  18264.000000  18264.00000    1.826400e+04   \n",
       "mean      10.034330    7585.632063     63.365787      2.13721    2.650000e+00   \n",
       "std        5.741638   12176.979954     38.928090      1.12393    4.441014e-16   \n",
       "min        0.000000      12.000000     12.000000      0.00000    2.650000e+00   \n",
       "25%        6.000000    4000.000000     41.100000      1.00000    2.650000e+00   \n",
       "50%       10.000000    5250.000000     54.000000      2.00000    2.650000e+00   \n",
       "75%       14.000000    7690.000000     73.000000      3.00000    2.650000e+00   \n",
       "max       50.000000  763000.000000    900.000000     19.00000    2.650000e+00   \n",
       "\n",
       "       floors_total   living_area         floor  is_apartment        studio  \\\n",
       "count  18264.000000  18264.000000  18264.000000       18264.0  18264.000000   \n",
       "mean      11.169733     36.364492      6.142576           1.0      0.005147   \n",
       "std        6.533525     24.341135      4.953039           0.0      0.071558   \n",
       "min        1.000000      2.000000      1.000000           1.0      0.000000   \n",
       "25%        5.000000     19.653179      3.000000           1.0      0.000000   \n",
       "50%        9.000000     31.000000      5.000000           1.0      0.000000   \n",
       "75%       16.000000     43.600000      8.000000           1.0      0.000000   \n",
       "max       60.000000    409.700000     33.000000           1.0      1.000000   \n",
       "\n",
       "       ...  parks_around3000  parks_nearest  ponds_around3000  ponds_nearest  \\\n",
       "count  ...      18264.000000   18264.000000      18264.000000   18264.000000   \n",
       "mean   ...          0.607424     470.261662          0.771244     509.988611   \n",
       "std    ...          0.800852     228.343882          0.934950     196.116593   \n",
       "min    ...          0.000000       1.000000          0.000000      13.000000   \n",
       "25%    ...          0.000000     454.000000          0.000000     502.000000   \n",
       "50%    ...          0.000000     454.000000          1.000000     502.000000   \n",
       "75%    ...          1.000000     454.000000          1.000000     502.000000   \n",
       "max    ...          3.000000    3190.000000          3.000000    1344.000000   \n",
       "\n",
       "       days_exposition   price_of_m2          year         month  \\\n",
       "count     18264.000000  18264.000000  18264.000000  18264.000000   \n",
       "mean        171.081253    110.685423   2017.344722      6.401445   \n",
       "std         210.259284     50.468727      1.051581      3.473136   \n",
       "min           1.000000      0.110092   2014.000000      1.000000   \n",
       "25%          46.000000     87.405889   2017.000000      3.000000   \n",
       "50%          96.000000    101.665126   2017.000000      6.000000   \n",
       "75%         201.000000    121.021800   2018.000000     10.000000   \n",
       "max        1572.000000   1907.500000   2019.000000     12.000000   \n",
       "\n",
       "       living_area_part  kitchen_area_part  \n",
       "count      18264.000000       18264.000000  \n",
       "mean           0.565544           0.175891  \n",
       "std            0.101470           0.069484  \n",
       "min            0.021583           0.010111  \n",
       "25%            0.501557           0.124658  \n",
       "50%            0.578035           0.168519  \n",
       "75%            0.632765           0.221411  \n",
       "max            1.000000           0.758333  \n",
       "\n",
       "[8 rows x 25 columns]"
      ]
     },
     "execution_count": 89,
     "metadata": {},
     "output_type": "execute_result"
    }
   ],
   "source": [
    "data.describe()"
   ]
  },
  {
   "cell_type": "markdown",
   "metadata": {},
   "source": [
    "Столбец total_images, минимальное количество фотографий - 0, может быть, особенно, если квартира \"убитая\", максимально количество 50 фотографий, в принципе может быть, посмотрю сколько таких"
   ]
  },
  {
   "cell_type": "code",
   "execution_count": 90,
   "metadata": {},
   "outputs": [
    {
     "name": "stdout",
     "output_type": "stream",
     "text": [
      "3\n"
     ]
    }
   ],
   "source": [
    "data_total_images_50 = data['total_images'].loc[(data['total_images'] == 50)].count()\n",
    "print(data_total_images_50)"
   ]
  },
  {
   "cell_type": "markdown",
   "metadata": {},
   "source": [
    "Всего в 3 строках. Вполне может быть, почему бы и нет, особенно, если риэлторы продают."
   ]
  },
  {
   "cell_type": "markdown",
   "metadata": {},
   "source": [
    "Столбец last_price, максимальная цена в 763 млн. руб. не очень смущает для СпБ, посмотрю сколько таких, без привязки к конкретному объекту определить адекватность невозможно, а вот минимальная в 12 тыс. руб. смущает, посмотрю сколько таких значений"
   ]
  },
  {
   "cell_type": "code",
   "execution_count": 91,
   "metadata": {},
   "outputs": [
    {
     "name": "stdout",
     "output_type": "stream",
     "text": [
      "1\n"
     ]
    }
   ],
   "source": [
    "data_last_price_12 = data['last_price'].loc[(data['last_price'] == 12)].count()\n",
    "print(data_last_price_12)"
   ]
  },
  {
   "cell_type": "code",
   "execution_count": 92,
   "metadata": {},
   "outputs": [
    {
     "name": "stdout",
     "output_type": "stream",
     "text": [
      "1\n"
     ]
    }
   ],
   "source": [
    "data_last_price_763 = data['last_price'].loc[(data['last_price'] > 700000)].count()\n",
    "print(data_last_price_763)"
   ]
  },
  {
   "cell_type": "markdown",
   "metadata": {},
   "source": [
    "Всего одна. Посмотрю на количество квартир, с ценой свыше 50 млн. руб., которых как видно из гистограммы, исчезающе мало"
   ]
  },
  {
   "cell_type": "code",
   "execution_count": 93,
   "metadata": {},
   "outputs": [
    {
     "name": "stdout",
     "output_type": "stream",
     "text": [
      "131\n"
     ]
    }
   ],
   "source": [
    "data_last_price_50 = data['last_price'].loc[(data['last_price'] > 50000)].count()\n",
    "print(data_last_price_50)"
   ]
  },
  {
   "cell_type": "markdown",
   "metadata": {},
   "source": [
    "Всего 131 или 0,7% от датафрейма."
   ]
  },
  {
   "cell_type": "markdown",
   "metadata": {},
   "source": [
    "Посмотрю на количество last_price по цене ниже 2,5 млн. руб."
   ]
  },
  {
   "cell_type": "code",
   "execution_count": 94,
   "metadata": {},
   "outputs": [
    {
     "name": "stdout",
     "output_type": "stream",
     "text": [
      "46\n"
     ]
    }
   ],
   "source": [
    "data_last_price_2 = data['last_price'].loc[(data['last_price'] < 2000)].count()\n",
    "print(data_last_price_2)"
   ]
  },
  {
   "cell_type": "markdown",
   "metadata": {},
   "source": [
    "Удалю значения не попадающие в этот интервал"
   ]
  },
  {
   "cell_type": "code",
   "execution_count": 95,
   "metadata": {},
   "outputs": [],
   "source": [
    "data['last_price'] = data['last_price'].loc[(data['last_price'] > 2000) & (data['last_price'] < 50000)]"
   ]
  },
  {
   "cell_type": "code",
   "execution_count": 96,
   "metadata": {},
   "outputs": [
    {
     "data": {
      "text/plain": [
       "count    18077.000000\n",
       "mean      6885.974830\n",
       "std       5222.206971\n",
       "min       2050.000000\n",
       "25%       4000.000000\n",
       "50%       5250.000000\n",
       "75%       7600.000000\n",
       "max      49969.000000\n",
       "Name: last_price, dtype: float64"
      ]
     },
     "execution_count": 96,
     "metadata": {},
     "output_type": "execute_result"
    }
   ],
   "source": [
    "data['last_price'].describe()"
   ]
  },
  {
   "cell_type": "markdown",
   "metadata": {},
   "source": [
    "Датафрейм сильно не пострадал, минимальная цена за объект 2.05 млн. руб., вполне может быть."
   ]
  },
  {
   "cell_type": "markdown",
   "metadata": {},
   "source": [
    "Столбец total_area. Аналогично. Нашелся объект с общей площадью 12 кв. м., и объект общей площадью целых 900 кв. м., посмотрю сколько таких"
   ]
  },
  {
   "cell_type": "code",
   "execution_count": 97,
   "metadata": {},
   "outputs": [
    {
     "name": "stdout",
     "output_type": "stream",
     "text": [
      "1\n"
     ]
    }
   ],
   "source": [
    "data_total_area_12 = data['total_area'].loc[(data['total_area'] == 12)].count()\n",
    "print(data_total_area_12)"
   ]
  },
  {
   "cell_type": "markdown",
   "metadata": {},
   "source": [
    "Тоже, всего один, очевидно, что ошибка, если речь идет, именно об общей площади. Удалю."
   ]
  },
  {
   "cell_type": "code",
   "execution_count": 98,
   "metadata": {},
   "outputs": [],
   "source": [
    "data = data.loc[(data['total_area'] != 12)]"
   ]
  },
  {
   "cell_type": "code",
   "execution_count": 99,
   "metadata": {},
   "outputs": [
    {
     "name": "stdout",
     "output_type": "stream",
     "text": [
      "1\n"
     ]
    }
   ],
   "source": [
    "data_total_area_900 = data['total_area'].loc[(data['total_area'] >= 800)].count()\n",
    "print(data_total_area_900)"
   ]
  },
  {
   "cell_type": "markdown",
   "metadata": {},
   "source": [
    "Строки с необычно большими площадями удалились ранее, вместе с удаленными значениями необычно дорогих объектов."
   ]
  },
  {
   "cell_type": "code",
   "execution_count": 100,
   "metadata": {},
   "outputs": [
    {
     "data": {
      "text/plain": [
       "count    18263.000000\n",
       "mean        63.368599\n",
       "std         38.927300\n",
       "min         13.000000\n",
       "25%         41.100000\n",
       "50%         54.000000\n",
       "75%         73.000000\n",
       "max        900.000000\n",
       "Name: total_area, dtype: float64"
      ]
     },
     "execution_count": 100,
     "metadata": {},
     "output_type": "execute_result"
    }
   ],
   "source": [
    "data['total_area'].describe()"
   ]
  },
  {
   "cell_type": "markdown",
   "metadata": {},
   "source": [
    "Теперь появилась total_area 13 кв. м. Посмотрю сколько строк, значительно меньше медианны"
   ]
  },
  {
   "cell_type": "code",
   "execution_count": 101,
   "metadata": {},
   "outputs": [
    {
     "name": "stdout",
     "output_type": "stream",
     "text": [
      "54.0\n"
     ]
    }
   ],
   "source": [
    "print(data['total_area'].median())"
   ]
  },
  {
   "cell_type": "markdown",
   "metadata": {},
   "source": [
    "Посмотрю сколько значений total_area, в 2 раза меньше медианны"
   ]
  },
  {
   "cell_type": "code",
   "execution_count": 102,
   "metadata": {},
   "outputs": [
    {
     "name": "stdout",
     "output_type": "stream",
     "text": [
      "174\n"
     ]
    }
   ],
   "source": [
    "data_total_area_small = data['total_area'].loc[(data['total_area'] < 27)].count()\n",
    "print(data_total_area_small)"
   ]
  },
  {
   "cell_type": "markdown",
   "metadata": {},
   "source": [
    "Всего 174 или 0,96% датафрейма, удалю."
   ]
  },
  {
   "cell_type": "code",
   "execution_count": 103,
   "metadata": {},
   "outputs": [
    {
     "data": {
      "text/plain": [
       "count    18065.000000\n",
       "mean        63.801586\n",
       "std         38.917161\n",
       "min         27.100000\n",
       "25%         41.700000\n",
       "50%         54.500000\n",
       "75%         73.300000\n",
       "max        900.000000\n",
       "Name: total_area, dtype: float64"
      ]
     },
     "execution_count": 103,
     "metadata": {},
     "output_type": "execute_result"
    }
   ],
   "source": [
    "data['total_area'] = data['total_area'].loc[(data['total_area'] > 27)]\n",
    "data['total_area'].describe()"
   ]
  },
  {
   "cell_type": "markdown",
   "metadata": {},
   "source": [
    "Столбец rooms. Минимальное значение 0 комнат, максимальное 19. Посмотрю сколько таких вариантов."
   ]
  },
  {
   "cell_type": "code",
   "execution_count": 104,
   "metadata": {},
   "outputs": [
    {
     "name": "stdout",
     "output_type": "stream",
     "text": [
      "119\n",
      "1\n"
     ]
    }
   ],
   "source": [
    "data_rooms_0 = data['rooms'].loc[(data['rooms'] == 0)].count()\n",
    "print(data_rooms_0)\n",
    "data_rooms_19 = data['rooms'].loc[(data['rooms'] == 19)].count()\n",
    "print(data_rooms_19)"
   ]
  },
  {
   "cell_type": "markdown",
   "metadata": {},
   "source": [
    "19-комнатная квартира одна, а вот квартир с отсутствующим количеством комнат целых 119. 19-комнатную квартиру удалю, посмотрю на количество 1 и 2 комнатных квартир."
   ]
  },
  {
   "cell_type": "code",
   "execution_count": 105,
   "metadata": {},
   "outputs": [
    {
     "name": "stdout",
     "output_type": "stream",
     "text": [
      "5936\n",
      "5951\n"
     ]
    }
   ],
   "source": [
    "data = data.loc[(data['rooms'] != 19)]\n",
    "data_rooms_1 = data['rooms'].loc[(data['rooms'] == 1)].count()\n",
    "data_rooms_2 = data['rooms'].loc[(data['rooms'] == 2)].count()\n",
    "print(data_rooms_1)\n",
    "print(data_rooms_2)"
   ]
  },
  {
   "cell_type": "markdown",
   "metadata": {},
   "source": [
    "Количество 1 и 2 комнатных квартир сопоставимо, 2-комнатынх, даже немного больше. Посмотрю на количество 3 и 4 комнатынх квартир."
   ]
  },
  {
   "cell_type": "code",
   "execution_count": 106,
   "metadata": {},
   "outputs": [
    {
     "name": "stdout",
     "output_type": "stream",
     "text": [
      "4706\n",
      "1054\n"
     ]
    }
   ],
   "source": [
    "data_rooms_3 = data['rooms'].loc[(data['rooms'] == 3)].count()\n",
    "data_rooms_4 = data['rooms'].loc[(data['rooms'] == 4)].count()\n",
    "print(data_rooms_3)\n",
    "print(data_rooms_4)"
   ]
  },
  {
   "cell_type": "markdown",
   "metadata": {},
   "source": [
    "Посчитаю медианное, чтобы устранить выбросы и округлю до целого"
   ]
  },
  {
   "cell_type": "code",
   "execution_count": 107,
   "metadata": {},
   "outputs": [
    {
     "name": "stdout",
     "output_type": "stream",
     "text": [
      "2.0\n"
     ]
    }
   ],
   "source": [
    "data_rooms_median = data['rooms'].median()\n",
    "print(data_rooms_median)"
   ]
  },
  {
   "cell_type": "markdown",
   "metadata": {},
   "source": [
    "Медианна показала идеальные 2 комнаты, заменю."
   ]
  },
  {
   "cell_type": "code",
   "execution_count": 108,
   "metadata": {},
   "outputs": [
    {
     "data": {
      "text/plain": [
       "count    18262.000000\n",
       "mean         2.149381\n",
       "std          1.103595\n",
       "min          1.000000\n",
       "25%          1.000000\n",
       "50%          2.000000\n",
       "75%          3.000000\n",
       "max         16.000000\n",
       "Name: rooms, dtype: float64"
      ]
     },
     "execution_count": 108,
     "metadata": {},
     "output_type": "execute_result"
    }
   ],
   "source": [
    "data['rooms'] = data['rooms'].replace(0.0, 2)\n",
    "data['rooms'].describe()"
   ]
  },
  {
   "cell_type": "markdown",
   "metadata": {},
   "source": [
    "Теперь обнаружились какие-то 16 комнатыне квартиры. Исходя из гистограммы, квартир с количеством комнат больше 6, исчезающе мало, посмотрю сколько"
   ]
  },
  {
   "cell_type": "code",
   "execution_count": 109,
   "metadata": {},
   "outputs": [
    {
     "name": "stdout",
     "output_type": "stream",
     "text": [
      "89\n"
     ]
    }
   ],
   "source": [
    "data_rooms_6 = data['rooms'].loc[(data['rooms'] > 6)].count()\n",
    "print(data_rooms_6 )"
   ]
  },
  {
   "cell_type": "markdown",
   "metadata": {},
   "source": [
    "89 квартира с количеством комнат более 6, то есть 0,5% датафрейма. Удалю."
   ]
  },
  {
   "cell_type": "code",
   "execution_count": 110,
   "metadata": {},
   "outputs": [
    {
     "data": {
      "text/plain": [
       "count    18070.000000\n",
       "mean         2.099059\n",
       "std          0.981783\n",
       "min          1.000000\n",
       "25%          1.000000\n",
       "50%          2.000000\n",
       "75%          3.000000\n",
       "max          5.000000\n",
       "Name: rooms, dtype: float64"
      ]
     },
     "execution_count": 110,
     "metadata": {},
     "output_type": "execute_result"
    }
   ],
   "source": [
    "data = data.loc[(data['rooms'] < 6)]\n",
    "data['rooms'].describe()"
   ]
  },
  {
   "cell_type": "code",
   "execution_count": 111,
   "metadata": {},
   "outputs": [
    {
     "data": {
      "text/plain": [
       "0        3\n",
       "1        1\n",
       "2        2\n",
       "3        3\n",
       "4        2\n",
       "        ..\n",
       "23690    2\n",
       "23691    2\n",
       "23693    3\n",
       "23694    3\n",
       "23697    2\n",
       "Name: rooms, Length: 18070, dtype: int64"
      ]
     },
     "execution_count": 111,
     "metadata": {},
     "output_type": "execute_result"
    }
   ],
   "source": [
    "data['rooms'].astype('int64')"
   ]
  },
  {
   "cell_type": "markdown",
   "metadata": {},
   "source": [
    "Столбец ceiling_height ранее категоризировал, потому что приведение к каким-то другим данным было бы чистой воды фантазией"
   ]
  },
  {
   "cell_type": "markdown",
   "metadata": {},
   "source": [
    "Столбец floors_total. Обнаружилось странное значение в 60 этажей. Посмотрю сколько таких"
   ]
  },
  {
   "cell_type": "code",
   "execution_count": 112,
   "metadata": {},
   "outputs": [
    {
     "name": "stdout",
     "output_type": "stream",
     "text": [
      "1\n"
     ]
    }
   ],
   "source": [
    "data_floors_total_60 = data['floors_total'].loc[(data['floors_total'] == 60)].count()\n",
    "print(data_floors_total_60)"
   ]
  },
  {
   "cell_type": "markdown",
   "metadata": {},
   "source": [
    "Всего 1, удалю."
   ]
  },
  {
   "cell_type": "code",
   "execution_count": 113,
   "metadata": {},
   "outputs": [
    {
     "data": {
      "text/plain": [
       "count    18069.000000\n",
       "mean        11.223200\n",
       "std          6.528462\n",
       "min          1.000000\n",
       "25%          5.000000\n",
       "50%          9.000000\n",
       "75%         16.000000\n",
       "max         52.000000\n",
       "Name: floors_total, dtype: float64"
      ]
     },
     "execution_count": 113,
     "metadata": {},
     "output_type": "execute_result"
    }
   ],
   "source": [
    "data = data.loc[(data['floors_total'] !=60)]\n",
    "data['floors_total'].describe()"
   ]
  },
  {
   "cell_type": "markdown",
   "metadata": {},
   "source": [
    "Обнаружились какие-то дома с 52 этажами. Известно, что самое высокое здание в СпБ - Лахта-центр, см. https://ru.wikipedia.org/wiki/%D0%9B%D0%B0%D1%85%D1%82%D0%B0-%D1%86%D0%B5%D0%BD%D1%82%D1%80, но он еще не сдан, впрочем это и не жилой комплекс. Самым высоким жилым зданием СпБ является ЖК \"Князь Александр Невский\", высотой 37 этажей, см. https://spb.restate.ru/complex/knyaz-aleksandr-nevskiy-224.html\n",
    "Посмотрю сколько зданий в СпБ выше:"
   ]
  },
  {
   "cell_type": "code",
   "execution_count": 114,
   "metadata": {},
   "outputs": [
    {
     "name": "stdout",
     "output_type": "stream",
     "text": [
      "1\n"
     ]
    }
   ],
   "source": [
    "data_floors_total_37 = data['floors_total'].loc[(data['floors_total'] > 37)].count()\n",
    "print(data_floors_total_37)"
   ]
  },
  {
   "cell_type": "markdown",
   "metadata": {},
   "source": [
    "Всего 1 объект, удалю"
   ]
  },
  {
   "cell_type": "code",
   "execution_count": 115,
   "metadata": {},
   "outputs": [],
   "source": [
    "data = data.loc[(data['floors_total'] < 38)]"
   ]
  },
  {
   "cell_type": "markdown",
   "metadata": {},
   "source": [
    "Столбец living_area. Минимальное значение 2 кв. м., максимальное 409 кв. м. Посмотрю сколько таких объектов"
   ]
  },
  {
   "cell_type": "code",
   "execution_count": 116,
   "metadata": {},
   "outputs": [
    {
     "name": "stdout",
     "output_type": "stream",
     "text": [
      "1\n",
      "0\n"
     ]
    }
   ],
   "source": [
    "data_living_area_2 = data['living_area'].loc[(data['living_area'] == 2)].count()\n",
    "data_living_area_400 = data['living_area'].loc[(data['living_area'] > 400)].count()\n",
    "print(data_living_area_2)\n",
    "print(data_living_area_400)"
   ]
  },
  {
   "cell_type": "markdown",
   "metadata": {},
   "source": [
    "Всего 1 объект с living_area равный 2 кв. м., удалю."
   ]
  },
  {
   "cell_type": "code",
   "execution_count": 117,
   "metadata": {},
   "outputs": [
    {
     "data": {
      "text/plain": [
       "count    18067.000000\n",
       "mean        35.137218\n",
       "std         20.315729\n",
       "min          3.000000\n",
       "25%         19.500000\n",
       "50%         31.000000\n",
       "75%         43.081792\n",
       "max        301.500000\n",
       "Name: living_area, dtype: float64"
      ]
     },
     "execution_count": 117,
     "metadata": {},
     "output_type": "execute_result"
    }
   ],
   "source": [
    "data = data.loc[(data['living_area'] != 2)]\n",
    "data['living_area'].describe()"
   ]
  },
  {
   "cell_type": "markdown",
   "metadata": {},
   "source": [
    "Теперь обнаружилась living_area в 3 кв. м. и 289 кв. м. Большую оставлю, посчитаю медианну."
   ]
  },
  {
   "cell_type": "code",
   "execution_count": 118,
   "metadata": {},
   "outputs": [
    {
     "name": "stdout",
     "output_type": "stream",
     "text": [
      "31.0\n"
     ]
    }
   ],
   "source": [
    "print(data['living_area'].median())"
   ]
  },
  {
   "cell_type": "markdown",
   "metadata": {},
   "source": [
    "Учитывая то, что как показали гистограммы, большинство квартир в датафрейме двушки, то living_area представляется реальной. Посмотрю сколько living_area объектов значительно меньше  медианны."
   ]
  },
  {
   "cell_type": "code",
   "execution_count": 119,
   "metadata": {},
   "outputs": [
    {
     "name": "stdout",
     "output_type": "stream",
     "text": [
      "900\n"
     ]
    }
   ],
   "source": [
    "data_living_area_small = data['living_area'].loc[(data['living_area'] < 15.5)].count()\n",
    "print(data_living_area_small)"
   ]
  },
  {
   "cell_type": "markdown",
   "metadata": {},
   "source": [
    "Таких значений, довольно много, почти 5% датафрейма. Посмотрю на гистрограмму living_area"
   ]
  },
  {
   "cell_type": "code",
   "execution_count": 120,
   "metadata": {},
   "outputs": [
    {
     "data": {
      "text/plain": [
       "<matplotlib.axes._subplots.AxesSubplot at 0x7f9329ff6b50>"
      ]
     },
     "execution_count": 120,
     "metadata": {},
     "output_type": "execute_result"
    },
    {
     "data": {
      "image/png": "[encoded data removed]",
      "text/plain": [
       "<Figure size 432x288 with 1 Axes>"
      ]
     },
     "metadata": {
      "needs_background": "light"
     },
     "output_type": "display_data"
    }
   ],
   "source": [
    "data['living_area'].hist(bins=10, range=(0, 31))"
   ]
  },
  {
   "cell_type": "markdown",
   "metadata": {},
   "source": [
    "Как видно из гистрограммы, объектов с living_area меньше 10 кв. м. исчезающе мало, при этом living_area \"скачут\", что логично - разные квартиры -  1-2-3 комнатные, соответственно и living_area их разительно отличаются. Удалю все living_area менее 10 кв. м."
   ]
  },
  {
   "cell_type": "code",
   "execution_count": 121,
   "metadata": {},
   "outputs": [
    {
     "data": {
      "text/plain": [
       "count    18017.000000\n",
       "mean        35.210298\n",
       "std         20.296211\n",
       "min         10.080000\n",
       "25%         19.600000\n",
       "50%         31.000000\n",
       "75%         43.100000\n",
       "max        301.500000\n",
       "Name: living_area, dtype: float64"
      ]
     },
     "execution_count": 121,
     "metadata": {},
     "output_type": "execute_result"
    }
   ],
   "source": [
    "data = data.loc[(data['living_area'] > 10)]\n",
    "data['living_area'].describe()"
   ]
  },
  {
   "cell_type": "markdown",
   "metadata": {},
   "source": [
    "Столбец floor - все нормально, без изменений"
   ]
  },
  {
   "cell_type": "markdown",
   "metadata": {},
   "source": [
    "Столбец studio, ранее категоризироовал."
   ]
  },
  {
   "cell_type": "markdown",
   "metadata": {},
   "source": [
    "Столбцы parks_around3000\tparks_nearest\tponds_around3000\tponds_nearest без изменений."
   ]
  },
  {
   "cell_type": "markdown",
   "metadata": {},
   "source": [
    "Столбец days_exposition"
   ]
  },
  {
   "cell_type": "code",
   "execution_count": 122,
   "metadata": {},
   "outputs": [
    {
     "data": {
      "text/plain": [
       "count    18017.000000\n",
       "mean       170.615252\n",
       "std        209.965167\n",
       "min          1.000000\n",
       "25%         46.000000\n",
       "50%         96.000000\n",
       "75%        200.000000\n",
       "max       1572.000000\n",
       "Name: days_exposition, dtype: float64"
      ]
     },
     "execution_count": 122,
     "metadata": {},
     "output_type": "execute_result"
    }
   ],
   "source": [
    "data['days_exposition'].describe()"
   ]
  },
  {
   "cell_type": "markdown",
   "metadata": {},
   "source": [
    "Среднее время продажи объекта в уже порядком очищенном датафрейме 170 дней, то есть, примерно 6 месяцев, вполне реально. Минимальное время 1 день, тоже может быть, но посмотрю сколько таких значений, некоторые объекты продаются по 4 с лишним года. Бывает, наверное и такое."
   ]
  },
  {
   "cell_type": "markdown",
   "metadata": {},
   "source": [
    "1 и 5 объектов, соответственно, явно выбивающиеся значения, удалю, но сильнее править датафрейм не буду - слишком разношерстные данные - объекты из СпБ и из области, датафрейм может стать слишком перекошенным."
   ]
  },
  {
   "cell_type": "code",
   "execution_count": 123,
   "metadata": {},
   "outputs": [
    {
     "data": {
      "text/plain": [
       "count    18015.000000\n",
       "mean       170.546878\n",
       "std        209.713243\n",
       "min          2.000000\n",
       "25%         46.000000\n",
       "50%         96.000000\n",
       "75%        200.000000\n",
       "max       1553.000000\n",
       "Name: days_exposition, dtype: float64"
      ]
     },
     "execution_count": 123,
     "metadata": {},
     "output_type": "execute_result"
    }
   ],
   "source": [
    "data['days_exposition'] = data['days_exposition'].loc[(data['days_exposition'] > 1) & (data['days_exposition'] < 1572)]\n",
    "data['days_exposition'].describe()"
   ]
  },
  {
   "cell_type": "markdown",
   "metadata": {},
   "source": [
    "Посмотрю на уже порядком отредактированный датафрейм"
   ]
  },
  {
   "cell_type": "code",
   "execution_count": 124,
   "metadata": {},
   "outputs": [
    {
     "data": {
      "text/html": [
       "<div>\n",
       "<style scoped>\n",
       "    .dataframe tbody tr th:only-of-type {\n",
       "        vertical-align: middle;\n",
       "    }\n",
       "\n",
       "    .dataframe tbody tr th {\n",
       "        vertical-align: top;\n",
       "    }\n",
       "\n",
       "    .dataframe thead th {\n",
       "        text-align: right;\n",
       "    }\n",
       "</style>\n",
       "<table border=\"1\" class=\"dataframe\">\n",
       "  <thead>\n",
       "    <tr style=\"text-align: right;\">\n",
       "      <th></th>\n",
       "      <th>total_images</th>\n",
       "      <th>last_price</th>\n",
       "      <th>total_area</th>\n",
       "      <th>rooms</th>\n",
       "      <th>ceiling_height</th>\n",
       "      <th>floors_total</th>\n",
       "      <th>living_area</th>\n",
       "      <th>floor</th>\n",
       "      <th>is_apartment</th>\n",
       "      <th>studio</th>\n",
       "      <th>...</th>\n",
       "      <th>parks_around3000</th>\n",
       "      <th>parks_nearest</th>\n",
       "      <th>ponds_around3000</th>\n",
       "      <th>ponds_nearest</th>\n",
       "      <th>days_exposition</th>\n",
       "      <th>price_of_m2</th>\n",
       "      <th>year</th>\n",
       "      <th>month</th>\n",
       "      <th>living_area_part</th>\n",
       "      <th>kitchen_area_part</th>\n",
       "    </tr>\n",
       "  </thead>\n",
       "  <tbody>\n",
       "    <tr>\n",
       "      <td>count</td>\n",
       "      <td>18017.000000</td>\n",
       "      <td>17868.000000</td>\n",
       "      <td>17832.000000</td>\n",
       "      <td>18017.000000</td>\n",
       "      <td>1.801700e+04</td>\n",
       "      <td>18017.000000</td>\n",
       "      <td>18017.000000</td>\n",
       "      <td>18017.000000</td>\n",
       "      <td>18017.0</td>\n",
       "      <td>18017.000000</td>\n",
       "      <td>...</td>\n",
       "      <td>18017.000000</td>\n",
       "      <td>18017.000000</td>\n",
       "      <td>18017.000000</td>\n",
       "      <td>18017.000000</td>\n",
       "      <td>18015.000000</td>\n",
       "      <td>18017.000000</td>\n",
       "      <td>18017.000000</td>\n",
       "      <td>18017.000000</td>\n",
       "      <td>18017.000000</td>\n",
       "      <td>18017.000000</td>\n",
       "    </tr>\n",
       "    <tr>\n",
       "      <td>mean</td>\n",
       "      <td>10.025864</td>\n",
       "      <td>6763.498489</td>\n",
       "      <td>61.963649</td>\n",
       "      <td>2.101460</td>\n",
       "      <td>2.650000e+00</td>\n",
       "      <td>11.221347</td>\n",
       "      <td>35.210298</td>\n",
       "      <td>6.163679</td>\n",
       "      <td>1.0</td>\n",
       "      <td>0.005106</td>\n",
       "      <td>...</td>\n",
       "      <td>0.600266</td>\n",
       "      <td>470.755120</td>\n",
       "      <td>0.766054</td>\n",
       "      <td>510.724815</td>\n",
       "      <td>170.546878</td>\n",
       "      <td>110.205292</td>\n",
       "      <td>2017.343453</td>\n",
       "      <td>6.404396</td>\n",
       "      <td>0.565312</td>\n",
       "      <td>0.176859</td>\n",
       "    </tr>\n",
       "    <tr>\n",
       "      <td>std</td>\n",
       "      <td>5.733750</td>\n",
       "      <td>4991.151595</td>\n",
       "      <td>32.548607</td>\n",
       "      <td>0.981697</td>\n",
       "      <td>4.441015e-16</td>\n",
       "      <td>6.520170</td>\n",
       "      <td>20.296211</td>\n",
       "      <td>4.962550</td>\n",
       "      <td>0.0</td>\n",
       "      <td>0.071278</td>\n",
       "      <td>...</td>\n",
       "      <td>0.795019</td>\n",
       "      <td>228.494568</td>\n",
       "      <td>0.932291</td>\n",
       "      <td>195.517922</td>\n",
       "      <td>209.713243</td>\n",
       "      <td>47.375125</td>\n",
       "      <td>1.051323</td>\n",
       "      <td>3.472916</td>\n",
       "      <td>0.099856</td>\n",
       "      <td>0.067568</td>\n",
       "    </tr>\n",
       "    <tr>\n",
       "      <td>min</td>\n",
       "      <td>0.000000</td>\n",
       "      <td>2050.000000</td>\n",
       "      <td>27.100000</td>\n",
       "      <td>1.000000</td>\n",
       "      <td>2.650000e+00</td>\n",
       "      <td>1.000000</td>\n",
       "      <td>10.080000</td>\n",
       "      <td>1.000000</td>\n",
       "      <td>1.0</td>\n",
       "      <td>0.000000</td>\n",
       "      <td>...</td>\n",
       "      <td>0.000000</td>\n",
       "      <td>1.000000</td>\n",
       "      <td>0.000000</td>\n",
       "      <td>13.000000</td>\n",
       "      <td>2.000000</td>\n",
       "      <td>0.110092</td>\n",
       "      <td>2014.000000</td>\n",
       "      <td>1.000000</td>\n",
       "      <td>0.141304</td>\n",
       "      <td>0.017949</td>\n",
       "    </tr>\n",
       "    <tr>\n",
       "      <td>25%</td>\n",
       "      <td>6.000000</td>\n",
       "      <td>4000.000000</td>\n",
       "      <td>41.600000</td>\n",
       "      <td>1.000000</td>\n",
       "      <td>2.650000e+00</td>\n",
       "      <td>5.000000</td>\n",
       "      <td>19.600000</td>\n",
       "      <td>3.000000</td>\n",
       "      <td>1.0</td>\n",
       "      <td>0.000000</td>\n",
       "      <td>...</td>\n",
       "      <td>0.000000</td>\n",
       "      <td>454.000000</td>\n",
       "      <td>0.000000</td>\n",
       "      <td>502.000000</td>\n",
       "      <td>46.000000</td>\n",
       "      <td>87.398374</td>\n",
       "      <td>2017.000000</td>\n",
       "      <td>3.000000</td>\n",
       "      <td>0.501441</td>\n",
       "      <td>0.126389</td>\n",
       "    </tr>\n",
       "    <tr>\n",
       "      <td>50%</td>\n",
       "      <td>10.000000</td>\n",
       "      <td>5200.000000</td>\n",
       "      <td>54.100000</td>\n",
       "      <td>2.000000</td>\n",
       "      <td>2.650000e+00</td>\n",
       "      <td>9.000000</td>\n",
       "      <td>31.000000</td>\n",
       "      <td>5.000000</td>\n",
       "      <td>1.0</td>\n",
       "      <td>0.000000</td>\n",
       "      <td>...</td>\n",
       "      <td>0.000000</td>\n",
       "      <td>454.000000</td>\n",
       "      <td>1.000000</td>\n",
       "      <td>502.000000</td>\n",
       "      <td>96.000000</td>\n",
       "      <td>101.612903</td>\n",
       "      <td>2017.000000</td>\n",
       "      <td>6.000000</td>\n",
       "      <td>0.578035</td>\n",
       "      <td>0.168519</td>\n",
       "    </tr>\n",
       "    <tr>\n",
       "      <td>75%</td>\n",
       "      <td>14.000000</td>\n",
       "      <td>7500.000000</td>\n",
       "      <td>72.300000</td>\n",
       "      <td>3.000000</td>\n",
       "      <td>2.650000e+00</td>\n",
       "      <td>16.000000</td>\n",
       "      <td>43.100000</td>\n",
       "      <td>8.000000</td>\n",
       "      <td>1.0</td>\n",
       "      <td>0.000000</td>\n",
       "      <td>...</td>\n",
       "      <td>1.000000</td>\n",
       "      <td>454.000000</td>\n",
       "      <td>1.000000</td>\n",
       "      <td>502.000000</td>\n",
       "      <td>200.000000</td>\n",
       "      <td>120.833333</td>\n",
       "      <td>2018.000000</td>\n",
       "      <td>10.000000</td>\n",
       "      <td>0.631579</td>\n",
       "      <td>0.221951</td>\n",
       "    </tr>\n",
       "    <tr>\n",
       "      <td>max</td>\n",
       "      <td>50.000000</td>\n",
       "      <td>49900.000000</td>\n",
       "      <td>507.000000</td>\n",
       "      <td>5.000000</td>\n",
       "      <td>2.650000e+00</td>\n",
       "      <td>37.000000</td>\n",
       "      <td>301.500000</td>\n",
       "      <td>33.000000</td>\n",
       "      <td>1.0</td>\n",
       "      <td>1.000000</td>\n",
       "      <td>...</td>\n",
       "      <td>3.000000</td>\n",
       "      <td>3190.000000</td>\n",
       "      <td>3.000000</td>\n",
       "      <td>1344.000000</td>\n",
       "      <td>1553.000000</td>\n",
       "      <td>1736.842105</td>\n",
       "      <td>2019.000000</td>\n",
       "      <td>12.000000</td>\n",
       "      <td>1.000000</td>\n",
       "      <td>0.650000</td>\n",
       "    </tr>\n",
       "  </tbody>\n",
       "</table>\n",
       "<p>8 rows × 25 columns</p>\n",
       "</div>"
      ],
      "text/plain": [
       "       total_images    last_price    total_area         rooms  ceiling_height  \\\n",
       "count  18017.000000  17868.000000  17832.000000  18017.000000    1.801700e+04   \n",
       "mean      10.025864   6763.498489     61.963649      2.101460    2.650000e+00   \n",
       "std        5.733750   4991.151595     32.548607      0.981697    4.441015e-16   \n",
       "min        0.000000   2050.000000     27.100000      1.000000    2.650000e+00   \n",
       "25%        6.000000   4000.000000     41.600000      1.000000    2.650000e+00   \n",
       "50%       10.000000   5200.000000     54.100000      2.000000    2.650000e+00   \n",
       "75%       14.000000   7500.000000     72.300000      3.000000    2.650000e+00   \n",
       "max       50.000000  49900.000000    507.000000      5.000000    2.650000e+00   \n",
       "\n",
       "       floors_total   living_area         floor  is_apartment        studio  \\\n",
       "count  18017.000000  18017.000000  18017.000000       18017.0  18017.000000   \n",
       "mean      11.221347     35.210298      6.163679           1.0      0.005106   \n",
       "std        6.520170     20.296211      4.962550           0.0      0.071278   \n",
       "min        1.000000     10.080000      1.000000           1.0      0.000000   \n",
       "25%        5.000000     19.600000      3.000000           1.0      0.000000   \n",
       "50%        9.000000     31.000000      5.000000           1.0      0.000000   \n",
       "75%       16.000000     43.100000      8.000000           1.0      0.000000   \n",
       "max       37.000000    301.500000     33.000000           1.0      1.000000   \n",
       "\n",
       "       ...  parks_around3000  parks_nearest  ponds_around3000  ponds_nearest  \\\n",
       "count  ...      18017.000000   18017.000000      18017.000000   18017.000000   \n",
       "mean   ...          0.600266     470.755120          0.766054     510.724815   \n",
       "std    ...          0.795019     228.494568          0.932291     195.517922   \n",
       "min    ...          0.000000       1.000000          0.000000      13.000000   \n",
       "25%    ...          0.000000     454.000000          0.000000     502.000000   \n",
       "50%    ...          0.000000     454.000000          1.000000     502.000000   \n",
       "75%    ...          1.000000     454.000000          1.000000     502.000000   \n",
       "max    ...          3.000000    3190.000000          3.000000    1344.000000   \n",
       "\n",
       "       days_exposition   price_of_m2          year         month  \\\n",
       "count     18015.000000  18017.000000  18017.000000  18017.000000   \n",
       "mean        170.546878    110.205292   2017.343453      6.404396   \n",
       "std         209.713243     47.375125      1.051323      3.472916   \n",
       "min           2.000000      0.110092   2014.000000      1.000000   \n",
       "25%          46.000000     87.398374   2017.000000      3.000000   \n",
       "50%          96.000000    101.612903   2017.000000      6.000000   \n",
       "75%         200.000000    120.833333   2018.000000     10.000000   \n",
       "max        1553.000000   1736.842105   2019.000000     12.000000   \n",
       "\n",
       "       living_area_part  kitchen_area_part  \n",
       "count      18017.000000       18017.000000  \n",
       "mean           0.565312           0.176859  \n",
       "std            0.099856           0.067568  \n",
       "min            0.141304           0.017949  \n",
       "25%            0.501441           0.126389  \n",
       "50%            0.578035           0.168519  \n",
       "75%            0.631579           0.221951  \n",
       "max            1.000000           0.650000  \n",
       "\n",
       "[8 rows x 25 columns]"
      ]
     },
     "execution_count": 124,
     "metadata": {},
     "output_type": "execute_result"
    }
   ],
   "source": [
    "data.describe()"
   ]
  },
  {
   "cell_type": "markdown",
   "metadata": {},
   "source": [
    "Всего 1. Удалю."
   ]
  },
  {
   "cell_type": "markdown",
   "metadata": {},
   "source": [
    "Все редкие и выбивающиеся значения удалил, но это не значит, что эти данные фейк, это могло быть, вполне реально, но для построения модели это не годится."
   ]
  },
  {
   "cell_type": "markdown",
   "metadata": {},
   "source": [
    "##*Факторы больше всего влияющие на стоимость квартиры"
   ]
  },
  {
   "cell_type": "markdown",
   "metadata": {},
   "source": [
    "Зависимость цены от цены квадратного метра. Построю график"
   ]
  },
  {
   "cell_type": "code",
   "execution_count": 125,
   "metadata": {},
   "outputs": [
    {
     "data": {
      "text/plain": [
       "<matplotlib.axes._subplots.AxesSubplot at 0x7f9329f53c50>"
      ]
     },
     "execution_count": 125,
     "metadata": {},
     "output_type": "execute_result"
    },
    {
     "data": {
      "image/png": "[encoded data removed]",
      "text/plain": [
       "<Figure size 360x360 with 2 Axes>"
      ]
     },
     "metadata": {
      "needs_background": "light"
     },
     "output_type": "display_data"
    }
   ],
   "source": [
    "x = data['price_of_m2']\n",
    "y = data['last_price']\n",
    "data.plot(x='price_of_m2', y='last_price', figsize=(5, 5), kind='hexbin', sharex=False, grid=True, xlim =(50, 120), ylim = (0, 15000))\n",
    "#data_center.plot(x='total_area', y='last_price', kind='hexbin', sharex=False, figsize=(5, 5), grid=True, xlim =(27, 100), ylim = (2100, 20000))"
   ]
  },
  {
   "cell_type": "markdown",
   "metadata": {},
   "source": [
    "Наблюдается зависимость межу ценой квадратного метра и стоимостью квартиры, что естественно. Наибольшая зависимость наблюдается в диапазоне 90 -100 тыс. рублей за кв. м."
   ]
  },
  {
   "cell_type": "markdown",
   "metadata": {},
   "source": [
    "Посчитаю коэффициент корреляции Пирсона, в целом для датафрейма"
   ]
  },
  {
   "cell_type": "code",
   "execution_count": 126,
   "metadata": {},
   "outputs": [
    {
     "name": "stdout",
     "output_type": "stream",
     "text": [
      "0.6756773661310363\n",
      "0.6756773661310363\n"
     ]
    }
   ],
   "source": [
    "print(data['last_price'].corr(data['price_of_m2']))\n",
    "print(data['price_of_m2'].corr(data['last_price']))"
   ]
  },
  {
   "cell_type": "markdown",
   "metadata": {},
   "source": [
    "Зависимость, действительно есть, заметная, но не критическая"
   ]
  },
  {
   "cell_type": "markdown",
   "metadata": {},
   "source": [
    "Зависимость цены от числа комнат. Построю график"
   ]
  },
  {
   "cell_type": "code",
   "execution_count": 127,
   "metadata": {},
   "outputs": [],
   "source": [
    "import seaborn as sns"
   ]
  },
  {
   "cell_type": "code",
   "execution_count": 128,
   "metadata": {},
   "outputs": [
    {
     "data": {
      "text/plain": [
       "<matplotlib.axes._subplots.AxesSubplot at 0x7f930beb49d0>"
      ]
     },
     "execution_count": 128,
     "metadata": {},
     "output_type": "execute_result"
    },
    {
     "data": {
      "image/png": "[encoded data removed]",
      "text/plain": [
       "<Figure size 432x288 with 1 Axes>"
      ]
     },
     "metadata": {
      "needs_background": "light"
     },
     "output_type": "display_data"
    }
   ],
   "source": [
    "sns.barplot(x='rooms', y='last_price', data=data)"
   ]
  },
  {
   "cell_type": "markdown",
   "metadata": {},
   "source": [
    "Визуально, видна очевидная зависимость стоимости квартиры от числа комнат, что вполне очевидно."
   ]
  },
  {
   "cell_type": "markdown",
   "metadata": {},
   "source": [
    "Посчитаю коэффициент корреляции Пирсона, в целом для датафрейма"
   ]
  },
  {
   "cell_type": "code",
   "execution_count": 129,
   "metadata": {},
   "outputs": [
    {
     "name": "stdout",
     "output_type": "stream",
     "text": [
      "0.4901425569883096\n",
      "0.4901425569883096\n"
     ]
    }
   ],
   "source": [
    "print(data['rooms'].corr(data['last_price']))\n",
    "print(data['last_price'].corr(data['rooms']))"
   ]
  },
  {
   "cell_type": "markdown",
   "metadata": {},
   "source": [
    "Зависимость, конечно же есть, но не критическая, потому что датафремй очень разношерстный, есть квартиры в СпБ, а есть в области, нельзя сравнивать однушку в центре с пятикомнотной квартирой где-нибудь за 50 километров от столицы региона."
   ]
  },
  {
   "cell_type": "markdown",
   "metadata": {},
   "source": [
    "Зависимость от этажа (первого или последнего)."
   ]
  },
  {
   "cell_type": "code",
   "execution_count": 130,
   "metadata": {},
   "outputs": [
    {
     "data": {
      "text/plain": [
       "<matplotlib.axes._subplots.AxesSubplot at 0x7f930be21790>"
      ]
     },
     "execution_count": 130,
     "metadata": {},
     "output_type": "execute_result"
    },
    {
     "data": {
      "image/png": "[encoded data removed]",
      "text/plain": [
       "<Figure size 432x288 with 1 Axes>"
      ]
     },
     "metadata": {
      "needs_background": "light"
     },
     "output_type": "display_data"
    }
   ],
   "source": [
    "sns.barplot(x='floor_category', y='last_price', data=data)"
   ]
  },
  {
   "cell_type": "markdown",
   "metadata": {},
   "source": [
    "Как видно из диаграммы, существует незначительная зависимость между этажем квартиры и ценой, при этом квартиры на первых этажах стоят несколько дешевле, стоимость квартир на последних и других этажах, сопоставима. Посмтрю на кореляцию"
   ]
  },
  {
   "cell_type": "code",
   "execution_count": 131,
   "metadata": {},
   "outputs": [
    {
     "name": "stdout",
     "output_type": "stream",
     "text": [
      "0.015267920663479382\n",
      "0.015267920663479385\n"
     ]
    }
   ],
   "source": [
    "print(data['floor'].corr(data['last_price']))\n",
    "print(data['last_price'].corr(data['floor']))"
   ]
  },
  {
   "cell_type": "markdown",
   "metadata": {},
   "source": [
    "Корреляция между ценой квартиры и этаже есть, но очень невелика."
   ]
  },
  {
   "cell_type": "markdown",
   "metadata": {},
   "source": [
    "Зависимость между ценой квартиры и днем недели, месяца и года"
   ]
  },
  {
   "cell_type": "markdown",
   "metadata": {},
   "source": [
    "Зависимость между ценой квартиры и днем недели"
   ]
  },
  {
   "cell_type": "code",
   "execution_count": 132,
   "metadata": {},
   "outputs": [
    {
     "data": {
      "text/plain": [
       "<matplotlib.axes._subplots.AxesSubplot at 0x7f930bda9890>"
      ]
     },
     "execution_count": 132,
     "metadata": {},
     "output_type": "execute_result"
    },
    {
     "data": {
      "image/png": "[encoded data removed]",
      "text/plain": [
       "<Figure size 432x288 with 1 Axes>"
      ]
     },
     "metadata": {
      "needs_background": "light"
     },
     "output_type": "display_data"
    }
   ],
   "source": [
    "sns.barplot(x='day', y='last_price', data=data)"
   ]
  },
  {
   "cell_type": "markdown",
   "metadata": {},
   "source": [
    "Зависимость между ценой и днем размещения иллюзорная"
   ]
  },
  {
   "cell_type": "markdown",
   "metadata": {},
   "source": [
    "Зависимость между ценой квартиры и месяцем размещения"
   ]
  },
  {
   "cell_type": "code",
   "execution_count": 133,
   "metadata": {},
   "outputs": [
    {
     "data": {
      "text/plain": [
       "<matplotlib.axes._subplots.AxesSubplot at 0x7f930bd2a490>"
      ]
     },
     "execution_count": 133,
     "metadata": {},
     "output_type": "execute_result"
    },
    {
     "data": {
      "image/png": "[encoded data removed]",
      "text/plain": [
       "<Figure size 432x288 with 1 Axes>"
      ]
     },
     "metadata": {
      "needs_background": "light"
     },
     "output_type": "display_data"
    }
   ],
   "source": [
    "sns.barplot(x='month', y='last_price', data=data)"
   ]
  },
  {
   "cell_type": "markdown",
   "metadata": {},
   "source": [
    "Аналогично. Практически не существует зависимости между месяцем размещения и ценой реализации. Совсем немного дороже продаются квартиры, выставленные на продажу в январе и декабре, вероятно, покупатели тратят полученные годовые бонусы, премии, реализуются отложенный спрос, банки в это время часто проводят акции по ипотеке. Спрос летом, совсем немного падает - отпуски."
   ]
  },
  {
   "cell_type": "markdown",
   "metadata": {},
   "source": [
    "Зависимость между ценой квартиры и годом размещения"
   ]
  },
  {
   "cell_type": "code",
   "execution_count": 134,
   "metadata": {},
   "outputs": [
    {
     "data": {
      "text/plain": [
       "<matplotlib.axes._subplots.AxesSubplot at 0x7f930bd32c90>"
      ]
     },
     "execution_count": 134,
     "metadata": {},
     "output_type": "execute_result"
    },
    {
     "data": {
      "image/png": "[encoded data removed]",
      "text/plain": [
       "<Figure size 432x288 with 1 Axes>"
      ]
     },
     "metadata": {
      "needs_background": "light"
     },
     "output_type": "display_data"
    }
   ],
   "source": [
    "sns.barplot(x='year', y='last_price', data=data)"
   ]
  },
  {
   "cell_type": "markdown",
   "metadata": {},
   "source": [
    "Здесь четко прослеживается зависимость между ценой и годом размещения. До 2014 года настроения покупателей были более позитивные, а потом начался кризис, цены, слегка упали, а потом начали стагнировать, то есть спрос столкнулся с неготовностью продацов отдавать квартиры за бесценок."
   ]
  },
  {
   "cell_type": "markdown",
   "metadata": {},
   "source": [
    "Посчитаю корреляцию"
   ]
  },
  {
   "cell_type": "code",
   "execution_count": 135,
   "metadata": {},
   "outputs": [
    {
     "name": "stdout",
     "output_type": "stream",
     "text": [
      "-0.04141284988388597\n",
      "-0.041412849883885966\n"
     ]
    }
   ],
   "source": [
    "print(data['year'].corr(data['last_price']))\n",
    "print(data['last_price'].corr(data['year']))"
   ]
  },
  {
   "cell_type": "markdown",
   "metadata": {},
   "source": [
    "Наблюдается отрицательная корреляция, то есть чем позже продавцы вышли на рынок недвижимости, тем дешевле продали квартиру. Кризис, однако."
   ]
  },
  {
   "cell_type": "markdown",
   "metadata": {},
   "source": [
    "Выберу 10 населённых пунктов с наибольшим числом объявлений. Посчитаю среднюю цену квадратного метра в этих населённых пунктах. Выделю населённые пункты с самой высокой и низкой стоимостью жилья."
   ]
  },
  {
   "cell_type": "code",
   "execution_count": 136,
   "metadata": {},
   "outputs": [
    {
     "data": {
      "text/html": [
       "<div>\n",
       "<style scoped>\n",
       "    .dataframe tbody tr th:only-of-type {\n",
       "        vertical-align: middle;\n",
       "    }\n",
       "\n",
       "    .dataframe tbody tr th {\n",
       "        vertical-align: top;\n",
       "    }\n",
       "\n",
       "    .dataframe thead th {\n",
       "        text-align: right;\n",
       "    }\n",
       "</style>\n",
       "<table border=\"1\" class=\"dataframe\">\n",
       "  <thead>\n",
       "    <tr style=\"text-align: right;\">\n",
       "      <th></th>\n",
       "      <th>Город</th>\n",
       "      <th>Средняя цена за кв.м., тыс. руб.</th>\n",
       "      <th>Средняя цена за квартиру, тыс. руб.</th>\n",
       "    </tr>\n",
       "  </thead>\n",
       "  <tbody>\n",
       "    <tr>\n",
       "      <td>0</td>\n",
       "      <td>санкт-петербург</td>\n",
       "      <td>114.33</td>\n",
       "      <td>7112.236561</td>\n",
       "    </tr>\n",
       "    <tr>\n",
       "      <td>2</td>\n",
       "      <td>пушкин</td>\n",
       "      <td>103.22</td>\n",
       "      <td>6313.557692</td>\n",
       "    </tr>\n",
       "    <tr>\n",
       "      <td>6</td>\n",
       "      <td>сестрорецк</td>\n",
       "      <td>101.74</td>\n",
       "      <td>6360.762431</td>\n",
       "    </tr>\n",
       "    <tr>\n",
       "      <td>4</td>\n",
       "      <td>посёлок парголово</td>\n",
       "      <td>90.33</td>\n",
       "      <td>4503.287926</td>\n",
       "    </tr>\n",
       "    <tr>\n",
       "      <td>5</td>\n",
       "      <td>петергоф</td>\n",
       "      <td>84.76</td>\n",
       "      <td>4423.840796</td>\n",
       "    </tr>\n",
       "    <tr>\n",
       "      <td>9</td>\n",
       "      <td>кронштадт</td>\n",
       "      <td>79.67</td>\n",
       "      <td>4135.863158</td>\n",
       "    </tr>\n",
       "    <tr>\n",
       "      <td>1</td>\n",
       "      <td>посёлок шушары</td>\n",
       "      <td>78.70</td>\n",
       "      <td>4129.252874</td>\n",
       "    </tr>\n",
       "    <tr>\n",
       "      <td>3</td>\n",
       "      <td>колпино</td>\n",
       "      <td>75.33</td>\n",
       "      <td>3866.290801</td>\n",
       "    </tr>\n",
       "    <tr>\n",
       "      <td>8</td>\n",
       "      <td>ломоносов</td>\n",
       "      <td>72.72</td>\n",
       "      <td>3748.133858</td>\n",
       "    </tr>\n",
       "    <tr>\n",
       "      <td>7</td>\n",
       "      <td>красное село</td>\n",
       "      <td>72.31</td>\n",
       "      <td>3808.132948</td>\n",
       "    </tr>\n",
       "  </tbody>\n",
       "</table>\n",
       "</div>"
      ],
      "text/plain": [
       "               Город  Средняя цена за кв.м., тыс. руб.  \\\n",
       "0    санкт-петербург                            114.33   \n",
       "2             пушкин                            103.22   \n",
       "6         сестрорецк                            101.74   \n",
       "4  посёлок парголово                             90.33   \n",
       "5           петергоф                             84.76   \n",
       "9          кронштадт                             79.67   \n",
       "1     посёлок шушары                             78.70   \n",
       "3            колпино                             75.33   \n",
       "8          ломоносов                             72.72   \n",
       "7       красное село                             72.31   \n",
       "\n",
       "   Средняя цена за квартиру, тыс. руб.  \n",
       "0                          7112.236561  \n",
       "2                          6313.557692  \n",
       "6                          6360.762431  \n",
       "4                          4503.287926  \n",
       "5                          4423.840796  \n",
       "9                          4135.863158  \n",
       "1                          4129.252874  \n",
       "3                          3866.290801  \n",
       "8                          3748.133858  \n",
       "7                          3808.132948  "
      ]
     },
     "execution_count": 136,
     "metadata": {},
     "output_type": "execute_result"
    }
   ],
   "source": [
    "top_locality_name_10 = data['locality_name'].value_counts().index.tolist()[:10]\n",
    "mean_locality_name_10_metrics = [data[data['locality_name'] == city]['price_of_m2'].mean().round(2) for city in top_locality_name_10]\n",
    "mean_locality_name_10_prices = [data[data['locality_name'] == city]['last_price'].mean() for city in top_locality_name_10]\n",
    "df = {'Город': top_locality_name_10, 'Средняя цена за кв.м., тыс. руб.': mean_locality_name_10_metrics, 'Средняя цена за квартиру, тыс. руб.': mean_locality_name_10_prices}\n",
    "dataframe = pd.DataFrame(df).sort_values(by='Средняя цена за кв.м., тыс. руб.', ascending=False)\n",
    "dataframe"
   ]
  },
  {
   "cell_type": "markdown",
   "metadata": {},
   "source": [
    "Очевидно, что самые дорогие квартиры и по стоимости и по цене за квадратный метр в Санкт-Петербурге и городе Пушкине. Чем дальше от столицы региона, тем дешевле. Так, в Красном селе, средняя цена за квадратный метр, почти в 2 раз ниже, чем в Санкт-Петербурге."
   ]
  },
  {
   "cell_type": "markdown",
   "metadata": {},
   "source": [
    "Выясню, какая область входит в центр. Создам столбец с расстоянием до центра в километрах, округлю до целых значений. После этого посчитаю среднюю цену для каждого километра. Построю график, который должен показывать, как цена зависит от удалённости от центра. Определю границу, где график сильно меняется — это и будет центральная зона."
   ]
  },
  {
   "cell_type": "code",
   "execution_count": 137,
   "metadata": {},
   "outputs": [],
   "source": [
    "data['cityCenters_nearest_km'] = (data['cityCenters_nearest'] / 1000).astype('int64')"
   ]
  },
  {
   "cell_type": "code",
   "execution_count": 138,
   "metadata": {},
   "outputs": [
    {
     "data": {
      "text/plain": [
       "<matplotlib.axes._subplots.AxesSubplot at 0x7f930bb9d790>"
      ]
     },
     "execution_count": 138,
     "metadata": {},
     "output_type": "execute_result"
    },
    {
     "data": {
      "image/png": "[encoded data removed]",
      "text/plain": [
       "<Figure size 1080x720 with 1 Axes>"
      ]
     },
     "metadata": {
      "needs_background": "light"
     },
     "output_type": "display_data"
    }
   ],
   "source": [
    "data.plot(x='cityCenters_nearest_km', y='last_price', xlim = (0, 20), kind = 'scatter', alpha = 1, grid = True, figsize = (15, 10))"
   ]
  },
  {
   "cell_type": "markdown",
   "metadata": {},
   "source": [
    "Как видно из графика, на расстоянии от 0 до, примерно 7,5 километров от центра, цены остаются на одном уровне, а затем начинатся заметное снижение. Таким образом, центральная зона находится на расстоянии от 0 до 7,5 километров от центра."
   ]
  },
  {
   "cell_type": "markdown",
   "metadata": {},
   "source": [
    "Выделю сегмент квартир в центре. "
   ]
  },
  {
   "cell_type": "code",
   "execution_count": 139,
   "metadata": {},
   "outputs": [
    {
     "data": {
      "text/html": [
       "<div>\n",
       "<style scoped>\n",
       "    .dataframe tbody tr th:only-of-type {\n",
       "        vertical-align: middle;\n",
       "    }\n",
       "\n",
       "    .dataframe tbody tr th {\n",
       "        vertical-align: top;\n",
       "    }\n",
       "\n",
       "    .dataframe thead th {\n",
       "        text-align: right;\n",
       "    }\n",
       "</style>\n",
       "<table border=\"1\" class=\"dataframe\">\n",
       "  <thead>\n",
       "    <tr style=\"text-align: right;\">\n",
       "      <th></th>\n",
       "      <th>total_images</th>\n",
       "      <th>last_price</th>\n",
       "      <th>total_area</th>\n",
       "      <th>first_day_exposition</th>\n",
       "      <th>rooms</th>\n",
       "      <th>ceiling_height</th>\n",
       "      <th>floors_total</th>\n",
       "      <th>living_area</th>\n",
       "      <th>floor</th>\n",
       "      <th>is_apartment</th>\n",
       "      <th>...</th>\n",
       "      <th>ponds_nearest</th>\n",
       "      <th>days_exposition</th>\n",
       "      <th>floor_category</th>\n",
       "      <th>price_of_m2</th>\n",
       "      <th>year</th>\n",
       "      <th>month</th>\n",
       "      <th>day</th>\n",
       "      <th>living_area_part</th>\n",
       "      <th>kitchen_area_part</th>\n",
       "      <th>cityCenters_nearest_km</th>\n",
       "    </tr>\n",
       "  </thead>\n",
       "  <tbody>\n",
       "    <tr>\n",
       "      <td>3</td>\n",
       "      <td>0</td>\n",
       "      <td>NaN</td>\n",
       "      <td>159.0</td>\n",
       "      <td>2015-07-24</td>\n",
       "      <td>3</td>\n",
       "      <td>2.65</td>\n",
       "      <td>14.0</td>\n",
       "      <td>91.907514</td>\n",
       "      <td>9</td>\n",
       "      <td>1.0</td>\n",
       "      <td>...</td>\n",
       "      <td>234.0</td>\n",
       "      <td>424.0</td>\n",
       "      <td>другой</td>\n",
       "      <td>408.176101</td>\n",
       "      <td>2015</td>\n",
       "      <td>7</td>\n",
       "      <td>5 - пятница</td>\n",
       "      <td>0.578035</td>\n",
       "      <td>0.057233</td>\n",
       "      <td>6</td>\n",
       "    </tr>\n",
       "    <tr>\n",
       "      <td>24</td>\n",
       "      <td>8</td>\n",
       "      <td>6500.0</td>\n",
       "      <td>97.2</td>\n",
       "      <td>2015-10-31</td>\n",
       "      <td>2</td>\n",
       "      <td>2.65</td>\n",
       "      <td>3.0</td>\n",
       "      <td>46.500000</td>\n",
       "      <td>1</td>\n",
       "      <td>1.0</td>\n",
       "      <td>...</td>\n",
       "      <td>124.0</td>\n",
       "      <td>265.0</td>\n",
       "      <td>первый</td>\n",
       "      <td>66.872428</td>\n",
       "      <td>2015</td>\n",
       "      <td>10</td>\n",
       "      <td>6 - суббота</td>\n",
       "      <td>0.478395</td>\n",
       "      <td>0.093621</td>\n",
       "      <td>2</td>\n",
       "    </tr>\n",
       "    <tr>\n",
       "      <td>35</td>\n",
       "      <td>6</td>\n",
       "      <td>15500.0</td>\n",
       "      <td>149.0</td>\n",
       "      <td>2017-06-26</td>\n",
       "      <td>5</td>\n",
       "      <td>2.65</td>\n",
       "      <td>5.0</td>\n",
       "      <td>104.000000</td>\n",
       "      <td>4</td>\n",
       "      <td>1.0</td>\n",
       "      <td>...</td>\n",
       "      <td>779.0</td>\n",
       "      <td>644.0</td>\n",
       "      <td>другой</td>\n",
       "      <td>104.026846</td>\n",
       "      <td>2017</td>\n",
       "      <td>6</td>\n",
       "      <td>1 - понедельник</td>\n",
       "      <td>0.697987</td>\n",
       "      <td>0.061074</td>\n",
       "      <td>3</td>\n",
       "    </tr>\n",
       "    <tr>\n",
       "      <td>51</td>\n",
       "      <td>7</td>\n",
       "      <td>45000.0</td>\n",
       "      <td>161.0</td>\n",
       "      <td>2017-10-17</td>\n",
       "      <td>3</td>\n",
       "      <td>2.65</td>\n",
       "      <td>8.0</td>\n",
       "      <td>38.000000</td>\n",
       "      <td>4</td>\n",
       "      <td>1.0</td>\n",
       "      <td>...</td>\n",
       "      <td>99.0</td>\n",
       "      <td>541.0</td>\n",
       "      <td>другой</td>\n",
       "      <td>279.503106</td>\n",
       "      <td>2017</td>\n",
       "      <td>10</td>\n",
       "      <td>2 - вторник</td>\n",
       "      <td>0.236025</td>\n",
       "      <td>0.056522</td>\n",
       "      <td>6</td>\n",
       "    </tr>\n",
       "    <tr>\n",
       "      <td>61</td>\n",
       "      <td>18</td>\n",
       "      <td>7990.0</td>\n",
       "      <td>74.0</td>\n",
       "      <td>2017-08-24</td>\n",
       "      <td>2</td>\n",
       "      <td>2.65</td>\n",
       "      <td>4.0</td>\n",
       "      <td>43.000000</td>\n",
       "      <td>4</td>\n",
       "      <td>1.0</td>\n",
       "      <td>...</td>\n",
       "      <td>502.0</td>\n",
       "      <td>609.0</td>\n",
       "      <td>последний</td>\n",
       "      <td>107.972973</td>\n",
       "      <td>2017</td>\n",
       "      <td>8</td>\n",
       "      <td>4 - четверг</td>\n",
       "      <td>0.581081</td>\n",
       "      <td>0.122973</td>\n",
       "      <td>4</td>\n",
       "    </tr>\n",
       "    <tr>\n",
       "      <td>63</td>\n",
       "      <td>2</td>\n",
       "      <td>20000.0</td>\n",
       "      <td>118.0</td>\n",
       "      <td>2018-09-11</td>\n",
       "      <td>3</td>\n",
       "      <td>2.65</td>\n",
       "      <td>9.0</td>\n",
       "      <td>68.000000</td>\n",
       "      <td>7</td>\n",
       "      <td>1.0</td>\n",
       "      <td>...</td>\n",
       "      <td>779.0</td>\n",
       "      <td>37.0</td>\n",
       "      <td>другой</td>\n",
       "      <td>169.491525</td>\n",
       "      <td>2018</td>\n",
       "      <td>9</td>\n",
       "      <td>2 - вторник</td>\n",
       "      <td>0.576271</td>\n",
       "      <td>0.077119</td>\n",
       "      <td>4</td>\n",
       "    </tr>\n",
       "    <tr>\n",
       "      <td>66</td>\n",
       "      <td>6</td>\n",
       "      <td>3450.0</td>\n",
       "      <td>34.0</td>\n",
       "      <td>2015-12-16</td>\n",
       "      <td>1</td>\n",
       "      <td>2.65</td>\n",
       "      <td>17.0</td>\n",
       "      <td>17.400000</td>\n",
       "      <td>8</td>\n",
       "      <td>1.0</td>\n",
       "      <td>...</td>\n",
       "      <td>502.0</td>\n",
       "      <td>186.0</td>\n",
       "      <td>другой</td>\n",
       "      <td>101.470588</td>\n",
       "      <td>2015</td>\n",
       "      <td>12</td>\n",
       "      <td>3 - среда</td>\n",
       "      <td>0.511765</td>\n",
       "      <td>0.267647</td>\n",
       "      <td>0</td>\n",
       "    </tr>\n",
       "    <tr>\n",
       "      <td>81</td>\n",
       "      <td>9</td>\n",
       "      <td>10949.0</td>\n",
       "      <td>68.0</td>\n",
       "      <td>2018-12-27</td>\n",
       "      <td>1</td>\n",
       "      <td>2.65</td>\n",
       "      <td>10.0</td>\n",
       "      <td>39.306358</td>\n",
       "      <td>6</td>\n",
       "      <td>1.0</td>\n",
       "      <td>...</td>\n",
       "      <td>502.0</td>\n",
       "      <td>96.0</td>\n",
       "      <td>другой</td>\n",
       "      <td>161.014706</td>\n",
       "      <td>2018</td>\n",
       "      <td>12</td>\n",
       "      <td>4 - четверг</td>\n",
       "      <td>0.578035</td>\n",
       "      <td>0.133824</td>\n",
       "      <td>0</td>\n",
       "    </tr>\n",
       "    <tr>\n",
       "      <td>94</td>\n",
       "      <td>3</td>\n",
       "      <td>3500.0</td>\n",
       "      <td>29.5</td>\n",
       "      <td>2019-04-26</td>\n",
       "      <td>1</td>\n",
       "      <td>2.65</td>\n",
       "      <td>5.0</td>\n",
       "      <td>15.600000</td>\n",
       "      <td>2</td>\n",
       "      <td>1.0</td>\n",
       "      <td>...</td>\n",
       "      <td>502.0</td>\n",
       "      <td>4.0</td>\n",
       "      <td>другой</td>\n",
       "      <td>118.644068</td>\n",
       "      <td>2019</td>\n",
       "      <td>4</td>\n",
       "      <td>5 - пятница</td>\n",
       "      <td>0.528814</td>\n",
       "      <td>0.308475</td>\n",
       "      <td>7</td>\n",
       "    </tr>\n",
       "    <tr>\n",
       "      <td>99</td>\n",
       "      <td>32</td>\n",
       "      <td>9600.0</td>\n",
       "      <td>90.0</td>\n",
       "      <td>2017-09-26</td>\n",
       "      <td>4</td>\n",
       "      <td>2.65</td>\n",
       "      <td>5.0</td>\n",
       "      <td>67.000000</td>\n",
       "      <td>2</td>\n",
       "      <td>1.0</td>\n",
       "      <td>...</td>\n",
       "      <td>502.0</td>\n",
       "      <td>104.0</td>\n",
       "      <td>другой</td>\n",
       "      <td>106.666667</td>\n",
       "      <td>2017</td>\n",
       "      <td>9</td>\n",
       "      <td>2 - вторник</td>\n",
       "      <td>0.744444</td>\n",
       "      <td>0.101111</td>\n",
       "      <td>2</td>\n",
       "    </tr>\n",
       "  </tbody>\n",
       "</table>\n",
       "<p>10 rows × 30 columns</p>\n",
       "</div>"
      ],
      "text/plain": [
       "    total_images  last_price  total_area first_day_exposition  rooms  \\\n",
       "3              0         NaN       159.0           2015-07-24      3   \n",
       "24             8      6500.0        97.2           2015-10-31      2   \n",
       "35             6     15500.0       149.0           2017-06-26      5   \n",
       "51             7     45000.0       161.0           2017-10-17      3   \n",
       "61            18      7990.0        74.0           2017-08-24      2   \n",
       "63             2     20000.0       118.0           2018-09-11      3   \n",
       "66             6      3450.0        34.0           2015-12-16      1   \n",
       "81             9     10949.0        68.0           2018-12-27      1   \n",
       "94             3      3500.0        29.5           2019-04-26      1   \n",
       "99            32      9600.0        90.0           2017-09-26      4   \n",
       "\n",
       "    ceiling_height  floors_total  living_area  floor  is_apartment  ...  \\\n",
       "3             2.65          14.0    91.907514      9           1.0  ...   \n",
       "24            2.65           3.0    46.500000      1           1.0  ...   \n",
       "35            2.65           5.0   104.000000      4           1.0  ...   \n",
       "51            2.65           8.0    38.000000      4           1.0  ...   \n",
       "61            2.65           4.0    43.000000      4           1.0  ...   \n",
       "63            2.65           9.0    68.000000      7           1.0  ...   \n",
       "66            2.65          17.0    17.400000      8           1.0  ...   \n",
       "81            2.65          10.0    39.306358      6           1.0  ...   \n",
       "94            2.65           5.0    15.600000      2           1.0  ...   \n",
       "99            2.65           5.0    67.000000      2           1.0  ...   \n",
       "\n",
       "    ponds_nearest  days_exposition  floor_category  price_of_m2  year  month  \\\n",
       "3           234.0            424.0          другой   408.176101  2015      7   \n",
       "24          124.0            265.0          первый    66.872428  2015     10   \n",
       "35          779.0            644.0          другой   104.026846  2017      6   \n",
       "51           99.0            541.0          другой   279.503106  2017     10   \n",
       "61          502.0            609.0       последний   107.972973  2017      8   \n",
       "63          779.0             37.0          другой   169.491525  2018      9   \n",
       "66          502.0            186.0          другой   101.470588  2015     12   \n",
       "81          502.0             96.0          другой   161.014706  2018     12   \n",
       "94          502.0              4.0          другой   118.644068  2019      4   \n",
       "99          502.0            104.0          другой   106.666667  2017      9   \n",
       "\n",
       "                day  living_area_part  kitchen_area_part  \\\n",
       "3       5 - пятница          0.578035           0.057233   \n",
       "24      6 - суббота          0.478395           0.093621   \n",
       "35  1 - понедельник          0.697987           0.061074   \n",
       "51      2 - вторник          0.236025           0.056522   \n",
       "61      4 - четверг          0.581081           0.122973   \n",
       "63      2 - вторник          0.576271           0.077119   \n",
       "66        3 - среда          0.511765           0.267647   \n",
       "81      4 - четверг          0.578035           0.133824   \n",
       "94      5 - пятница          0.528814           0.308475   \n",
       "99      2 - вторник          0.744444           0.101111   \n",
       "\n",
       "    cityCenters_nearest_km  \n",
       "3                        6  \n",
       "24                       2  \n",
       "35                       3  \n",
       "51                       6  \n",
       "61                       4  \n",
       "63                       4  \n",
       "66                       0  \n",
       "81                       0  \n",
       "94                       7  \n",
       "99                       2  \n",
       "\n",
       "[10 rows x 30 columns]"
      ]
     },
     "execution_count": 139,
     "metadata": {},
     "output_type": "execute_result"
    }
   ],
   "source": [
    "data_center = data.loc[(data['cityCenters_nearest_km'] < 7.5)]\n",
    "data_center.head(10)"
   ]
  },
  {
   "cell_type": "markdown",
   "metadata": {},
   "source": [
    "Изучу эту территорию по следующим параметрам: площадь, цена, число комнат, высота потолков."
   ]
  },
  {
   "cell_type": "code",
   "execution_count": 140,
   "metadata": {},
   "outputs": [
    {
     "data": {
      "text/html": [
       "<div>\n",
       "<style scoped>\n",
       "    .dataframe tbody tr th:only-of-type {\n",
       "        vertical-align: middle;\n",
       "    }\n",
       "\n",
       "    .dataframe tbody tr th {\n",
       "        vertical-align: top;\n",
       "    }\n",
       "\n",
       "    .dataframe thead th {\n",
       "        text-align: right;\n",
       "    }\n",
       "</style>\n",
       "<table border=\"1\" class=\"dataframe\">\n",
       "  <thead>\n",
       "    <tr style=\"text-align: right;\">\n",
       "      <th></th>\n",
       "      <th>total_area</th>\n",
       "      <th>last_price</th>\n",
       "      <th>rooms</th>\n",
       "      <th>ceiling_height</th>\n",
       "    </tr>\n",
       "  </thead>\n",
       "  <tbody>\n",
       "    <tr>\n",
       "      <td>count</td>\n",
       "      <td>3618.000000</td>\n",
       "      <td>3544.000000</td>\n",
       "      <td>3658.000000</td>\n",
       "      <td>3658.00</td>\n",
       "    </tr>\n",
       "    <tr>\n",
       "      <td>mean</td>\n",
       "      <td>85.757916</td>\n",
       "      <td>11032.602144</td>\n",
       "      <td>2.610716</td>\n",
       "      <td>2.65</td>\n",
       "    </tr>\n",
       "    <tr>\n",
       "      <td>std</td>\n",
       "      <td>46.765922</td>\n",
       "      <td>7691.750563</td>\n",
       "      <td>1.099091</td>\n",
       "      <td>0.00</td>\n",
       "    </tr>\n",
       "    <tr>\n",
       "      <td>min</td>\n",
       "      <td>27.200000</td>\n",
       "      <td>2100.000000</td>\n",
       "      <td>1.000000</td>\n",
       "      <td>2.65</td>\n",
       "    </tr>\n",
       "    <tr>\n",
       "      <td>25%</td>\n",
       "      <td>55.000000</td>\n",
       "      <td>6350.000000</td>\n",
       "      <td>2.000000</td>\n",
       "      <td>2.65</td>\n",
       "    </tr>\n",
       "    <tr>\n",
       "      <td>50%</td>\n",
       "      <td>75.100000</td>\n",
       "      <td>8550.000000</td>\n",
       "      <td>3.000000</td>\n",
       "      <td>2.65</td>\n",
       "    </tr>\n",
       "    <tr>\n",
       "      <td>75%</td>\n",
       "      <td>102.675000</td>\n",
       "      <td>12741.000000</td>\n",
       "      <td>3.000000</td>\n",
       "      <td>2.65</td>\n",
       "    </tr>\n",
       "    <tr>\n",
       "      <td>max</td>\n",
       "      <td>507.000000</td>\n",
       "      <td>49900.000000</td>\n",
       "      <td>5.000000</td>\n",
       "      <td>2.65</td>\n",
       "    </tr>\n",
       "  </tbody>\n",
       "</table>\n",
       "</div>"
      ],
      "text/plain": [
       "        total_area    last_price        rooms  ceiling_height\n",
       "count  3618.000000   3544.000000  3658.000000         3658.00\n",
       "mean     85.757916  11032.602144     2.610716            2.65\n",
       "std      46.765922   7691.750563     1.099091            0.00\n",
       "min      27.200000   2100.000000     1.000000            2.65\n",
       "25%      55.000000   6350.000000     2.000000            2.65\n",
       "50%      75.100000   8550.000000     3.000000            2.65\n",
       "75%     102.675000  12741.000000     3.000000            2.65\n",
       "max     507.000000  49900.000000     5.000000            2.65"
      ]
     },
     "execution_count": 140,
     "metadata": {},
     "output_type": "execute_result"
    }
   ],
   "source": [
    "data_center[['total_area', 'last_price', 'rooms', 'ceiling_height']].describe()"
   ]
  },
  {
   "cell_type": "markdown",
   "metadata": {},
   "source": [
    "Глядя на датафрейм можно сказать, что в центре, также встречаются маленькие однокомнатные квартиры за 2 млн. руб., при этом средняя площадь и цена, заметно выше, чем для всего датафрейма."
   ]
  },
  {
   "cell_type": "markdown",
   "metadata": {},
   "source": [
    "Посмотрю на факторы, которые влияют на стоимость квартиры (число комнат, этаж, удалённость от центра, дата размещения объявления)"
   ]
  },
  {
   "cell_type": "markdown",
   "metadata": {},
   "source": [
    "Зависимость цены от площади в центре. Построю график"
   ]
  },
  {
   "cell_type": "code",
   "execution_count": 141,
   "metadata": {},
   "outputs": [
    {
     "data": {
      "text/plain": [
       "<matplotlib.axes._subplots.AxesSubplot at 0x7f930b81e750>"
      ]
     },
     "execution_count": 141,
     "metadata": {},
     "output_type": "execute_result"
    },
    {
     "data": {
      "image/png": "[encoded data removed]",
      "text/plain": [
       "<Figure size 360x360 with 2 Axes>"
      ]
     },
     "metadata": {
      "needs_background": "light"
     },
     "output_type": "display_data"
    }
   ],
   "source": [
    "data_center.plot(x='total_area', y='last_price', kind='hexbin', sharex=False, figsize=(5, 5), grid=True, xlim =(27, 100), ylim = (2100, 20000))"
   ]
  },
  {
   "cell_type": "markdown",
   "metadata": {},
   "source": [
    "Наблюдается прямая зависимость цены от площади квартиры, чем больше, тем дороже. Логично! "
   ]
  },
  {
   "cell_type": "code",
   "execution_count": 142,
   "metadata": {},
   "outputs": [
    {
     "name": "stdout",
     "output_type": "stream",
     "text": [
      "0.7059824068347464\n",
      "0.7059824068347464\n"
     ]
    }
   ],
   "source": [
    "print(data_center['total_area'].corr(data_center['last_price']))\n",
    "print(data_center['last_price'].corr(data_center['total_area']))"
   ]
  },
  {
   "cell_type": "markdown",
   "metadata": {},
   "source": [
    "Коэффициент Пирсона, также показывает прямую зависмость."
   ]
  },
  {
   "cell_type": "markdown",
   "metadata": {},
   "source": [
    "Зависимость цены от числа комнат в центре. Построю график"
   ]
  },
  {
   "cell_type": "code",
   "execution_count": 143,
   "metadata": {},
   "outputs": [
    {
     "data": {
      "text/plain": [
       "<matplotlib.axes._subplots.AxesSubplot at 0x7f930ba963d0>"
      ]
     },
     "execution_count": 143,
     "metadata": {},
     "output_type": "execute_result"
    },
    {
     "data": {
      "image/png": "[encoded data removed]",
      "text/plain": [
       "<Figure size 432x288 with 1 Axes>"
      ]
     },
     "metadata": {
      "needs_background": "light"
     },
     "output_type": "display_data"
    }
   ],
   "source": [
    "sns.barplot(x='rooms', y='last_price', data=data_center)"
   ]
  },
  {
   "cell_type": "markdown",
   "metadata": {},
   "source": [
    "Прослеживается аналогичная зависимость, что с увеличением количества комнат, цена растет, что, тоже логично. Посмотрю на корреляцию"
   ]
  },
  {
   "cell_type": "code",
   "execution_count": 144,
   "metadata": {},
   "outputs": [
    {
     "name": "stdout",
     "output_type": "stream",
     "text": [
      "0.3980252088272339\n",
      "0.3980252088272339\n"
     ]
    }
   ],
   "source": [
    "print(data_center['rooms'].corr(data_center['last_price']))\n",
    "print(data_center['last_price'].corr(data_center['rooms']))"
   ]
  },
  {
   "cell_type": "markdown",
   "metadata": {},
   "source": [
    "При этом корреляция ниже, чем для всего датфрейма. Странно? Нет. В центре люди платят за престиж и даже маленькая квартира в центре с видом на крейсер \"Аврора\" может стоить очень дорого."
   ]
  },
  {
   "cell_type": "markdown",
   "metadata": {},
   "source": [
    "Зависимость цены от этажа в центре. Построю график"
   ]
  },
  {
   "cell_type": "code",
   "execution_count": 145,
   "metadata": {},
   "outputs": [
    {
     "data": {
      "text/plain": [
       "<matplotlib.axes._subplots.AxesSubplot at 0x7f930ba22410>"
      ]
     },
     "execution_count": 145,
     "metadata": {},
     "output_type": "execute_result"
    },
    {
     "data": {
      "image/png": "[encoded data removed]",
      "text/plain": [
       "<Figure size 432x288 with 1 Axes>"
      ]
     },
     "metadata": {
      "needs_background": "light"
     },
     "output_type": "display_data"
    }
   ],
   "source": [
    "sns.barplot(x='floor_category', y='last_price', data=data_center)"
   ]
  },
  {
   "cell_type": "markdown",
   "metadata": {},
   "source": [
    "Квартиры на первых этажах стоят дешевле. Логично, не очень приятно жить на первом этаже с окнами выходящими, прямо на проезжую часть или в темный двор - колодец. Посмотрю на корреляцию"
   ]
  },
  {
   "cell_type": "code",
   "execution_count": 146,
   "metadata": {},
   "outputs": [
    {
     "name": "stdout",
     "output_type": "stream",
     "text": [
      "0.11465225227536376\n",
      "0.11465225227536376\n"
     ]
    }
   ],
   "source": [
    "print(data_center['floor'].corr(data_center['last_price']))\n",
    "print(data_center['last_price'].corr(data_center['floor']))"
   ]
  },
  {
   "cell_type": "markdown",
   "metadata": {},
   "source": [
    "Корреляция есть, но невелика."
   ]
  },
  {
   "cell_type": "markdown",
   "metadata": {},
   "source": [
    "Зависимость цены от удаленности от центра в центре. Построю график"
   ]
  },
  {
   "cell_type": "code",
   "execution_count": 147,
   "metadata": {},
   "outputs": [
    {
     "data": {
      "text/plain": [
       "<matplotlib.axes._subplots.AxesSubplot at 0x7f930ba06a90>"
      ]
     },
     "execution_count": 147,
     "metadata": {},
     "output_type": "execute_result"
    },
    {
     "data": {
      "image/png": "[encoded data removed]",
      "text/plain": [
       "<Figure size 1080x720 with 1 Axes>"
      ]
     },
     "metadata": {
      "needs_background": "light"
     },
     "output_type": "display_data"
    }
   ],
   "source": [
    "data_center.plot(x='cityCenters_nearest_km', y='last_price', xlim = (0, 7.5), kind = 'scatter', alpha = 1, grid = True, figsize = (15, 10))"
   ]
  },
  {
   "cell_type": "markdown",
   "metadata": {},
   "source": [
    "Наблюдается неболшой рост цены, начиная с расстояния 3 километа от центра, далее цены стабилизируются. Причина этого - в центре нет новых домов, старая инфраструктура, за достаточно весомую цену мало желающих жить в маленькой неудобной квартире, а начиная с 3 километра появляются более комфортные варианты."
   ]
  },
  {
   "cell_type": "markdown",
   "metadata": {},
   "source": [
    "Зависимость цены от даты размещения в центре. Построю график"
   ]
  },
  {
   "cell_type": "code",
   "execution_count": 148,
   "metadata": {},
   "outputs": [
    {
     "data": {
      "text/plain": [
       "<matplotlib.axes._subplots.AxesSubplot at 0x7f930b9136d0>"
      ]
     },
     "execution_count": 148,
     "metadata": {},
     "output_type": "execute_result"
    },
    {
     "data": {
      "image/png": "[encoded data removed]",
      "text/plain": [
       "<Figure size 432x288 with 1 Axes>"
      ]
     },
     "metadata": {
      "needs_background": "light"
     },
     "output_type": "display_data"
    }
   ],
   "source": [
    "sns.barplot(x='year', y='last_price', data=data_center)"
   ]
  },
  {
   "cell_type": "markdown",
   "metadata": {},
   "source": [
    "Также наблюдается зависимость цены от даты размещения, причем, чем позже продавцы начали продавать объект, тем дешевле он будет продан. Посчитаю корреляцию"
   ]
  },
  {
   "cell_type": "code",
   "execution_count": 149,
   "metadata": {},
   "outputs": [
    {
     "name": "stdout",
     "output_type": "stream",
     "text": [
      "-0.03460958377618571\n",
      "-0.03460958377618572\n"
     ]
    }
   ],
   "source": [
    "print(data_center['year'].corr(data_center['last_price']))\n",
    "print(data_center['last_price'].corr(data_center['year']))"
   ]
  },
  {
   "cell_type": "markdown",
   "metadata": {},
   "source": [
    "Также наблюдается отрицательная корреляция. Надло было раньше продавать!"
   ]
  },
  {
   "cell_type": "markdown",
   "metadata": {},
   "source": [
    "**Сравнение зависимостей цены для всего датафрейма с данными по центру"
   ]
  },
  {
   "cell_type": "markdown",
   "metadata": {},
   "source": [
    "Зависимость цены от площади"
   ]
  },
  {
   "cell_type": "code",
   "execution_count": 150,
   "metadata": {},
   "outputs": [
    {
     "name": "stdout",
     "output_type": "stream",
     "text": [
      "Зависимость цены от площади для центра: 0.7059824068347464\n",
      "Зависимость цены от площади: 0.7905010202583466\n"
     ]
    }
   ],
   "source": [
    "print('Зависимость цены от площади для центра:', data_center['total_area'].corr(data_center['last_price']))\n",
    "print('Зависимость цены от площади:', data['total_area'].corr(data['last_price']))"
   ]
  },
  {
   "cell_type": "markdown",
   "metadata": {},
   "source": [
    "Наблюдается более сильная зависимость цены квартиры от общей площади, для квартир, находящихся не в центре города, что, вполне объяснимо - в центре платят за престиж, за меньшее время в пути."
   ]
  },
  {
   "cell_type": "markdown",
   "metadata": {},
   "source": [
    "Зависимость цены от числа комнат"
   ]
  },
  {
   "cell_type": "code",
   "execution_count": 151,
   "metadata": {},
   "outputs": [
    {
     "name": "stdout",
     "output_type": "stream",
     "text": [
      "Зависимость цены от количества комнат для центра: 0.3980252088272339\n",
      "Зависимость цены от количества комнат: 0.4901425569883096\n"
     ]
    }
   ],
   "source": [
    "print('Зависимость цены от количества комнат для центра:', data_center['rooms'].corr(data_center['last_price']))\n",
    "print('Зависимость цены от количества комнат:', data['rooms'].corr(data['last_price']))"
   ]
  },
  {
   "cell_type": "markdown",
   "metadata": {},
   "source": [
    "Аналогиная ситуация наблюдается и для зависимости цены от числа комнат, для центра эта зависимость меньше, в центре люди готовы платить и за однокомнатные квартиры дороже"
   ]
  },
  {
   "cell_type": "markdown",
   "metadata": {},
   "source": [
    "Зависимость цены от этажа"
   ]
  },
  {
   "cell_type": "code",
   "execution_count": 152,
   "metadata": {},
   "outputs": [
    {
     "name": "stdout",
     "output_type": "stream",
     "text": [
      "Зависимость цены от этажа для центра: 0.11465225227536376\n",
      "Зависимость цены от этажа: 0.015267920663479382\n"
     ]
    }
   ],
   "source": [
    "print('Зависимость цены от этажа для центра:', data_center['floor'].corr(data_center['last_price']))\n",
    "print('Зависимость цены от этажа:', data['floor'].corr(data['last_price']))"
   ]
  },
  {
   "cell_type": "markdown",
   "metadata": {},
   "source": [
    "Зависимост цены квартиры от этажа, вообще в целом не велика, а для центра эта зависимость еще меньше"
   ]
  },
  {
   "cell_type": "markdown",
   "metadata": {},
   "source": [
    "Зависимость цены от даты размещения объявления. Как ранее было выявлено, стоимость очень мало зависит от дня и месяца размещения, зато заметна разница в цене в зависимости от года, посмотрю"
   ]
  },
  {
   "cell_type": "code",
   "execution_count": 153,
   "metadata": {},
   "outputs": [
    {
     "name": "stdout",
     "output_type": "stream",
     "text": [
      "Зависимость цены от года размещения для центра: -0.03460958377618571\n",
      "Зависимость цены от года размещения: -0.04141284988388597\n"
     ]
    }
   ],
   "source": [
    "print('Зависимость цены от года размещения для центра:', data_center['year'].corr(data_center['last_price']))\n",
    "print('Зависимость цены от года размещения:', data['year'].corr(data['last_price']))"
   ]
  },
  {
   "cell_type": "markdown",
   "metadata": {},
   "source": [
    "Для центра эта зависимость меньше, то есть даже в кризинсный период, квартиры в центре меньше падают в цене."
   ]
  },
  {
   "cell_type": "markdown",
   "metadata": {},
   "source": [
    "### Шаг 5. Общий вывод"
   ]
  },
  {
   "cell_type": "markdown",
   "metadata": {},
   "source": [
    "В работу поступил датафрейм, состоящий из большого количества \"разношерстных\" данных, типа расстояния до ближайшего пруда и числа этажей в доме. При этом в выгрузке присутствовали данные и по СпБ и по областным городам. На будущее, пожалуй, надо анализировать, отдельно, столицы регионов и область. Выявилось много пропусков. При других обстоятельствах, потребовалось бы обсуждение с коллегами. Удалось удалить/заменить пропущеные значения, категоизировать данные, где это было уместно.\n",
    "Выводы:\n",
    "Чем больше площадь квартиры, тем больше цена. Очевидно.\n",
    "Прямая зависимость цены от числа комнат существует, однако не так велика, как, например зависимость от площади. Причина этого - люди покупают \"стены\", которые уже самостоятельно приводят к нужной планировке.\n",
    "На первых этажах, квартиры, несколько дешевле.\n",
    "Сильная зависимость от года размещения объявления.\n",
    "\n",
    "Резюмируя, можно сказать следующее - не так важно, насколько квартира большая, сколько в ней комнат и на каком этаже она находится, важнее в какое время она вышла на рынок. Если в удачный момент, то ее цена будет выше. Эта зависимость верна и для квартир в центре и для других квартир, при этом, для центра эта зависимость, немного более гладкая."
   ]
  }
 ],
 "metadata": {
  "kernelspec": {
   "display_name": "Python 3",
   "language": "python",
   "name": "python3"
  },
  "language_info": {
   "codemirror_mode": {
    "name": "ipython",
    "version": 3
   },
   "file_extension": ".py",
   "mimetype": "text/x-python",
   "name": "python",
   "nbconvert_exporter": "python",
   "pygments_lexer": "ipython3",
   "version": "3.7.6"
  }
 },
 "nbformat": 4,
 "nbformat_minor": 2
}
