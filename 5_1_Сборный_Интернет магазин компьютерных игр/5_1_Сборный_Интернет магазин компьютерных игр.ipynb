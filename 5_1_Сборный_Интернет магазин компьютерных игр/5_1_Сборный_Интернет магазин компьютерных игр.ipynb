﻿{
 "cells": [
  {
   "cell_type": "markdown",
   "metadata": {},
   "source": [
    "Интернет-магазин продаёт по всему миру компьютерные игры.\n",
    "Есть данные о продажах игр, оценки пользователей и экспертов, жанров и платформ.\n",
    "Необходимо найти закономерности определяющие успешность продаж игры. Это позволит выбрать потенциально популярный продукт, спланировать рекламные кампании."
   ]
  },
  {
   "cell_type": "markdown",
   "metadata": {},
   "source": [
    "Описание данных  \n",
    "•\tName — название игры  \n",
    "•\tPlatform — платформа  \n",
    "•\tYear_of_Release — год выпуска  \n",
    "•\tGenre — жанр игры  \n",
    "•\tNA_sales — продажи в Северной Америке (миллионы долларов)  \n",
    "•\tEU_sales — продажи в Европе (миллионы долларов)  \n",
    "•\tJP_sales — продажи в Японии (миллионы долларов)  \n",
    "•\tOther_sales — продажи в других странах (миллионы долларов)  \n",
    "•\tCritic_Score — оценка критиков (максимум 100)  \n",
    "•\tUser_Score — оценка пользователей (максимум 10)  \n",
    "•\tRating — рейтинг от организации ESRB (англ. Entertainment Software Rating Board). Эта ассоциация определяет рейтинг компьютерных игр и присваивает им подходящую возрастную категорию.  \n",
    "Данные за 2016 год могут быть неполными.  "
   ]
  },
  {
   "cell_type": "markdown",
   "metadata": {},
   "source": [
    "Импортируем библиотеки"
   ]
  },
  {
   "cell_type": "code",
   "execution_count": 1,
   "metadata": {},
   "outputs": [],
   "source": [
    "import pandas as pd\n",
    "import numpy as np\n",
    "import matplotlib.pyplot as plt\n",
    "from scipy.stats import ttest_ind"
   ]
  },
  {
   "cell_type": "markdown",
   "metadata": {},
   "source": [
    "Получу файл с данными"
   ]
  },
  {
   "cell_type": "code",
   "execution_count": 2,
   "metadata": {},
   "outputs": [],
   "source": [
    "data = pd.read_csv('датасет')"
   ]
  },
  {
   "cell_type": "markdown",
   "metadata": {},
   "source": [
    "1. Посмотрю на датафрейм"
   ]
  },
  {
   "cell_type": "code",
   "execution_count": 3,
   "metadata": {},
   "outputs": [
    {
     "data": {
      "text/html": [
       "<div>\n",
       "<style scoped>\n",
       "    .dataframe tbody tr th:only-of-type {\n",
       "        vertical-align: middle;\n",
       "    }\n",
       "\n",
       "    .dataframe tbody tr th {\n",
       "        vertical-align: top;\n",
       "    }\n",
       "\n",
       "    .dataframe thead th {\n",
       "        text-align: right;\n",
       "    }\n",
       "</style>\n",
       "<table border=\"1\" class=\"dataframe\">\n",
       "  <thead>\n",
       "    <tr style=\"text-align: right;\">\n",
       "      <th></th>\n",
       "      <th>Name</th>\n",
       "      <th>Platform</th>\n",
       "      <th>Year_of_Release</th>\n",
       "      <th>Genre</th>\n",
       "      <th>NA_sales</th>\n",
       "      <th>EU_sales</th>\n",
       "      <th>JP_sales</th>\n",
       "      <th>Other_sales</th>\n",
       "      <th>Critic_Score</th>\n",
       "      <th>User_Score</th>\n",
       "      <th>Rating</th>\n",
       "    </tr>\n",
       "  </thead>\n",
       "  <tbody>\n",
       "    <tr>\n",
       "      <td>0</td>\n",
       "      <td>Wii Sports</td>\n",
       "      <td>Wii</td>\n",
       "      <td>2006.0</td>\n",
       "      <td>Sports</td>\n",
       "      <td>41.36</td>\n",
       "      <td>28.96</td>\n",
       "      <td>3.77</td>\n",
       "      <td>8.45</td>\n",
       "      <td>76.0</td>\n",
       "      <td>8</td>\n",
       "      <td>E</td>\n",
       "    </tr>\n",
       "    <tr>\n",
       "      <td>1</td>\n",
       "      <td>Super Mario Bros.</td>\n",
       "      <td>NES</td>\n",
       "      <td>1985.0</td>\n",
       "      <td>Platform</td>\n",
       "      <td>29.08</td>\n",
       "      <td>3.58</td>\n",
       "      <td>6.81</td>\n",
       "      <td>0.77</td>\n",
       "      <td>NaN</td>\n",
       "      <td>NaN</td>\n",
       "      <td>NaN</td>\n",
       "    </tr>\n",
       "    <tr>\n",
       "      <td>2</td>\n",
       "      <td>Mario Kart Wii</td>\n",
       "      <td>Wii</td>\n",
       "      <td>2008.0</td>\n",
       "      <td>Racing</td>\n",
       "      <td>15.68</td>\n",
       "      <td>12.76</td>\n",
       "      <td>3.79</td>\n",
       "      <td>3.29</td>\n",
       "      <td>82.0</td>\n",
       "      <td>8.3</td>\n",
       "      <td>E</td>\n",
       "    </tr>\n",
       "    <tr>\n",
       "      <td>3</td>\n",
       "      <td>Wii Sports Resort</td>\n",
       "      <td>Wii</td>\n",
       "      <td>2009.0</td>\n",
       "      <td>Sports</td>\n",
       "      <td>15.61</td>\n",
       "      <td>10.93</td>\n",
       "      <td>3.28</td>\n",
       "      <td>2.95</td>\n",
       "      <td>80.0</td>\n",
       "      <td>8</td>\n",
       "      <td>E</td>\n",
       "    </tr>\n",
       "    <tr>\n",
       "      <td>4</td>\n",
       "      <td>Pokemon Red/Pokemon Blue</td>\n",
       "      <td>GB</td>\n",
       "      <td>1996.0</td>\n",
       "      <td>Role-Playing</td>\n",
       "      <td>11.27</td>\n",
       "      <td>8.89</td>\n",
       "      <td>10.22</td>\n",
       "      <td>1.00</td>\n",
       "      <td>NaN</td>\n",
       "      <td>NaN</td>\n",
       "      <td>NaN</td>\n",
       "    </tr>\n",
       "    <tr>\n",
       "      <td>5</td>\n",
       "      <td>Tetris</td>\n",
       "      <td>GB</td>\n",
       "      <td>1989.0</td>\n",
       "      <td>Puzzle</td>\n",
       "      <td>23.20</td>\n",
       "      <td>2.26</td>\n",
       "      <td>4.22</td>\n",
       "      <td>0.58</td>\n",
       "      <td>NaN</td>\n",
       "      <td>NaN</td>\n",
       "      <td>NaN</td>\n",
       "    </tr>\n",
       "    <tr>\n",
       "      <td>6</td>\n",
       "      <td>New Super Mario Bros.</td>\n",
       "      <td>DS</td>\n",
       "      <td>2006.0</td>\n",
       "      <td>Platform</td>\n",
       "      <td>11.28</td>\n",
       "      <td>9.14</td>\n",
       "      <td>6.50</td>\n",
       "      <td>2.88</td>\n",
       "      <td>89.0</td>\n",
       "      <td>8.5</td>\n",
       "      <td>E</td>\n",
       "    </tr>\n",
       "    <tr>\n",
       "      <td>7</td>\n",
       "      <td>Wii Play</td>\n",
       "      <td>Wii</td>\n",
       "      <td>2006.0</td>\n",
       "      <td>Misc</td>\n",
       "      <td>13.96</td>\n",
       "      <td>9.18</td>\n",
       "      <td>2.93</td>\n",
       "      <td>2.84</td>\n",
       "      <td>58.0</td>\n",
       "      <td>6.6</td>\n",
       "      <td>E</td>\n",
       "    </tr>\n",
       "    <tr>\n",
       "      <td>8</td>\n",
       "      <td>New Super Mario Bros. Wii</td>\n",
       "      <td>Wii</td>\n",
       "      <td>2009.0</td>\n",
       "      <td>Platform</td>\n",
       "      <td>14.44</td>\n",
       "      <td>6.94</td>\n",
       "      <td>4.70</td>\n",
       "      <td>2.24</td>\n",
       "      <td>87.0</td>\n",
       "      <td>8.4</td>\n",
       "      <td>E</td>\n",
       "    </tr>\n",
       "    <tr>\n",
       "      <td>9</td>\n",
       "      <td>Duck Hunt</td>\n",
       "      <td>NES</td>\n",
       "      <td>1984.0</td>\n",
       "      <td>Shooter</td>\n",
       "      <td>26.93</td>\n",
       "      <td>0.63</td>\n",
       "      <td>0.28</td>\n",
       "      <td>0.47</td>\n",
       "      <td>NaN</td>\n",
       "      <td>NaN</td>\n",
       "      <td>NaN</td>\n",
       "    </tr>\n",
       "  </tbody>\n",
       "</table>\n",
       "</div>"
      ],
      "text/plain": [
       "                        Name Platform  Year_of_Release         Genre  \\\n",
       "0                 Wii Sports      Wii           2006.0        Sports   \n",
       "1          Super Mario Bros.      NES           1985.0      Platform   \n",
       "2             Mario Kart Wii      Wii           2008.0        Racing   \n",
       "3          Wii Sports Resort      Wii           2009.0        Sports   \n",
       "4   Pokemon Red/Pokemon Blue       GB           1996.0  Role-Playing   \n",
       "5                     Tetris       GB           1989.0        Puzzle   \n",
       "6      New Super Mario Bros.       DS           2006.0      Platform   \n",
       "7                   Wii Play      Wii           2006.0          Misc   \n",
       "8  New Super Mario Bros. Wii      Wii           2009.0      Platform   \n",
       "9                  Duck Hunt      NES           1984.0       Shooter   \n",
       "\n",
       "   NA_sales  EU_sales  JP_sales  Other_sales  Critic_Score User_Score Rating  \n",
       "0     41.36     28.96      3.77         8.45          76.0          8      E  \n",
       "1     29.08      3.58      6.81         0.77           NaN        NaN    NaN  \n",
       "2     15.68     12.76      3.79         3.29          82.0        8.3      E  \n",
       "3     15.61     10.93      3.28         2.95          80.0          8      E  \n",
       "4     11.27      8.89     10.22         1.00           NaN        NaN    NaN  \n",
       "5     23.20      2.26      4.22         0.58           NaN        NaN    NaN  \n",
       "6     11.28      9.14      6.50         2.88          89.0        8.5      E  \n",
       "7     13.96      9.18      2.93         2.84          58.0        6.6      E  \n",
       "8     14.44      6.94      4.70         2.24          87.0        8.4      E  \n",
       "9     26.93      0.63      0.28         0.47           NaN        NaN    NaN  "
      ]
     },
     "execution_count": 3,
     "metadata": {},
     "output_type": "execute_result"
    }
   ],
   "source": [
    "data.head(10)"
   ]
  },
  {
   "cell_type": "markdown",
   "metadata": {},
   "source": [
    "Пока, вроде все нормально, есть пропуски. Всегда есть. Посмотрю снизу."
   ]
  },
  {
   "cell_type": "code",
   "execution_count": 4,
   "metadata": {},
   "outputs": [
    {
     "data": {
      "text/html": [
       "<div>\n",
       "<style scoped>\n",
       "    .dataframe tbody tr th:only-of-type {\n",
       "        vertical-align: middle;\n",
       "    }\n",
       "\n",
       "    .dataframe tbody tr th {\n",
       "        vertical-align: top;\n",
       "    }\n",
       "\n",
       "    .dataframe thead th {\n",
       "        text-align: right;\n",
       "    }\n",
       "</style>\n",
       "<table border=\"1\" class=\"dataframe\">\n",
       "  <thead>\n",
       "    <tr style=\"text-align: right;\">\n",
       "      <th></th>\n",
       "      <th>Name</th>\n",
       "      <th>Platform</th>\n",
       "      <th>Year_of_Release</th>\n",
       "      <th>Genre</th>\n",
       "      <th>NA_sales</th>\n",
       "      <th>EU_sales</th>\n",
       "      <th>JP_sales</th>\n",
       "      <th>Other_sales</th>\n",
       "      <th>Critic_Score</th>\n",
       "      <th>User_Score</th>\n",
       "      <th>Rating</th>\n",
       "    </tr>\n",
       "  </thead>\n",
       "  <tbody>\n",
       "    <tr>\n",
       "      <td>16705</td>\n",
       "      <td>15 Days</td>\n",
       "      <td>PC</td>\n",
       "      <td>2009.0</td>\n",
       "      <td>Adventure</td>\n",
       "      <td>0.00</td>\n",
       "      <td>0.01</td>\n",
       "      <td>0.00</td>\n",
       "      <td>0.0</td>\n",
       "      <td>63.0</td>\n",
       "      <td>5.8</td>\n",
       "      <td>NaN</td>\n",
       "    </tr>\n",
       "    <tr>\n",
       "      <td>16706</td>\n",
       "      <td>Men in Black II: Alien Escape</td>\n",
       "      <td>GC</td>\n",
       "      <td>2003.0</td>\n",
       "      <td>Shooter</td>\n",
       "      <td>0.01</td>\n",
       "      <td>0.00</td>\n",
       "      <td>0.00</td>\n",
       "      <td>0.0</td>\n",
       "      <td>NaN</td>\n",
       "      <td>tbd</td>\n",
       "      <td>T</td>\n",
       "    </tr>\n",
       "    <tr>\n",
       "      <td>16707</td>\n",
       "      <td>Aiyoku no Eustia</td>\n",
       "      <td>PSV</td>\n",
       "      <td>2014.0</td>\n",
       "      <td>Misc</td>\n",
       "      <td>0.00</td>\n",
       "      <td>0.00</td>\n",
       "      <td>0.01</td>\n",
       "      <td>0.0</td>\n",
       "      <td>NaN</td>\n",
       "      <td>NaN</td>\n",
       "      <td>NaN</td>\n",
       "    </tr>\n",
       "    <tr>\n",
       "      <td>16708</td>\n",
       "      <td>Woody Woodpecker in Crazy Castle 5</td>\n",
       "      <td>GBA</td>\n",
       "      <td>2002.0</td>\n",
       "      <td>Platform</td>\n",
       "      <td>0.01</td>\n",
       "      <td>0.00</td>\n",
       "      <td>0.00</td>\n",
       "      <td>0.0</td>\n",
       "      <td>NaN</td>\n",
       "      <td>NaN</td>\n",
       "      <td>NaN</td>\n",
       "    </tr>\n",
       "    <tr>\n",
       "      <td>16709</td>\n",
       "      <td>SCORE International Baja 1000: The Official Game</td>\n",
       "      <td>PS2</td>\n",
       "      <td>2008.0</td>\n",
       "      <td>Racing</td>\n",
       "      <td>0.00</td>\n",
       "      <td>0.00</td>\n",
       "      <td>0.00</td>\n",
       "      <td>0.0</td>\n",
       "      <td>NaN</td>\n",
       "      <td>NaN</td>\n",
       "      <td>NaN</td>\n",
       "    </tr>\n",
       "    <tr>\n",
       "      <td>16710</td>\n",
       "      <td>Samurai Warriors: Sanada Maru</td>\n",
       "      <td>PS3</td>\n",
       "      <td>2016.0</td>\n",
       "      <td>Action</td>\n",
       "      <td>0.00</td>\n",
       "      <td>0.00</td>\n",
       "      <td>0.01</td>\n",
       "      <td>0.0</td>\n",
       "      <td>NaN</td>\n",
       "      <td>NaN</td>\n",
       "      <td>NaN</td>\n",
       "    </tr>\n",
       "    <tr>\n",
       "      <td>16711</td>\n",
       "      <td>LMA Manager 2007</td>\n",
       "      <td>X360</td>\n",
       "      <td>2006.0</td>\n",
       "      <td>Sports</td>\n",
       "      <td>0.00</td>\n",
       "      <td>0.01</td>\n",
       "      <td>0.00</td>\n",
       "      <td>0.0</td>\n",
       "      <td>NaN</td>\n",
       "      <td>NaN</td>\n",
       "      <td>NaN</td>\n",
       "    </tr>\n",
       "    <tr>\n",
       "      <td>16712</td>\n",
       "      <td>Haitaka no Psychedelica</td>\n",
       "      <td>PSV</td>\n",
       "      <td>2016.0</td>\n",
       "      <td>Adventure</td>\n",
       "      <td>0.00</td>\n",
       "      <td>0.00</td>\n",
       "      <td>0.01</td>\n",
       "      <td>0.0</td>\n",
       "      <td>NaN</td>\n",
       "      <td>NaN</td>\n",
       "      <td>NaN</td>\n",
       "    </tr>\n",
       "    <tr>\n",
       "      <td>16713</td>\n",
       "      <td>Spirits &amp; Spells</td>\n",
       "      <td>GBA</td>\n",
       "      <td>2003.0</td>\n",
       "      <td>Platform</td>\n",
       "      <td>0.01</td>\n",
       "      <td>0.00</td>\n",
       "      <td>0.00</td>\n",
       "      <td>0.0</td>\n",
       "      <td>NaN</td>\n",
       "      <td>NaN</td>\n",
       "      <td>NaN</td>\n",
       "    </tr>\n",
       "    <tr>\n",
       "      <td>16714</td>\n",
       "      <td>Winning Post 8 2016</td>\n",
       "      <td>PSV</td>\n",
       "      <td>2016.0</td>\n",
       "      <td>Simulation</td>\n",
       "      <td>0.00</td>\n",
       "      <td>0.00</td>\n",
       "      <td>0.01</td>\n",
       "      <td>0.0</td>\n",
       "      <td>NaN</td>\n",
       "      <td>NaN</td>\n",
       "      <td>NaN</td>\n",
       "    </tr>\n",
       "  </tbody>\n",
       "</table>\n",
       "</div>"
      ],
      "text/plain": [
       "                                                   Name Platform  \\\n",
       "16705                                           15 Days       PC   \n",
       "16706                     Men in Black II: Alien Escape       GC   \n",
       "16707                                  Aiyoku no Eustia      PSV   \n",
       "16708                Woody Woodpecker in Crazy Castle 5      GBA   \n",
       "16709  SCORE International Baja 1000: The Official Game      PS2   \n",
       "16710                     Samurai Warriors: Sanada Maru      PS3   \n",
       "16711                                  LMA Manager 2007     X360   \n",
       "16712                           Haitaka no Psychedelica      PSV   \n",
       "16713                                  Spirits & Spells      GBA   \n",
       "16714                               Winning Post 8 2016      PSV   \n",
       "\n",
       "       Year_of_Release       Genre  NA_sales  EU_sales  JP_sales  Other_sales  \\\n",
       "16705           2009.0   Adventure      0.00      0.01      0.00          0.0   \n",
       "16706           2003.0     Shooter      0.01      0.00      0.00          0.0   \n",
       "16707           2014.0        Misc      0.00      0.00      0.01          0.0   \n",
       "16708           2002.0    Platform      0.01      0.00      0.00          0.0   \n",
       "16709           2008.0      Racing      0.00      0.00      0.00          0.0   \n",
       "16710           2016.0      Action      0.00      0.00      0.01          0.0   \n",
       "16711           2006.0      Sports      0.00      0.01      0.00          0.0   \n",
       "16712           2016.0   Adventure      0.00      0.00      0.01          0.0   \n",
       "16713           2003.0    Platform      0.01      0.00      0.00          0.0   \n",
       "16714           2016.0  Simulation      0.00      0.00      0.01          0.0   \n",
       "\n",
       "       Critic_Score User_Score Rating  \n",
       "16705          63.0        5.8    NaN  \n",
       "16706           NaN        tbd      T  \n",
       "16707           NaN        NaN    NaN  \n",
       "16708           NaN        NaN    NaN  \n",
       "16709           NaN        NaN    NaN  \n",
       "16710           NaN        NaN    NaN  \n",
       "16711           NaN        NaN    NaN  \n",
       "16712           NaN        NaN    NaN  \n",
       "16713           NaN        NaN    NaN  \n",
       "16714           NaN        NaN    NaN  "
      ]
     },
     "execution_count": 4,
     "metadata": {},
     "output_type": "execute_result"
    }
   ],
   "source": [
    "data.tail(10)"
   ]
  },
  {
   "cell_type": "markdown",
   "metadata": {},
   "source": [
    "Видимо, датафрейм уже был как-то отфильтрован. Видно, что в начале идут игры с большим рейтингом. К концу, как всегда NaN все больше и больше. "
   ]
  },
  {
   "cell_type": "markdown",
   "metadata": {},
   "source": [
    "Посмотрю на общую информацию"
   ]
  },
  {
   "cell_type": "code",
   "execution_count": 5,
   "metadata": {},
   "outputs": [
    {
     "name": "stdout",
     "output_type": "stream",
     "text": [
      "<class 'pandas.core.frame.DataFrame'>\n",
      "RangeIndex: 16715 entries, 0 to 16714\n",
      "Data columns (total 11 columns):\n",
      "Name               16713 non-null object\n",
      "Platform           16715 non-null object\n",
      "Year_of_Release    16446 non-null float64\n",
      "Genre              16713 non-null object\n",
      "NA_sales           16715 non-null float64\n",
      "EU_sales           16715 non-null float64\n",
      "JP_sales           16715 non-null float64\n",
      "Other_sales        16715 non-null float64\n",
      "Critic_Score       8137 non-null float64\n",
      "User_Score         10014 non-null object\n",
      "Rating             9949 non-null object\n",
      "dtypes: float64(6), object(5)\n",
      "memory usage: 1.4+ MB\n"
     ]
    }
   ],
   "source": [
    "data.info()"
   ]
  },
  {
   "cell_type": "markdown",
   "metadata": {},
   "source": [
    "В работу поступил датафрейм, содержащий 11 столбцов и 16715 строк, в максимуме.  \n",
    "По порядку:    \n",
    "Столбец Name, тип object - хорошо, 1 пропуск, посмотрим что это.  \n",
    "Столбец Platform, тип object - хорошо, без пропусков.  \n",
    "Столбец Year_of_Release, тип float64 - неправильно, буду преобразовывать, пропусков немного, посмотрю позже.  \n",
    "Столбец Genre, тип object - правильно, 2 пропуска, всего.  \n",
    "Столбец NA_sales, тип float64, так и оставлю, пропусков нет.  \n",
    "Столбец EU_sales, тип float64, так и оставлю, пропусков нет.  \n",
    "Столбец JP_sales, тип float64, так и оставлю, пропусков нет.  \n",
    "Столбец Other_sales, тип float64, так и оставлю, пропусков нет.  \n",
    "Столбец Critic_Score, тип float64, может быть и верно, хотя, вряд ли ставили \"50,05\", разве это так важно? Не знаю, буду смотреть. Очень много пропусков. Может быть критики не оценивают все игры, а только \"топовые\" смотрят или смотрят те, за которые им заплатили разработчики/маркетологи?  \n",
    "Столбец User_Score, тип object - неправильно, надо менять. Встречаются какие-то \"tbd\". Почитал на форумах игроманов, это означает - \"To Be Determined\", рейтинг еще определяется. Много пропусков, надо чем-то заполнять. Подумаю.  \n",
    "Столбец Rating, тип object, странно, а может и нет. Это же не рейтинг популярности, а возрастной рейтинг, соответственно там другая система рейтингования. Много пропусков, буду заполнять.  "
   ]
  },
  {
   "cell_type": "markdown",
   "metadata": {},
   "source": [
    "Вывод - датафрейм не выглядит запущенным, встречаются не очень понятные, пока, вопросы, типа \"tbd\" и возрастных рейтингов. Будем работать.\n",
    "Примерный план:\n",
    "1. Переменую столбцы по русски.\n",
    "2. Преобразую данные, там где это необходимо. Напишу промежуточные выводы.\n",
    "3. Обработаю пропуски. Напишу промежуточные выводы.\n",
    "4. Проведу исследоавтельский анализ данных по плану проекта. Напишу промежуточные выводы.\n",
    "5. Составлю портрет пользователя для кажого региона. Напишу промежуточные выводы.\n",
    "6. Проверю гиполтезы. Напишу промежуточные выводы.\n",
    "7. Общий вывод.  "
   ]
  },
  {
   "cell_type": "markdown",
   "metadata": {},
   "source": [
    "Переменуем столбцы по русски:  "
   ]
  },
  {
   "cell_type": "code",
   "execution_count": 6,
   "metadata": {},
   "outputs": [],
   "source": [
    "data.columns = ['имя_игры', 'платформа', 'год_выхода', 'жанр', \n",
    "                            'продажи_северная_америка', 'продажи_европа', 'продажи_япония', 'продажи_другие_страны', 'оценка_критиков', 'оценка_пользователей', 'рейтинг_ESRB']"
   ]
  },
  {
   "cell_type": "code",
   "execution_count": 7,
   "metadata": {},
   "outputs": [
    {
     "data": {
      "text/html": [
       "<div>\n",
       "<style scoped>\n",
       "    .dataframe tbody tr th:only-of-type {\n",
       "        vertical-align: middle;\n",
       "    }\n",
       "\n",
       "    .dataframe tbody tr th {\n",
       "        vertical-align: top;\n",
       "    }\n",
       "\n",
       "    .dataframe thead th {\n",
       "        text-align: right;\n",
       "    }\n",
       "</style>\n",
       "<table border=\"1\" class=\"dataframe\">\n",
       "  <thead>\n",
       "    <tr style=\"text-align: right;\">\n",
       "      <th></th>\n",
       "      <th>имя_игры</th>\n",
       "      <th>платформа</th>\n",
       "      <th>год_выхода</th>\n",
       "      <th>жанр</th>\n",
       "      <th>продажи_северная_америка</th>\n",
       "      <th>продажи_европа</th>\n",
       "      <th>продажи_япония</th>\n",
       "      <th>продажи_другие_страны</th>\n",
       "      <th>оценка_критиков</th>\n",
       "      <th>оценка_пользователей</th>\n",
       "      <th>рейтинг_ESRB</th>\n",
       "    </tr>\n",
       "  </thead>\n",
       "  <tbody>\n",
       "    <tr>\n",
       "      <td>0</td>\n",
       "      <td>Wii Sports</td>\n",
       "      <td>Wii</td>\n",
       "      <td>2006.0</td>\n",
       "      <td>Sports</td>\n",
       "      <td>41.36</td>\n",
       "      <td>28.96</td>\n",
       "      <td>3.77</td>\n",
       "      <td>8.45</td>\n",
       "      <td>76.0</td>\n",
       "      <td>8</td>\n",
       "      <td>E</td>\n",
       "    </tr>\n",
       "    <tr>\n",
       "      <td>1</td>\n",
       "      <td>Super Mario Bros.</td>\n",
       "      <td>NES</td>\n",
       "      <td>1985.0</td>\n",
       "      <td>Platform</td>\n",
       "      <td>29.08</td>\n",
       "      <td>3.58</td>\n",
       "      <td>6.81</td>\n",
       "      <td>0.77</td>\n",
       "      <td>NaN</td>\n",
       "      <td>NaN</td>\n",
       "      <td>NaN</td>\n",
       "    </tr>\n",
       "    <tr>\n",
       "      <td>2</td>\n",
       "      <td>Mario Kart Wii</td>\n",
       "      <td>Wii</td>\n",
       "      <td>2008.0</td>\n",
       "      <td>Racing</td>\n",
       "      <td>15.68</td>\n",
       "      <td>12.76</td>\n",
       "      <td>3.79</td>\n",
       "      <td>3.29</td>\n",
       "      <td>82.0</td>\n",
       "      <td>8.3</td>\n",
       "      <td>E</td>\n",
       "    </tr>\n",
       "    <tr>\n",
       "      <td>3</td>\n",
       "      <td>Wii Sports Resort</td>\n",
       "      <td>Wii</td>\n",
       "      <td>2009.0</td>\n",
       "      <td>Sports</td>\n",
       "      <td>15.61</td>\n",
       "      <td>10.93</td>\n",
       "      <td>3.28</td>\n",
       "      <td>2.95</td>\n",
       "      <td>80.0</td>\n",
       "      <td>8</td>\n",
       "      <td>E</td>\n",
       "    </tr>\n",
       "    <tr>\n",
       "      <td>4</td>\n",
       "      <td>Pokemon Red/Pokemon Blue</td>\n",
       "      <td>GB</td>\n",
       "      <td>1996.0</td>\n",
       "      <td>Role-Playing</td>\n",
       "      <td>11.27</td>\n",
       "      <td>8.89</td>\n",
       "      <td>10.22</td>\n",
       "      <td>1.00</td>\n",
       "      <td>NaN</td>\n",
       "      <td>NaN</td>\n",
       "      <td>NaN</td>\n",
       "    </tr>\n",
       "    <tr>\n",
       "      <td>5</td>\n",
       "      <td>Tetris</td>\n",
       "      <td>GB</td>\n",
       "      <td>1989.0</td>\n",
       "      <td>Puzzle</td>\n",
       "      <td>23.20</td>\n",
       "      <td>2.26</td>\n",
       "      <td>4.22</td>\n",
       "      <td>0.58</td>\n",
       "      <td>NaN</td>\n",
       "      <td>NaN</td>\n",
       "      <td>NaN</td>\n",
       "    </tr>\n",
       "    <tr>\n",
       "      <td>6</td>\n",
       "      <td>New Super Mario Bros.</td>\n",
       "      <td>DS</td>\n",
       "      <td>2006.0</td>\n",
       "      <td>Platform</td>\n",
       "      <td>11.28</td>\n",
       "      <td>9.14</td>\n",
       "      <td>6.50</td>\n",
       "      <td>2.88</td>\n",
       "      <td>89.0</td>\n",
       "      <td>8.5</td>\n",
       "      <td>E</td>\n",
       "    </tr>\n",
       "    <tr>\n",
       "      <td>7</td>\n",
       "      <td>Wii Play</td>\n",
       "      <td>Wii</td>\n",
       "      <td>2006.0</td>\n",
       "      <td>Misc</td>\n",
       "      <td>13.96</td>\n",
       "      <td>9.18</td>\n",
       "      <td>2.93</td>\n",
       "      <td>2.84</td>\n",
       "      <td>58.0</td>\n",
       "      <td>6.6</td>\n",
       "      <td>E</td>\n",
       "    </tr>\n",
       "    <tr>\n",
       "      <td>8</td>\n",
       "      <td>New Super Mario Bros. Wii</td>\n",
       "      <td>Wii</td>\n",
       "      <td>2009.0</td>\n",
       "      <td>Platform</td>\n",
       "      <td>14.44</td>\n",
       "      <td>6.94</td>\n",
       "      <td>4.70</td>\n",
       "      <td>2.24</td>\n",
       "      <td>87.0</td>\n",
       "      <td>8.4</td>\n",
       "      <td>E</td>\n",
       "    </tr>\n",
       "    <tr>\n",
       "      <td>9</td>\n",
       "      <td>Duck Hunt</td>\n",
       "      <td>NES</td>\n",
       "      <td>1984.0</td>\n",
       "      <td>Shooter</td>\n",
       "      <td>26.93</td>\n",
       "      <td>0.63</td>\n",
       "      <td>0.28</td>\n",
       "      <td>0.47</td>\n",
       "      <td>NaN</td>\n",
       "      <td>NaN</td>\n",
       "      <td>NaN</td>\n",
       "    </tr>\n",
       "  </tbody>\n",
       "</table>\n",
       "</div>"
      ],
      "text/plain": [
       "                    имя_игры платформа  год_выхода          жанр  \\\n",
       "0                 Wii Sports       Wii      2006.0        Sports   \n",
       "1          Super Mario Bros.       NES      1985.0      Platform   \n",
       "2             Mario Kart Wii       Wii      2008.0        Racing   \n",
       "3          Wii Sports Resort       Wii      2009.0        Sports   \n",
       "4   Pokemon Red/Pokemon Blue        GB      1996.0  Role-Playing   \n",
       "5                     Tetris        GB      1989.0        Puzzle   \n",
       "6      New Super Mario Bros.        DS      2006.0      Platform   \n",
       "7                   Wii Play       Wii      2006.0          Misc   \n",
       "8  New Super Mario Bros. Wii       Wii      2009.0      Platform   \n",
       "9                  Duck Hunt       NES      1984.0       Shooter   \n",
       "\n",
       "   продажи_северная_америка  продажи_европа  продажи_япония  \\\n",
       "0                     41.36           28.96            3.77   \n",
       "1                     29.08            3.58            6.81   \n",
       "2                     15.68           12.76            3.79   \n",
       "3                     15.61           10.93            3.28   \n",
       "4                     11.27            8.89           10.22   \n",
       "5                     23.20            2.26            4.22   \n",
       "6                     11.28            9.14            6.50   \n",
       "7                     13.96            9.18            2.93   \n",
       "8                     14.44            6.94            4.70   \n",
       "9                     26.93            0.63            0.28   \n",
       "\n",
       "   продажи_другие_страны  оценка_критиков оценка_пользователей рейтинг_ESRB  \n",
       "0                   8.45             76.0                    8            E  \n",
       "1                   0.77              NaN                  NaN          NaN  \n",
       "2                   3.29             82.0                  8.3            E  \n",
       "3                   2.95             80.0                    8            E  \n",
       "4                   1.00              NaN                  NaN          NaN  \n",
       "5                   0.58              NaN                  NaN          NaN  \n",
       "6                   2.88             89.0                  8.5            E  \n",
       "7                   2.84             58.0                  6.6            E  \n",
       "8                   2.24             87.0                  8.4            E  \n",
       "9                   0.47              NaN                  NaN          NaN  "
      ]
     },
     "execution_count": 7,
     "metadata": {},
     "output_type": "execute_result"
    }
   ],
   "source": [
    "data.head(10)"
   ]
  },
  {
   "cell_type": "markdown",
   "metadata": {},
   "source": [
    "Получилось, идем дальше."
   ]
  },
  {
   "cell_type": "markdown",
   "metadata": {},
   "source": [
    "2. Преобразуем данные и сразу удалим пропуски:  "
   ]
  },
  {
   "cell_type": "markdown",
   "metadata": {},
   "source": [
    "Столбец имя_игры"
   ]
  },
  {
   "cell_type": "markdown",
   "metadata": {},
   "source": [
    "Привязаться не к чему, удалим"
   ]
  },
  {
   "cell_type": "code",
   "execution_count": 8,
   "metadata": {},
   "outputs": [],
   "source": [
    "data.dropna(subset = ['имя_игры'], inplace = True)"
   ]
  },
  {
   "cell_type": "code",
   "execution_count": 9,
   "metadata": {},
   "outputs": [
    {
     "name": "stdout",
     "output_type": "stream",
     "text": [
      "<class 'pandas.core.frame.DataFrame'>\n",
      "Int64Index: 16713 entries, 0 to 16714\n",
      "Data columns (total 11 columns):\n",
      "имя_игры                    16713 non-null object\n",
      "платформа                   16713 non-null object\n",
      "год_выхода                  16444 non-null float64\n",
      "жанр                        16713 non-null object\n",
      "продажи_северная_америка    16713 non-null float64\n",
      "продажи_европа              16713 non-null float64\n",
      "продажи_япония              16713 non-null float64\n",
      "продажи_другие_страны       16713 non-null float64\n",
      "оценка_критиков             8137 non-null float64\n",
      "оценка_пользователей        10014 non-null object\n",
      "рейтинг_ESRB                9949 non-null object\n",
      "dtypes: float64(6), object(5)\n",
      "memory usage: 1.5+ MB\n"
     ]
    }
   ],
   "source": [
    "data.info()"
   ]
  },
  {
   "cell_type": "markdown",
   "metadata": {},
   "source": [
    "Столбец год_выхода"
   ]
  },
  {
   "cell_type": "code",
   "execution_count": 10,
   "metadata": {},
   "outputs": [
    {
     "name": "stdout",
     "output_type": "stream",
     "text": [
      "Количество NaN в столбце год_выхода: 269\n"
     ]
    }
   ],
   "source": [
    "print('Количество NaN в столбце год_выхода:', data['год_выхода'].isnull().sum())"
   ]
  },
  {
   "cell_type": "markdown",
   "metadata": {},
   "source": [
    "269 пропусков или 1,6% от всего датафрейма. Причина пропуска, скорее всего, баг выгрузки.  \n",
    "Средним или медианной не заполнить, это не числа. Без жалости, удалю, не люблю работать с NaN.  "
   ]
  },
  {
   "cell_type": "code",
   "execution_count": 11,
   "metadata": {},
   "outputs": [],
   "source": [
    "data.dropna(subset = ['год_выхода'], inplace = True)"
   ]
  },
  {
   "cell_type": "code",
   "execution_count": 12,
   "metadata": {},
   "outputs": [
    {
     "name": "stdout",
     "output_type": "stream",
     "text": [
      "Количество NaN в столбце год_выхода: 0\n"
     ]
    }
   ],
   "source": [
    "print('Количество NaN в столбце год_выхода:', data['год_выхода'].isnull().sum())"
   ]
  },
  {
   "cell_type": "markdown",
   "metadata": {},
   "source": [
    "Формат столбца год_выхода - float64, неправильно, надо, чтобы была дата. Преобразуем."
   ]
  },
  {
   "cell_type": "code",
   "execution_count": 13,
   "metadata": {},
   "outputs": [],
   "source": [
    "from datetime import datetime"
   ]
  },
  {
   "cell_type": "code",
   "execution_count": 14,
   "metadata": {},
   "outputs": [],
   "source": [
    "data['год_выхода'] = pd.to_datetime(data['год_выхода'], format='%Y')"
   ]
  },
  {
   "cell_type": "code",
   "execution_count": 15,
   "metadata": {},
   "outputs": [],
   "source": [
    "data.loc[:, 'год_выхода'] = data.loc[:, 'год_выхода'].dt.year"
   ]
  },
  {
   "cell_type": "code",
   "execution_count": 16,
   "metadata": {},
   "outputs": [
    {
     "name": "stdout",
     "output_type": "stream",
     "text": [
      "<class 'pandas.core.frame.DataFrame'>\n",
      "Int64Index: 16444 entries, 0 to 16714\n",
      "Data columns (total 11 columns):\n",
      "имя_игры                    16444 non-null object\n",
      "платформа                   16444 non-null object\n",
      "год_выхода                  16444 non-null int64\n",
      "жанр                        16444 non-null object\n",
      "продажи_северная_америка    16444 non-null float64\n",
      "продажи_европа              16444 non-null float64\n",
      "продажи_япония              16444 non-null float64\n",
      "продажи_другие_страны       16444 non-null float64\n",
      "оценка_критиков             7983 non-null float64\n",
      "оценка_пользователей        9839 non-null object\n",
      "рейтинг_ESRB                9768 non-null object\n",
      "dtypes: float64(5), int64(1), object(5)\n",
      "memory usage: 1.5+ MB\n"
     ]
    }
   ],
   "source": [
    "data.info()"
   ]
  },
  {
   "cell_type": "markdown",
   "metadata": {},
   "source": [
    "Столбец жанр"
   ]
  },
  {
   "cell_type": "code",
   "execution_count": 17,
   "metadata": {},
   "outputs": [
    {
     "name": "stdout",
     "output_type": "stream",
     "text": [
      "Количество NaN в столбце жанр: 0\n"
     ]
    }
   ],
   "source": [
    "print('Количество NaN в столбце жанр:', data['жанр'].isnull().sum())"
   ]
  },
  {
   "cell_type": "markdown",
   "metadata": {},
   "source": [
    "Пропуски удалились вместе с пропусками в столбце год_выхода"
   ]
  },
  {
   "cell_type": "markdown",
   "metadata": {},
   "source": [
    "Столбцы продажи по регионам, без пропусков, тип данных правильный."
   ]
  },
  {
   "cell_type": "markdown",
   "metadata": {},
   "source": [
    "Столбец оценка_критиков"
   ]
  },
  {
   "cell_type": "code",
   "execution_count": 18,
   "metadata": {},
   "outputs": [
    {
     "name": "stdout",
     "output_type": "stream",
     "text": [
      "Количество NaN в столбце оценка_критиков: 8461\n"
     ]
    }
   ],
   "source": [
    "print('Количество NaN в столбце оценка_критиков:', data['оценка_критиков'].isnull().sum())"
   ]
  },
  {
   "cell_type": "markdown",
   "metadata": {},
   "source": [
    "8461 пропуск или, почти 51% датафрейма, это очень и очень много. Не похоже на баг. Скорее всего, просто, критики не оценивают все подряд. А если не оценивают, значит не оценили, значит оценка \"0\", им и заменю."
   ]
  },
  {
   "cell_type": "code",
   "execution_count": 19,
   "metadata": {},
   "outputs": [
    {
     "name": "stdout",
     "output_type": "stream",
     "text": [
      "Количество NaN в столбце оценка_критиков: 0\n"
     ]
    }
   ],
   "source": [
    "data['оценка_критиков'] = data['оценка_критиков'].fillna(0)\n",
    "print('Количество NaN в столбце оценка_критиков:', data['оценка_критиков'].isnull().sum())"
   ]
  },
  {
   "cell_type": "markdown",
   "metadata": {},
   "source": [
    "Столбец оценка_пользователей"
   ]
  },
  {
   "cell_type": "code",
   "execution_count": 20,
   "metadata": {},
   "outputs": [
    {
     "name": "stdout",
     "output_type": "stream",
     "text": [
      "Количество NaN в столбце оценка_пользователей: 6605\n"
     ]
    }
   ],
   "source": [
    "print('Количество NaN в столбце оценка_пользователей:', data['оценка_пользователей'].isnull().sum())"
   ]
  },
  {
   "cell_type": "markdown",
   "metadata": {},
   "source": [
    "6605 пропусков, или 40% датафрейма. Много. Это не баг выгрузки. Вполне вероятно, что пользователи не поставили оценку игре. Факт покупки, уже оценка. \"Объем продаж - лучший показатель, а не эти все \"лайки\" и тд\". Заменю на \"0\".\n",
    "В столбце оценка_пользователей, встречаются еще \"загадочные\" tbd, это, значит, что какие-то оценки были, но их было мало, как правило, менее 4, поэтому итоговая оценка не сформировалась. Не буду фантазировать, заменю на \"nan\", потому что, если бы игра стала бы очень популярной, ей бы побольше оценок поставили, а 3-4 оценки, это очень и очень мало. Преобразую тип данных."
   ]
  },
  {
   "cell_type": "code",
   "execution_count": 21,
   "metadata": {},
   "outputs": [],
   "source": [
    "data['оценка_пользователей'] = data['оценка_пользователей'].replace('tbd', np.NaN)\n",
    "data['оценка_пользователей'] = data['оценка_пользователей'].fillna(0)\n",
    "data['оценка_пользователей'] = data['оценка_пользователей'].astype('float')"
   ]
  },
  {
   "cell_type": "markdown",
   "metadata": {},
   "source": [
    "Получилось"
   ]
  },
  {
   "cell_type": "markdown",
   "metadata": {},
   "source": [
    "Столбец рейтинг_ESRB"
   ]
  },
  {
   "cell_type": "code",
   "execution_count": 22,
   "metadata": {},
   "outputs": [
    {
     "name": "stdout",
     "output_type": "stream",
     "text": [
      "Количество NaN в столбце рейтинг_ESRB: 6676\n"
     ]
    }
   ],
   "source": [
    "print('Количество NaN в столбце рейтинг_ESRB:', data['рейтинг_ESRB'].isnull().sum())"
   ]
  },
  {
   "cell_type": "markdown",
   "metadata": {},
   "source": [
    "6676 пропусков, 40% датафрейма. Много. Как известно, это возрастной рейтинг и по какой-то причине, уважаемая компания Entertainment Software Rating Board не рейтинговала игру. Может быть потому что за присвоение рейтинга надо платить? А есть игры, типа цветных шариков, в которые играют и стар и млад и разработчики не считают нужным нести дополнительные затраты? Ко всему прочему, рейтинг_ESRB - категориальный. Посмотрю на этот столбец подробнее."
   ]
  },
  {
   "cell_type": "code",
   "execution_count": 23,
   "metadata": {},
   "outputs": [
    {
     "data": {
      "text/plain": [
       "array(['E', nan, 'M', 'T', 'E10+', 'K-A', 'AO', 'EC', 'RP'], dtype=object)"
      ]
     },
     "execution_count": 23,
     "metadata": {},
     "output_type": "execute_result"
    }
   ],
   "source": [
    "data['рейтинг_ESRB'].unique()"
   ]
  },
  {
   "cell_type": "markdown",
   "metadata": {},
   "source": [
    "Как известно, отсюда: https://ru.wikipedia.org/wiki/Entertainment_Software_Rating_Board, рейтинги ESRB делятся на:  \n",
    "«E» («Everyone») — «Для всех»,  \n",
    "«M» («Mature») — «Для взрослых»,  \n",
    "«T» («Teen») — «Подросткам»,  \n",
    "«E10+» («Everyone 10 and older») — «Для всех от 10 лет и старше»,  \n",
    "«AO» («Adults Only 18+») — «Только для взрослых»,  \n",
    "«EC» («Early childhood») — «Для детей младшего возраста»,  \n",
    "«RP» («Rating Pending») — «Рейтинг ожидается»,  \n",
    "Остался какой-то загадочный 'K-A'. \"Это «E» («Everyone») — «Для всех»: Содержание вполне подходит для возрастной категории от 6 лет и старше; такие игры могут понравиться и взрослым. Игры с этим рейтингом могут содержать минимальное насилие, в основном «мультяшного» характера. Первой игрой, которая получила данный рейтинг, стала The Simpsons Cartoon Studio, выпущенная в 1996 году. Первоначально \"K-A\" (\"Kids to Adults\")\",  \n",
    "И остались еще nan.  "
   ]
  },
  {
   "cell_type": "markdown",
   "metadata": {},
   "source": [
    "Сначала заменю NaN, на нет_рейтинга"
   ]
  },
  {
   "cell_type": "code",
   "execution_count": 24,
   "metadata": {},
   "outputs": [],
   "source": [
    "data['рейтинг_ESRB'] = data['рейтинг_ESRB'].fillna(0)\n",
    "data['рейтинг_ESRB'] = data['рейтинг_ESRB'].replace(0, 'нет_рейтинга')"
   ]
  },
  {
   "cell_type": "markdown",
   "metadata": {},
   "source": [
    "Тоже самое сделаю, для «RP» - рейтинг ожидается, значит его нет."
   ]
  },
  {
   "cell_type": "code",
   "execution_count": 25,
   "metadata": {},
   "outputs": [],
   "source": [
    "data['рейтинг_ESRB'] = data['рейтинг_ESRB'].replace('RP', 'нет_рейтинга')"
   ]
  },
  {
   "cell_type": "markdown",
   "metadata": {},
   "source": [
    "Заменю 'K-A' на «E»"
   ]
  },
  {
   "cell_type": "code",
   "execution_count": 26,
   "metadata": {},
   "outputs": [],
   "source": [
    "data['рейтинг_ESRB'] = data['рейтинг_ESRB'].replace('K-A', 'E')"
   ]
  },
  {
   "cell_type": "markdown",
   "metadata": {},
   "source": [
    "Посмотрю на столбец"
   ]
  },
  {
   "cell_type": "code",
   "execution_count": 27,
   "metadata": {},
   "outputs": [
    {
     "data": {
      "text/plain": [
       "array(['E', 'нет_рейтинга', 'M', 'T', 'E10+', 'AO', 'EC'], dtype=object)"
      ]
     },
     "execution_count": 27,
     "metadata": {},
     "output_type": "execute_result"
    }
   ],
   "source": [
    "data['рейтинг_ESRB'].unique()"
   ]
  },
  {
   "cell_type": "markdown",
   "metadata": {},
   "source": [
    "Уже лучше, но все равно много - 7 вариантов, тяжело будет сотруднику \"Стримчика\", надо сделать еще проще.  \n",
    "Объединю, «M» и «AO». Человек, либо взрослый, либо нет. А во что играть, личный выбор каждого.  \n",
    "Объединю, «T» и «E10+», сейчас, подростки считаются уже с 10-12 лет. А во что можно играть подросткам, в то можно играть и остальным.  \n",
    "Остальные оставлю как есть, переведу на русский.  "
   ]
  },
  {
   "cell_type": "code",
   "execution_count": 28,
   "metadata": {},
   "outputs": [],
   "source": [
    "data['рейтинг_ESRB'] = data['рейтинг_ESRB'].replace('M', 'только_взрослые')\n",
    "data['рейтинг_ESRB'] = data['рейтинг_ESRB'].replace('AO', 'только_взрослые')"
   ]
  },
  {
   "cell_type": "code",
   "execution_count": 29,
   "metadata": {},
   "outputs": [],
   "source": [
    "data['рейтинг_ESRB'] = data['рейтинг_ESRB'].replace('T', 'подростки_и_старше')\n",
    "data['рейтинг_ESRB'] = data['рейтинг_ESRB'].replace('E10+', 'подростки_и_старше')"
   ]
  },
  {
   "cell_type": "code",
   "execution_count": 30,
   "metadata": {},
   "outputs": [],
   "source": [
    "data['рейтинг_ESRB'] = data['рейтинг_ESRB'].replace('E', 'для_всех')"
   ]
  },
  {
   "cell_type": "code",
   "execution_count": 31,
   "metadata": {},
   "outputs": [],
   "source": [
    "data['рейтинг_ESRB'] = data['рейтинг_ESRB'].replace('EC', 'для_малышей')"
   ]
  },
  {
   "cell_type": "code",
   "execution_count": 32,
   "metadata": {},
   "outputs": [
    {
     "data": {
      "text/plain": [
       "array(['для_всех', 'нет_рейтинга', 'только_взрослые',\n",
       "       'подростки_и_старше', 'для_малышей'], dtype=object)"
      ]
     },
     "execution_count": 32,
     "metadata": {},
     "output_type": "execute_result"
    }
   ],
   "source": [
    "data['рейтинг_ESRB'].unique()"
   ]
  },
  {
   "cell_type": "markdown",
   "metadata": {},
   "source": [
    "Получилось, посмотрим на датафрейм"
   ]
  },
  {
   "cell_type": "code",
   "execution_count": 33,
   "metadata": {},
   "outputs": [
    {
     "data": {
      "text/html": [
       "<div>\n",
       "<style scoped>\n",
       "    .dataframe tbody tr th:only-of-type {\n",
       "        vertical-align: middle;\n",
       "    }\n",
       "\n",
       "    .dataframe tbody tr th {\n",
       "        vertical-align: top;\n",
       "    }\n",
       "\n",
       "    .dataframe thead th {\n",
       "        text-align: right;\n",
       "    }\n",
       "</style>\n",
       "<table border=\"1\" class=\"dataframe\">\n",
       "  <thead>\n",
       "    <tr style=\"text-align: right;\">\n",
       "      <th></th>\n",
       "      <th>имя_игры</th>\n",
       "      <th>платформа</th>\n",
       "      <th>год_выхода</th>\n",
       "      <th>жанр</th>\n",
       "      <th>продажи_северная_америка</th>\n",
       "      <th>продажи_европа</th>\n",
       "      <th>продажи_япония</th>\n",
       "      <th>продажи_другие_страны</th>\n",
       "      <th>оценка_критиков</th>\n",
       "      <th>оценка_пользователей</th>\n",
       "      <th>рейтинг_ESRB</th>\n",
       "    </tr>\n",
       "  </thead>\n",
       "  <tbody>\n",
       "    <tr>\n",
       "      <td>0</td>\n",
       "      <td>Wii Sports</td>\n",
       "      <td>Wii</td>\n",
       "      <td>2006</td>\n",
       "      <td>Sports</td>\n",
       "      <td>41.36</td>\n",
       "      <td>28.96</td>\n",
       "      <td>3.77</td>\n",
       "      <td>8.45</td>\n",
       "      <td>76.0</td>\n",
       "      <td>8.0</td>\n",
       "      <td>для_всех</td>\n",
       "    </tr>\n",
       "    <tr>\n",
       "      <td>1</td>\n",
       "      <td>Super Mario Bros.</td>\n",
       "      <td>NES</td>\n",
       "      <td>1985</td>\n",
       "      <td>Platform</td>\n",
       "      <td>29.08</td>\n",
       "      <td>3.58</td>\n",
       "      <td>6.81</td>\n",
       "      <td>0.77</td>\n",
       "      <td>0.0</td>\n",
       "      <td>0.0</td>\n",
       "      <td>нет_рейтинга</td>\n",
       "    </tr>\n",
       "    <tr>\n",
       "      <td>2</td>\n",
       "      <td>Mario Kart Wii</td>\n",
       "      <td>Wii</td>\n",
       "      <td>2008</td>\n",
       "      <td>Racing</td>\n",
       "      <td>15.68</td>\n",
       "      <td>12.76</td>\n",
       "      <td>3.79</td>\n",
       "      <td>3.29</td>\n",
       "      <td>82.0</td>\n",
       "      <td>8.3</td>\n",
       "      <td>для_всех</td>\n",
       "    </tr>\n",
       "    <tr>\n",
       "      <td>3</td>\n",
       "      <td>Wii Sports Resort</td>\n",
       "      <td>Wii</td>\n",
       "      <td>2009</td>\n",
       "      <td>Sports</td>\n",
       "      <td>15.61</td>\n",
       "      <td>10.93</td>\n",
       "      <td>3.28</td>\n",
       "      <td>2.95</td>\n",
       "      <td>80.0</td>\n",
       "      <td>8.0</td>\n",
       "      <td>для_всех</td>\n",
       "    </tr>\n",
       "    <tr>\n",
       "      <td>4</td>\n",
       "      <td>Pokemon Red/Pokemon Blue</td>\n",
       "      <td>GB</td>\n",
       "      <td>1996</td>\n",
       "      <td>Role-Playing</td>\n",
       "      <td>11.27</td>\n",
       "      <td>8.89</td>\n",
       "      <td>10.22</td>\n",
       "      <td>1.00</td>\n",
       "      <td>0.0</td>\n",
       "      <td>0.0</td>\n",
       "      <td>нет_рейтинга</td>\n",
       "    </tr>\n",
       "    <tr>\n",
       "      <td>5</td>\n",
       "      <td>Tetris</td>\n",
       "      <td>GB</td>\n",
       "      <td>1989</td>\n",
       "      <td>Puzzle</td>\n",
       "      <td>23.20</td>\n",
       "      <td>2.26</td>\n",
       "      <td>4.22</td>\n",
       "      <td>0.58</td>\n",
       "      <td>0.0</td>\n",
       "      <td>0.0</td>\n",
       "      <td>нет_рейтинга</td>\n",
       "    </tr>\n",
       "    <tr>\n",
       "      <td>6</td>\n",
       "      <td>New Super Mario Bros.</td>\n",
       "      <td>DS</td>\n",
       "      <td>2006</td>\n",
       "      <td>Platform</td>\n",
       "      <td>11.28</td>\n",
       "      <td>9.14</td>\n",
       "      <td>6.50</td>\n",
       "      <td>2.88</td>\n",
       "      <td>89.0</td>\n",
       "      <td>8.5</td>\n",
       "      <td>для_всех</td>\n",
       "    </tr>\n",
       "    <tr>\n",
       "      <td>7</td>\n",
       "      <td>Wii Play</td>\n",
       "      <td>Wii</td>\n",
       "      <td>2006</td>\n",
       "      <td>Misc</td>\n",
       "      <td>13.96</td>\n",
       "      <td>9.18</td>\n",
       "      <td>2.93</td>\n",
       "      <td>2.84</td>\n",
       "      <td>58.0</td>\n",
       "      <td>6.6</td>\n",
       "      <td>для_всех</td>\n",
       "    </tr>\n",
       "    <tr>\n",
       "      <td>8</td>\n",
       "      <td>New Super Mario Bros. Wii</td>\n",
       "      <td>Wii</td>\n",
       "      <td>2009</td>\n",
       "      <td>Platform</td>\n",
       "      <td>14.44</td>\n",
       "      <td>6.94</td>\n",
       "      <td>4.70</td>\n",
       "      <td>2.24</td>\n",
       "      <td>87.0</td>\n",
       "      <td>8.4</td>\n",
       "      <td>для_всех</td>\n",
       "    </tr>\n",
       "    <tr>\n",
       "      <td>9</td>\n",
       "      <td>Duck Hunt</td>\n",
       "      <td>NES</td>\n",
       "      <td>1984</td>\n",
       "      <td>Shooter</td>\n",
       "      <td>26.93</td>\n",
       "      <td>0.63</td>\n",
       "      <td>0.28</td>\n",
       "      <td>0.47</td>\n",
       "      <td>0.0</td>\n",
       "      <td>0.0</td>\n",
       "      <td>нет_рейтинга</td>\n",
       "    </tr>\n",
       "  </tbody>\n",
       "</table>\n",
       "</div>"
      ],
      "text/plain": [
       "                    имя_игры платформа  год_выхода          жанр  \\\n",
       "0                 Wii Sports       Wii        2006        Sports   \n",
       "1          Super Mario Bros.       NES        1985      Platform   \n",
       "2             Mario Kart Wii       Wii        2008        Racing   \n",
       "3          Wii Sports Resort       Wii        2009        Sports   \n",
       "4   Pokemon Red/Pokemon Blue        GB        1996  Role-Playing   \n",
       "5                     Tetris        GB        1989        Puzzle   \n",
       "6      New Super Mario Bros.        DS        2006      Platform   \n",
       "7                   Wii Play       Wii        2006          Misc   \n",
       "8  New Super Mario Bros. Wii       Wii        2009      Platform   \n",
       "9                  Duck Hunt       NES        1984       Shooter   \n",
       "\n",
       "   продажи_северная_америка  продажи_европа  продажи_япония  \\\n",
       "0                     41.36           28.96            3.77   \n",
       "1                     29.08            3.58            6.81   \n",
       "2                     15.68           12.76            3.79   \n",
       "3                     15.61           10.93            3.28   \n",
       "4                     11.27            8.89           10.22   \n",
       "5                     23.20            2.26            4.22   \n",
       "6                     11.28            9.14            6.50   \n",
       "7                     13.96            9.18            2.93   \n",
       "8                     14.44            6.94            4.70   \n",
       "9                     26.93            0.63            0.28   \n",
       "\n",
       "   продажи_другие_страны  оценка_критиков  оценка_пользователей  рейтинг_ESRB  \n",
       "0                   8.45             76.0                   8.0      для_всех  \n",
       "1                   0.77              0.0                   0.0  нет_рейтинга  \n",
       "2                   3.29             82.0                   8.3      для_всех  \n",
       "3                   2.95             80.0                   8.0      для_всех  \n",
       "4                   1.00              0.0                   0.0  нет_рейтинга  \n",
       "5                   0.58              0.0                   0.0  нет_рейтинга  \n",
       "6                   2.88             89.0                   8.5      для_всех  \n",
       "7                   2.84             58.0                   6.6      для_всех  \n",
       "8                   2.24             87.0                   8.4      для_всех  \n",
       "9                   0.47              0.0                   0.0  нет_рейтинга  "
      ]
     },
     "execution_count": 33,
     "metadata": {},
     "output_type": "execute_result"
    }
   ],
   "source": [
    "data.head(10)"
   ]
  },
  {
   "cell_type": "code",
   "execution_count": 34,
   "metadata": {},
   "outputs": [
    {
     "name": "stdout",
     "output_type": "stream",
     "text": [
      "<class 'pandas.core.frame.DataFrame'>\n",
      "Int64Index: 16444 entries, 0 to 16714\n",
      "Data columns (total 11 columns):\n",
      "имя_игры                    16444 non-null object\n",
      "платформа                   16444 non-null object\n",
      "год_выхода                  16444 non-null int64\n",
      "жанр                        16444 non-null object\n",
      "продажи_северная_америка    16444 non-null float64\n",
      "продажи_европа              16444 non-null float64\n",
      "продажи_япония              16444 non-null float64\n",
      "продажи_другие_страны       16444 non-null float64\n",
      "оценка_критиков             16444 non-null float64\n",
      "оценка_пользователей        16444 non-null float64\n",
      "рейтинг_ESRB                16444 non-null object\n",
      "dtypes: float64(6), int64(1), object(4)\n",
      "memory usage: 1.5+ MB\n"
     ]
    }
   ],
   "source": [
    "data.info(10)"
   ]
  },
  {
   "cell_type": "markdown",
   "metadata": {},
   "source": [
    "Пока все ОК, осталось 98% датафрейма, пропуски заполнены, данные категоризированы, типы данных, пригодны для дальнейшего анализа."
   ]
  },
  {
   "cell_type": "markdown",
   "metadata": {},
   "source": [
    "Задания"
   ]
  },
  {
   "cell_type": "markdown",
   "metadata": {},
   "source": [
    "Посчитаем суммарные продажи во всех регионах и запишем их в отдельный столбец"
   ]
  },
  {
   "cell_type": "code",
   "execution_count": 35,
   "metadata": {},
   "outputs": [],
   "source": [
    "data['суммарные_продажи']  = data['продажи_северная_америка'] + data['продажи_европа'] + data['продажи_япония'] + data['продажи_другие_страны']"
   ]
  },
  {
   "cell_type": "code",
   "execution_count": 36,
   "metadata": {},
   "outputs": [
    {
     "data": {
      "text/html": [
       "<div>\n",
       "<style scoped>\n",
       "    .dataframe tbody tr th:only-of-type {\n",
       "        vertical-align: middle;\n",
       "    }\n",
       "\n",
       "    .dataframe tbody tr th {\n",
       "        vertical-align: top;\n",
       "    }\n",
       "\n",
       "    .dataframe thead th {\n",
       "        text-align: right;\n",
       "    }\n",
       "</style>\n",
       "<table border=\"1\" class=\"dataframe\">\n",
       "  <thead>\n",
       "    <tr style=\"text-align: right;\">\n",
       "      <th></th>\n",
       "      <th>имя_игры</th>\n",
       "      <th>платформа</th>\n",
       "      <th>год_выхода</th>\n",
       "      <th>жанр</th>\n",
       "      <th>продажи_северная_америка</th>\n",
       "      <th>продажи_европа</th>\n",
       "      <th>продажи_япония</th>\n",
       "      <th>продажи_другие_страны</th>\n",
       "      <th>оценка_критиков</th>\n",
       "      <th>оценка_пользователей</th>\n",
       "      <th>рейтинг_ESRB</th>\n",
       "      <th>суммарные_продажи</th>\n",
       "    </tr>\n",
       "  </thead>\n",
       "  <tbody>\n",
       "    <tr>\n",
       "      <td>0</td>\n",
       "      <td>Wii Sports</td>\n",
       "      <td>Wii</td>\n",
       "      <td>2006</td>\n",
       "      <td>Sports</td>\n",
       "      <td>41.36</td>\n",
       "      <td>28.96</td>\n",
       "      <td>3.77</td>\n",
       "      <td>8.45</td>\n",
       "      <td>76.0</td>\n",
       "      <td>8.0</td>\n",
       "      <td>для_всех</td>\n",
       "      <td>82.54</td>\n",
       "    </tr>\n",
       "    <tr>\n",
       "      <td>1</td>\n",
       "      <td>Super Mario Bros.</td>\n",
       "      <td>NES</td>\n",
       "      <td>1985</td>\n",
       "      <td>Platform</td>\n",
       "      <td>29.08</td>\n",
       "      <td>3.58</td>\n",
       "      <td>6.81</td>\n",
       "      <td>0.77</td>\n",
       "      <td>0.0</td>\n",
       "      <td>0.0</td>\n",
       "      <td>нет_рейтинга</td>\n",
       "      <td>40.24</td>\n",
       "    </tr>\n",
       "    <tr>\n",
       "      <td>2</td>\n",
       "      <td>Mario Kart Wii</td>\n",
       "      <td>Wii</td>\n",
       "      <td>2008</td>\n",
       "      <td>Racing</td>\n",
       "      <td>15.68</td>\n",
       "      <td>12.76</td>\n",
       "      <td>3.79</td>\n",
       "      <td>3.29</td>\n",
       "      <td>82.0</td>\n",
       "      <td>8.3</td>\n",
       "      <td>для_всех</td>\n",
       "      <td>35.52</td>\n",
       "    </tr>\n",
       "    <tr>\n",
       "      <td>3</td>\n",
       "      <td>Wii Sports Resort</td>\n",
       "      <td>Wii</td>\n",
       "      <td>2009</td>\n",
       "      <td>Sports</td>\n",
       "      <td>15.61</td>\n",
       "      <td>10.93</td>\n",
       "      <td>3.28</td>\n",
       "      <td>2.95</td>\n",
       "      <td>80.0</td>\n",
       "      <td>8.0</td>\n",
       "      <td>для_всех</td>\n",
       "      <td>32.77</td>\n",
       "    </tr>\n",
       "    <tr>\n",
       "      <td>4</td>\n",
       "      <td>Pokemon Red/Pokemon Blue</td>\n",
       "      <td>GB</td>\n",
       "      <td>1996</td>\n",
       "      <td>Role-Playing</td>\n",
       "      <td>11.27</td>\n",
       "      <td>8.89</td>\n",
       "      <td>10.22</td>\n",
       "      <td>1.00</td>\n",
       "      <td>0.0</td>\n",
       "      <td>0.0</td>\n",
       "      <td>нет_рейтинга</td>\n",
       "      <td>31.38</td>\n",
       "    </tr>\n",
       "    <tr>\n",
       "      <td>5</td>\n",
       "      <td>Tetris</td>\n",
       "      <td>GB</td>\n",
       "      <td>1989</td>\n",
       "      <td>Puzzle</td>\n",
       "      <td>23.20</td>\n",
       "      <td>2.26</td>\n",
       "      <td>4.22</td>\n",
       "      <td>0.58</td>\n",
       "      <td>0.0</td>\n",
       "      <td>0.0</td>\n",
       "      <td>нет_рейтинга</td>\n",
       "      <td>30.26</td>\n",
       "    </tr>\n",
       "    <tr>\n",
       "      <td>6</td>\n",
       "      <td>New Super Mario Bros.</td>\n",
       "      <td>DS</td>\n",
       "      <td>2006</td>\n",
       "      <td>Platform</td>\n",
       "      <td>11.28</td>\n",
       "      <td>9.14</td>\n",
       "      <td>6.50</td>\n",
       "      <td>2.88</td>\n",
       "      <td>89.0</td>\n",
       "      <td>8.5</td>\n",
       "      <td>для_всех</td>\n",
       "      <td>29.80</td>\n",
       "    </tr>\n",
       "    <tr>\n",
       "      <td>7</td>\n",
       "      <td>Wii Play</td>\n",
       "      <td>Wii</td>\n",
       "      <td>2006</td>\n",
       "      <td>Misc</td>\n",
       "      <td>13.96</td>\n",
       "      <td>9.18</td>\n",
       "      <td>2.93</td>\n",
       "      <td>2.84</td>\n",
       "      <td>58.0</td>\n",
       "      <td>6.6</td>\n",
       "      <td>для_всех</td>\n",
       "      <td>28.91</td>\n",
       "    </tr>\n",
       "    <tr>\n",
       "      <td>8</td>\n",
       "      <td>New Super Mario Bros. Wii</td>\n",
       "      <td>Wii</td>\n",
       "      <td>2009</td>\n",
       "      <td>Platform</td>\n",
       "      <td>14.44</td>\n",
       "      <td>6.94</td>\n",
       "      <td>4.70</td>\n",
       "      <td>2.24</td>\n",
       "      <td>87.0</td>\n",
       "      <td>8.4</td>\n",
       "      <td>для_всех</td>\n",
       "      <td>28.32</td>\n",
       "    </tr>\n",
       "    <tr>\n",
       "      <td>9</td>\n",
       "      <td>Duck Hunt</td>\n",
       "      <td>NES</td>\n",
       "      <td>1984</td>\n",
       "      <td>Shooter</td>\n",
       "      <td>26.93</td>\n",
       "      <td>0.63</td>\n",
       "      <td>0.28</td>\n",
       "      <td>0.47</td>\n",
       "      <td>0.0</td>\n",
       "      <td>0.0</td>\n",
       "      <td>нет_рейтинга</td>\n",
       "      <td>28.31</td>\n",
       "    </tr>\n",
       "  </tbody>\n",
       "</table>\n",
       "</div>"
      ],
      "text/plain": [
       "                    имя_игры платформа  год_выхода          жанр  \\\n",
       "0                 Wii Sports       Wii        2006        Sports   \n",
       "1          Super Mario Bros.       NES        1985      Platform   \n",
       "2             Mario Kart Wii       Wii        2008        Racing   \n",
       "3          Wii Sports Resort       Wii        2009        Sports   \n",
       "4   Pokemon Red/Pokemon Blue        GB        1996  Role-Playing   \n",
       "5                     Tetris        GB        1989        Puzzle   \n",
       "6      New Super Mario Bros.        DS        2006      Platform   \n",
       "7                   Wii Play       Wii        2006          Misc   \n",
       "8  New Super Mario Bros. Wii       Wii        2009      Platform   \n",
       "9                  Duck Hunt       NES        1984       Shooter   \n",
       "\n",
       "   продажи_северная_америка  продажи_европа  продажи_япония  \\\n",
       "0                     41.36           28.96            3.77   \n",
       "1                     29.08            3.58            6.81   \n",
       "2                     15.68           12.76            3.79   \n",
       "3                     15.61           10.93            3.28   \n",
       "4                     11.27            8.89           10.22   \n",
       "5                     23.20            2.26            4.22   \n",
       "6                     11.28            9.14            6.50   \n",
       "7                     13.96            9.18            2.93   \n",
       "8                     14.44            6.94            4.70   \n",
       "9                     26.93            0.63            0.28   \n",
       "\n",
       "   продажи_другие_страны  оценка_критиков  оценка_пользователей  рейтинг_ESRB  \\\n",
       "0                   8.45             76.0                   8.0      для_всех   \n",
       "1                   0.77              0.0                   0.0  нет_рейтинга   \n",
       "2                   3.29             82.0                   8.3      для_всех   \n",
       "3                   2.95             80.0                   8.0      для_всех   \n",
       "4                   1.00              0.0                   0.0  нет_рейтинга   \n",
       "5                   0.58              0.0                   0.0  нет_рейтинга   \n",
       "6                   2.88             89.0                   8.5      для_всех   \n",
       "7                   2.84             58.0                   6.6      для_всех   \n",
       "8                   2.24             87.0                   8.4      для_всех   \n",
       "9                   0.47              0.0                   0.0  нет_рейтинга   \n",
       "\n",
       "   суммарные_продажи  \n",
       "0              82.54  \n",
       "1              40.24  \n",
       "2              35.52  \n",
       "3              32.77  \n",
       "4              31.38  \n",
       "5              30.26  \n",
       "6              29.80  \n",
       "7              28.91  \n",
       "8              28.32  \n",
       "9              28.31  "
      ]
     },
     "execution_count": 36,
     "metadata": {},
     "output_type": "execute_result"
    }
   ],
   "source": [
    "data.head(10)"
   ]
  },
  {
   "cell_type": "markdown",
   "metadata": {},
   "source": [
    "Посмотрим на столбец жанр. Попробуем категоризировать."
   ]
  },
  {
   "cell_type": "code",
   "execution_count": 37,
   "metadata": {},
   "outputs": [
    {
     "data": {
      "text/plain": [
       "array(['Sports', 'Platform', 'Racing', 'Role-Playing', 'Puzzle', 'Misc',\n",
       "       'Shooter', 'Simulation', 'Action', 'Fighting', 'Adventure',\n",
       "       'Strategy'], dtype=object)"
      ]
     },
     "execution_count": 37,
     "metadata": {},
     "output_type": "execute_result"
    }
   ],
   "source": [
    "data['жанр'].unique()"
   ]
  },
  {
   "cell_type": "markdown",
   "metadata": {},
   "source": [
    "Не так много, как представлялось. Облегчим задачу менеджеру Стримчика, заодно сами разберемся какие жанры бывают, может быть удастся укрупнить жанры.  "
   ]
  },
  {
   "cell_type": "code",
   "execution_count": 38,
   "metadata": {},
   "outputs": [],
   "source": [
    "data['жанр'] = data['жанр'].replace('Sports', 'спорт')\n",
    "data['жанр'] = data['жанр'].replace('Platform', 'платформер') # (собирание/уклонение, прыжки), см. https://gamesisart.ru/TableJanr.html#Platformer\n",
    "data['жанр'] = data['жанр'].replace('Racing', 'гонки')\n",
    "data['жанр'] = data['жанр'].replace('Role-Playing', 'ролевая_игра')\n",
    "data['жанр'] = data['жанр'].replace('Puzzle', 'головоломка')\n",
    "data['жанр'] = data['жанр'].replace('Misc', 'разные_действия') # см. Miscellaneous game: оказывается классификаций компьютерных игр, очень много. См. также https://ru.wikipedia.org/wiki/%D0%9A%D0%BB%D0%B0%D1%81%D1%81%D0%B8%D1%84%D0%B8%D0%BA%D0%B0%D1%86%D0%B8%D1%8F_%D0%BA%D0%BE%D0%BC%D0%BF%D1%8C%D1%8E%D1%82%D0%B5%D1%80%D0%BD%D1%8B%D1%85_%D0%B8%D0%B3%D1%80\n",
    "data['жанр'] = data['жанр'].replace('Shooter', 'стрелялка')\n",
    "data['жанр'] = data['жанр'].replace('Simulation', 'симулятор')\n",
    "data['жанр'] = data['жанр'].replace('Action', 'действие')\n",
    "data['жанр'] = data['жанр'].replace('Fighting', 'бой')\n",
    "data['жанр'] = data['жанр'].replace('Adventure', 'приключение')\n",
    "data['жанр'] = data['жанр'].replace('Strategy', 'стратегия')"
   ]
  },
  {
   "cell_type": "markdown",
   "metadata": {},
   "source": [
    "По ходу изучения материала, выяснилось, что в основном здесь представлена классификация компьютерных игр по \"Орланду, Стейнбергу и Томасу\", см. https://ru.wikipedia.org/wiki/%D0%9A%D0%BB%D0%B0%D1%81%D1%81%D0%B8%D1%84%D0%B8%D0%BA%D0%B0%D1%86%D0%B8%D1%8F_%D0%BA%D0%BE%D0%BC%D0%BF%D1%8C%D1%8E%D1%82%D0%B5%D1%80%D0%BD%D1%8B%D1%85_%D0%B8%D0%B3%D1%80. Категоризировать будет неправильным, уйдут акценты, а это важно."
   ]
  },
  {
   "cell_type": "markdown",
   "metadata": {},
   "source": [
    "Посмотрим на датафрейм:"
   ]
  },
  {
   "cell_type": "code",
   "execution_count": 39,
   "metadata": {},
   "outputs": [
    {
     "data": {
      "text/html": [
       "<div>\n",
       "<style scoped>\n",
       "    .dataframe tbody tr th:only-of-type {\n",
       "        vertical-align: middle;\n",
       "    }\n",
       "\n",
       "    .dataframe tbody tr th {\n",
       "        vertical-align: top;\n",
       "    }\n",
       "\n",
       "    .dataframe thead th {\n",
       "        text-align: right;\n",
       "    }\n",
       "</style>\n",
       "<table border=\"1\" class=\"dataframe\">\n",
       "  <thead>\n",
       "    <tr style=\"text-align: right;\">\n",
       "      <th></th>\n",
       "      <th>имя_игры</th>\n",
       "      <th>платформа</th>\n",
       "      <th>год_выхода</th>\n",
       "      <th>жанр</th>\n",
       "      <th>продажи_северная_америка</th>\n",
       "      <th>продажи_европа</th>\n",
       "      <th>продажи_япония</th>\n",
       "      <th>продажи_другие_страны</th>\n",
       "      <th>оценка_критиков</th>\n",
       "      <th>оценка_пользователей</th>\n",
       "      <th>рейтинг_ESRB</th>\n",
       "      <th>суммарные_продажи</th>\n",
       "    </tr>\n",
       "  </thead>\n",
       "  <tbody>\n",
       "    <tr>\n",
       "      <td>0</td>\n",
       "      <td>Wii Sports</td>\n",
       "      <td>Wii</td>\n",
       "      <td>2006</td>\n",
       "      <td>спорт</td>\n",
       "      <td>41.36</td>\n",
       "      <td>28.96</td>\n",
       "      <td>3.77</td>\n",
       "      <td>8.45</td>\n",
       "      <td>76.0</td>\n",
       "      <td>8.0</td>\n",
       "      <td>для_всех</td>\n",
       "      <td>82.54</td>\n",
       "    </tr>\n",
       "    <tr>\n",
       "      <td>1</td>\n",
       "      <td>Super Mario Bros.</td>\n",
       "      <td>NES</td>\n",
       "      <td>1985</td>\n",
       "      <td>платформер</td>\n",
       "      <td>29.08</td>\n",
       "      <td>3.58</td>\n",
       "      <td>6.81</td>\n",
       "      <td>0.77</td>\n",
       "      <td>0.0</td>\n",
       "      <td>0.0</td>\n",
       "      <td>нет_рейтинга</td>\n",
       "      <td>40.24</td>\n",
       "    </tr>\n",
       "    <tr>\n",
       "      <td>2</td>\n",
       "      <td>Mario Kart Wii</td>\n",
       "      <td>Wii</td>\n",
       "      <td>2008</td>\n",
       "      <td>гонки</td>\n",
       "      <td>15.68</td>\n",
       "      <td>12.76</td>\n",
       "      <td>3.79</td>\n",
       "      <td>3.29</td>\n",
       "      <td>82.0</td>\n",
       "      <td>8.3</td>\n",
       "      <td>для_всех</td>\n",
       "      <td>35.52</td>\n",
       "    </tr>\n",
       "    <tr>\n",
       "      <td>3</td>\n",
       "      <td>Wii Sports Resort</td>\n",
       "      <td>Wii</td>\n",
       "      <td>2009</td>\n",
       "      <td>спорт</td>\n",
       "      <td>15.61</td>\n",
       "      <td>10.93</td>\n",
       "      <td>3.28</td>\n",
       "      <td>2.95</td>\n",
       "      <td>80.0</td>\n",
       "      <td>8.0</td>\n",
       "      <td>для_всех</td>\n",
       "      <td>32.77</td>\n",
       "    </tr>\n",
       "    <tr>\n",
       "      <td>4</td>\n",
       "      <td>Pokemon Red/Pokemon Blue</td>\n",
       "      <td>GB</td>\n",
       "      <td>1996</td>\n",
       "      <td>ролевая_игра</td>\n",
       "      <td>11.27</td>\n",
       "      <td>8.89</td>\n",
       "      <td>10.22</td>\n",
       "      <td>1.00</td>\n",
       "      <td>0.0</td>\n",
       "      <td>0.0</td>\n",
       "      <td>нет_рейтинга</td>\n",
       "      <td>31.38</td>\n",
       "    </tr>\n",
       "    <tr>\n",
       "      <td>5</td>\n",
       "      <td>Tetris</td>\n",
       "      <td>GB</td>\n",
       "      <td>1989</td>\n",
       "      <td>головоломка</td>\n",
       "      <td>23.20</td>\n",
       "      <td>2.26</td>\n",
       "      <td>4.22</td>\n",
       "      <td>0.58</td>\n",
       "      <td>0.0</td>\n",
       "      <td>0.0</td>\n",
       "      <td>нет_рейтинга</td>\n",
       "      <td>30.26</td>\n",
       "    </tr>\n",
       "    <tr>\n",
       "      <td>6</td>\n",
       "      <td>New Super Mario Bros.</td>\n",
       "      <td>DS</td>\n",
       "      <td>2006</td>\n",
       "      <td>платформер</td>\n",
       "      <td>11.28</td>\n",
       "      <td>9.14</td>\n",
       "      <td>6.50</td>\n",
       "      <td>2.88</td>\n",
       "      <td>89.0</td>\n",
       "      <td>8.5</td>\n",
       "      <td>для_всех</td>\n",
       "      <td>29.80</td>\n",
       "    </tr>\n",
       "    <tr>\n",
       "      <td>7</td>\n",
       "      <td>Wii Play</td>\n",
       "      <td>Wii</td>\n",
       "      <td>2006</td>\n",
       "      <td>разные_действия</td>\n",
       "      <td>13.96</td>\n",
       "      <td>9.18</td>\n",
       "      <td>2.93</td>\n",
       "      <td>2.84</td>\n",
       "      <td>58.0</td>\n",
       "      <td>6.6</td>\n",
       "      <td>для_всех</td>\n",
       "      <td>28.91</td>\n",
       "    </tr>\n",
       "    <tr>\n",
       "      <td>8</td>\n",
       "      <td>New Super Mario Bros. Wii</td>\n",
       "      <td>Wii</td>\n",
       "      <td>2009</td>\n",
       "      <td>платформер</td>\n",
       "      <td>14.44</td>\n",
       "      <td>6.94</td>\n",
       "      <td>4.70</td>\n",
       "      <td>2.24</td>\n",
       "      <td>87.0</td>\n",
       "      <td>8.4</td>\n",
       "      <td>для_всех</td>\n",
       "      <td>28.32</td>\n",
       "    </tr>\n",
       "    <tr>\n",
       "      <td>9</td>\n",
       "      <td>Duck Hunt</td>\n",
       "      <td>NES</td>\n",
       "      <td>1984</td>\n",
       "      <td>стрелялка</td>\n",
       "      <td>26.93</td>\n",
       "      <td>0.63</td>\n",
       "      <td>0.28</td>\n",
       "      <td>0.47</td>\n",
       "      <td>0.0</td>\n",
       "      <td>0.0</td>\n",
       "      <td>нет_рейтинга</td>\n",
       "      <td>28.31</td>\n",
       "    </tr>\n",
       "  </tbody>\n",
       "</table>\n",
       "</div>"
      ],
      "text/plain": [
       "                    имя_игры платформа  год_выхода             жанр  \\\n",
       "0                 Wii Sports       Wii        2006            спорт   \n",
       "1          Super Mario Bros.       NES        1985       платформер   \n",
       "2             Mario Kart Wii       Wii        2008            гонки   \n",
       "3          Wii Sports Resort       Wii        2009            спорт   \n",
       "4   Pokemon Red/Pokemon Blue        GB        1996     ролевая_игра   \n",
       "5                     Tetris        GB        1989      головоломка   \n",
       "6      New Super Mario Bros.        DS        2006       платформер   \n",
       "7                   Wii Play       Wii        2006  разные_действия   \n",
       "8  New Super Mario Bros. Wii       Wii        2009       платформер   \n",
       "9                  Duck Hunt       NES        1984        стрелялка   \n",
       "\n",
       "   продажи_северная_америка  продажи_европа  продажи_япония  \\\n",
       "0                     41.36           28.96            3.77   \n",
       "1                     29.08            3.58            6.81   \n",
       "2                     15.68           12.76            3.79   \n",
       "3                     15.61           10.93            3.28   \n",
       "4                     11.27            8.89           10.22   \n",
       "5                     23.20            2.26            4.22   \n",
       "6                     11.28            9.14            6.50   \n",
       "7                     13.96            9.18            2.93   \n",
       "8                     14.44            6.94            4.70   \n",
       "9                     26.93            0.63            0.28   \n",
       "\n",
       "   продажи_другие_страны  оценка_критиков  оценка_пользователей  рейтинг_ESRB  \\\n",
       "0                   8.45             76.0                   8.0      для_всех   \n",
       "1                   0.77              0.0                   0.0  нет_рейтинга   \n",
       "2                   3.29             82.0                   8.3      для_всех   \n",
       "3                   2.95             80.0                   8.0      для_всех   \n",
       "4                   1.00              0.0                   0.0  нет_рейтинга   \n",
       "5                   0.58              0.0                   0.0  нет_рейтинга   \n",
       "6                   2.88             89.0                   8.5      для_всех   \n",
       "7                   2.84             58.0                   6.6      для_всех   \n",
       "8                   2.24             87.0                   8.4      для_всех   \n",
       "9                   0.47              0.0                   0.0  нет_рейтинга   \n",
       "\n",
       "   суммарные_продажи  \n",
       "0              82.54  \n",
       "1              40.24  \n",
       "2              35.52  \n",
       "3              32.77  \n",
       "4              31.38  \n",
       "5              30.26  \n",
       "6              29.80  \n",
       "7              28.91  \n",
       "8              28.32  \n",
       "9              28.31  "
      ]
     },
     "execution_count": 39,
     "metadata": {},
     "output_type": "execute_result"
    }
   ],
   "source": [
    "data.head(10)"
   ]
  },
  {
   "cell_type": "markdown",
   "metadata": {},
   "source": [
    "Сгруппируем данные, для наглядности:"
   ]
  },
  {
   "cell_type": "code",
   "execution_count": 40,
   "metadata": {},
   "outputs": [
    {
     "data": {
      "text/html": [
       "<div>\n",
       "<style scoped>\n",
       "    .dataframe tbody tr th:only-of-type {\n",
       "        vertical-align: middle;\n",
       "    }\n",
       "\n",
       "    .dataframe tbody tr th {\n",
       "        vertical-align: top;\n",
       "    }\n",
       "\n",
       "    .dataframe thead tr th {\n",
       "        text-align: left;\n",
       "    }\n",
       "\n",
       "    .dataframe thead tr:last-of-type th {\n",
       "        text-align: right;\n",
       "    }\n",
       "</style>\n",
       "<table border=\"1\" class=\"dataframe\">\n",
       "  <thead>\n",
       "    <tr>\n",
       "      <th></th>\n",
       "      <th>имя_игры</th>\n",
       "      <th>платформа</th>\n",
       "      <th>продажи_северная_америка</th>\n",
       "      <th>продажи_европа</th>\n",
       "      <th>продажи_япония</th>\n",
       "      <th>продажи_другие_страны</th>\n",
       "      <th>оценка_критиков</th>\n",
       "      <th>оценка_пользователей</th>\n",
       "      <th>рейтинг_ESRB</th>\n",
       "      <th>суммарные_продажи</th>\n",
       "    </tr>\n",
       "    <tr>\n",
       "      <th></th>\n",
       "      <th>count</th>\n",
       "      <th>count</th>\n",
       "      <th>sum</th>\n",
       "      <th>sum</th>\n",
       "      <th>sum</th>\n",
       "      <th>sum</th>\n",
       "      <th>mean</th>\n",
       "      <th>mean</th>\n",
       "      <th>count</th>\n",
       "      <th>sum</th>\n",
       "    </tr>\n",
       "    <tr>\n",
       "      <th>год_выхода</th>\n",
       "      <th></th>\n",
       "      <th></th>\n",
       "      <th></th>\n",
       "      <th></th>\n",
       "      <th></th>\n",
       "      <th></th>\n",
       "      <th></th>\n",
       "      <th></th>\n",
       "      <th></th>\n",
       "      <th></th>\n",
       "    </tr>\n",
       "  </thead>\n",
       "  <tbody>\n",
       "    <tr>\n",
       "      <td>1980</td>\n",
       "      <td>9</td>\n",
       "      <td>9</td>\n",
       "      <td>10.59</td>\n",
       "      <td>0.67</td>\n",
       "      <td>0.00</td>\n",
       "      <td>0.12</td>\n",
       "      <td>0.000000</td>\n",
       "      <td>0.000000</td>\n",
       "      <td>9</td>\n",
       "      <td>11.38</td>\n",
       "    </tr>\n",
       "    <tr>\n",
       "      <td>1981</td>\n",
       "      <td>46</td>\n",
       "      <td>46</td>\n",
       "      <td>33.40</td>\n",
       "      <td>1.96</td>\n",
       "      <td>0.00</td>\n",
       "      <td>0.32</td>\n",
       "      <td>0.000000</td>\n",
       "      <td>0.000000</td>\n",
       "      <td>46</td>\n",
       "      <td>35.68</td>\n",
       "    </tr>\n",
       "    <tr>\n",
       "      <td>1982</td>\n",
       "      <td>36</td>\n",
       "      <td>36</td>\n",
       "      <td>26.92</td>\n",
       "      <td>1.65</td>\n",
       "      <td>0.00</td>\n",
       "      <td>0.31</td>\n",
       "      <td>0.000000</td>\n",
       "      <td>0.000000</td>\n",
       "      <td>36</td>\n",
       "      <td>28.88</td>\n",
       "    </tr>\n",
       "    <tr>\n",
       "      <td>1983</td>\n",
       "      <td>17</td>\n",
       "      <td>17</td>\n",
       "      <td>7.76</td>\n",
       "      <td>0.80</td>\n",
       "      <td>8.10</td>\n",
       "      <td>0.14</td>\n",
       "      <td>0.000000</td>\n",
       "      <td>0.000000</td>\n",
       "      <td>17</td>\n",
       "      <td>16.80</td>\n",
       "    </tr>\n",
       "    <tr>\n",
       "      <td>1984</td>\n",
       "      <td>14</td>\n",
       "      <td>14</td>\n",
       "      <td>33.28</td>\n",
       "      <td>2.10</td>\n",
       "      <td>14.27</td>\n",
       "      <td>0.70</td>\n",
       "      <td>0.000000</td>\n",
       "      <td>0.000000</td>\n",
       "      <td>14</td>\n",
       "      <td>50.35</td>\n",
       "    </tr>\n",
       "    <tr>\n",
       "      <td>1985</td>\n",
       "      <td>14</td>\n",
       "      <td>14</td>\n",
       "      <td>33.73</td>\n",
       "      <td>4.74</td>\n",
       "      <td>14.56</td>\n",
       "      <td>0.92</td>\n",
       "      <td>4.214286</td>\n",
       "      <td>0.414286</td>\n",
       "      <td>14</td>\n",
       "      <td>53.95</td>\n",
       "    </tr>\n",
       "    <tr>\n",
       "      <td>1986</td>\n",
       "      <td>21</td>\n",
       "      <td>21</td>\n",
       "      <td>12.50</td>\n",
       "      <td>2.84</td>\n",
       "      <td>19.81</td>\n",
       "      <td>1.93</td>\n",
       "      <td>0.000000</td>\n",
       "      <td>0.000000</td>\n",
       "      <td>21</td>\n",
       "      <td>37.08</td>\n",
       "    </tr>\n",
       "    <tr>\n",
       "      <td>1987</td>\n",
       "      <td>16</td>\n",
       "      <td>16</td>\n",
       "      <td>8.46</td>\n",
       "      <td>1.41</td>\n",
       "      <td>11.63</td>\n",
       "      <td>0.20</td>\n",
       "      <td>0.000000</td>\n",
       "      <td>0.000000</td>\n",
       "      <td>16</td>\n",
       "      <td>21.70</td>\n",
       "    </tr>\n",
       "    <tr>\n",
       "      <td>1988</td>\n",
       "      <td>15</td>\n",
       "      <td>15</td>\n",
       "      <td>23.87</td>\n",
       "      <td>6.59</td>\n",
       "      <td>15.76</td>\n",
       "      <td>0.99</td>\n",
       "      <td>4.266667</td>\n",
       "      <td>0.146667</td>\n",
       "      <td>15</td>\n",
       "      <td>47.21</td>\n",
       "    </tr>\n",
       "    <tr>\n",
       "      <td>1989</td>\n",
       "      <td>17</td>\n",
       "      <td>17</td>\n",
       "      <td>45.15</td>\n",
       "      <td>8.44</td>\n",
       "      <td>18.36</td>\n",
       "      <td>1.50</td>\n",
       "      <td>0.000000</td>\n",
       "      <td>0.000000</td>\n",
       "      <td>17</td>\n",
       "      <td>73.45</td>\n",
       "    </tr>\n",
       "    <tr>\n",
       "      <td>1990</td>\n",
       "      <td>16</td>\n",
       "      <td>16</td>\n",
       "      <td>25.46</td>\n",
       "      <td>7.63</td>\n",
       "      <td>14.88</td>\n",
       "      <td>1.40</td>\n",
       "      <td>0.000000</td>\n",
       "      <td>0.000000</td>\n",
       "      <td>16</td>\n",
       "      <td>49.37</td>\n",
       "    </tr>\n",
       "    <tr>\n",
       "      <td>1991</td>\n",
       "      <td>41</td>\n",
       "      <td>41</td>\n",
       "      <td>12.76</td>\n",
       "      <td>3.95</td>\n",
       "      <td>14.78</td>\n",
       "      <td>0.74</td>\n",
       "      <td>0.000000</td>\n",
       "      <td>0.000000</td>\n",
       "      <td>41</td>\n",
       "      <td>32.23</td>\n",
       "    </tr>\n",
       "    <tr>\n",
       "      <td>1992</td>\n",
       "      <td>43</td>\n",
       "      <td>43</td>\n",
       "      <td>33.89</td>\n",
       "      <td>11.71</td>\n",
       "      <td>28.91</td>\n",
       "      <td>1.65</td>\n",
       "      <td>1.976744</td>\n",
       "      <td>0.190698</td>\n",
       "      <td>43</td>\n",
       "      <td>76.16</td>\n",
       "    </tr>\n",
       "    <tr>\n",
       "      <td>1993</td>\n",
       "      <td>60</td>\n",
       "      <td>60</td>\n",
       "      <td>15.12</td>\n",
       "      <td>4.65</td>\n",
       "      <td>25.33</td>\n",
       "      <td>0.89</td>\n",
       "      <td>0.000000</td>\n",
       "      <td>0.000000</td>\n",
       "      <td>60</td>\n",
       "      <td>45.99</td>\n",
       "    </tr>\n",
       "    <tr>\n",
       "      <td>1994</td>\n",
       "      <td>121</td>\n",
       "      <td>121</td>\n",
       "      <td>28.16</td>\n",
       "      <td>14.88</td>\n",
       "      <td>33.99</td>\n",
       "      <td>2.20</td>\n",
       "      <td>0.570248</td>\n",
       "      <td>0.052066</td>\n",
       "      <td>121</td>\n",
       "      <td>79.23</td>\n",
       "    </tr>\n",
       "    <tr>\n",
       "      <td>1995</td>\n",
       "      <td>219</td>\n",
       "      <td>219</td>\n",
       "      <td>24.83</td>\n",
       "      <td>14.90</td>\n",
       "      <td>45.75</td>\n",
       "      <td>2.64</td>\n",
       "      <td>0.000000</td>\n",
       "      <td>0.000000</td>\n",
       "      <td>219</td>\n",
       "      <td>88.12</td>\n",
       "    </tr>\n",
       "    <tr>\n",
       "      <td>1996</td>\n",
       "      <td>263</td>\n",
       "      <td>263</td>\n",
       "      <td>86.76</td>\n",
       "      <td>47.26</td>\n",
       "      <td>57.44</td>\n",
       "      <td>7.69</td>\n",
       "      <td>2.733840</td>\n",
       "      <td>0.255513</td>\n",
       "      <td>263</td>\n",
       "      <td>199.15</td>\n",
       "    </tr>\n",
       "    <tr>\n",
       "      <td>1997</td>\n",
       "      <td>289</td>\n",
       "      <td>289</td>\n",
       "      <td>94.75</td>\n",
       "      <td>48.32</td>\n",
       "      <td>48.87</td>\n",
       "      <td>9.13</td>\n",
       "      <td>5.017301</td>\n",
       "      <td>0.527682</td>\n",
       "      <td>289</td>\n",
       "      <td>201.07</td>\n",
       "    </tr>\n",
       "    <tr>\n",
       "      <td>1998</td>\n",
       "      <td>379</td>\n",
       "      <td>379</td>\n",
       "      <td>128.36</td>\n",
       "      <td>66.90</td>\n",
       "      <td>50.04</td>\n",
       "      <td>11.01</td>\n",
       "      <td>6.044855</td>\n",
       "      <td>0.695778</td>\n",
       "      <td>379</td>\n",
       "      <td>256.31</td>\n",
       "    </tr>\n",
       "    <tr>\n",
       "      <td>1999</td>\n",
       "      <td>338</td>\n",
       "      <td>338</td>\n",
       "      <td>126.06</td>\n",
       "      <td>62.67</td>\n",
       "      <td>52.34</td>\n",
       "      <td>10.04</td>\n",
       "      <td>8.742604</td>\n",
       "      <td>0.777811</td>\n",
       "      <td>338</td>\n",
       "      <td>251.11</td>\n",
       "    </tr>\n",
       "    <tr>\n",
       "      <td>2000</td>\n",
       "      <td>350</td>\n",
       "      <td>350</td>\n",
       "      <td>94.50</td>\n",
       "      <td>52.77</td>\n",
       "      <td>42.77</td>\n",
       "      <td>11.62</td>\n",
       "      <td>28.334286</td>\n",
       "      <td>2.302571</td>\n",
       "      <td>350</td>\n",
       "      <td>201.66</td>\n",
       "    </tr>\n",
       "    <tr>\n",
       "      <td>2001</td>\n",
       "      <td>482</td>\n",
       "      <td>482</td>\n",
       "      <td>173.98</td>\n",
       "      <td>94.89</td>\n",
       "      <td>39.86</td>\n",
       "      <td>22.73</td>\n",
       "      <td>48.300830</td>\n",
       "      <td>4.049585</td>\n",
       "      <td>482</td>\n",
       "      <td>331.46</td>\n",
       "    </tr>\n",
       "    <tr>\n",
       "      <td>2002</td>\n",
       "      <td>829</td>\n",
       "      <td>829</td>\n",
       "      <td>216.19</td>\n",
       "      <td>109.75</td>\n",
       "      <td>41.76</td>\n",
       "      <td>27.27</td>\n",
       "      <td>52.221954</td>\n",
       "      <td>4.245476</td>\n",
       "      <td>829</td>\n",
       "      <td>394.97</td>\n",
       "    </tr>\n",
       "    <tr>\n",
       "      <td>2003</td>\n",
       "      <td>775</td>\n",
       "      <td>775</td>\n",
       "      <td>193.61</td>\n",
       "      <td>103.81</td>\n",
       "      <td>34.20</td>\n",
       "      <td>25.92</td>\n",
       "      <td>52.975484</td>\n",
       "      <td>5.233161</td>\n",
       "      <td>775</td>\n",
       "      <td>357.54</td>\n",
       "    </tr>\n",
       "    <tr>\n",
       "      <td>2004</td>\n",
       "      <td>762</td>\n",
       "      <td>762</td>\n",
       "      <td>222.51</td>\n",
       "      <td>107.28</td>\n",
       "      <td>41.65</td>\n",
       "      <td>47.24</td>\n",
       "      <td>51.089239</td>\n",
       "      <td>4.973753</td>\n",
       "      <td>762</td>\n",
       "      <td>418.68</td>\n",
       "    </tr>\n",
       "    <tr>\n",
       "      <td>2005</td>\n",
       "      <td>939</td>\n",
       "      <td>939</td>\n",
       "      <td>242.15</td>\n",
       "      <td>121.11</td>\n",
       "      <td>54.27</td>\n",
       "      <td>40.29</td>\n",
       "      <td>48.005325</td>\n",
       "      <td>4.662513</td>\n",
       "      <td>939</td>\n",
       "      <td>457.82</td>\n",
       "    </tr>\n",
       "    <tr>\n",
       "      <td>2006</td>\n",
       "      <td>1006</td>\n",
       "      <td>1006</td>\n",
       "      <td>262.13</td>\n",
       "      <td>127.89</td>\n",
       "      <td>73.74</td>\n",
       "      <td>53.95</td>\n",
       "      <td>41.500994</td>\n",
       "      <td>3.976640</td>\n",
       "      <td>1006</td>\n",
       "      <td>517.71</td>\n",
       "    </tr>\n",
       "    <tr>\n",
       "      <td>2007</td>\n",
       "      <td>1197</td>\n",
       "      <td>1197</td>\n",
       "      <td>309.89</td>\n",
       "      <td>157.82</td>\n",
       "      <td>60.29</td>\n",
       "      <td>76.75</td>\n",
       "      <td>38.259816</td>\n",
       "      <td>3.623559</td>\n",
       "      <td>1197</td>\n",
       "      <td>604.75</td>\n",
       "    </tr>\n",
       "    <tr>\n",
       "      <td>2008</td>\n",
       "      <td>1427</td>\n",
       "      <td>1427</td>\n",
       "      <td>348.69</td>\n",
       "      <td>181.14</td>\n",
       "      <td>60.25</td>\n",
       "      <td>81.42</td>\n",
       "      <td>33.021724</td>\n",
       "      <td>3.219762</td>\n",
       "      <td>1427</td>\n",
       "      <td>671.50</td>\n",
       "    </tr>\n",
       "    <tr>\n",
       "      <td>2009</td>\n",
       "      <td>1426</td>\n",
       "      <td>1426</td>\n",
       "      <td>335.55</td>\n",
       "      <td>187.94</td>\n",
       "      <td>61.89</td>\n",
       "      <td>73.44</td>\n",
       "      <td>30.840112</td>\n",
       "      <td>3.010028</td>\n",
       "      <td>1426</td>\n",
       "      <td>658.82</td>\n",
       "    </tr>\n",
       "    <tr>\n",
       "      <td>2010</td>\n",
       "      <td>1255</td>\n",
       "      <td>1255</td>\n",
       "      <td>300.65</td>\n",
       "      <td>171.42</td>\n",
       "      <td>59.49</td>\n",
       "      <td>58.57</td>\n",
       "      <td>26.885259</td>\n",
       "      <td>2.558406</td>\n",
       "      <td>1255</td>\n",
       "      <td>590.13</td>\n",
       "    </tr>\n",
       "    <tr>\n",
       "      <td>2011</td>\n",
       "      <td>1136</td>\n",
       "      <td>1136</td>\n",
       "      <td>238.79</td>\n",
       "      <td>162.97</td>\n",
       "      <td>53.07</td>\n",
       "      <td>52.75</td>\n",
       "      <td>30.234155</td>\n",
       "      <td>2.921127</td>\n",
       "      <td>1136</td>\n",
       "      <td>507.58</td>\n",
       "    </tr>\n",
       "    <tr>\n",
       "      <td>2012</td>\n",
       "      <td>653</td>\n",
       "      <td>653</td>\n",
       "      <td>153.26</td>\n",
       "      <td>114.59</td>\n",
       "      <td>51.80</td>\n",
       "      <td>36.19</td>\n",
       "      <td>35.877489</td>\n",
       "      <td>3.539204</td>\n",
       "      <td>653</td>\n",
       "      <td>355.84</td>\n",
       "    </tr>\n",
       "    <tr>\n",
       "      <td>2013</td>\n",
       "      <td>544</td>\n",
       "      <td>544</td>\n",
       "      <td>153.65</td>\n",
       "      <td>121.55</td>\n",
       "      <td>47.69</td>\n",
       "      <td>38.35</td>\n",
       "      <td>35.770221</td>\n",
       "      <td>3.615993</td>\n",
       "      <td>544</td>\n",
       "      <td>361.24</td>\n",
       "    </tr>\n",
       "    <tr>\n",
       "      <td>2014</td>\n",
       "      <td>581</td>\n",
       "      <td>581</td>\n",
       "      <td>132.27</td>\n",
       "      <td>122.74</td>\n",
       "      <td>39.69</td>\n",
       "      <td>36.83</td>\n",
       "      <td>31.924269</td>\n",
       "      <td>3.726162</td>\n",
       "      <td>581</td>\n",
       "      <td>331.53</td>\n",
       "    </tr>\n",
       "    <tr>\n",
       "      <td>2015</td>\n",
       "      <td>606</td>\n",
       "      <td>606</td>\n",
       "      <td>106.86</td>\n",
       "      <td>96.72</td>\n",
       "      <td>34.09</td>\n",
       "      <td>30.31</td>\n",
       "      <td>27.056106</td>\n",
       "      <td>3.266997</td>\n",
       "      <td>606</td>\n",
       "      <td>267.98</td>\n",
       "    </tr>\n",
       "    <tr>\n",
       "      <td>2016</td>\n",
       "      <td>502</td>\n",
       "      <td>502</td>\n",
       "      <td>44.93</td>\n",
       "      <td>51.22</td>\n",
       "      <td>19.31</td>\n",
       "      <td>14.48</td>\n",
       "      <td>33.808765</td>\n",
       "      <td>3.460159</td>\n",
       "      <td>502</td>\n",
       "      <td>129.94</td>\n",
       "    </tr>\n",
       "  </tbody>\n",
       "</table>\n",
       "</div>"
      ],
      "text/plain": [
       "           имя_игры платформа продажи_северная_америка продажи_европа  \\\n",
       "              count     count                      sum            sum   \n",
       "год_выхода                                                              \n",
       "1980              9         9                    10.59           0.67   \n",
       "1981             46        46                    33.40           1.96   \n",
       "1982             36        36                    26.92           1.65   \n",
       "1983             17        17                     7.76           0.80   \n",
       "1984             14        14                    33.28           2.10   \n",
       "1985             14        14                    33.73           4.74   \n",
       "1986             21        21                    12.50           2.84   \n",
       "1987             16        16                     8.46           1.41   \n",
       "1988             15        15                    23.87           6.59   \n",
       "1989             17        17                    45.15           8.44   \n",
       "1990             16        16                    25.46           7.63   \n",
       "1991             41        41                    12.76           3.95   \n",
       "1992             43        43                    33.89          11.71   \n",
       "1993             60        60                    15.12           4.65   \n",
       "1994            121       121                    28.16          14.88   \n",
       "1995            219       219                    24.83          14.90   \n",
       "1996            263       263                    86.76          47.26   \n",
       "1997            289       289                    94.75          48.32   \n",
       "1998            379       379                   128.36          66.90   \n",
       "1999            338       338                   126.06          62.67   \n",
       "2000            350       350                    94.50          52.77   \n",
       "2001            482       482                   173.98          94.89   \n",
       "2002            829       829                   216.19         109.75   \n",
       "2003            775       775                   193.61         103.81   \n",
       "2004            762       762                   222.51         107.28   \n",
       "2005            939       939                   242.15         121.11   \n",
       "2006           1006      1006                   262.13         127.89   \n",
       "2007           1197      1197                   309.89         157.82   \n",
       "2008           1427      1427                   348.69         181.14   \n",
       "2009           1426      1426                   335.55         187.94   \n",
       "2010           1255      1255                   300.65         171.42   \n",
       "2011           1136      1136                   238.79         162.97   \n",
       "2012            653       653                   153.26         114.59   \n",
       "2013            544       544                   153.65         121.55   \n",
       "2014            581       581                   132.27         122.74   \n",
       "2015            606       606                   106.86          96.72   \n",
       "2016            502       502                    44.93          51.22   \n",
       "\n",
       "           продажи_япония продажи_другие_страны оценка_критиков  \\\n",
       "                      sum                   sum            mean   \n",
       "год_выхода                                                        \n",
       "1980                 0.00                  0.12        0.000000   \n",
       "1981                 0.00                  0.32        0.000000   \n",
       "1982                 0.00                  0.31        0.000000   \n",
       "1983                 8.10                  0.14        0.000000   \n",
       "1984                14.27                  0.70        0.000000   \n",
       "1985                14.56                  0.92        4.214286   \n",
       "1986                19.81                  1.93        0.000000   \n",
       "1987                11.63                  0.20        0.000000   \n",
       "1988                15.76                  0.99        4.266667   \n",
       "1989                18.36                  1.50        0.000000   \n",
       "1990                14.88                  1.40        0.000000   \n",
       "1991                14.78                  0.74        0.000000   \n",
       "1992                28.91                  1.65        1.976744   \n",
       "1993                25.33                  0.89        0.000000   \n",
       "1994                33.99                  2.20        0.570248   \n",
       "1995                45.75                  2.64        0.000000   \n",
       "1996                57.44                  7.69        2.733840   \n",
       "1997                48.87                  9.13        5.017301   \n",
       "1998                50.04                 11.01        6.044855   \n",
       "1999                52.34                 10.04        8.742604   \n",
       "2000                42.77                 11.62       28.334286   \n",
       "2001                39.86                 22.73       48.300830   \n",
       "2002                41.76                 27.27       52.221954   \n",
       "2003                34.20                 25.92       52.975484   \n",
       "2004                41.65                 47.24       51.089239   \n",
       "2005                54.27                 40.29       48.005325   \n",
       "2006                73.74                 53.95       41.500994   \n",
       "2007                60.29                 76.75       38.259816   \n",
       "2008                60.25                 81.42       33.021724   \n",
       "2009                61.89                 73.44       30.840112   \n",
       "2010                59.49                 58.57       26.885259   \n",
       "2011                53.07                 52.75       30.234155   \n",
       "2012                51.80                 36.19       35.877489   \n",
       "2013                47.69                 38.35       35.770221   \n",
       "2014                39.69                 36.83       31.924269   \n",
       "2015                34.09                 30.31       27.056106   \n",
       "2016                19.31                 14.48       33.808765   \n",
       "\n",
       "           оценка_пользователей рейтинг_ESRB суммарные_продажи  \n",
       "                           mean        count               sum  \n",
       "год_выхода                                                      \n",
       "1980                   0.000000            9             11.38  \n",
       "1981                   0.000000           46             35.68  \n",
       "1982                   0.000000           36             28.88  \n",
       "1983                   0.000000           17             16.80  \n",
       "1984                   0.000000           14             50.35  \n",
       "1985                   0.414286           14             53.95  \n",
       "1986                   0.000000           21             37.08  \n",
       "1987                   0.000000           16             21.70  \n",
       "1988                   0.146667           15             47.21  \n",
       "1989                   0.000000           17             73.45  \n",
       "1990                   0.000000           16             49.37  \n",
       "1991                   0.000000           41             32.23  \n",
       "1992                   0.190698           43             76.16  \n",
       "1993                   0.000000           60             45.99  \n",
       "1994                   0.052066          121             79.23  \n",
       "1995                   0.000000          219             88.12  \n",
       "1996                   0.255513          263            199.15  \n",
       "1997                   0.527682          289            201.07  \n",
       "1998                   0.695778          379            256.31  \n",
       "1999                   0.777811          338            251.11  \n",
       "2000                   2.302571          350            201.66  \n",
       "2001                   4.049585          482            331.46  \n",
       "2002                   4.245476          829            394.97  \n",
       "2003                   5.233161          775            357.54  \n",
       "2004                   4.973753          762            418.68  \n",
       "2005                   4.662513          939            457.82  \n",
       "2006                   3.976640         1006            517.71  \n",
       "2007                   3.623559         1197            604.75  \n",
       "2008                   3.219762         1427            671.50  \n",
       "2009                   3.010028         1426            658.82  \n",
       "2010                   2.558406         1255            590.13  \n",
       "2011                   2.921127         1136            507.58  \n",
       "2012                   3.539204          653            355.84  \n",
       "2013                   3.615993          544            361.24  \n",
       "2014                   3.726162          581            331.53  \n",
       "2015                   3.266997          606            267.98  \n",
       "2016                   3.460159          502            129.94  "
      ]
     },
     "execution_count": 40,
     "metadata": {},
     "output_type": "execute_result"
    }
   ],
   "source": [
    "data.groupby('год_выхода').agg({'имя_игры': ['count'], 'платформа': ['count'], 'продажи_северная_америка': ['sum'], 'продажи_европа': ['sum'], 'продажи_япония': ['sum'], 'продажи_другие_страны': ['sum'], 'оценка_критиков': ['mean'], 'оценка_пользователей': ['mean'], 'рейтинг_ESRB': ['count'], 'суммарные_продажи': ['sum']})"
   ]
  },
  {
   "cell_type": "markdown",
   "metadata": {},
   "source": [
    "Получается интересная картина, с 1980 до 2008 число, выпускаемых игр, постоянно росло, а начиная с 2010 начало уменьшатся и эта тенденция продолжается.  \n",
    "Аналогичная ситуация и с продажами. Не спасает, даже система присвоения рейтингов. Либо пользователи стали меньше играть, что маловероятно, либо появились альтернативы. Игры на планшетах и телефонах? На эти вопросы еще предстоит ответить.  "
   ]
  },
  {
   "cell_type": "markdown",
   "metadata": {},
   "source": [
    "3. Исследовательский анализ данных  "
   ]
  },
  {
   "cell_type": "markdown",
   "metadata": {},
   "source": [
    "Посмотрим, сколько игр выпускалось в разные годы. Важны ли данные за все периоды?"
   ]
  },
  {
   "cell_type": "markdown",
   "metadata": {},
   "source": [
    "Нет, не важны, как известно, отсюда: http://pro-gamer.org/blog/articles/47.html, история современных компьютерных игр, идет нога в ногу с развитием технологий. \"С наступления 2004 года мир преодолевает очередную ступеньку в развитии компьютерных и видео игр. Это время можно считать началом появления современных игр. Благодаря широкому распространению сети Интернет появляется огромное количество MMORPG и MMOFPS #Сетевые игры. В этом году выходит игра Far Cry – первая игра с поддержкой 64-битных систем. Появляется в продаже самая популярная (даже на сегодняшний момент) портативная приставка Nintendo DS\".\n",
    "Возьму для анализа данные, начиная, с 2004 года."
   ]
  },
  {
   "cell_type": "code",
   "execution_count": 41,
   "metadata": {},
   "outputs": [],
   "source": [
    "data = data.loc[(data['год_выхода'] >= 2004)]"
   ]
  },
  {
   "cell_type": "code",
   "execution_count": 42,
   "metadata": {},
   "outputs": [
    {
     "data": {
      "text/html": [
       "<div>\n",
       "<style scoped>\n",
       "    .dataframe tbody tr th:only-of-type {\n",
       "        vertical-align: middle;\n",
       "    }\n",
       "\n",
       "    .dataframe tbody tr th {\n",
       "        vertical-align: top;\n",
       "    }\n",
       "\n",
       "    .dataframe thead th {\n",
       "        text-align: right;\n",
       "    }\n",
       "</style>\n",
       "<table border=\"1\" class=\"dataframe\">\n",
       "  <thead>\n",
       "    <tr style=\"text-align: right;\">\n",
       "      <th></th>\n",
       "      <th>имя_игры</th>\n",
       "      <th>платформа</th>\n",
       "      <th>год_выхода</th>\n",
       "      <th>жанр</th>\n",
       "      <th>продажи_северная_америка</th>\n",
       "      <th>продажи_европа</th>\n",
       "      <th>продажи_япония</th>\n",
       "      <th>продажи_другие_страны</th>\n",
       "      <th>оценка_критиков</th>\n",
       "      <th>оценка_пользователей</th>\n",
       "      <th>рейтинг_ESRB</th>\n",
       "      <th>суммарные_продажи</th>\n",
       "    </tr>\n",
       "  </thead>\n",
       "  <tbody>\n",
       "    <tr>\n",
       "      <td>0</td>\n",
       "      <td>Wii Sports</td>\n",
       "      <td>Wii</td>\n",
       "      <td>2006</td>\n",
       "      <td>спорт</td>\n",
       "      <td>41.36</td>\n",
       "      <td>28.96</td>\n",
       "      <td>3.77</td>\n",
       "      <td>8.45</td>\n",
       "      <td>76.0</td>\n",
       "      <td>8.0</td>\n",
       "      <td>для_всех</td>\n",
       "      <td>82.54</td>\n",
       "    </tr>\n",
       "    <tr>\n",
       "      <td>2</td>\n",
       "      <td>Mario Kart Wii</td>\n",
       "      <td>Wii</td>\n",
       "      <td>2008</td>\n",
       "      <td>гонки</td>\n",
       "      <td>15.68</td>\n",
       "      <td>12.76</td>\n",
       "      <td>3.79</td>\n",
       "      <td>3.29</td>\n",
       "      <td>82.0</td>\n",
       "      <td>8.3</td>\n",
       "      <td>для_всех</td>\n",
       "      <td>35.52</td>\n",
       "    </tr>\n",
       "    <tr>\n",
       "      <td>3</td>\n",
       "      <td>Wii Sports Resort</td>\n",
       "      <td>Wii</td>\n",
       "      <td>2009</td>\n",
       "      <td>спорт</td>\n",
       "      <td>15.61</td>\n",
       "      <td>10.93</td>\n",
       "      <td>3.28</td>\n",
       "      <td>2.95</td>\n",
       "      <td>80.0</td>\n",
       "      <td>8.0</td>\n",
       "      <td>для_всех</td>\n",
       "      <td>32.77</td>\n",
       "    </tr>\n",
       "    <tr>\n",
       "      <td>6</td>\n",
       "      <td>New Super Mario Bros.</td>\n",
       "      <td>DS</td>\n",
       "      <td>2006</td>\n",
       "      <td>платформер</td>\n",
       "      <td>11.28</td>\n",
       "      <td>9.14</td>\n",
       "      <td>6.50</td>\n",
       "      <td>2.88</td>\n",
       "      <td>89.0</td>\n",
       "      <td>8.5</td>\n",
       "      <td>для_всех</td>\n",
       "      <td>29.80</td>\n",
       "    </tr>\n",
       "    <tr>\n",
       "      <td>7</td>\n",
       "      <td>Wii Play</td>\n",
       "      <td>Wii</td>\n",
       "      <td>2006</td>\n",
       "      <td>разные_действия</td>\n",
       "      <td>13.96</td>\n",
       "      <td>9.18</td>\n",
       "      <td>2.93</td>\n",
       "      <td>2.84</td>\n",
       "      <td>58.0</td>\n",
       "      <td>6.6</td>\n",
       "      <td>для_всех</td>\n",
       "      <td>28.91</td>\n",
       "    </tr>\n",
       "    <tr>\n",
       "      <td>8</td>\n",
       "      <td>New Super Mario Bros. Wii</td>\n",
       "      <td>Wii</td>\n",
       "      <td>2009</td>\n",
       "      <td>платформер</td>\n",
       "      <td>14.44</td>\n",
       "      <td>6.94</td>\n",
       "      <td>4.70</td>\n",
       "      <td>2.24</td>\n",
       "      <td>87.0</td>\n",
       "      <td>8.4</td>\n",
       "      <td>для_всех</td>\n",
       "      <td>28.32</td>\n",
       "    </tr>\n",
       "    <tr>\n",
       "      <td>10</td>\n",
       "      <td>Nintendogs</td>\n",
       "      <td>DS</td>\n",
       "      <td>2005</td>\n",
       "      <td>симулятор</td>\n",
       "      <td>9.05</td>\n",
       "      <td>10.95</td>\n",
       "      <td>1.93</td>\n",
       "      <td>2.74</td>\n",
       "      <td>0.0</td>\n",
       "      <td>0.0</td>\n",
       "      <td>нет_рейтинга</td>\n",
       "      <td>24.67</td>\n",
       "    </tr>\n",
       "    <tr>\n",
       "      <td>11</td>\n",
       "      <td>Mario Kart DS</td>\n",
       "      <td>DS</td>\n",
       "      <td>2005</td>\n",
       "      <td>гонки</td>\n",
       "      <td>9.71</td>\n",
       "      <td>7.47</td>\n",
       "      <td>4.13</td>\n",
       "      <td>1.90</td>\n",
       "      <td>91.0</td>\n",
       "      <td>8.6</td>\n",
       "      <td>для_всех</td>\n",
       "      <td>23.21</td>\n",
       "    </tr>\n",
       "    <tr>\n",
       "      <td>13</td>\n",
       "      <td>Wii Fit</td>\n",
       "      <td>Wii</td>\n",
       "      <td>2007</td>\n",
       "      <td>спорт</td>\n",
       "      <td>8.92</td>\n",
       "      <td>8.03</td>\n",
       "      <td>3.60</td>\n",
       "      <td>2.15</td>\n",
       "      <td>80.0</td>\n",
       "      <td>7.7</td>\n",
       "      <td>для_всех</td>\n",
       "      <td>22.70</td>\n",
       "    </tr>\n",
       "    <tr>\n",
       "      <td>14</td>\n",
       "      <td>Kinect Adventures!</td>\n",
       "      <td>X360</td>\n",
       "      <td>2010</td>\n",
       "      <td>разные_действия</td>\n",
       "      <td>15.00</td>\n",
       "      <td>4.89</td>\n",
       "      <td>0.24</td>\n",
       "      <td>1.69</td>\n",
       "      <td>61.0</td>\n",
       "      <td>6.3</td>\n",
       "      <td>для_всех</td>\n",
       "      <td>21.82</td>\n",
       "    </tr>\n",
       "  </tbody>\n",
       "</table>\n",
       "</div>"
      ],
      "text/plain": [
       "                     имя_игры платформа  год_выхода             жанр  \\\n",
       "0                  Wii Sports       Wii        2006            спорт   \n",
       "2              Mario Kart Wii       Wii        2008            гонки   \n",
       "3           Wii Sports Resort       Wii        2009            спорт   \n",
       "6       New Super Mario Bros.        DS        2006       платформер   \n",
       "7                    Wii Play       Wii        2006  разные_действия   \n",
       "8   New Super Mario Bros. Wii       Wii        2009       платформер   \n",
       "10                 Nintendogs        DS        2005        симулятор   \n",
       "11              Mario Kart DS        DS        2005            гонки   \n",
       "13                    Wii Fit       Wii        2007            спорт   \n",
       "14         Kinect Adventures!      X360        2010  разные_действия   \n",
       "\n",
       "    продажи_северная_америка  продажи_европа  продажи_япония  \\\n",
       "0                      41.36           28.96            3.77   \n",
       "2                      15.68           12.76            3.79   \n",
       "3                      15.61           10.93            3.28   \n",
       "6                      11.28            9.14            6.50   \n",
       "7                      13.96            9.18            2.93   \n",
       "8                      14.44            6.94            4.70   \n",
       "10                      9.05           10.95            1.93   \n",
       "11                      9.71            7.47            4.13   \n",
       "13                      8.92            8.03            3.60   \n",
       "14                     15.00            4.89            0.24   \n",
       "\n",
       "    продажи_другие_страны  оценка_критиков  оценка_пользователей  \\\n",
       "0                    8.45             76.0                   8.0   \n",
       "2                    3.29             82.0                   8.3   \n",
       "3                    2.95             80.0                   8.0   \n",
       "6                    2.88             89.0                   8.5   \n",
       "7                    2.84             58.0                   6.6   \n",
       "8                    2.24             87.0                   8.4   \n",
       "10                   2.74              0.0                   0.0   \n",
       "11                   1.90             91.0                   8.6   \n",
       "13                   2.15             80.0                   7.7   \n",
       "14                   1.69             61.0                   6.3   \n",
       "\n",
       "    рейтинг_ESRB  суммарные_продажи  \n",
       "0       для_всех              82.54  \n",
       "2       для_всех              35.52  \n",
       "3       для_всех              32.77  \n",
       "6       для_всех              29.80  \n",
       "7       для_всех              28.91  \n",
       "8       для_всех              28.32  \n",
       "10  нет_рейтинга              24.67  \n",
       "11      для_всех              23.21  \n",
       "13      для_всех              22.70  \n",
       "14      для_всех              21.82  "
      ]
     },
     "execution_count": 42,
     "metadata": {},
     "output_type": "execute_result"
    }
   ],
   "source": [
    "data.head(10)"
   ]
  },
  {
   "cell_type": "markdown",
   "metadata": {},
   "source": [
    "Посмотрим, как менялись продажи по платформам.    \n",
    "Выберем платформы с наибольшими суммарными продажами и построю распределение по годам. Найдем за какой характерный срок появляются новые и исчезают старые платформы.  "
   ]
  },
  {
   "cell_type": "markdown",
   "metadata": {},
   "source": [
    "Посмотрим сколько всего платформ в датафрейм"
   ]
  },
  {
   "cell_type": "code",
   "execution_count": 43,
   "metadata": {},
   "outputs": [
    {
     "data": {
      "text/plain": [
       "array(['Wii', 'DS', 'X360', 'PS3', 'PS2', 'PS4', '3DS', 'GBA', 'XB', 'PC',\n",
       "       'PSP', 'XOne', 'WiiU', 'GC', 'PSV', 'DC'], dtype=object)"
      ]
     },
     "execution_count": 43,
     "metadata": {},
     "output_type": "execute_result"
    }
   ],
   "source": [
    "data['платформа'].unique()"
   ]
  },
  {
   "cell_type": "markdown",
   "metadata": {},
   "source": [
    "16 платформ, выберем платформы, с самыми большими суммарными продажами"
   ]
  },
  {
   "cell_type": "code",
   "execution_count": 44,
   "metadata": {},
   "outputs": [
    {
     "data": {
      "text/html": [
       "<div>\n",
       "<style scoped>\n",
       "    .dataframe tbody tr th:only-of-type {\n",
       "        vertical-align: middle;\n",
       "    }\n",
       "\n",
       "    .dataframe tbody tr th {\n",
       "        vertical-align: top;\n",
       "    }\n",
       "\n",
       "    .dataframe thead th {\n",
       "        text-align: right;\n",
       "    }\n",
       "</style>\n",
       "<table border=\"1\" class=\"dataframe\">\n",
       "  <thead>\n",
       "    <tr style=\"text-align: right;\">\n",
       "      <th></th>\n",
       "      <th>суммарные_продажи</th>\n",
       "    </tr>\n",
       "    <tr>\n",
       "      <th>платформа</th>\n",
       "      <th></th>\n",
       "    </tr>\n",
       "  </thead>\n",
       "  <tbody>\n",
       "    <tr>\n",
       "      <td>X360</td>\n",
       "      <td>961.24</td>\n",
       "    </tr>\n",
       "    <tr>\n",
       "      <td>PS3</td>\n",
       "      <td>931.34</td>\n",
       "    </tr>\n",
       "    <tr>\n",
       "      <td>Wii</td>\n",
       "      <td>891.18</td>\n",
       "    </tr>\n",
       "    <tr>\n",
       "      <td>DS</td>\n",
       "      <td>802.76</td>\n",
       "    </tr>\n",
       "    <tr>\n",
       "      <td>PS2</td>\n",
       "      <td>638.27</td>\n",
       "    </tr>\n",
       "    <tr>\n",
       "      <td>PS4</td>\n",
       "      <td>314.14</td>\n",
       "    </tr>\n",
       "    <tr>\n",
       "      <td>PSP</td>\n",
       "      <td>289.53</td>\n",
       "    </tr>\n",
       "    <tr>\n",
       "      <td>3DS</td>\n",
       "      <td>257.81</td>\n",
       "    </tr>\n",
       "    <tr>\n",
       "      <td>PC</td>\n",
       "      <td>178.18</td>\n",
       "    </tr>\n",
       "    <tr>\n",
       "      <td>XOne</td>\n",
       "      <td>159.32</td>\n",
       "    </tr>\n",
       "  </tbody>\n",
       "</table>\n",
       "</div>"
      ],
      "text/plain": [
       "           суммарные_продажи\n",
       "платформа                   \n",
       "X360                  961.24\n",
       "PS3                   931.34\n",
       "Wii                   891.18\n",
       "DS                    802.76\n",
       "PS2                   638.27\n",
       "PS4                   314.14\n",
       "PSP                   289.53\n",
       "3DS                   257.81\n",
       "PC                    178.18\n",
       "XOne                  159.32"
      ]
     },
     "execution_count": 44,
     "metadata": {},
     "output_type": "execute_result"
    }
   ],
   "source": [
    "data.groupby('платформа')['суммарные_продажи'].sum().to_frame('суммарные_продажи').sort_values(by='суммарные_продажи', ascending=False).head(10)"
   ]
  },
  {
   "cell_type": "markdown",
   "metadata": {},
   "source": [
    "Ожидаемо, что самыми популярными платформами являются XBox, PlayStation, Nintendo(Wii и DS). Выберем ТОП-5 платформ и построим графики"
   ]
  },
  {
   "cell_type": "code",
   "execution_count": 45,
   "metadata": {},
   "outputs": [],
   "source": [
    "import seaborn as sns"
   ]
  },
  {
   "cell_type": "markdown",
   "metadata": {},
   "source": [
    "Графики для платформ"
   ]
  },
  {
   "cell_type": "code",
   "execution_count": 46,
   "metadata": {},
   "outputs": [],
   "source": [
    "data_X360 = data.loc[(data['платформа'] == 'X360')]\n",
    "data_PS3 = data.loc[(data['платформа'] == 'PS3')]\n",
    "data_Wii = data.loc[(data['платформа'] == 'Wii')]\n",
    "data_DS = data.loc[(data['платформа'] == 'DS')]\n",
    "data_PS2 = data.loc[(data['платформа'] == 'PS2')]"
   ]
  },
  {
   "cell_type": "markdown",
   "metadata": {},
   "source": [
    "График для X360"
   ]
  },
  {
   "cell_type": "code",
   "execution_count": 47,
   "metadata": {},
   "outputs": [
    {
     "data": {
      "text/plain": [
       "<matplotlib.axes._subplots.AxesSubplot at 0x7f50e03d6610>"
      ]
     },
     "execution_count": 47,
     "metadata": {},
     "output_type": "execute_result"
    },
    {
     "data": {
      "image/png": "[encoded data removed]",
      "text/plain": [
       "<Figure size 432x288 with 1 Axes>"
      ]
     },
     "metadata": {
      "needs_background": "light"
     },
     "output_type": "display_data"
    }
   ],
   "source": [
    "sns.boxplot(x = \"год_выхода\", y = \"суммарные_продажи\", data = data_X360)"
   ]
  },
  {
   "cell_type": "markdown",
   "metadata": {},
   "source": [
    "График для PS3"
   ]
  },
  {
   "cell_type": "code",
   "execution_count": 48,
   "metadata": {},
   "outputs": [
    {
     "data": {
      "text/plain": [
       "<matplotlib.axes._subplots.AxesSubplot at 0x7f50dd394c10>"
      ]
     },
     "execution_count": 48,
     "metadata": {},
     "output_type": "execute_result"
    },
    {
     "data": {
      "image/png": "[encoded data removed]",
      "text/plain": [
       "<Figure size 432x288 with 1 Axes>"
      ]
     },
     "metadata": {
      "needs_background": "light"
     },
     "output_type": "display_data"
    }
   ],
   "source": [
    "sns.boxplot(x = \"год_выхода\", y = \"суммарные_продажи\", data = data_PS3)"
   ]
  },
  {
   "cell_type": "markdown",
   "metadata": {},
   "source": [
    "График для Wii"
   ]
  },
  {
   "cell_type": "code",
   "execution_count": 49,
   "metadata": {},
   "outputs": [
    {
     "data": {
      "text/plain": [
       "<matplotlib.axes._subplots.AxesSubplot at 0x7f50dcbbd0d0>"
      ]
     },
     "execution_count": 49,
     "metadata": {},
     "output_type": "execute_result"
    },
    {
     "data": {
      "image/png": "[encoded data removed]",
      "text/plain": [
       "<Figure size 432x288 with 1 Axes>"
      ]
     },
     "metadata": {
      "needs_background": "light"
     },
     "output_type": "display_data"
    }
   ],
   "source": [
    "sns.boxplot(x = \"год_выхода\", y = \"суммарные_продажи\", data = data_Wii)"
   ]
  },
  {
   "cell_type": "markdown",
   "metadata": {},
   "source": [
    "График для DS"
   ]
  },
  {
   "cell_type": "code",
   "execution_count": 50,
   "metadata": {},
   "outputs": [
    {
     "data": {
      "text/plain": [
       "<matplotlib.axes._subplots.AxesSubplot at 0x7f50dca2ad50>"
      ]
     },
     "execution_count": 50,
     "metadata": {},
     "output_type": "execute_result"
    },
    {
     "data": {
      "image/png": "[encoded data removed]",
      "text/plain": [
       "<Figure size 432x288 with 1 Axes>"
      ]
     },
     "metadata": {
      "needs_background": "light"
     },
     "output_type": "display_data"
    }
   ],
   "source": [
    "sns.boxplot(x = \"год_выхода\", y = \"суммарные_продажи\", data = data_DS)"
   ]
  },
  {
   "cell_type": "markdown",
   "metadata": {},
   "source": [
    "График для PS2"
   ]
  },
  {
   "cell_type": "code",
   "execution_count": 51,
   "metadata": {},
   "outputs": [
    {
     "data": {
      "text/plain": [
       "<matplotlib.axes._subplots.AxesSubplot at 0x7f50dc8efa10>"
      ]
     },
     "execution_count": 51,
     "metadata": {},
     "output_type": "execute_result"
    },
    {
     "data": {
      "image/png": "[encoded data removed]",
      "text/plain": [
       "<Figure size 432x288 with 1 Axes>"
      ]
     },
     "metadata": {
      "needs_background": "light"
     },
     "output_type": "display_data"
    }
   ],
   "source": [
    "sns.boxplot(x = \"год_выхода\", y = \"суммарные_продажи\", data = data_PS2)"
   ]
  },
  {
   "cell_type": "markdown",
   "metadata": {},
   "source": [
    "Как видно из графиков, максимальный срок жизни платформы 10 лет, это верно для X360, отчасти для PS3, для остальных платформ срок жизни меньше."
   ]
  },
  {
   "cell_type": "markdown",
   "metadata": {},
   "source": [
    "Платформы X360, PS3, Wii, являлись лидерами продаж, при этом, каждая из этих платформ, к 2016, тоже показала резкое снижение. Можно сказать, с большой натяжкой, что к концу 2016 года, потенциально прибыльными были ТОП-3 рейтинга, то есть XBox, PlayStation, Nintendo(Wii и DS). Вывод - продажи платформ падают. Стоит ли вкладываться в продажи платформенных игр - большой вопрос."
   ]
  },
  {
   "cell_type": "markdown",
   "metadata": {},
   "source": [
    "Построим график «ящик с усами» по глобальным продажам для каждой игры с разбивкой по платформам.  \n",
    "Посмотрим - велика ли разница в продажах. А, также в средних продажах на разных платформах.  "
   ]
  },
  {
   "cell_type": "code",
   "execution_count": 52,
   "metadata": {},
   "outputs": [
    {
     "data": {
      "text/plain": [
       "(0, 2)"
      ]
     },
     "execution_count": 52,
     "metadata": {},
     "output_type": "execute_result"
    },
    {
     "data": {
      "image/png": "[encoded data removed]",
      "text/plain": [
       "<Figure size 432x288 with 1 Axes>"
      ]
     },
     "metadata": {
      "needs_background": "light"
     },
     "output_type": "display_data"
    }
   ],
   "source": [
    "sns.boxplot(y = \"платформа\", x = \"суммарные_продажи\", data = data)\n",
    "plt.xlim(0, 2)"
   ]
  },
  {
   "cell_type": "markdown",
   "metadata": {},
   "source": [
    "Разница, весьма заметна, лидером по глобальным продажам являлась платформа X360, очень близко к ней подобралась платформа PS3, также Wili и PS4."
   ]
  },
  {
   "cell_type": "markdown",
   "metadata": {},
   "source": [
    "Посмотрим на лидеров рейтинга подробнее"
   ]
  },
  {
   "cell_type": "markdown",
   "metadata": {},
   "source": [
    "График для X360"
   ]
  },
  {
   "cell_type": "code",
   "execution_count": 53,
   "metadata": {},
   "outputs": [
    {
     "data": {
      "text/plain": [
       "(0, 2)"
      ]
     },
     "execution_count": 53,
     "metadata": {},
     "output_type": "execute_result"
    },
    {
     "data": {
      "image/png": "[encoded data removed]",
      "text/plain": [
       "<Figure size 432x288 with 1 Axes>"
      ]
     },
     "metadata": {
      "needs_background": "light"
     },
     "output_type": "display_data"
    }
   ],
   "source": [
    "sns.boxplot(x = \"платформа\", y = \"суммарные_продажи\", data = data_X360)\n",
    "plt.ylim(0, 2)"
   ]
  },
  {
   "cell_type": "markdown",
   "metadata": {},
   "source": [
    "Медианное значение для X360 находится на уровне 0,25 млн. долл. За пределами 1,75 млн. долл. начинаются выбросы."
   ]
  },
  {
   "cell_type": "markdown",
   "metadata": {},
   "source": [
    "График для PS3"
   ]
  },
  {
   "cell_type": "code",
   "execution_count": 54,
   "metadata": {},
   "outputs": [
    {
     "data": {
      "text/plain": [
       "(0, 2)"
      ]
     },
     "execution_count": 54,
     "metadata": {},
     "output_type": "execute_result"
    },
    {
     "data": {
      "image/png": "[encoded data removed]",
      "text/plain": [
       "<Figure size 432x288 with 1 Axes>"
      ]
     },
     "metadata": {
      "needs_background": "light"
     },
     "output_type": "display_data"
    }
   ],
   "source": [
    "sns.boxplot(x = \"платформа\", y = \"суммарные_продажи\", data = data_PS3)\n",
    "plt.ylim(0, 2)"
   ]
  },
  {
   "cell_type": "markdown",
   "metadata": {},
   "source": [
    "Аналогично и для PS3"
   ]
  },
  {
   "cell_type": "markdown",
   "metadata": {},
   "source": [
    "График для Wii"
   ]
  },
  {
   "cell_type": "code",
   "execution_count": 55,
   "metadata": {},
   "outputs": [
    {
     "data": {
      "text/plain": [
       "(0, 2)"
      ]
     },
     "execution_count": 55,
     "metadata": {},
     "output_type": "execute_result"
    },
    {
     "data": {
      "image/png": "[encoded data removed]",
      "text/plain": [
       "<Figure size 432x288 with 1 Axes>"
      ]
     },
     "metadata": {
      "needs_background": "light"
     },
     "output_type": "display_data"
    }
   ],
   "source": [
    "sns.boxplot(x = \"платформа\", y = \"суммарные_продажи\", data = data_Wii)\n",
    "plt.ylim(0, 2)"
   ]
  },
  {
   "cell_type": "markdown",
   "metadata": {},
   "source": [
    "Здесь значения медианны, заметно ниже. Выбросы начинаются уж со значений 1,1 млн. долл."
   ]
  },
  {
   "cell_type": "markdown",
   "metadata": {},
   "source": [
    "График для DS"
   ]
  },
  {
   "cell_type": "code",
   "execution_count": 56,
   "metadata": {},
   "outputs": [
    {
     "data": {
      "text/plain": [
       "(0, 2)"
      ]
     },
     "execution_count": 56,
     "metadata": {},
     "output_type": "execute_result"
    },
    {
     "data": {
      "image/png": "[encoded data removed]",
      "text/plain": [
       "<Figure size 432x288 with 1 Axes>"
      ]
     },
     "metadata": {
      "needs_background": "light"
     },
     "output_type": "display_data"
    }
   ],
   "source": [
    "sns.boxplot(x = \"платформа\", y = \"суммарные_продажи\", data = data_DS)\n",
    "plt.ylim(0, 2)"
   ]
  },
  {
   "cell_type": "markdown",
   "metadata": {},
   "source": [
    "Здесь медианна на уровне 0,1 млн. долл., верхняя граница 0,6 млн. долл., после нее начинаются выбросы."
   ]
  },
  {
   "cell_type": "code",
   "execution_count": 57,
   "metadata": {},
   "outputs": [
    {
     "data": {
      "text/plain": [
       "(0, 2)"
      ]
     },
     "execution_count": 57,
     "metadata": {},
     "output_type": "execute_result"
    },
    {
     "data": {
      "image/png": "[encoded data removed]",
      "text/plain": [
       "<Figure size 432x288 with 1 Axes>"
      ]
     },
     "metadata": {
      "needs_background": "light"
     },
     "output_type": "display_data"
    }
   ],
   "source": [
    "sns.boxplot(x = \"платформа\", y = \"суммарные_продажи\", data = data_PS2)\n",
    "plt.ylim(0, 2)"
   ]
  },
  {
   "cell_type": "markdown",
   "metadata": {},
   "source": [
    "Для PS2, медианна на уровне 0,2 млн. долл., верхняя граница менее 0,5 млн. долл."
   ]
  },
  {
   "cell_type": "markdown",
   "metadata": {},
   "source": [
    "Промежуточный вывод - разница в продажах, безусловно, есть, но, даже топовые платформы, не обеспечивают баснословные прибыли. Дело не в платформе. Значит, дело не в том, на какой платформе вышла игра, а в самой игре? "
   ]
  },
  {
   "cell_type": "markdown",
   "metadata": {},
   "source": [
    "Посмотрим, как влияют на продажи внутри одной популярной платформы отзывы пользователей и критиков.  \n",
    "Построю диаграмму рассеяния и посчитаю корреляцию между отзывами и продажами. Сформулируем выводы."
   ]
  },
  {
   "cell_type": "markdown",
   "metadata": {},
   "source": [
    "Диаграмма рассеяния для X360"
   ]
  },
  {
   "cell_type": "markdown",
   "metadata": {},
   "source": [
    "Оценка влияния критиков на продажи X360"
   ]
  },
  {
   "cell_type": "code",
   "execution_count": 58,
   "metadata": {},
   "outputs": [
    {
     "data": {
      "text/plain": [
       "<matplotlib.axes._subplots.AxesSubplot at 0x7f50dc3f4c90>"
      ]
     },
     "execution_count": 58,
     "metadata": {},
     "output_type": "execute_result"
    },
    {
     "data": {
      "image/png": "[encoded data removed]",
      "text/plain": [
       "<Figure size 432x288 with 1 Axes>"
      ]
     },
     "metadata": {
      "needs_background": "light"
     },
     "output_type": "display_data"
    }
   ],
   "source": [
    "x = data['оценка_критиков']\n",
    "y = data['суммарные_продажи']\n",
    "data_X360.plot(x='оценка_критиков', y='суммарные_продажи', kind='scatter')"
   ]
  },
  {
   "cell_type": "markdown",
   "metadata": {},
   "source": [
    "Оценка влияния оценка_пользователей на продажи X360"
   ]
  },
  {
   "cell_type": "code",
   "execution_count": 59,
   "metadata": {},
   "outputs": [
    {
     "data": {
      "text/plain": [
       "<matplotlib.axes._subplots.AxesSubplot at 0x7f50dc3f9610>"
      ]
     },
     "execution_count": 59,
     "metadata": {},
     "output_type": "execute_result"
    },
    {
     "data": {
      "image/png": "[encoded data removed]",
      "text/plain": [
       "<Figure size 432x288 with 1 Axes>"
      ]
     },
     "metadata": {
      "needs_background": "light"
     },
     "output_type": "display_data"
    }
   ],
   "source": [
    "x = data['оценка_пользователей']\n",
    "y = data['суммарные_продажи']\n",
    "data_X360.plot(x='оценка_пользователей', y='суммарные_продажи', kind='scatter')"
   ]
  },
  {
   "cell_type": "markdown",
   "metadata": {},
   "source": [
    "Как видно из представленных диаграмм, наблюдается положительная корреляция между объемами продаж платформы X360 и оценками критиков и пользователей. При этом оценки критиков больше коррелирует с данными по продажам, в оценках пользователей больший разброс. Логично - у критиков единый, структурированнный подход, у пользователей - \"нравиться/не нравится\", и \"сам не знаю почему\"."
   ]
  },
  {
   "cell_type": "markdown",
   "metadata": {},
   "source": [
    "Посчитаю коэффициент корреляции Пирсона"
   ]
  },
  {
   "cell_type": "code",
   "execution_count": 60,
   "metadata": {},
   "outputs": [
    {
     "name": "stdout",
     "output_type": "stream",
     "text": [
      "0.3117562516201688\n"
     ]
    }
   ],
   "source": [
    "print(data_X360['оценка_критиков'].corr(data['суммарные_продажи']))"
   ]
  },
  {
   "cell_type": "code",
   "execution_count": 61,
   "metadata": {},
   "outputs": [
    {
     "name": "stdout",
     "output_type": "stream",
     "text": [
      "0.20780580062906837\n"
     ]
    }
   ],
   "source": [
    "print(data_X360['оценка_пользователей'].corr(data['суммарные_продажи']))"
   ]
  },
  {
   "cell_type": "markdown",
   "metadata": {},
   "source": [
    "Действительно, коэффициент корреляции Пирсона подтвержжает предыдущие выводы."
   ]
  },
  {
   "cell_type": "markdown",
   "metadata": {},
   "source": [
    "Посмотрим на другие платформыы"
   ]
  },
  {
   "cell_type": "markdown",
   "metadata": {},
   "source": [
    "Диаграмма рассеяния для PS3"
   ]
  },
  {
   "cell_type": "markdown",
   "metadata": {},
   "source": [
    "Оценка влияния критиков на продажи PS3"
   ]
  },
  {
   "cell_type": "code",
   "execution_count": 62,
   "metadata": {},
   "outputs": [
    {
     "data": {
      "text/plain": [
       "<matplotlib.axes._subplots.AxesSubplot at 0x7f50dc352810>"
      ]
     },
     "execution_count": 62,
     "metadata": {},
     "output_type": "execute_result"
    },
    {
     "data": {
      "image/png": "[encoded data removed]",
      "text/plain": [
       "<Figure size 432x288 with 1 Axes>"
      ]
     },
     "metadata": {
      "needs_background": "light"
     },
     "output_type": "display_data"
    }
   ],
   "source": [
    "x = data['оценка_критиков']\n",
    "y = data['суммарные_продажи']\n",
    "data_PS3.plot(x='оценка_критиков', y='суммарные_продажи', kind='scatter')"
   ]
  },
  {
   "cell_type": "markdown",
   "metadata": {},
   "source": [
    "Корреляция видна, посмотрим на пользователей"
   ]
  },
  {
   "cell_type": "markdown",
   "metadata": {},
   "source": [
    "Оценка влияния оценка_пользователей на продажи PS3"
   ]
  },
  {
   "cell_type": "code",
   "execution_count": 63,
   "metadata": {},
   "outputs": [
    {
     "data": {
      "text/plain": [
       "<matplotlib.axes._subplots.AxesSubplot at 0x7f50dc2ba610>"
      ]
     },
     "execution_count": 63,
     "metadata": {},
     "output_type": "execute_result"
    },
    {
     "data": {
      "image/png": "[encoded data removed]",
      "text/plain": [
       "<Figure size 432x288 with 1 Axes>"
      ]
     },
     "metadata": {
      "needs_background": "light"
     },
     "output_type": "display_data"
    }
   ],
   "source": [
    "x = data['оценка_пользователей']\n",
    "y = data['суммарные_продажи']\n",
    "data_PS3.plot(x='оценка_пользователей', y='суммарные_продажи', kind='scatter')"
   ]
  },
  {
   "cell_type": "markdown",
   "metadata": {},
   "source": [
    "Тоже есть, посчитаем коэффициенты корреляции Пирсона"
   ]
  },
  {
   "cell_type": "code",
   "execution_count": 64,
   "metadata": {},
   "outputs": [
    {
     "name": "stdout",
     "output_type": "stream",
     "text": [
      "0.3551455659423082\n"
     ]
    }
   ],
   "source": [
    "print(data_PS3['оценка_критиков'].corr(data['суммарные_продажи']))"
   ]
  },
  {
   "cell_type": "code",
   "execution_count": 65,
   "metadata": {},
   "outputs": [
    {
     "name": "stdout",
     "output_type": "stream",
     "text": [
      "0.274582706016566\n"
     ]
    }
   ],
   "source": [
    "print(data_PS3['оценка_пользователей'].corr(data['суммарные_продажи']))"
   ]
  },
  {
   "cell_type": "markdown",
   "metadata": {},
   "source": [
    "Коэффициенты корреляции Пирсона, также указывают на взаимосвязь продаж платформы PS3 с оценками польователей и критиков и также, как в предыдущем случае, эта зависимость не очень велика, посмотрим на другие платформы.  "
   ]
  },
  {
   "cell_type": "markdown",
   "metadata": {},
   "source": [
    "Диаграмма рассеяния для Wii"
   ]
  },
  {
   "cell_type": "markdown",
   "metadata": {},
   "source": [
    "Оценка влияния критиков на продажи Wii"
   ]
  },
  {
   "cell_type": "code",
   "execution_count": 66,
   "metadata": {},
   "outputs": [
    {
     "data": {
      "text/plain": [
       "<matplotlib.axes._subplots.AxesSubplot at 0x7f50dc472090>"
      ]
     },
     "execution_count": 66,
     "metadata": {},
     "output_type": "execute_result"
    },
    {
     "data": {
      "image/png": "[encoded data removed]",
      "text/plain": [
       "<Figure size 432x288 with 1 Axes>"
      ]
     },
     "metadata": {
      "needs_background": "light"
     },
     "output_type": "display_data"
    }
   ],
   "source": [
    "x = data['оценка_критиков']\n",
    "y = data['суммарные_продажи']\n",
    "data_Wii.plot(x='оценка_критиков', y='суммарные_продажи', kind='scatter')"
   ]
  },
  {
   "cell_type": "markdown",
   "metadata": {},
   "source": [
    "Здесь корреляция еле заметна, посмотрим  на зависимость от оценок пользователей"
   ]
  },
  {
   "cell_type": "code",
   "execution_count": 67,
   "metadata": {},
   "outputs": [
    {
     "data": {
      "text/plain": [
       "<matplotlib.axes._subplots.AxesSubplot at 0x7f50dc4a1fd0>"
      ]
     },
     "execution_count": 67,
     "metadata": {},
     "output_type": "execute_result"
    },
    {
     "data": {
      "image/png": "[encoded data removed]",
      "text/plain": [
       "<Figure size 432x288 with 1 Axes>"
      ]
     },
     "metadata": {
      "needs_background": "light"
     },
     "output_type": "display_data"
    }
   ],
   "source": [
    "x = data['оценка_пользователей']\n",
    "y = data['суммарные_продажи']\n",
    "data_Wii.plot(x='оценка_пользователей', y='суммарные_продажи', kind='scatter')"
   ]
  },
  {
   "cell_type": "markdown",
   "metadata": {},
   "source": [
    "Аналогично. Посчитаю коэффициенты корреляции"
   ]
  },
  {
   "cell_type": "code",
   "execution_count": 68,
   "metadata": {},
   "outputs": [
    {
     "name": "stdout",
     "output_type": "stream",
     "text": [
      "0.18894382799683282\n"
     ]
    }
   ],
   "source": [
    "print(data_Wii['оценка_критиков'].corr(data['суммарные_продажи']))"
   ]
  },
  {
   "cell_type": "code",
   "execution_count": 69,
   "metadata": {},
   "outputs": [
    {
     "name": "stdout",
     "output_type": "stream",
     "text": [
      "0.1845274279194481\n"
     ]
    }
   ],
   "source": [
    "print(data_Wii['оценка_пользователей'].corr(data['суммарные_продажи']))"
   ]
  },
  {
   "cell_type": "markdown",
   "metadata": {},
   "source": [
    "Зависимости сопоставимы и не велики, посмотрим на остальные платформы"
   ]
  },
  {
   "cell_type": "markdown",
   "metadata": {},
   "source": [
    "Диаграмма рассеяния для DS"
   ]
  },
  {
   "cell_type": "markdown",
   "metadata": {},
   "source": [
    "Оценка влияния критиков на продажи DS"
   ]
  },
  {
   "cell_type": "code",
   "execution_count": 70,
   "metadata": {},
   "outputs": [
    {
     "data": {
      "text/plain": [
       "<matplotlib.axes._subplots.AxesSubplot at 0x7f50dd3f0810>"
      ]
     },
     "execution_count": 70,
     "metadata": {},
     "output_type": "execute_result"
    },
    {
     "data": {
      "image/png": "[encoded data removed]",
      "text/plain": [
       "<Figure size 432x288 with 1 Axes>"
      ]
     },
     "metadata": {
      "needs_background": "light"
     },
     "output_type": "display_data"
    }
   ],
   "source": [
    "x = data['оценка_критиков']\n",
    "y = data['суммарные_продажи']\n",
    "data_DS.plot(x='оценка_критиков', y='суммарные_продажи', kind='scatter')"
   ]
  },
  {
   "cell_type": "markdown",
   "metadata": {},
   "source": [
    "Оценка влияния пользователей на продажи DS"
   ]
  },
  {
   "cell_type": "code",
   "execution_count": 71,
   "metadata": {},
   "outputs": [
    {
     "data": {
      "text/plain": [
       "<matplotlib.axes._subplots.AxesSubplot at 0x7f50dc67f950>"
      ]
     },
     "execution_count": 71,
     "metadata": {},
     "output_type": "execute_result"
    },
    {
     "data": {
      "image/png": "[encoded data removed]",
      "text/plain": [
       "<Figure size 432x288 with 1 Axes>"
      ]
     },
     "metadata": {
      "needs_background": "light"
     },
     "output_type": "display_data"
    }
   ],
   "source": [
    "x = data['оценка_пользователей']\n",
    "y = data['суммарные_продажи']\n",
    "data_DS.plot(x='оценка_пользователей', y='суммарные_продажи', kind='scatter')"
   ]
  },
  {
   "cell_type": "markdown",
   "metadata": {},
   "source": [
    "Коэффициенты корреляции для DS"
   ]
  },
  {
   "cell_type": "code",
   "execution_count": 72,
   "metadata": {},
   "outputs": [
    {
     "name": "stdout",
     "output_type": "stream",
     "text": [
      "0.15917513804098513\n"
     ]
    }
   ],
   "source": [
    "print(data_DS['оценка_критиков'].corr(data['суммарные_продажи']))"
   ]
  },
  {
   "cell_type": "code",
   "execution_count": 73,
   "metadata": {},
   "outputs": [
    {
     "name": "stdout",
     "output_type": "stream",
     "text": [
      "0.18771768108264947\n"
     ]
    }
   ],
   "source": [
    "print(data_DS['оценка_пользователей'].corr(data['суммарные_продажи']))"
   ]
  },
  {
   "cell_type": "markdown",
   "metadata": {},
   "source": [
    "Для платформы DS, коэффициент корреляции продаж с оценками пользователей, несколько выше, чем, коэффициент корреялции с оценками критиков, но, все равно, оба они не очень значительны. Все же люди покупают не оценки...Посмотрю на PS2"
   ]
  },
  {
   "cell_type": "markdown",
   "metadata": {},
   "source": [
    "Диаграмма рассеяния для PS2"
   ]
  },
  {
   "cell_type": "markdown",
   "metadata": {},
   "source": [
    "Оценка влияния критиков на продажи PS2"
   ]
  },
  {
   "cell_type": "code",
   "execution_count": 74,
   "metadata": {},
   "outputs": [
    {
     "data": {
      "text/plain": [
       "<matplotlib.axes._subplots.AxesSubplot at 0x7f50dc7e1f50>"
      ]
     },
     "execution_count": 74,
     "metadata": {},
     "output_type": "execute_result"
    },
    {
     "data": {
      "image/png": "[encoded data removed]",
      "text/plain": [
       "<Figure size 432x288 with 1 Axes>"
      ]
     },
     "metadata": {
      "needs_background": "light"
     },
     "output_type": "display_data"
    }
   ],
   "source": [
    "x = data['оценка_критиков']\n",
    "y = data['суммарные_продажи']\n",
    "data_PS2.plot(x='оценка_критиков', y='суммарные_продажи', kind='scatter')"
   ]
  },
  {
   "cell_type": "markdown",
   "metadata": {},
   "source": [
    "Оценка влияния пользователей на продажи PS2"
   ]
  },
  {
   "cell_type": "code",
   "execution_count": 75,
   "metadata": {},
   "outputs": [
    {
     "data": {
      "text/plain": [
       "<matplotlib.axes._subplots.AxesSubplot at 0x7f50dc66e110>"
      ]
     },
     "execution_count": 75,
     "metadata": {},
     "output_type": "execute_result"
    },
    {
     "data": {
      "image/png": "[encoded data removed]",
      "text/plain": [
       "<Figure size 432x288 with 1 Axes>"
      ]
     },
     "metadata": {
      "needs_background": "light"
     },
     "output_type": "display_data"
    }
   ],
   "source": [
    "x = data['оценка_пользователей']\n",
    "y = data['суммарные_продажи']\n",
    "data_PS2.plot(x='оценка_пользователей', y='суммарные_продажи', kind='scatter')"
   ]
  },
  {
   "cell_type": "markdown",
   "metadata": {},
   "source": [
    "Коэффициенты корреляции"
   ]
  },
  {
   "cell_type": "code",
   "execution_count": 76,
   "metadata": {},
   "outputs": [
    {
     "name": "stdout",
     "output_type": "stream",
     "text": [
      "0.3167972404798904\n"
     ]
    }
   ],
   "source": [
    "print(data_PS2['оценка_критиков'].corr(data['суммарные_продажи']))"
   ]
  },
  {
   "cell_type": "code",
   "execution_count": 77,
   "metadata": {},
   "outputs": [
    {
     "name": "stdout",
     "output_type": "stream",
     "text": [
      "0.27821878972932584\n"
     ]
    }
   ],
   "source": [
    "print(data_PS2['оценка_пользователей'].corr(data['суммарные_продажи']))"
   ]
  },
  {
   "cell_type": "markdown",
   "metadata": {},
   "source": [
    "Зависимость продаж для платформы PS2 от оценок критиколв и пользователей, сопоставима с зависимостями для PS3, эти зависимости близки с зависимостями для X360 и все они не очень велики. #Говорят, что дружба с критиками, иногда помогает продажам."
   ]
  },
  {
   "cell_type": "markdown",
   "metadata": {},
   "source": [
    "Общий вывод - существует зависимость между оценками критиков и пользователей на объемы продаж той или иной платформы, при этом, эти зависимости не велики. Игры продаются хорошо или не очень, не только из-за платформы, для которой они были сделаны, значит есть и другие причины.  "
   ]
  },
  {
   "cell_type": "markdown",
   "metadata": {},
   "source": [
    "Посмотрим на общее распределение игр по жанрам. Что можно сказать о самых прибыльных жанрах. Найдем ответ на вопрос - выделяются ли жанры с высокими и низкими продажами?  "
   ]
  },
  {
   "cell_type": "markdown",
   "metadata": {},
   "source": [
    "Сгруппируем данные по жанрам и продажам"
   ]
  },
  {
   "cell_type": "code",
   "execution_count": 78,
   "metadata": {},
   "outputs": [
    {
     "data": {
      "text/html": [
       "<div>\n",
       "<style scoped>\n",
       "    .dataframe tbody tr th:only-of-type {\n",
       "        vertical-align: middle;\n",
       "    }\n",
       "\n",
       "    .dataframe tbody tr th {\n",
       "        vertical-align: top;\n",
       "    }\n",
       "\n",
       "    .dataframe thead th {\n",
       "        text-align: right;\n",
       "    }\n",
       "</style>\n",
       "<table border=\"1\" class=\"dataframe\">\n",
       "  <thead>\n",
       "    <tr style=\"text-align: right;\">\n",
       "      <th></th>\n",
       "      <th>суммарные_продажи</th>\n",
       "    </tr>\n",
       "    <tr>\n",
       "      <th>жанр</th>\n",
       "      <th></th>\n",
       "    </tr>\n",
       "  </thead>\n",
       "  <tbody>\n",
       "    <tr>\n",
       "      <td>действие</td>\n",
       "      <td>1278.17</td>\n",
       "    </tr>\n",
       "    <tr>\n",
       "      <td>спорт</td>\n",
       "      <td>916.95</td>\n",
       "    </tr>\n",
       "    <tr>\n",
       "      <td>стрелялка</td>\n",
       "      <td>805.50</td>\n",
       "    </tr>\n",
       "    <tr>\n",
       "      <td>разные_действия</td>\n",
       "      <td>646.99</td>\n",
       "    </tr>\n",
       "    <tr>\n",
       "      <td>ролевая_игра</td>\n",
       "      <td>604.74</td>\n",
       "    </tr>\n",
       "    <tr>\n",
       "      <td>гонки</td>\n",
       "      <td>402.90</td>\n",
       "    </tr>\n",
       "    <tr>\n",
       "      <td>платформер</td>\n",
       "      <td>350.28</td>\n",
       "    </tr>\n",
       "    <tr>\n",
       "      <td>симулятор</td>\n",
       "      <td>280.49</td>\n",
       "    </tr>\n",
       "    <tr>\n",
       "      <td>бой</td>\n",
       "      <td>224.83</td>\n",
       "    </tr>\n",
       "    <tr>\n",
       "      <td>приключение</td>\n",
       "      <td>158.43</td>\n",
       "    </tr>\n",
       "    <tr>\n",
       "      <td>головоломка</td>\n",
       "      <td>118.68</td>\n",
       "    </tr>\n",
       "    <tr>\n",
       "      <td>стратегия</td>\n",
       "      <td>85.56</td>\n",
       "    </tr>\n",
       "  </tbody>\n",
       "</table>\n",
       "</div>"
      ],
      "text/plain": [
       "                 суммарные_продажи\n",
       "жанр                              \n",
       "действие                   1278.17\n",
       "спорт                       916.95\n",
       "стрелялка                   805.50\n",
       "разные_действия             646.99\n",
       "ролевая_игра                604.74\n",
       "гонки                       402.90\n",
       "платформер                  350.28\n",
       "симулятор                   280.49\n",
       "бой                         224.83\n",
       "приключение                 158.43\n",
       "головоломка                 118.68\n",
       "стратегия                    85.56"
      ]
     },
     "execution_count": 78,
     "metadata": {},
     "output_type": "execute_result"
    }
   ],
   "source": [
    "data.groupby('жанр')['суммарные_продажи'].sum().to_frame('суммарные_продажи').sort_values(by='суммарные_продажи', ascending=False).head(15)"
   ]
  },
  {
   "cell_type": "markdown",
   "metadata": {},
   "source": [
    "Данные, вполне ожидаемо, распределились от \"действие\" - \"жанр компьютерных игр, в котором делается упор на эксплуатацию физических возможностей игрока, в том числе координации глаз и рук и скорости реакции\", спорт и стрелялки. #Нет данных о гендерной принадлежности покупателей.  \n",
    "В самом конце \"стратегия\" и \"головоломка\", видимо игры, в которых надо подумать.  \n",
    "Первые 9 жанров можно отнести в разряду стрелялки/бродилки, вывод - самые прибыльные игры, это игры в которых эксплуатируются аггресия, поднимающие уровень адреналина. Стратегии и головомки - очевидные аутсайдеры рейтинга. Если создание головоломки, вероятно, стоит не очень дорого, то стратегия может стоить довольно дорого в закупке, очевидно сильно вкладываться в них не стоит.  "
   ]
  },
  {
   "cell_type": "markdown",
   "metadata": {},
   "source": [
    "Визуализируем"
   ]
  },
  {
   "cell_type": "code",
   "execution_count": 79,
   "metadata": {},
   "outputs": [
    {
     "data": {
      "text/plain": [
       "<matplotlib.legend.Legend at 0x7f50dc5947d0>"
      ]
     },
     "execution_count": 79,
     "metadata": {},
     "output_type": "execute_result"
    },
    {
     "data": {
      "image/png": "[encoded data removed]",
      "text/plain": [
       "<Figure size 1080x360 with 1 Axes>"
      ]
     },
     "metadata": {
      "needs_background": "light"
     },
     "output_type": "display_data"
    }
   ],
   "source": [
    "ax = plt.gca()\n",
    "\n",
    "pivot = data.groupby('жанр').agg({'имя_игры': 'count', 'суммарные_продажи': 'sum'}).sort_values(by='имя_игры', ascending=False)\n",
    "\n",
    "plot1 = pivot['имя_игры']\n",
    "plot1.plot(kind='bar', figsize=(15,5), ec='black', ax=ax, width=0.2, position=1)\n",
    "\n",
    "plot2 = pivot['суммарные_продажи']\n",
    "plot2.plot(kind='bar', figsize=(15,5), ec='black', ax=ax, width=0.2, color='#97F0AA', position=0)\n",
    "\n",
    "ax.legend(['Количество продаж', 'Общая сумма продаж'])"
   ]
  },
  {
   "cell_type": "markdown",
   "metadata": {},
   "source": [
    "Гистограмма позволяет сделать интересные выводы - ожидаемо, больше всех и на самую бльшую сумму продается \"действие\", при этом \"спорт\" и \"стрелялка\" находятся на одном уровне по количество проданных игр, а по выручке \"стрелялка\", значительно больше, значит средняя цена \"стрелялки\" выше. На одном уровне по продажам находятся \"ролева игра\" и \"приключение\", при этом \"приключений\" продается меньше в разы, значит и цена их выше. Такие игры, как \"гонки\", \"симуляторы\", \"бой\" находятся ближе к концу, видимо, пользователи хотят чего-то более интересного, чем, условно \"Mortal combat\". Игры, где нужно думать, в самом внизу и по количеству продаж и по объему - похоже на нишевой продукт."
   ]
  },
  {
   "cell_type": "markdown",
   "metadata": {},
   "source": [
    "Портрет пользователя каждого региона"
   ]
  },
  {
   "cell_type": "markdown",
   "metadata": {},
   "source": [
    "Определим для пользователя каждого региона (NA, EU, JP):  \n",
    "•\tСамые популярные платформы (топ-5). Опишу различия в долях продаж.\n",
    "•\tСамые популярные жанры (топ-5). Поясню разницу.\n",
    "•\tОтвечу на вопрос - влияет ли рейтинг ESRB на продажи в отдельном регионе?"
   ]
  },
  {
   "cell_type": "markdown",
   "metadata": {},
   "source": [
    "Для региона северная америка"
   ]
  },
  {
   "cell_type": "code",
   "execution_count": 80,
   "metadata": {},
   "outputs": [
    {
     "data": {
      "text/html": [
       "<div>\n",
       "<style scoped>\n",
       "    .dataframe tbody tr th:only-of-type {\n",
       "        vertical-align: middle;\n",
       "    }\n",
       "\n",
       "    .dataframe tbody tr th {\n",
       "        vertical-align: top;\n",
       "    }\n",
       "\n",
       "    .dataframe thead th {\n",
       "        text-align: right;\n",
       "    }\n",
       "</style>\n",
       "<table border=\"1\" class=\"dataframe\">\n",
       "  <thead>\n",
       "    <tr style=\"text-align: right;\">\n",
       "      <th></th>\n",
       "      <th>продажи_северная_америка</th>\n",
       "    </tr>\n",
       "    <tr>\n",
       "      <th>платформа</th>\n",
       "      <th></th>\n",
       "    </tr>\n",
       "  </thead>\n",
       "  <tbody>\n",
       "    <tr>\n",
       "      <td>X360</td>\n",
       "      <td>595.74</td>\n",
       "    </tr>\n",
       "    <tr>\n",
       "      <td>Wii</td>\n",
       "      <td>486.87</td>\n",
       "    </tr>\n",
       "    <tr>\n",
       "      <td>PS3</td>\n",
       "      <td>390.13</td>\n",
       "    </tr>\n",
       "    <tr>\n",
       "      <td>DS</td>\n",
       "      <td>380.31</td>\n",
       "    </tr>\n",
       "    <tr>\n",
       "      <td>PS2</td>\n",
       "      <td>297.27</td>\n",
       "    </tr>\n",
       "    <tr>\n",
       "      <td>PS4</td>\n",
       "      <td>108.74</td>\n",
       "    </tr>\n",
       "    <tr>\n",
       "      <td>PSP</td>\n",
       "      <td>107.27</td>\n",
       "    </tr>\n",
       "    <tr>\n",
       "      <td>XOne</td>\n",
       "      <td>93.12</td>\n",
       "    </tr>\n",
       "    <tr>\n",
       "      <td>XB</td>\n",
       "      <td>91.32</td>\n",
       "    </tr>\n",
       "    <tr>\n",
       "      <td>3DS</td>\n",
       "      <td>82.65</td>\n",
       "    </tr>\n",
       "  </tbody>\n",
       "</table>\n",
       "</div>"
      ],
      "text/plain": [
       "           продажи_северная_америка\n",
       "платформа                          \n",
       "X360                         595.74\n",
       "Wii                          486.87\n",
       "PS3                          390.13\n",
       "DS                           380.31\n",
       "PS2                          297.27\n",
       "PS4                          108.74\n",
       "PSP                          107.27\n",
       "XOne                          93.12\n",
       "XB                            91.32\n",
       "3DS                           82.65"
      ]
     },
     "execution_count": 80,
     "metadata": {},
     "output_type": "execute_result"
    }
   ],
   "source": [
    "data.groupby('платформа')['продажи_северная_америка'].sum().to_frame('продажи_северная_америка').sort_values(by='продажи_северная_америка', ascending=False).head(10)"
   ]
  },
  {
   "cell_type": "markdown",
   "metadata": {},
   "source": [
    "Для региона северная америка, самыми популярными платформами стали X360, Wii, PS3, DS, PS2, то есть как и для суммарных продаж в целом. Очевидно, что, пользователи северной америки, оказывают наибольшее влияние на этот рынок. Посмотрю на остальных."
   ]
  },
  {
   "cell_type": "markdown",
   "metadata": {},
   "source": [
    "Для региона европа"
   ]
  },
  {
   "cell_type": "code",
   "execution_count": 81,
   "metadata": {},
   "outputs": [
    {
     "data": {
      "text/html": [
       "<div>\n",
       "<style scoped>\n",
       "    .dataframe tbody tr th:only-of-type {\n",
       "        vertical-align: middle;\n",
       "    }\n",
       "\n",
       "    .dataframe tbody tr th {\n",
       "        vertical-align: top;\n",
       "    }\n",
       "\n",
       "    .dataframe thead th {\n",
       "        text-align: right;\n",
       "    }\n",
       "</style>\n",
       "<table border=\"1\" class=\"dataframe\">\n",
       "  <thead>\n",
       "    <tr style=\"text-align: right;\">\n",
       "      <th></th>\n",
       "      <th>продажи_европа</th>\n",
       "    </tr>\n",
       "    <tr>\n",
       "      <th>платформа</th>\n",
       "      <th></th>\n",
       "    </tr>\n",
       "  </thead>\n",
       "  <tbody>\n",
       "    <tr>\n",
       "      <td>PS3</td>\n",
       "      <td>327.21</td>\n",
       "    </tr>\n",
       "    <tr>\n",
       "      <td>X360</td>\n",
       "      <td>268.32</td>\n",
       "    </tr>\n",
       "    <tr>\n",
       "      <td>Wii</td>\n",
       "      <td>258.32</td>\n",
       "    </tr>\n",
       "    <tr>\n",
       "      <td>DS</td>\n",
       "      <td>188.41</td>\n",
       "    </tr>\n",
       "    <tr>\n",
       "      <td>PS2</td>\n",
       "      <td>143.15</td>\n",
       "    </tr>\n",
       "    <tr>\n",
       "      <td>PS4</td>\n",
       "      <td>141.09</td>\n",
       "    </tr>\n",
       "    <tr>\n",
       "      <td>PC</td>\n",
       "      <td>110.55</td>\n",
       "    </tr>\n",
       "    <tr>\n",
       "      <td>PSP</td>\n",
       "      <td>65.62</td>\n",
       "    </tr>\n",
       "    <tr>\n",
       "      <td>3DS</td>\n",
       "      <td>61.27</td>\n",
       "    </tr>\n",
       "    <tr>\n",
       "      <td>XOne</td>\n",
       "      <td>51.59</td>\n",
       "    </tr>\n",
       "  </tbody>\n",
       "</table>\n",
       "</div>"
      ],
      "text/plain": [
       "           продажи_европа\n",
       "платформа                \n",
       "PS3                327.21\n",
       "X360               268.32\n",
       "Wii                258.32\n",
       "DS                 188.41\n",
       "PS2                143.15\n",
       "PS4                141.09\n",
       "PC                 110.55\n",
       "PSP                 65.62\n",
       "3DS                 61.27\n",
       "XOne                51.59"
      ]
     },
     "execution_count": 81,
     "metadata": {},
     "output_type": "execute_result"
    }
   ],
   "source": [
    "data.groupby('платформа')['продажи_европа'].sum().to_frame('продажи_европа').sort_values(by='продажи_европа', ascending=False).head(10)"
   ]
  },
  {
   "cell_type": "markdown",
   "metadata": {},
   "source": [
    "Здесь лидером является платформа PS3, однако X360, находится на втором месте - американские и японские брэнды, традиционно делят европейский рынок, в ТОП вошли, также - Wii, DS, PS2, опять японцы.  \n",
    "Посмотрим дальше, интересно, какая ситуация на японском рынке.  "
   ]
  },
  {
   "cell_type": "code",
   "execution_count": 82,
   "metadata": {},
   "outputs": [
    {
     "data": {
      "text/html": [
       "<div>\n",
       "<style scoped>\n",
       "    .dataframe tbody tr th:only-of-type {\n",
       "        vertical-align: middle;\n",
       "    }\n",
       "\n",
       "    .dataframe tbody tr th {\n",
       "        vertical-align: top;\n",
       "    }\n",
       "\n",
       "    .dataframe thead th {\n",
       "        text-align: right;\n",
       "    }\n",
       "</style>\n",
       "<table border=\"1\" class=\"dataframe\">\n",
       "  <thead>\n",
       "    <tr style=\"text-align: right;\">\n",
       "      <th></th>\n",
       "      <th>продажи_япония</th>\n",
       "    </tr>\n",
       "    <tr>\n",
       "      <th>платформа</th>\n",
       "      <th></th>\n",
       "    </tr>\n",
       "  </thead>\n",
       "  <tbody>\n",
       "    <tr>\n",
       "      <td>DS</td>\n",
       "      <td>175.00</td>\n",
       "    </tr>\n",
       "    <tr>\n",
       "      <td>3DS</td>\n",
       "      <td>100.62</td>\n",
       "    </tr>\n",
       "    <tr>\n",
       "      <td>PS3</td>\n",
       "      <td>79.41</td>\n",
       "    </tr>\n",
       "    <tr>\n",
       "      <td>PSP</td>\n",
       "      <td>75.88</td>\n",
       "    </tr>\n",
       "    <tr>\n",
       "      <td>PS2</td>\n",
       "      <td>70.15</td>\n",
       "    </tr>\n",
       "    <tr>\n",
       "      <td>Wii</td>\n",
       "      <td>68.28</td>\n",
       "    </tr>\n",
       "    <tr>\n",
       "      <td>PSV</td>\n",
       "      <td>21.84</td>\n",
       "    </tr>\n",
       "    <tr>\n",
       "      <td>GBA</td>\n",
       "      <td>18.30</td>\n",
       "    </tr>\n",
       "    <tr>\n",
       "      <td>PS4</td>\n",
       "      <td>15.96</td>\n",
       "    </tr>\n",
       "    <tr>\n",
       "      <td>WiiU</td>\n",
       "      <td>13.01</td>\n",
       "    </tr>\n",
       "    <tr>\n",
       "      <td>X360</td>\n",
       "      <td>12.30</td>\n",
       "    </tr>\n",
       "    <tr>\n",
       "      <td>GC</td>\n",
       "      <td>5.78</td>\n",
       "    </tr>\n",
       "    <tr>\n",
       "      <td>XOne</td>\n",
       "      <td>0.34</td>\n",
       "    </tr>\n",
       "    <tr>\n",
       "      <td>XB</td>\n",
       "      <td>0.22</td>\n",
       "    </tr>\n",
       "    <tr>\n",
       "      <td>PC</td>\n",
       "      <td>0.08</td>\n",
       "    </tr>\n",
       "  </tbody>\n",
       "</table>\n",
       "</div>"
      ],
      "text/plain": [
       "           продажи_япония\n",
       "платформа                \n",
       "DS                 175.00\n",
       "3DS                100.62\n",
       "PS3                 79.41\n",
       "PSP                 75.88\n",
       "PS2                 70.15\n",
       "Wii                 68.28\n",
       "PSV                 21.84\n",
       "GBA                 18.30\n",
       "PS4                 15.96\n",
       "WiiU                13.01\n",
       "X360                12.30\n",
       "GC                   5.78\n",
       "XOne                 0.34\n",
       "XB                   0.22\n",
       "PC                   0.08"
      ]
     },
     "execution_count": 82,
     "metadata": {},
     "output_type": "execute_result"
    }
   ],
   "source": [
    "data.groupby('платформа')['продажи_япония'].sum().to_frame('продажи_япония').sort_values(by='продажи_япония', ascending=False).head(15)"
   ]
  },
  {
   "cell_type": "markdown",
   "metadata": {},
   "source": [
    "В Японии, ситуация, кардинально другая, все ТОП-5 рейтинга, это платформы от компании Nintendo.  \n",
    "Поддерживают отечественного производителя! Платформа X360, даже не вошла в ТОП-10 рейтинга. Возможно, тут оказывает влияние, еще и курс иены к доллару, которую япония, сознательно, удерживает на более низком уровне, для повышения конкурентноспособности собственных товаров.  "
   ]
  },
  {
   "cell_type": "markdown",
   "metadata": {},
   "source": [
    "Посмотрим на другие страны"
   ]
  },
  {
   "cell_type": "code",
   "execution_count": 83,
   "metadata": {},
   "outputs": [
    {
     "data": {
      "text/html": [
       "<div>\n",
       "<style scoped>\n",
       "    .dataframe tbody tr th:only-of-type {\n",
       "        vertical-align: middle;\n",
       "    }\n",
       "\n",
       "    .dataframe tbody tr th {\n",
       "        vertical-align: top;\n",
       "    }\n",
       "\n",
       "    .dataframe thead th {\n",
       "        text-align: right;\n",
       "    }\n",
       "</style>\n",
       "<table border=\"1\" class=\"dataframe\">\n",
       "  <thead>\n",
       "    <tr style=\"text-align: right;\">\n",
       "      <th></th>\n",
       "      <th>продажи_другие_страны</th>\n",
       "    </tr>\n",
       "    <tr>\n",
       "      <th>платформа</th>\n",
       "      <th></th>\n",
       "    </tr>\n",
       "  </thead>\n",
       "  <tbody>\n",
       "    <tr>\n",
       "      <td>PS3</td>\n",
       "      <td>134.59</td>\n",
       "    </tr>\n",
       "    <tr>\n",
       "      <td>PS2</td>\n",
       "      <td>127.70</td>\n",
       "    </tr>\n",
       "    <tr>\n",
       "      <td>X360</td>\n",
       "      <td>84.88</td>\n",
       "    </tr>\n",
       "    <tr>\n",
       "      <td>Wii</td>\n",
       "      <td>77.71</td>\n",
       "    </tr>\n",
       "    <tr>\n",
       "      <td>DS</td>\n",
       "      <td>59.04</td>\n",
       "    </tr>\n",
       "    <tr>\n",
       "      <td>PS4</td>\n",
       "      <td>48.35</td>\n",
       "    </tr>\n",
       "    <tr>\n",
       "      <td>PSP</td>\n",
       "      <td>40.76</td>\n",
       "    </tr>\n",
       "    <tr>\n",
       "      <td>PC</td>\n",
       "      <td>19.17</td>\n",
       "    </tr>\n",
       "    <tr>\n",
       "      <td>XOne</td>\n",
       "      <td>14.27</td>\n",
       "    </tr>\n",
       "    <tr>\n",
       "      <td>3DS</td>\n",
       "      <td>13.27</td>\n",
       "    </tr>\n",
       "  </tbody>\n",
       "</table>\n",
       "</div>"
      ],
      "text/plain": [
       "           продажи_другие_страны\n",
       "платформа                       \n",
       "PS3                       134.59\n",
       "PS2                       127.70\n",
       "X360                       84.88\n",
       "Wii                        77.71\n",
       "DS                         59.04\n",
       "PS4                        48.35\n",
       "PSP                        40.76\n",
       "PC                         19.17\n",
       "XOne                       14.27\n",
       "3DS                        13.27"
      ]
     },
     "execution_count": 83,
     "metadata": {},
     "output_type": "execute_result"
    }
   ],
   "source": [
    "data.groupby('платформа')['продажи_другие_страны'].sum().to_frame('продажи_другие_страны').sort_values(by='продажи_другие_страны', ascending=False).head(10)"
   ]
  },
  {
   "cell_type": "markdown",
   "metadata": {},
   "source": [
    "Все производители платформ из японии, сделали американцев. Лидерами, здесь являются PS3, PS2. X360 от Microsoft, занимает почетное третье место. Далее, опять идут японцы."
   ]
  },
  {
   "cell_type": "markdown",
   "metadata": {},
   "source": [
    "Промежуточный вывод - платформа X360, занимает первое место в суммарной выручке, по причине того, что пользователи из северной америки и отчасти европы, видимо, являются самыми заядлыми игроманами - больше всех покупают приставок. Если посмотреть, глубже, то серьезную конкуренцию американцам составляют приставки от японских производителей - PlayStation и Nintendo. Этот фактор надо учитывать, при продаже игр - не полагаться, только на америнские или японские платформы - надо диверсифицированно подходить к вопросу или, наоборот сфокусироваться на одном каком-то рынке, тогда конкурентым преимуществом \"Стримчика\" станет глубокая компетентность в вопросе."
   ]
  },
  {
   "cell_type": "markdown",
   "metadata": {},
   "source": [
    "Самые популярные жанры (ТОП-5)"
   ]
  },
  {
   "cell_type": "markdown",
   "metadata": {},
   "source": [
    "Для региона северная америка"
   ]
  },
  {
   "cell_type": "code",
   "execution_count": 84,
   "metadata": {},
   "outputs": [
    {
     "data": {
      "text/html": [
       "<div>\n",
       "<style scoped>\n",
       "    .dataframe tbody tr th:only-of-type {\n",
       "        vertical-align: middle;\n",
       "    }\n",
       "\n",
       "    .dataframe tbody tr th {\n",
       "        vertical-align: top;\n",
       "    }\n",
       "\n",
       "    .dataframe thead th {\n",
       "        text-align: right;\n",
       "    }\n",
       "</style>\n",
       "<table border=\"1\" class=\"dataframe\">\n",
       "  <thead>\n",
       "    <tr style=\"text-align: right;\">\n",
       "      <th></th>\n",
       "      <th>продажи_северная_америка</th>\n",
       "    </tr>\n",
       "    <tr>\n",
       "      <th>жанр</th>\n",
       "      <th></th>\n",
       "    </tr>\n",
       "  </thead>\n",
       "  <tbody>\n",
       "    <tr>\n",
       "      <td>действие</td>\n",
       "      <td>619.12</td>\n",
       "    </tr>\n",
       "    <tr>\n",
       "      <td>спорт</td>\n",
       "      <td>471.22</td>\n",
       "    </tr>\n",
       "    <tr>\n",
       "      <td>стрелялка</td>\n",
       "      <td>431.30</td>\n",
       "    </tr>\n",
       "    <tr>\n",
       "      <td>разные_действия</td>\n",
       "      <td>328.97</td>\n",
       "    </tr>\n",
       "    <tr>\n",
       "      <td>ролевая_игра</td>\n",
       "      <td>233.41</td>\n",
       "    </tr>\n",
       "    <tr>\n",
       "      <td>гонки</td>\n",
       "      <td>185.77</td>\n",
       "    </tr>\n",
       "    <tr>\n",
       "      <td>платформер</td>\n",
       "      <td>176.03</td>\n",
       "    </tr>\n",
       "    <tr>\n",
       "      <td>симулятор</td>\n",
       "      <td>132.69</td>\n",
       "    </tr>\n",
       "    <tr>\n",
       "      <td>бой</td>\n",
       "      <td>114.57</td>\n",
       "    </tr>\n",
       "    <tr>\n",
       "      <td>приключение</td>\n",
       "      <td>71.52</td>\n",
       "    </tr>\n",
       "    <tr>\n",
       "      <td>головоломка</td>\n",
       "      <td>52.86</td>\n",
       "    </tr>\n",
       "    <tr>\n",
       "      <td>стратегия</td>\n",
       "      <td>33.87</td>\n",
       "    </tr>\n",
       "  </tbody>\n",
       "</table>\n",
       "</div>"
      ],
      "text/plain": [
       "                 продажи_северная_америка\n",
       "жанр                                     \n",
       "действие                           619.12\n",
       "спорт                              471.22\n",
       "стрелялка                          431.30\n",
       "разные_действия                    328.97\n",
       "ролевая_игра                       233.41\n",
       "гонки                              185.77\n",
       "платформер                         176.03\n",
       "симулятор                          132.69\n",
       "бой                                114.57\n",
       "приключение                         71.52\n",
       "головоломка                         52.86\n",
       "стратегия                           33.87"
      ]
     },
     "execution_count": 84,
     "metadata": {},
     "output_type": "execute_result"
    }
   ],
   "source": [
    "data.groupby('жанр')['продажи_северная_америка'].sum().to_frame('продажи_северная_америка').sort_values(by='продажи_северная_америка', ascending=False).head(15)"
   ]
  },
  {
   "cell_type": "markdown",
   "metadata": {},
   "source": [
    "Самыми популярными жанрами, для северной америки, как и для суммарных продаж, стали \"действие\", \"спорт\", \"стрелялка\", \"разные_действия\",  \"ролевая_игра\". Что выглядит очень логично, как уже было определенно из анализа платформ, пользователи северной америки являются хэдлайнеры этого рынка. Посмотрим на европейцев.  "
   ]
  },
  {
   "cell_type": "code",
   "execution_count": 85,
   "metadata": {},
   "outputs": [
    {
     "data": {
      "text/html": [
       "<div>\n",
       "<style scoped>\n",
       "    .dataframe tbody tr th:only-of-type {\n",
       "        vertical-align: middle;\n",
       "    }\n",
       "\n",
       "    .dataframe tbody tr th {\n",
       "        vertical-align: top;\n",
       "    }\n",
       "\n",
       "    .dataframe thead th {\n",
       "        text-align: right;\n",
       "    }\n",
       "</style>\n",
       "<table border=\"1\" class=\"dataframe\">\n",
       "  <thead>\n",
       "    <tr style=\"text-align: right;\">\n",
       "      <th></th>\n",
       "      <th>продажи_европа</th>\n",
       "    </tr>\n",
       "    <tr>\n",
       "      <th>жанр</th>\n",
       "      <th></th>\n",
       "    </tr>\n",
       "  </thead>\n",
       "  <tbody>\n",
       "    <tr>\n",
       "      <td>действие</td>\n",
       "      <td>388.60</td>\n",
       "    </tr>\n",
       "    <tr>\n",
       "      <td>спорт</td>\n",
       "      <td>280.47</td>\n",
       "    </tr>\n",
       "    <tr>\n",
       "      <td>стрелялка</td>\n",
       "      <td>260.83</td>\n",
       "    </tr>\n",
       "    <tr>\n",
       "      <td>разные_действия</td>\n",
       "      <td>176.53</td>\n",
       "    </tr>\n",
       "    <tr>\n",
       "      <td>гонки</td>\n",
       "      <td>141.51</td>\n",
       "    </tr>\n",
       "    <tr>\n",
       "      <td>ролевая_игра</td>\n",
       "      <td>132.25</td>\n",
       "    </tr>\n",
       "    <tr>\n",
       "      <td>платформер</td>\n",
       "      <td>98.94</td>\n",
       "    </tr>\n",
       "    <tr>\n",
       "      <td>симулятор</td>\n",
       "      <td>89.58</td>\n",
       "    </tr>\n",
       "    <tr>\n",
       "      <td>бой</td>\n",
       "      <td>51.21</td>\n",
       "    </tr>\n",
       "    <tr>\n",
       "      <td>приключение</td>\n",
       "      <td>42.06</td>\n",
       "    </tr>\n",
       "    <tr>\n",
       "      <td>головоломка</td>\n",
       "      <td>35.29</td>\n",
       "    </tr>\n",
       "    <tr>\n",
       "      <td>стратегия</td>\n",
       "      <td>27.12</td>\n",
       "    </tr>\n",
       "  </tbody>\n",
       "</table>\n",
       "</div>"
      ],
      "text/plain": [
       "                 продажи_европа\n",
       "жанр                           \n",
       "действие                 388.60\n",
       "спорт                    280.47\n",
       "стрелялка                260.83\n",
       "разные_действия          176.53\n",
       "гонки                    141.51\n",
       "ролевая_игра             132.25\n",
       "платформер                98.94\n",
       "симулятор                 89.58\n",
       "бой                       51.21\n",
       "приключение               42.06\n",
       "головоломка               35.29\n",
       "стратегия                 27.12"
      ]
     },
     "execution_count": 85,
     "metadata": {},
     "output_type": "execute_result"
    }
   ],
   "source": [
    "data.groupby('жанр')['продажи_европа'].sum().to_frame('продажи_европа').sort_values(by='продажи_европа', ascending=False).head(15)"
   ]
  },
  {
   "cell_type": "markdown",
   "metadata": {},
   "source": [
    "У европейцев, все аналогично, за исключением того, что \"ролевая игра\" поменялись местами с \"гонками\". Может быть потому, что там большая немецкая тройка, производители итальянских спорткаров, поэтому у европейцев гонки в крови? Посмотрим на японцев."
   ]
  },
  {
   "cell_type": "code",
   "execution_count": 86,
   "metadata": {},
   "outputs": [
    {
     "data": {
      "text/html": [
       "<div>\n",
       "<style scoped>\n",
       "    .dataframe tbody tr th:only-of-type {\n",
       "        vertical-align: middle;\n",
       "    }\n",
       "\n",
       "    .dataframe tbody tr th {\n",
       "        vertical-align: top;\n",
       "    }\n",
       "\n",
       "    .dataframe thead th {\n",
       "        text-align: right;\n",
       "    }\n",
       "</style>\n",
       "<table border=\"1\" class=\"dataframe\">\n",
       "  <thead>\n",
       "    <tr style=\"text-align: right;\">\n",
       "      <th></th>\n",
       "      <th>продажи_япония</th>\n",
       "    </tr>\n",
       "    <tr>\n",
       "      <th>жанр</th>\n",
       "      <th></th>\n",
       "    </tr>\n",
       "  </thead>\n",
       "  <tbody>\n",
       "    <tr>\n",
       "      <td>ролевая_игра</td>\n",
       "      <td>193.09</td>\n",
       "    </tr>\n",
       "    <tr>\n",
       "      <td>действие</td>\n",
       "      <td>113.21</td>\n",
       "    </tr>\n",
       "    <tr>\n",
       "      <td>разные_действия</td>\n",
       "      <td>74.92</td>\n",
       "    </tr>\n",
       "    <tr>\n",
       "      <td>спорт</td>\n",
       "      <td>56.93</td>\n",
       "    </tr>\n",
       "    <tr>\n",
       "      <td>платформер</td>\n",
       "      <td>42.43</td>\n",
       "    </tr>\n",
       "    <tr>\n",
       "      <td>бой</td>\n",
       "      <td>33.02</td>\n",
       "    </tr>\n",
       "    <tr>\n",
       "      <td>симулятор</td>\n",
       "      <td>32.91</td>\n",
       "    </tr>\n",
       "    <tr>\n",
       "      <td>приключение</td>\n",
       "      <td>31.50</td>\n",
       "    </tr>\n",
       "    <tr>\n",
       "      <td>стрелялка</td>\n",
       "      <td>21.32</td>\n",
       "    </tr>\n",
       "    <tr>\n",
       "      <td>головоломка</td>\n",
       "      <td>21.19</td>\n",
       "    </tr>\n",
       "    <tr>\n",
       "      <td>гонки</td>\n",
       "      <td>19.56</td>\n",
       "    </tr>\n",
       "    <tr>\n",
       "      <td>стратегия</td>\n",
       "      <td>17.15</td>\n",
       "    </tr>\n",
       "  </tbody>\n",
       "</table>\n",
       "</div>"
      ],
      "text/plain": [
       "                 продажи_япония\n",
       "жанр                           \n",
       "ролевая_игра             193.09\n",
       "действие                 113.21\n",
       "разные_действия           74.92\n",
       "спорт                     56.93\n",
       "платформер                42.43\n",
       "бой                       33.02\n",
       "симулятор                 32.91\n",
       "приключение               31.50\n",
       "стрелялка                 21.32\n",
       "головоломка               21.19\n",
       "гонки                     19.56\n",
       "стратегия                 17.15"
      ]
     },
     "execution_count": 86,
     "metadata": {},
     "output_type": "execute_result"
    }
   ],
   "source": [
    "data.groupby('жанр')['продажи_япония'].sum().to_frame('продажи_япония').sort_values(by='продажи_япония', ascending=False).head(15)"
   ]
  },
  {
   "cell_type": "markdown",
   "metadata": {},
   "source": [
    "На японском рынке, на первый взгляд ситуация иная, если не вникнуть в то, что такое \"ролевая игра\", фактически это шутер, но с более углубленным погружением в свойства персонажа, развитие его возможностей по ходу игры. Появился, также жанр \"платформер\", фактически это та же бродилка. Промежуточный вывод - хотя, внешне, японский рынок, несколько отличается от американского и европейского, если глубже вникнуть, то это те же стрелялки/бродилки и спорт. Посмотрю на другие регионы."
   ]
  },
  {
   "cell_type": "code",
   "execution_count": 87,
   "metadata": {},
   "outputs": [
    {
     "data": {
      "text/html": [
       "<div>\n",
       "<style scoped>\n",
       "    .dataframe tbody tr th:only-of-type {\n",
       "        vertical-align: middle;\n",
       "    }\n",
       "\n",
       "    .dataframe tbody tr th {\n",
       "        vertical-align: top;\n",
       "    }\n",
       "\n",
       "    .dataframe thead th {\n",
       "        text-align: right;\n",
       "    }\n",
       "</style>\n",
       "<table border=\"1\" class=\"dataframe\">\n",
       "  <thead>\n",
       "    <tr style=\"text-align: right;\">\n",
       "      <th></th>\n",
       "      <th>продажи_другие_страны</th>\n",
       "    </tr>\n",
       "    <tr>\n",
       "      <th>жанр</th>\n",
       "      <th></th>\n",
       "    </tr>\n",
       "  </thead>\n",
       "  <tbody>\n",
       "    <tr>\n",
       "      <td>действие</td>\n",
       "      <td>157.24</td>\n",
       "    </tr>\n",
       "    <tr>\n",
       "      <td>спорт</td>\n",
       "      <td>108.33</td>\n",
       "    </tr>\n",
       "    <tr>\n",
       "      <td>стрелялка</td>\n",
       "      <td>92.05</td>\n",
       "    </tr>\n",
       "    <tr>\n",
       "      <td>разные_действия</td>\n",
       "      <td>66.57</td>\n",
       "    </tr>\n",
       "    <tr>\n",
       "      <td>гонки</td>\n",
       "      <td>56.06</td>\n",
       "    </tr>\n",
       "    <tr>\n",
       "      <td>ролевая_игра</td>\n",
       "      <td>45.99</td>\n",
       "    </tr>\n",
       "    <tr>\n",
       "      <td>платформер</td>\n",
       "      <td>32.88</td>\n",
       "    </tr>\n",
       "    <tr>\n",
       "      <td>бой</td>\n",
       "      <td>26.03</td>\n",
       "    </tr>\n",
       "    <tr>\n",
       "      <td>симулятор</td>\n",
       "      <td>25.31</td>\n",
       "    </tr>\n",
       "    <tr>\n",
       "      <td>приключение</td>\n",
       "      <td>13.35</td>\n",
       "    </tr>\n",
       "    <tr>\n",
       "      <td>головоломка</td>\n",
       "      <td>9.34</td>\n",
       "    </tr>\n",
       "    <tr>\n",
       "      <td>стратегия</td>\n",
       "      <td>7.42</td>\n",
       "    </tr>\n",
       "  </tbody>\n",
       "</table>\n",
       "</div>"
      ],
      "text/plain": [
       "                 продажи_другие_страны\n",
       "жанр                                  \n",
       "действие                        157.24\n",
       "спорт                           108.33\n",
       "стрелялка                        92.05\n",
       "разные_действия                  66.57\n",
       "гонки                            56.06\n",
       "ролевая_игра                     45.99\n",
       "платформер                       32.88\n",
       "бой                              26.03\n",
       "симулятор                        25.31\n",
       "приключение                      13.35\n",
       "головоломка                       9.34\n",
       "стратегия                         7.42"
      ]
     },
     "execution_count": 87,
     "metadata": {},
     "output_type": "execute_result"
    }
   ],
   "source": [
    "data.groupby('жанр')['продажи_другие_страны'].sum().to_frame('продажи_другие_страны').sort_values(by='продажи_другие_страны', ascending=False).head(15)"
   ]
  },
  {
   "cell_type": "markdown",
   "metadata": {},
   "source": [
    "Предпочтения пользователей в других странах, отличных от америки, европы и японии, полностью совпадают с предпочтенями еропейских потребителей."
   ]
  },
  {
   "cell_type": "markdown",
   "metadata": {},
   "source": [
    "Вывод - хотя, внешне, предпочтения пользователей и несколько отличаются, в ТОП-5 все равно у всех стрелялки/бродилки, европейцы немного отличаются пристрастием к гонкам."
   ]
  },
  {
   "cell_type": "markdown",
   "metadata": {},
   "source": [
    "Влияение рейтинга ESRB на продажи в отдельном регионе"
   ]
  },
  {
   "cell_type": "markdown",
   "metadata": {},
   "source": [
    "Посмотрим, сначала на общую картину"
   ]
  },
  {
   "cell_type": "code",
   "execution_count": 88,
   "metadata": {},
   "outputs": [
    {
     "data": {
      "text/html": [
       "<div>\n",
       "<style scoped>\n",
       "    .dataframe tbody tr th:only-of-type {\n",
       "        vertical-align: middle;\n",
       "    }\n",
       "\n",
       "    .dataframe tbody tr th {\n",
       "        vertical-align: top;\n",
       "    }\n",
       "\n",
       "    .dataframe thead th {\n",
       "        text-align: right;\n",
       "    }\n",
       "</style>\n",
       "<table border=\"1\" class=\"dataframe\">\n",
       "  <thead>\n",
       "    <tr style=\"text-align: right;\">\n",
       "      <th></th>\n",
       "      <th>суммарные_продажи</th>\n",
       "    </tr>\n",
       "    <tr>\n",
       "      <th>рейтинг_ESRB</th>\n",
       "      <th></th>\n",
       "    </tr>\n",
       "  </thead>\n",
       "  <tbody>\n",
       "    <tr>\n",
       "      <td>для_всех</td>\n",
       "      <td>1875.81</td>\n",
       "    </tr>\n",
       "    <tr>\n",
       "      <td>подростки_и_старше</td>\n",
       "      <td>1681.44</td>\n",
       "    </tr>\n",
       "    <tr>\n",
       "      <td>только_взрослые</td>\n",
       "      <td>1290.69</td>\n",
       "    </tr>\n",
       "    <tr>\n",
       "      <td>нет_рейтинга</td>\n",
       "      <td>1023.83</td>\n",
       "    </tr>\n",
       "    <tr>\n",
       "      <td>для_малышей</td>\n",
       "      <td>1.75</td>\n",
       "    </tr>\n",
       "  </tbody>\n",
       "</table>\n",
       "</div>"
      ],
      "text/plain": [
       "                    суммарные_продажи\n",
       "рейтинг_ESRB                         \n",
       "для_всех                      1875.81\n",
       "подростки_и_старше            1681.44\n",
       "только_взрослые               1290.69\n",
       "нет_рейтинга                  1023.83\n",
       "для_малышей                      1.75"
      ]
     },
     "execution_count": 88,
     "metadata": {},
     "output_type": "execute_result"
    }
   ],
   "source": [
    "data.groupby('рейтинг_ESRB')['суммарные_продажи'].sum().to_frame('суммарные_продажи').sort_values(by='суммарные_продажи', ascending=False).head(15)"
   ]
  },
  {
   "cell_type": "markdown",
   "metadata": {},
   "source": [
    "Самыми продаваемыми играми, являются игры с рейтингом - \"для_всех\", то есть в которые играют (и могут играть) все поколения. Выглядит, вполне, логично, производители, хотят охватить максимальную аудиторию, не нарушив законов других стран. Далее,  тоже, ожидаемо, идут игры для подростков, следом для взрослых. Малыши не очень усидчивые, вероятно, поэтому, компьютерные игры, для маленьких вносят, почти незаметный вклад в объемы продаж. Посмотрю по регионам."
   ]
  },
  {
   "cell_type": "markdown",
   "metadata": {},
   "source": [
    "Зависимость объема продаж от рейтинг_ESRB для стран северной америки"
   ]
  },
  {
   "cell_type": "code",
   "execution_count": 89,
   "metadata": {},
   "outputs": [
    {
     "data": {
      "text/html": [
       "<div>\n",
       "<style scoped>\n",
       "    .dataframe tbody tr th:only-of-type {\n",
       "        vertical-align: middle;\n",
       "    }\n",
       "\n",
       "    .dataframe tbody tr th {\n",
       "        vertical-align: top;\n",
       "    }\n",
       "\n",
       "    .dataframe thead th {\n",
       "        text-align: right;\n",
       "    }\n",
       "</style>\n",
       "<table border=\"1\" class=\"dataframe\">\n",
       "  <thead>\n",
       "    <tr style=\"text-align: right;\">\n",
       "      <th></th>\n",
       "      <th>продажи_северная_америка</th>\n",
       "    </tr>\n",
       "    <tr>\n",
       "      <th>рейтинг_ESRB</th>\n",
       "      <th></th>\n",
       "    </tr>\n",
       "  </thead>\n",
       "  <tbody>\n",
       "    <tr>\n",
       "      <td>для_всех</td>\n",
       "      <td>970.77</td>\n",
       "    </tr>\n",
       "    <tr>\n",
       "      <td>подростки_и_старше</td>\n",
       "      <td>873.04</td>\n",
       "    </tr>\n",
       "    <tr>\n",
       "      <td>только_взрослые</td>\n",
       "      <td>650.60</td>\n",
       "    </tr>\n",
       "    <tr>\n",
       "      <td>нет_рейтинга</td>\n",
       "      <td>355.39</td>\n",
       "    </tr>\n",
       "    <tr>\n",
       "      <td>для_малышей</td>\n",
       "      <td>1.53</td>\n",
       "    </tr>\n",
       "  </tbody>\n",
       "</table>\n",
       "</div>"
      ],
      "text/plain": [
       "                    продажи_северная_америка\n",
       "рейтинг_ESRB                                \n",
       "для_всех                              970.77\n",
       "подростки_и_старше                    873.04\n",
       "только_взрослые                       650.60\n",
       "нет_рейтинга                          355.39\n",
       "для_малышей                             1.53"
      ]
     },
     "execution_count": 89,
     "metadata": {},
     "output_type": "execute_result"
    }
   ],
   "source": [
    "data.groupby('рейтинг_ESRB')['продажи_северная_америка'].sum().to_frame('продажи_северная_америка').sort_values(by='продажи_северная_америка', ascending=False).head(15)"
   ]
  },
  {
   "cell_type": "markdown",
   "metadata": {},
   "source": [
    "Для пользователей из стран северной америки, данные, абсолютно совпадают с общемировами. Как и ожидалось. Посмотрим на европейцев.  "
   ]
  },
  {
   "cell_type": "code",
   "execution_count": 90,
   "metadata": {},
   "outputs": [
    {
     "data": {
      "text/html": [
       "<div>\n",
       "<style scoped>\n",
       "    .dataframe tbody tr th:only-of-type {\n",
       "        vertical-align: middle;\n",
       "    }\n",
       "\n",
       "    .dataframe tbody tr th {\n",
       "        vertical-align: top;\n",
       "    }\n",
       "\n",
       "    .dataframe thead th {\n",
       "        text-align: right;\n",
       "    }\n",
       "</style>\n",
       "<table border=\"1\" class=\"dataframe\">\n",
       "  <thead>\n",
       "    <tr style=\"text-align: right;\">\n",
       "      <th></th>\n",
       "      <th>продажи_европа</th>\n",
       "    </tr>\n",
       "    <tr>\n",
       "      <th>рейтинг_ESRB</th>\n",
       "      <th></th>\n",
       "    </tr>\n",
       "  </thead>\n",
       "  <tbody>\n",
       "    <tr>\n",
       "      <td>для_всех</td>\n",
       "      <td>549.81</td>\n",
       "    </tr>\n",
       "    <tr>\n",
       "      <td>подростки_и_старше</td>\n",
       "      <td>474.46</td>\n",
       "    </tr>\n",
       "    <tr>\n",
       "      <td>только_взрослые</td>\n",
       "      <td>429.20</td>\n",
       "    </tr>\n",
       "    <tr>\n",
       "      <td>нет_рейтинга</td>\n",
       "      <td>270.81</td>\n",
       "    </tr>\n",
       "    <tr>\n",
       "      <td>для_малышей</td>\n",
       "      <td>0.11</td>\n",
       "    </tr>\n",
       "  </tbody>\n",
       "</table>\n",
       "</div>"
      ],
      "text/plain": [
       "                    продажи_европа\n",
       "рейтинг_ESRB                      \n",
       "для_всех                    549.81\n",
       "подростки_и_старше          474.46\n",
       "только_взрослые             429.20\n",
       "нет_рейтинга                270.81\n",
       "для_малышей                   0.11"
      ]
     },
     "execution_count": 90,
     "metadata": {},
     "output_type": "execute_result"
    }
   ],
   "source": [
    "data.groupby('рейтинг_ESRB')['продажи_европа'].sum().to_frame('продажи_европа').sort_values(by='продажи_европа', ascending=False).head(15)"
   ]
  },
  {
   "cell_type": "markdown",
   "metadata": {},
   "source": [
    "И здесь ситуация аналогичная. Посмотрим на японцев.  "
   ]
  },
  {
   "cell_type": "code",
   "execution_count": 91,
   "metadata": {},
   "outputs": [
    {
     "data": {
      "text/html": [
       "<div>\n",
       "<style scoped>\n",
       "    .dataframe tbody tr th:only-of-type {\n",
       "        vertical-align: middle;\n",
       "    }\n",
       "\n",
       "    .dataframe tbody tr th {\n",
       "        vertical-align: top;\n",
       "    }\n",
       "\n",
       "    .dataframe thead th {\n",
       "        text-align: right;\n",
       "    }\n",
       "</style>\n",
       "<table border=\"1\" class=\"dataframe\">\n",
       "  <thead>\n",
       "    <tr style=\"text-align: right;\">\n",
       "      <th></th>\n",
       "      <th>продажи_япония</th>\n",
       "    </tr>\n",
       "    <tr>\n",
       "      <th>рейтинг_ESRB</th>\n",
       "      <th></th>\n",
       "    </tr>\n",
       "  </thead>\n",
       "  <tbody>\n",
       "    <tr>\n",
       "      <td>нет_рейтинга</td>\n",
       "      <td>310.10</td>\n",
       "    </tr>\n",
       "    <tr>\n",
       "      <td>для_всех</td>\n",
       "      <td>159.27</td>\n",
       "    </tr>\n",
       "    <tr>\n",
       "      <td>подростки_и_старше</td>\n",
       "      <td>139.31</td>\n",
       "    </tr>\n",
       "    <tr>\n",
       "      <td>только_взрослые</td>\n",
       "      <td>48.55</td>\n",
       "    </tr>\n",
       "    <tr>\n",
       "      <td>для_малышей</td>\n",
       "      <td>0.00</td>\n",
       "    </tr>\n",
       "  </tbody>\n",
       "</table>\n",
       "</div>"
      ],
      "text/plain": [
       "                    продажи_япония\n",
       "рейтинг_ESRB                      \n",
       "нет_рейтинга                310.10\n",
       "для_всех                    159.27\n",
       "подростки_и_старше          139.31\n",
       "только_взрослые              48.55\n",
       "для_малышей                   0.00"
      ]
     },
     "execution_count": 91,
     "metadata": {},
     "output_type": "execute_result"
    }
   ],
   "source": [
    "data.groupby('рейтинг_ESRB')['продажи_япония'].sum().to_frame('продажи_япония').sort_values(by='продажи_япония', ascending=False).head(15)"
   ]
  },
  {
   "cell_type": "markdown",
   "metadata": {},
   "source": [
    "В японии, наблюдается интересная картина. На первом месте по продажам, игры, не имеющие рейтинга, дальше все аналогично. Можно было бы подумать, что это очень неожиданно, но нет, так как \"ESRB — негосударственная организация, основное направление деятельности — принятие и определение рейтингов для компьютерных видеоигр и другого развлекательного программного обеспечения в США и Канаде.\" Просто в те игры, в которые играют японцы, ESRB не рейтингуют, а японцы в свою очередб, меньше обращают внимание на американский рейтинг. Скорее всего, японцы играют в игры собственного производства и как выяснилось на собственных платформах. Посмотрим на остальные регионы."
   ]
  },
  {
   "cell_type": "code",
   "execution_count": 92,
   "metadata": {},
   "outputs": [
    {
     "data": {
      "text/html": [
       "<div>\n",
       "<style scoped>\n",
       "    .dataframe tbody tr th:only-of-type {\n",
       "        vertical-align: middle;\n",
       "    }\n",
       "\n",
       "    .dataframe tbody tr th {\n",
       "        vertical-align: top;\n",
       "    }\n",
       "\n",
       "    .dataframe thead th {\n",
       "        text-align: right;\n",
       "    }\n",
       "</style>\n",
       "<table border=\"1\" class=\"dataframe\">\n",
       "  <thead>\n",
       "    <tr style=\"text-align: right;\">\n",
       "      <th></th>\n",
       "      <th>продажи_другие_страны</th>\n",
       "    </tr>\n",
       "    <tr>\n",
       "      <th>рейтинг_ESRB</th>\n",
       "      <th></th>\n",
       "    </tr>\n",
       "  </thead>\n",
       "  <tbody>\n",
       "    <tr>\n",
       "      <td>для_всех</td>\n",
       "      <td>195.96</td>\n",
       "    </tr>\n",
       "    <tr>\n",
       "      <td>подростки_и_старше</td>\n",
       "      <td>194.63</td>\n",
       "    </tr>\n",
       "    <tr>\n",
       "      <td>только_взрослые</td>\n",
       "      <td>162.34</td>\n",
       "    </tr>\n",
       "    <tr>\n",
       "      <td>нет_рейтинга</td>\n",
       "      <td>87.53</td>\n",
       "    </tr>\n",
       "    <tr>\n",
       "      <td>для_малышей</td>\n",
       "      <td>0.11</td>\n",
       "    </tr>\n",
       "  </tbody>\n",
       "</table>\n",
       "</div>"
      ],
      "text/plain": [
       "                    продажи_другие_страны\n",
       "рейтинг_ESRB                             \n",
       "для_всех                           195.96\n",
       "подростки_и_старше                 194.63\n",
       "только_взрослые                    162.34\n",
       "нет_рейтинга                        87.53\n",
       "для_малышей                          0.11"
      ]
     },
     "execution_count": 92,
     "metadata": {},
     "output_type": "execute_result"
    }
   ],
   "source": [
    "data.groupby('рейтинг_ESRB')['продажи_другие_страны'].sum().to_frame('продажи_другие_страны').sort_values(by='продажи_другие_страны', ascending=False).head(15)"
   ]
  },
  {
   "cell_type": "markdown",
   "metadata": {},
   "source": [
    "Все как у всех, кроме японцев."
   ]
  },
  {
   "cell_type": "markdown",
   "metadata": {},
   "source": [
    "Вывод - есть зависимость между рейтингом ESRB и продажми, для всех регионов, заметна разница, только для японии и то, после нерейтингованных игр, картина аналогичная. Тут, еще, возможно, есть нюансы в законодательствах стран, поэтому нельзя, просто сказать, что игры для подростков и старше для японии, это тоже самое, что для америки или Ирана, например. Хотя, мне представляется, что люди не покупают игры из-за того или иного рейтинга ESRB. Как и не покупают машины, только из-за результатов краш-тестов или рейтинга журнала \"За рулем\"."
   ]
  },
  {
   "cell_type": "markdown",
   "metadata": {},
   "source": [
    "5. Проверка гипотез"
   ]
  },
  {
   "cell_type": "markdown",
   "metadata": {},
   "source": [
    "Гипотеза 1 - Средние пользовательские рейтинги платформ Xbox One и PC одинаковые"
   ]
  },
  {
   "cell_type": "markdown",
   "metadata": {},
   "source": [
    "Н0 (нулевая гипотеза) - средние пользовательские рейтинги платформ Xbox One и PC одинаковые.\n",
    "Н1 (альтернативная гипотеза) - средние пользовательские рейтинги платформ Xbox One и PC не одинаковые"
   ]
  },
  {
   "cell_type": "markdown",
   "metadata": {},
   "source": [
    "Для удобства, выведем несколько строчек датафрейма"
   ]
  },
  {
   "cell_type": "code",
   "execution_count": 93,
   "metadata": {},
   "outputs": [
    {
     "data": {
      "text/html": [
       "<div>\n",
       "<style scoped>\n",
       "    .dataframe tbody tr th:only-of-type {\n",
       "        vertical-align: middle;\n",
       "    }\n",
       "\n",
       "    .dataframe tbody tr th {\n",
       "        vertical-align: top;\n",
       "    }\n",
       "\n",
       "    .dataframe thead th {\n",
       "        text-align: right;\n",
       "    }\n",
       "</style>\n",
       "<table border=\"1\" class=\"dataframe\">\n",
       "  <thead>\n",
       "    <tr style=\"text-align: right;\">\n",
       "      <th></th>\n",
       "      <th>имя_игры</th>\n",
       "      <th>платформа</th>\n",
       "      <th>год_выхода</th>\n",
       "      <th>жанр</th>\n",
       "      <th>продажи_северная_америка</th>\n",
       "      <th>продажи_европа</th>\n",
       "      <th>продажи_япония</th>\n",
       "      <th>продажи_другие_страны</th>\n",
       "      <th>оценка_критиков</th>\n",
       "      <th>оценка_пользователей</th>\n",
       "      <th>рейтинг_ESRB</th>\n",
       "      <th>суммарные_продажи</th>\n",
       "    </tr>\n",
       "  </thead>\n",
       "  <tbody>\n",
       "    <tr>\n",
       "      <td>0</td>\n",
       "      <td>Wii Sports</td>\n",
       "      <td>Wii</td>\n",
       "      <td>2006</td>\n",
       "      <td>спорт</td>\n",
       "      <td>41.36</td>\n",
       "      <td>28.96</td>\n",
       "      <td>3.77</td>\n",
       "      <td>8.45</td>\n",
       "      <td>76.0</td>\n",
       "      <td>8.0</td>\n",
       "      <td>для_всех</td>\n",
       "      <td>82.54</td>\n",
       "    </tr>\n",
       "    <tr>\n",
       "      <td>2</td>\n",
       "      <td>Mario Kart Wii</td>\n",
       "      <td>Wii</td>\n",
       "      <td>2008</td>\n",
       "      <td>гонки</td>\n",
       "      <td>15.68</td>\n",
       "      <td>12.76</td>\n",
       "      <td>3.79</td>\n",
       "      <td>3.29</td>\n",
       "      <td>82.0</td>\n",
       "      <td>8.3</td>\n",
       "      <td>для_всех</td>\n",
       "      <td>35.52</td>\n",
       "    </tr>\n",
       "    <tr>\n",
       "      <td>3</td>\n",
       "      <td>Wii Sports Resort</td>\n",
       "      <td>Wii</td>\n",
       "      <td>2009</td>\n",
       "      <td>спорт</td>\n",
       "      <td>15.61</td>\n",
       "      <td>10.93</td>\n",
       "      <td>3.28</td>\n",
       "      <td>2.95</td>\n",
       "      <td>80.0</td>\n",
       "      <td>8.0</td>\n",
       "      <td>для_всех</td>\n",
       "      <td>32.77</td>\n",
       "    </tr>\n",
       "    <tr>\n",
       "      <td>6</td>\n",
       "      <td>New Super Mario Bros.</td>\n",
       "      <td>DS</td>\n",
       "      <td>2006</td>\n",
       "      <td>платформер</td>\n",
       "      <td>11.28</td>\n",
       "      <td>9.14</td>\n",
       "      <td>6.50</td>\n",
       "      <td>2.88</td>\n",
       "      <td>89.0</td>\n",
       "      <td>8.5</td>\n",
       "      <td>для_всех</td>\n",
       "      <td>29.80</td>\n",
       "    </tr>\n",
       "    <tr>\n",
       "      <td>7</td>\n",
       "      <td>Wii Play</td>\n",
       "      <td>Wii</td>\n",
       "      <td>2006</td>\n",
       "      <td>разные_действия</td>\n",
       "      <td>13.96</td>\n",
       "      <td>9.18</td>\n",
       "      <td>2.93</td>\n",
       "      <td>2.84</td>\n",
       "      <td>58.0</td>\n",
       "      <td>6.6</td>\n",
       "      <td>для_всех</td>\n",
       "      <td>28.91</td>\n",
       "    </tr>\n",
       "  </tbody>\n",
       "</table>\n",
       "</div>"
      ],
      "text/plain": [
       "                имя_игры платформа  год_выхода             жанр  \\\n",
       "0             Wii Sports       Wii        2006            спорт   \n",
       "2         Mario Kart Wii       Wii        2008            гонки   \n",
       "3      Wii Sports Resort       Wii        2009            спорт   \n",
       "6  New Super Mario Bros.        DS        2006       платформер   \n",
       "7               Wii Play       Wii        2006  разные_действия   \n",
       "\n",
       "   продажи_северная_америка  продажи_европа  продажи_япония  \\\n",
       "0                     41.36           28.96            3.77   \n",
       "2                     15.68           12.76            3.79   \n",
       "3                     15.61           10.93            3.28   \n",
       "6                     11.28            9.14            6.50   \n",
       "7                     13.96            9.18            2.93   \n",
       "\n",
       "   продажи_другие_страны  оценка_критиков  оценка_пользователей рейтинг_ESRB  \\\n",
       "0                   8.45             76.0                   8.0     для_всех   \n",
       "2                   3.29             82.0                   8.3     для_всех   \n",
       "3                   2.95             80.0                   8.0     для_всех   \n",
       "6                   2.88             89.0                   8.5     для_всех   \n",
       "7                   2.84             58.0                   6.6     для_всех   \n",
       "\n",
       "   суммарные_продажи  \n",
       "0              82.54  \n",
       "2              35.52  \n",
       "3              32.77  \n",
       "6              29.80  \n",
       "7              28.91  "
      ]
     },
     "execution_count": 93,
     "metadata": {},
     "output_type": "execute_result"
    }
   ],
   "source": [
    "data.head(5)"
   ]
  },
  {
   "cell_type": "code",
   "execution_count": 94,
   "metadata": {},
   "outputs": [
    {
     "name": "stdout",
     "output_type": "stream",
     "text": [
      "t = -3.1928811478874963\n",
      "p-value = 1.4604271689e-03\n",
      "\n",
      "Пороговое значение alpha = 0.05\n"
     ]
    }
   ],
   "source": [
    "Xbox_One_rating = data.loc[(data['платформа'] == 'XOne') & (data['оценка_пользователей'] > 0)]['оценка_пользователей']\n",
    "PC_rating = data.loc[(data['платформа'] == 'PC') & (data['оценка_пользователей'] > 0)]['оценка_пользователей']\n",
    "stat, p = ttest_ind(Xbox_One_rating, PC_rating)\n",
    "print('t = {}\\np-value = {:.10e}'.format(stat, p))\n",
    "print('\\nПороговое значение alpha = 0.05')"
   ]
  },
  {
   "cell_type": "markdown",
   "metadata": {},
   "source": [
    "Нулевую гипотезу подтвердиь не удалось - средние пользовательские рейтинги платформ Xbox One и PC не одинаковые. Посчитаю у кого больше."
   ]
  },
  {
   "cell_type": "code",
   "execution_count": 95,
   "metadata": {},
   "outputs": [
    {
     "name": "stdout",
     "output_type": "stream",
     "text": [
      "Средняя оценка пользователей игр для платформы Xbox_One  - 6.52\n",
      "Средняя оценка пользователей игр для платформы PC - 6.92\n"
     ]
    }
   ],
   "source": [
    "print('Средняя оценка пользователей игр для платформы Xbox_One  - {:.2f}'.format(Xbox_One_rating.mean()))\n",
    "print('Средняя оценка пользователей игр для платформы PC - {:.2f}'.format(PC_rating.mean()))"
   ]
  },
  {
   "cell_type": "markdown",
   "metadata": {},
   "source": [
    "Видно, что средние оценки пользователей, для Xbox_One и PC очень близки. При этомЮ для PC, рони, немного выше. Причина, как удтверждают источники (https://yandex.ru/q/question/computers/kakuiu_pristavku_luchshe_kupit_xbox_ili_6b682f26/?utm_source=yandex&utm_medium=wizard&answer_id=8d8ee048-2171-4e3a-89dd-33e94274786f), в том, что на PC выпускается, значительно, больше эксклюзивных игр. И охват, с тз географии у PC, как выяснилось, ранее, больше."
   ]
  },
  {
   "cell_type": "markdown",
   "metadata": {},
   "source": [
    "Гипотеза 2 - Средние пользовательские рейтинги жанров Action (англ. «действие», экшен-игры) и Sports (англ. «спортивные соревнования») разные."
   ]
  },
  {
   "cell_type": "markdown",
   "metadata": {},
   "source": [
    "Н0 (нулевая гипотеза) - средние пользовательские рейтинги жанров действие и спорт одинаковые.\n",
    "Н1 (альтернативная гипотеза) - средние пользовательские рейтинги жанров действие и спорт отличаются между собой."
   ]
  },
  {
   "cell_type": "code",
   "execution_count": 96,
   "metadata": {},
   "outputs": [
    {
     "name": "stdout",
     "output_type": "stream",
     "text": [
      "t = 4.818802442070696\n",
      "p-value = 0.0000\n",
      "\n",
      "Пороговое значение alpha = 0.05\n"
     ]
    }
   ],
   "source": [
    "действие_rating = data.loc[(data['жанр'] =='действие') & (data['оценка_пользователей'] > 0)]['оценка_пользователей']\n",
    "спорт_rating = data.loc[(data['жанр'] =='спорт') & (data['оценка_пользователей'] > 0)]['оценка_пользователей']\n",
    "stat, p = ttest_ind(действие_rating, спорт_rating)\n",
    "print('t = {}\\np-value = {:.4f}'.format(stat, p))\n",
    "print('\\nПороговое значение alpha = 0.05')"
   ]
  },
  {
   "cell_type": "markdown",
   "metadata": {},
   "source": [
    "Отвергнуть нулевую гипотезу не удалось - средние пользовательские рейтинги жанров действие и спорт одинаковые."
   ]
  },
  {
   "cell_type": "markdown",
   "metadata": {},
   "source": [
    "Посчитаем"
   ]
  },
  {
   "cell_type": "code",
   "execution_count": 97,
   "metadata": {},
   "outputs": [
    {
     "name": "stdout",
     "output_type": "stream",
     "text": [
      "Средние пользовательский рейтинг жанра \"действие\"  - 6.98\n",
      "Средние пользовательский рейтинг жанра \"спорт\" - 6.68\n"
     ]
    }
   ],
   "source": [
    "print('Средние пользовательский рейтинг жанра \"действие\"  - {:.2f}'.format(действие_rating.mean()))\n",
    "print('Средние пользовательский рейтинг жанра \"спорт\" - {:.2f}'.format(спорт_rating.mean()))"
   ]
  },
  {
   "cell_type": "markdown",
   "metadata": {},
   "source": [
    "Рейтинги абсолютно сопоставимы."
   ]
  },
  {
   "cell_type": "markdown",
   "metadata": {},
   "source": [
    "# Общий вывод:\n",
    "\n",
    "По итогам проведенного анализа, можно сказать следующее:\n",
    "\n",
    "- рынок консольных игр, начиная с 2010 стагнирует, прямо можно сказать, что снижается,\n",
    "- поддержку продажам, оказывают такие факторы как:\n",
    "  - предложение покупателям правильных жанров, прежде всего стрелялки/бродилки/спорт, с учетом Японии - ролевые игры,\n",
    "  - предложение покупателям игр на правильных плафтормах, прежде всего это PC, в несколько меньшей степени XBoX,\n",
    "  - оценки критиков, в небольшой степени, еще в меньшей степени оценки пользователей, возможно у игр слабый промоушен - надо увеличить маркетинговую активность - развивать сарафанное радио, вести групы в соцсетях, делать видео-обзоры.\n",
    "  \n",
    "В целом рекомендации \"Стримчику\":\n",
    "\n",
    "- сфокусироваться в самом маржиинальном сегменте игр, с тз цена покупки/цена перепродажи в странах северной америки - самый большой рынок,\n",
    "- не закрывая, полностью направление консольных игр, сосредоточить свое внимание, прежде всего, на играх для мобильных устройств и в меньшей степени на играх для ПК."
   ]
  }
 ],
 "metadata": {
  "kernelspec": {
   "display_name": "Python 3",
   "language": "python",
   "name": "python3"
  },
  "language_info": {
   "codemirror_mode": {
    "name": "ipython",
    "version": 3
   },
   "file_extension": ".py",
   "mimetype": "text/x-python",
   "name": "python",
   "nbconvert_exporter": "python",
   "pygments_lexer": "ipython3",
   "version": "3.7.6"
  }
 },
 "nbformat": 4,
 "nbformat_minor": 2
}
