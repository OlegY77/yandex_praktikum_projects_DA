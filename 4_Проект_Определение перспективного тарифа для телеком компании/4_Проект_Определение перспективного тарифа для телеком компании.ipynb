﻿{
 "cells": [
  {
   "cell_type": "markdown",
   "metadata": {},
   "source": [
    "## Определение перспективного тарифа для телеком компании.\n",
    "Клиентам предлагают два тарифных плана: «Смарт» и «Ультра», для корректировки рекламного бюджета, необходимо понять какой тариф более прибыльный."
   ]
  },
  {
   "cell_type": "markdown",
   "metadata": {},
   "source": [
    "## Описание тарифов\n",
    "\n",
    "Тариф Смарт:\n",
    "\n",
    "Ежемесячная плата: 550 рублей\n",
    "Включено 500 минут разговора, 50 сообщений и 15 Гб интернет-трафика\n",
    "Стоимость услуг сверх тарифного пакета:\n",
    "минута разговора: 3 рубля\n",
    "сообщение: 3 рубля\n",
    "1 Гб интернет-трафика: 200 рублей\n",
    "\n",
    "Тариф Ультра:\n",
    "\n",
    "Ежемесячная плата: 1950 рублей\n",
    "Включено 3000 минут разговора, 1000 сообщений и 30 Гб интернет-трафика\n",
    "Стоимость услуг сверх тарифного пакета:\n",
    "минута разговора: 1 рубль\n",
    "сообщение: 1 рубль\n",
    "1 Гб интернет-трафика: 150 рублей\n",
    "Обратите внимание: «Мегалайн» всегда округляет вверх значения минут и мегабайтов. Если пользователь проговорил всего 1 секунду, в тарифе засчитывается целая минута."
   ]
  },
  {
   "cell_type": "markdown",
   "metadata": {},
   "source": [
    "Импортируем библиотеки"
   ]
  },
  {
   "cell_type": "code",
   "execution_count": 1,
   "metadata": {},
   "outputs": [],
   "source": [
    "import pandas as pd\n",
    "import numpy as np\n",
    "import matplotlib.pyplot as plt\n",
    "pd.options.mode.chained_assignment = None  # отключю предупреждения Pandas"
   ]
  },
  {
   "cell_type": "markdown",
   "metadata": {},
   "source": [
    "##*Шаг 1. Откроем файл с данными"
   ]
  },
  {
   "cell_type": "code",
   "execution_count": 2,
   "metadata": {},
   "outputs": [],
   "source": [
    "users = pd.read_csv('датасет')\n",
    "calls = pd.read_csv('датасет')\n",
    "messages = pd.read_csv('датасет')\n",
    "internet = pd.read_csv('датасет')\n",
    "tariffs = pd.read_csv('датасет')"
   ]
  },
  {
   "cell_type": "markdown",
   "metadata": {},
   "source": [
    "##*Изучим общую информацию, по очереди по датасетам, подготовим данные"
   ]
  },
  {
   "cell_type": "markdown",
   "metadata": {},
   "source": [
    "Датасет users"
   ]
  },
  {
   "cell_type": "code",
   "execution_count": 3,
   "metadata": {},
   "outputs": [
    {
     "data": {
      "text/html": [
       "<div>\n",
       "<style scoped>\n",
       "    .dataframe tbody tr th:only-of-type {\n",
       "        vertical-align: middle;\n",
       "    }\n",
       "\n",
       "    .dataframe tbody tr th {\n",
       "        vertical-align: top;\n",
       "    }\n",
       "\n",
       "    .dataframe thead th {\n",
       "        text-align: right;\n",
       "    }\n",
       "</style>\n",
       "<table border=\"1\" class=\"dataframe\">\n",
       "  <thead>\n",
       "    <tr style=\"text-align: right;\">\n",
       "      <th></th>\n",
       "      <th>user_id</th>\n",
       "      <th>age</th>\n",
       "      <th>churn_date</th>\n",
       "      <th>city</th>\n",
       "      <th>first_name</th>\n",
       "      <th>last_name</th>\n",
       "      <th>reg_date</th>\n",
       "      <th>tariff</th>\n",
       "    </tr>\n",
       "  </thead>\n",
       "  <tbody>\n",
       "    <tr>\n",
       "      <td>0</td>\n",
       "      <td>1000</td>\n",
       "      <td>52</td>\n",
       "      <td>NaN</td>\n",
       "      <td>Краснодар</td>\n",
       "      <td>Рафаил</td>\n",
       "      <td>Верещагин</td>\n",
       "      <td>2018-05-25</td>\n",
       "      <td>ultra</td>\n",
       "    </tr>\n",
       "    <tr>\n",
       "      <td>1</td>\n",
       "      <td>1001</td>\n",
       "      <td>41</td>\n",
       "      <td>NaN</td>\n",
       "      <td>Москва</td>\n",
       "      <td>Иван</td>\n",
       "      <td>Ежов</td>\n",
       "      <td>2018-11-01</td>\n",
       "      <td>smart</td>\n",
       "    </tr>\n",
       "    <tr>\n",
       "      <td>2</td>\n",
       "      <td>1002</td>\n",
       "      <td>59</td>\n",
       "      <td>NaN</td>\n",
       "      <td>Стерлитамак</td>\n",
       "      <td>Евгений</td>\n",
       "      <td>Абрамович</td>\n",
       "      <td>2018-06-17</td>\n",
       "      <td>smart</td>\n",
       "    </tr>\n",
       "    <tr>\n",
       "      <td>3</td>\n",
       "      <td>1003</td>\n",
       "      <td>23</td>\n",
       "      <td>NaN</td>\n",
       "      <td>Москва</td>\n",
       "      <td>Белла</td>\n",
       "      <td>Белякова</td>\n",
       "      <td>2018-08-17</td>\n",
       "      <td>ultra</td>\n",
       "    </tr>\n",
       "    <tr>\n",
       "      <td>4</td>\n",
       "      <td>1004</td>\n",
       "      <td>68</td>\n",
       "      <td>NaN</td>\n",
       "      <td>Новокузнецк</td>\n",
       "      <td>Татьяна</td>\n",
       "      <td>Авдеенко</td>\n",
       "      <td>2018-05-14</td>\n",
       "      <td>ultra</td>\n",
       "    </tr>\n",
       "  </tbody>\n",
       "</table>\n",
       "</div>"
      ],
      "text/plain": [
       "   user_id  age churn_date         city first_name  last_name    reg_date  \\\n",
       "0     1000   52        NaN    Краснодар     Рафаил  Верещагин  2018-05-25   \n",
       "1     1001   41        NaN       Москва       Иван       Ежов  2018-11-01   \n",
       "2     1002   59        NaN  Стерлитамак    Евгений  Абрамович  2018-06-17   \n",
       "3     1003   23        NaN       Москва      Белла   Белякова  2018-08-17   \n",
       "4     1004   68        NaN  Новокузнецк    Татьяна   Авдеенко  2018-05-14   \n",
       "\n",
       "  tariff  \n",
       "0  ultra  \n",
       "1  smart  \n",
       "2  smart  \n",
       "3  ultra  \n",
       "4  ultra  "
      ]
     },
     "execution_count": 3,
     "metadata": {},
     "output_type": "execute_result"
    }
   ],
   "source": [
    "users.head(5)"
   ]
  },
  {
   "cell_type": "code",
   "execution_count": 4,
   "metadata": {},
   "outputs": [
    {
     "name": "stdout",
     "output_type": "stream",
     "text": [
      "<class 'pandas.core.frame.DataFrame'>\n",
      "RangeIndex: 500 entries, 0 to 499\n",
      "Data columns (total 8 columns):\n",
      "user_id       500 non-null int64\n",
      "age           500 non-null int64\n",
      "churn_date    38 non-null object\n",
      "city          500 non-null object\n",
      "first_name    500 non-null object\n",
      "last_name     500 non-null object\n",
      "reg_date      500 non-null object\n",
      "tariff        500 non-null object\n",
      "dtypes: int64(2), object(6)\n",
      "memory usage: 31.4+ KB\n"
     ]
    }
   ],
   "source": [
    "users.info()"
   ]
  },
  {
   "cell_type": "markdown",
   "metadata": {},
   "source": [
    "Краткие выводы по датасету users.\n",
    "\n",
    "500 строк, 9 столбцов.\n",
    "Пропуски только в столбце churn_date. По условию задачи - churn_date - дата прекращения пользования тарифом (если значение пропущено, то тариф ещё действовал на момент выгрузки данных)\". Оставлю как есть.\n",
    "Все типы данных по столбцам верные. Надо добавить столбец месяц. Проверю на уникальность."
   ]
  },
  {
   "cell_type": "code",
   "execution_count": 5,
   "metadata": {},
   "outputs": [
    {
     "data": {
      "text/plain": [
       "500"
      ]
     },
     "execution_count": 5,
     "metadata": {},
     "output_type": "execute_result"
    }
   ],
   "source": [
    "users['user_id'].nunique()"
   ]
  },
  {
   "cell_type": "markdown",
   "metadata": {},
   "source": [
    "500 уникальных пользователей, соответственно дубликатов нет"
   ]
  },
  {
   "cell_type": "markdown",
   "metadata": {},
   "source": [
    "Посчитаю количество пользователей для каждого тарифа"
   ]
  },
  {
   "cell_type": "code",
   "execution_count": 6,
   "metadata": {},
   "outputs": [
    {
     "data": {
      "text/plain": [
       "user_id       351\n",
       "age           351\n",
       "churn_date     23\n",
       "city          351\n",
       "first_name    351\n",
       "last_name     351\n",
       "reg_date      351\n",
       "tariff        351\n",
       "dtype: int64"
      ]
     },
     "execution_count": 6,
     "metadata": {},
     "output_type": "execute_result"
    }
   ],
   "source": [
    "users.loc[users['tariff'] == 'smart'].count()"
   ]
  },
  {
   "cell_type": "code",
   "execution_count": 7,
   "metadata": {},
   "outputs": [
    {
     "data": {
      "text/plain": [
       "user_id       149\n",
       "age           149\n",
       "churn_date     15\n",
       "city          149\n",
       "first_name    149\n",
       "last_name     149\n",
       "reg_date      149\n",
       "tariff        149\n",
       "dtype: int64"
      ]
     },
     "execution_count": 7,
     "metadata": {},
     "output_type": "execute_result"
    }
   ],
   "source": [
    "users.loc[users['tariff'] == 'ultra'].count()"
   ]
  },
  {
   "cell_type": "markdown",
   "metadata": {},
   "source": [
    "Добавим столбец месяц. Вызовем библиотеку и приведем тип данных к единообразному"
   ]
  },
  {
   "cell_type": "code",
   "execution_count": 8,
   "metadata": {},
   "outputs": [],
   "source": [
    "from datetime import datetime"
   ]
  },
  {
   "cell_type": "code",
   "execution_count": 9,
   "metadata": {},
   "outputs": [],
   "source": [
    "users['reg_date'] = pd.to_datetime(users['reg_date'], format='%Y-%m-%d')"
   ]
  },
  {
   "cell_type": "code",
   "execution_count": 10,
   "metadata": {},
   "outputs": [],
   "source": [
    "users['month'] = users['reg_date'].apply(lambda x: x.month)"
   ]
  },
  {
   "cell_type": "code",
   "execution_count": 11,
   "metadata": {},
   "outputs": [
    {
     "name": "stdout",
     "output_type": "stream",
     "text": [
      "<class 'pandas.core.frame.DataFrame'>\n",
      "RangeIndex: 500 entries, 0 to 499\n",
      "Data columns (total 9 columns):\n",
      "user_id       500 non-null int64\n",
      "age           500 non-null int64\n",
      "churn_date    38 non-null object\n",
      "city          500 non-null object\n",
      "first_name    500 non-null object\n",
      "last_name     500 non-null object\n",
      "reg_date      500 non-null datetime64[ns]\n",
      "tariff        500 non-null object\n",
      "month         500 non-null int64\n",
      "dtypes: datetime64[ns](1), int64(3), object(5)\n",
      "memory usage: 35.3+ KB\n"
     ]
    }
   ],
   "source": [
    "users.info()"
   ]
  },
  {
   "cell_type": "markdown",
   "metadata": {},
   "source": [
    "Номера месяцев есть, преобразую в названия"
   ]
  },
  {
   "cell_type": "code",
   "execution_count": 12,
   "metadata": {},
   "outputs": [],
   "source": [
    "users['month'].loc[(users['month'] == 1)] = \"январь\"\n",
    "users['month'].loc[(users['month'] == 2)] = \"февраль\"\n",
    "users['month'].loc[(users['month'] == 3)] = \"март\"\n",
    "users['month'].loc[(users['month'] == 4)] = \"апрель\"\n",
    "users['month'].loc[(users['month'] == 5)] = \"май\"\n",
    "users['month'].loc[(users['month'] == 6)] = \"июнь\"\n",
    "users['month'].loc[(users['month'] == 7)] = \"июль\"\n",
    "users['month'].loc[(users['month'] == 8)] = \"август\"\n",
    "users['month'].loc[(users['month'] == 9)] = \"сентябрь\"\n",
    "users['month'].loc[(users['month'] == 9)] = \"сентябрь\"\n",
    "users['month'].loc[(users['month'] == 10)] = \"октябрь\"\n",
    "users['month'].loc[(users['month'] == 11)] = \"ноябрь\"\n",
    "users['month'].loc[(users['month'] == 12)] = \"декабрь\""
   ]
  },
  {
   "cell_type": "code",
   "execution_count": 13,
   "metadata": {},
   "outputs": [
    {
     "data": {
      "text/plain": [
       "array(['май', 'ноябрь', 'июнь', 'август', 'январь', 'февраль', 'апрель',\n",
       "       'декабрь', 'март', 'октябрь', 'сентябрь', 'июль'], dtype=object)"
      ]
     },
     "execution_count": 13,
     "metadata": {},
     "output_type": "execute_result"
    }
   ],
   "source": [
    "users['month'].unique()"
   ]
  },
  {
   "cell_type": "code",
   "execution_count": 14,
   "metadata": {},
   "outputs": [
    {
     "name": "stdout",
     "output_type": "stream",
     "text": [
      "<class 'pandas.core.frame.DataFrame'>\n",
      "RangeIndex: 500 entries, 0 to 499\n",
      "Data columns (total 9 columns):\n",
      "user_id       500 non-null int64\n",
      "age           500 non-null int64\n",
      "churn_date    38 non-null object\n",
      "city          500 non-null object\n",
      "first_name    500 non-null object\n",
      "last_name     500 non-null object\n",
      "reg_date      500 non-null datetime64[ns]\n",
      "tariff        500 non-null object\n",
      "month         500 non-null object\n",
      "dtypes: datetime64[ns](1), int64(2), object(6)\n",
      "memory usage: 35.3+ KB\n"
     ]
    }
   ],
   "source": [
    "users.info()"
   ]
  },
  {
   "cell_type": "markdown",
   "metadata": {},
   "source": [
    "Датасет users все ОК."
   ]
  },
  {
   "cell_type": "markdown",
   "metadata": {},
   "source": [
    "Датасет calls"
   ]
  },
  {
   "cell_type": "code",
   "execution_count": 15,
   "metadata": {},
   "outputs": [
    {
     "data": {
      "text/html": [
       "<div>\n",
       "<style scoped>\n",
       "    .dataframe tbody tr th:only-of-type {\n",
       "        vertical-align: middle;\n",
       "    }\n",
       "\n",
       "    .dataframe tbody tr th {\n",
       "        vertical-align: top;\n",
       "    }\n",
       "\n",
       "    .dataframe thead th {\n",
       "        text-align: right;\n",
       "    }\n",
       "</style>\n",
       "<table border=\"1\" class=\"dataframe\">\n",
       "  <thead>\n",
       "    <tr style=\"text-align: right;\">\n",
       "      <th></th>\n",
       "      <th>id</th>\n",
       "      <th>call_date</th>\n",
       "      <th>duration</th>\n",
       "      <th>user_id</th>\n",
       "    </tr>\n",
       "  </thead>\n",
       "  <tbody>\n",
       "    <tr>\n",
       "      <td>0</td>\n",
       "      <td>1000_0</td>\n",
       "      <td>2018-07-25</td>\n",
       "      <td>0.00</td>\n",
       "      <td>1000</td>\n",
       "    </tr>\n",
       "    <tr>\n",
       "      <td>1</td>\n",
       "      <td>1000_1</td>\n",
       "      <td>2018-08-17</td>\n",
       "      <td>0.00</td>\n",
       "      <td>1000</td>\n",
       "    </tr>\n",
       "    <tr>\n",
       "      <td>2</td>\n",
       "      <td>1000_2</td>\n",
       "      <td>2018-06-11</td>\n",
       "      <td>2.85</td>\n",
       "      <td>1000</td>\n",
       "    </tr>\n",
       "    <tr>\n",
       "      <td>3</td>\n",
       "      <td>1000_3</td>\n",
       "      <td>2018-09-21</td>\n",
       "      <td>13.80</td>\n",
       "      <td>1000</td>\n",
       "    </tr>\n",
       "    <tr>\n",
       "      <td>4</td>\n",
       "      <td>1000_4</td>\n",
       "      <td>2018-12-15</td>\n",
       "      <td>5.18</td>\n",
       "      <td>1000</td>\n",
       "    </tr>\n",
       "  </tbody>\n",
       "</table>\n",
       "</div>"
      ],
      "text/plain": [
       "       id   call_date  duration  user_id\n",
       "0  1000_0  2018-07-25      0.00     1000\n",
       "1  1000_1  2018-08-17      0.00     1000\n",
       "2  1000_2  2018-06-11      2.85     1000\n",
       "3  1000_3  2018-09-21     13.80     1000\n",
       "4  1000_4  2018-12-15      5.18     1000"
      ]
     },
     "execution_count": 15,
     "metadata": {},
     "output_type": "execute_result"
    }
   ],
   "source": [
    "calls.head(5)"
   ]
  },
  {
   "cell_type": "code",
   "execution_count": 16,
   "metadata": {},
   "outputs": [
    {
     "name": "stdout",
     "output_type": "stream",
     "text": [
      "<class 'pandas.core.frame.DataFrame'>\n",
      "RangeIndex: 202607 entries, 0 to 202606\n",
      "Data columns (total 4 columns):\n",
      "id           202607 non-null object\n",
      "call_date    202607 non-null object\n",
      "duration     202607 non-null float64\n",
      "user_id      202607 non-null int64\n",
      "dtypes: float64(1), int64(1), object(2)\n",
      "memory usage: 6.2+ MB\n"
     ]
    }
   ],
   "source": [
    "calls.info()"
   ]
  },
  {
   "cell_type": "markdown",
   "metadata": {},
   "source": [
    "Изменим тип данных в строке call_date, добавим столбец месяц"
   ]
  },
  {
   "cell_type": "code",
   "execution_count": 17,
   "metadata": {},
   "outputs": [],
   "source": [
    "calls['call_date'] = pd.to_datetime(calls['call_date'], format='%Y-%m-%d')\n",
    "calls['month'] = calls['call_date'].apply(lambda x: x.month)"
   ]
  },
  {
   "cell_type": "code",
   "execution_count": 18,
   "metadata": {},
   "outputs": [],
   "source": [
    "calls['month'].loc[(calls['month'] == 1)] = \"январь\"\n",
    "calls['month'].loc[(calls['month'] == 2)] = \"февраль\"\n",
    "calls['month'].loc[(calls['month'] == 3)] = \"март\"\n",
    "calls['month'].loc[(calls['month'] == 4)] = \"апрель\"\n",
    "calls['month'].loc[(calls['month'] == 5)] = \"май\"\n",
    "calls['month'].loc[(calls['month'] == 6)] = \"июнь\"\n",
    "calls['month'].loc[(calls['month'] == 7)] = \"июль\"\n",
    "calls['month'].loc[(calls['month'] == 8)] = \"август\"\n",
    "calls['month'].loc[(calls['month'] == 9)] = \"сентябрь\"\n",
    "calls['month'].loc[(calls['month'] == 10)] = \"октябрь\"\n",
    "calls['month'].loc[(calls['month'] == 11)] = \"ноябрь\"\n",
    "calls['month'].loc[(calls['month'] == 12)] = \"декабрь\""
   ]
  },
  {
   "cell_type": "code",
   "execution_count": 19,
   "metadata": {},
   "outputs": [
    {
     "data": {
      "text/plain": [
       "array(['июль', 'август', 'июнь', 'сентябрь', 'декабрь', 'ноябрь',\n",
       "       'октябрь', 'май', 'март', 'апрель', 'январь', 'февраль'],\n",
       "      dtype=object)"
      ]
     },
     "execution_count": 19,
     "metadata": {},
     "output_type": "execute_result"
    }
   ],
   "source": [
    "calls['month'].unique()"
   ]
  },
  {
   "cell_type": "markdown",
   "metadata": {},
   "source": [
    "Много звонков с duration с нулевыми значениями, визуализируем"
   ]
  },
  {
   "cell_type": "code",
   "execution_count": 20,
   "metadata": {},
   "outputs": [
    {
     "data": {
      "text/plain": [
       "Text(0, 0.5, 'Количество')"
      ]
     },
     "execution_count": 20,
     "metadata": {},
     "output_type": "execute_result"
    },
    {
     "data": {
      "image/png": "[encoded data removed]",
      "text/plain": [
       "<Figure size 432x288 with 1 Axes>"
      ]
     },
     "metadata": {
      "needs_background": "light"
     },
     "output_type": "display_data"
    }
   ],
   "source": [
    "calls['duration'].plot(kind='hist', bins=50)\n",
    "plt.xlabel('duration')\n",
    "plt.ylabel('Количество')"
   ]
  },
  {
   "cell_type": "markdown",
   "metadata": {},
   "source": [
    "Подавляющее число звонков с длительностью от 0 до 1 минуты, посмотрим сколько"
   ]
  },
  {
   "cell_type": "code",
   "execution_count": 21,
   "metadata": {},
   "outputs": [
    {
     "data": {
      "text/html": [
       "<div>\n",
       "<style scoped>\n",
       "    .dataframe tbody tr th:only-of-type {\n",
       "        vertical-align: middle;\n",
       "    }\n",
       "\n",
       "    .dataframe tbody tr th {\n",
       "        vertical-align: top;\n",
       "    }\n",
       "\n",
       "    .dataframe thead th {\n",
       "        text-align: right;\n",
       "    }\n",
       "</style>\n",
       "<table border=\"1\" class=\"dataframe\">\n",
       "  <thead>\n",
       "    <tr style=\"text-align: right;\">\n",
       "      <th></th>\n",
       "      <th>id</th>\n",
       "      <th>call_date</th>\n",
       "      <th>duration</th>\n",
       "      <th>user_id</th>\n",
       "      <th>month</th>\n",
       "    </tr>\n",
       "  </thead>\n",
       "  <tbody>\n",
       "    <tr>\n",
       "      <td>55</td>\n",
       "      <td>1000_55</td>\n",
       "      <td>2018-09-19</td>\n",
       "      <td>0.31</td>\n",
       "      <td>1000</td>\n",
       "      <td>сентябрь</td>\n",
       "    </tr>\n",
       "    <tr>\n",
       "      <td>65</td>\n",
       "      <td>1000_65</td>\n",
       "      <td>2018-10-28</td>\n",
       "      <td>0.34</td>\n",
       "      <td>1000</td>\n",
       "      <td>октябрь</td>\n",
       "    </tr>\n",
       "    <tr>\n",
       "      <td>97</td>\n",
       "      <td>1000_97</td>\n",
       "      <td>2018-10-26</td>\n",
       "      <td>0.33</td>\n",
       "      <td>1000</td>\n",
       "      <td>октябрь</td>\n",
       "    </tr>\n",
       "    <tr>\n",
       "      <td>122</td>\n",
       "      <td>1000_122</td>\n",
       "      <td>2018-10-07</td>\n",
       "      <td>0.13</td>\n",
       "      <td>1000</td>\n",
       "      <td>октябрь</td>\n",
       "    </tr>\n",
       "    <tr>\n",
       "      <td>135</td>\n",
       "      <td>1000_135</td>\n",
       "      <td>2018-10-25</td>\n",
       "      <td>0.02</td>\n",
       "      <td>1000</td>\n",
       "      <td>октябрь</td>\n",
       "    </tr>\n",
       "    <tr>\n",
       "      <td>...</td>\n",
       "      <td>...</td>\n",
       "      <td>...</td>\n",
       "      <td>...</td>\n",
       "      <td>...</td>\n",
       "      <td>...</td>\n",
       "    </tr>\n",
       "    <tr>\n",
       "      <td>202484</td>\n",
       "      <td>1499_97</td>\n",
       "      <td>2018-12-22</td>\n",
       "      <td>0.07</td>\n",
       "      <td>1499</td>\n",
       "      <td>декабрь</td>\n",
       "    </tr>\n",
       "    <tr>\n",
       "      <td>202537</td>\n",
       "      <td>1499_150</td>\n",
       "      <td>2018-12-09</td>\n",
       "      <td>0.56</td>\n",
       "      <td>1499</td>\n",
       "      <td>декабрь</td>\n",
       "    </tr>\n",
       "    <tr>\n",
       "      <td>202545</td>\n",
       "      <td>1499_158</td>\n",
       "      <td>2018-11-16</td>\n",
       "      <td>0.64</td>\n",
       "      <td>1499</td>\n",
       "      <td>ноябрь</td>\n",
       "    </tr>\n",
       "    <tr>\n",
       "      <td>202579</td>\n",
       "      <td>1499_192</td>\n",
       "      <td>2018-12-07</td>\n",
       "      <td>0.76</td>\n",
       "      <td>1499</td>\n",
       "      <td>декабрь</td>\n",
       "    </tr>\n",
       "    <tr>\n",
       "      <td>202602</td>\n",
       "      <td>1499_215</td>\n",
       "      <td>2018-12-26</td>\n",
       "      <td>0.76</td>\n",
       "      <td>1499</td>\n",
       "      <td>декабрь</td>\n",
       "    </tr>\n",
       "  </tbody>\n",
       "</table>\n",
       "<p>7450 rows × 5 columns</p>\n",
       "</div>"
      ],
      "text/plain": [
       "              id  call_date  duration  user_id     month\n",
       "55       1000_55 2018-09-19      0.31     1000  сентябрь\n",
       "65       1000_65 2018-10-28      0.34     1000   октябрь\n",
       "97       1000_97 2018-10-26      0.33     1000   октябрь\n",
       "122     1000_122 2018-10-07      0.13     1000   октябрь\n",
       "135     1000_135 2018-10-25      0.02     1000   октябрь\n",
       "...          ...        ...       ...      ...       ...\n",
       "202484   1499_97 2018-12-22      0.07     1499   декабрь\n",
       "202537  1499_150 2018-12-09      0.56     1499   декабрь\n",
       "202545  1499_158 2018-11-16      0.64     1499    ноябрь\n",
       "202579  1499_192 2018-12-07      0.76     1499   декабрь\n",
       "202602  1499_215 2018-12-26      0.76     1499   декабрь\n",
       "\n",
       "[7450 rows x 5 columns]"
      ]
     },
     "execution_count": 21,
     "metadata": {},
     "output_type": "execute_result"
    }
   ],
   "source": [
    "calls.query('0 < duration < 0.9')"
   ]
  },
  {
   "cell_type": "markdown",
   "metadata": {},
   "source": [
    "7450 звонка, далеко не все, а, только 4% датафрейма"
   ]
  },
  {
   "cell_type": "markdown",
   "metadata": {},
   "source": [
    "Округлю длительность всех звонков, меньше минуты, до целой минуты, так как пользователь заплатит за целую минуту - \"«Мегалайн» всегда округляет вверх значения минут и мегабайтов. Если пользователь проговорил всего 1 секунду, в тарифе засчитывается целая минута.\""
   ]
  },
  {
   "cell_type": "code",
   "execution_count": 22,
   "metadata": {},
   "outputs": [],
   "source": [
    "calls['duration'] = calls['duration'].apply(np.ceil)"
   ]
  },
  {
   "cell_type": "markdown",
   "metadata": {},
   "source": [
    "Еще раз посмотрим на гистограмму"
   ]
  },
  {
   "cell_type": "code",
   "execution_count": 23,
   "metadata": {},
   "outputs": [
    {
     "data": {
      "text/plain": [
       "Text(0, 0.5, 'Количество')"
      ]
     },
     "execution_count": 23,
     "metadata": {},
     "output_type": "execute_result"
    },
    {
     "data": {
      "image/png": "[encoded data removed]",
      "text/plain": [
       "<Figure size 432x288 with 1 Axes>"
      ]
     },
     "metadata": {
      "needs_background": "light"
     },
     "output_type": "display_data"
    }
   ],
   "source": [
    "calls['duration'].plot(kind='hist', bins=50)\n",
    "plt.xlabel('duration')\n",
    "plt.ylabel('Количество')"
   ]
  },
  {
   "cell_type": "markdown",
   "metadata": {},
   "source": [
    "Поситааем нулевые звонки"
   ]
  },
  {
   "cell_type": "code",
   "execution_count": 24,
   "metadata": {},
   "outputs": [
    {
     "data": {
      "text/html": [
       "<div>\n",
       "<style scoped>\n",
       "    .dataframe tbody tr th:only-of-type {\n",
       "        vertical-align: middle;\n",
       "    }\n",
       "\n",
       "    .dataframe tbody tr th {\n",
       "        vertical-align: top;\n",
       "    }\n",
       "\n",
       "    .dataframe thead th {\n",
       "        text-align: right;\n",
       "    }\n",
       "</style>\n",
       "<table border=\"1\" class=\"dataframe\">\n",
       "  <thead>\n",
       "    <tr style=\"text-align: right;\">\n",
       "      <th></th>\n",
       "      <th>id</th>\n",
       "      <th>call_date</th>\n",
       "      <th>duration</th>\n",
       "      <th>user_id</th>\n",
       "      <th>month</th>\n",
       "    </tr>\n",
       "  </thead>\n",
       "  <tbody>\n",
       "    <tr>\n",
       "      <td>0</td>\n",
       "      <td>1000_0</td>\n",
       "      <td>2018-07-25</td>\n",
       "      <td>0.0</td>\n",
       "      <td>1000</td>\n",
       "      <td>июль</td>\n",
       "    </tr>\n",
       "    <tr>\n",
       "      <td>1</td>\n",
       "      <td>1000_1</td>\n",
       "      <td>2018-08-17</td>\n",
       "      <td>0.0</td>\n",
       "      <td>1000</td>\n",
       "      <td>август</td>\n",
       "    </tr>\n",
       "    <tr>\n",
       "      <td>5</td>\n",
       "      <td>1000_5</td>\n",
       "      <td>2018-11-02</td>\n",
       "      <td>0.0</td>\n",
       "      <td>1000</td>\n",
       "      <td>ноябрь</td>\n",
       "    </tr>\n",
       "    <tr>\n",
       "      <td>6</td>\n",
       "      <td>1000_6</td>\n",
       "      <td>2018-10-18</td>\n",
       "      <td>0.0</td>\n",
       "      <td>1000</td>\n",
       "      <td>октябрь</td>\n",
       "    </tr>\n",
       "    <tr>\n",
       "      <td>9</td>\n",
       "      <td>1000_9</td>\n",
       "      <td>2018-08-15</td>\n",
       "      <td>0.0</td>\n",
       "      <td>1000</td>\n",
       "      <td>август</td>\n",
       "    </tr>\n",
       "    <tr>\n",
       "      <td>...</td>\n",
       "      <td>...</td>\n",
       "      <td>...</td>\n",
       "      <td>...</td>\n",
       "      <td>...</td>\n",
       "      <td>...</td>\n",
       "    </tr>\n",
       "    <tr>\n",
       "      <td>202590</td>\n",
       "      <td>1499_203</td>\n",
       "      <td>2018-12-03</td>\n",
       "      <td>0.0</td>\n",
       "      <td>1499</td>\n",
       "      <td>декабрь</td>\n",
       "    </tr>\n",
       "    <tr>\n",
       "      <td>202592</td>\n",
       "      <td>1499_205</td>\n",
       "      <td>2018-10-13</td>\n",
       "      <td>0.0</td>\n",
       "      <td>1499</td>\n",
       "      <td>октябрь</td>\n",
       "    </tr>\n",
       "    <tr>\n",
       "      <td>202593</td>\n",
       "      <td>1499_206</td>\n",
       "      <td>2018-12-26</td>\n",
       "      <td>0.0</td>\n",
       "      <td>1499</td>\n",
       "      <td>декабрь</td>\n",
       "    </tr>\n",
       "    <tr>\n",
       "      <td>202594</td>\n",
       "      <td>1499_207</td>\n",
       "      <td>2018-10-28</td>\n",
       "      <td>0.0</td>\n",
       "      <td>1499</td>\n",
       "      <td>октябрь</td>\n",
       "    </tr>\n",
       "    <tr>\n",
       "      <td>202596</td>\n",
       "      <td>1499_209</td>\n",
       "      <td>2018-12-16</td>\n",
       "      <td>0.0</td>\n",
       "      <td>1499</td>\n",
       "      <td>декабрь</td>\n",
       "    </tr>\n",
       "  </tbody>\n",
       "</table>\n",
       "<p>39613 rows × 5 columns</p>\n",
       "</div>"
      ],
      "text/plain": [
       "              id  call_date  duration  user_id    month\n",
       "0         1000_0 2018-07-25       0.0     1000     июль\n",
       "1         1000_1 2018-08-17       0.0     1000   август\n",
       "5         1000_5 2018-11-02       0.0     1000   ноябрь\n",
       "6         1000_6 2018-10-18       0.0     1000  октябрь\n",
       "9         1000_9 2018-08-15       0.0     1000   август\n",
       "...          ...        ...       ...      ...      ...\n",
       "202590  1499_203 2018-12-03       0.0     1499  декабрь\n",
       "202592  1499_205 2018-10-13       0.0     1499  октябрь\n",
       "202593  1499_206 2018-12-26       0.0     1499  декабрь\n",
       "202594  1499_207 2018-10-28       0.0     1499  октябрь\n",
       "202596  1499_209 2018-12-16       0.0     1499  декабрь\n",
       "\n",
       "[39613 rows x 5 columns]"
      ]
     },
     "execution_count": 24,
     "metadata": {},
     "output_type": "execute_result"
    }
   ],
   "source": [
    "calls.query('duration == 0.0')"
   ]
  },
  {
   "cell_type": "markdown",
   "metadata": {},
   "source": [
    "39613 штук, почти 20% датафрейма. Нулевая длительность звонков выглядит очень и очень страннно. Предположим, что факт звонка состоялся, то есть вызов шел, а ответа абонента не было, а значит не было разговора, то есть  тарификации не возникло. Проще говоря, это звонки - не звонки, а не совсем корректное отражение в датафрейме. Придется удалить."
   ]
  },
  {
   "cell_type": "code",
   "execution_count": 25,
   "metadata": {},
   "outputs": [],
   "source": [
    "calls['duration'] = calls['duration'].replace(0, np.NaN)\n",
    "calls = calls.dropna()"
   ]
  },
  {
   "cell_type": "code",
   "execution_count": 26,
   "metadata": {},
   "outputs": [
    {
     "data": {
      "text/plain": [
       "0"
      ]
     },
     "execution_count": 26,
     "metadata": {},
     "output_type": "execute_result"
    }
   ],
   "source": [
    "calls['duration'].loc[(calls['duration'] == 0)].count()"
   ]
  },
  {
   "cell_type": "markdown",
   "metadata": {},
   "source": [
    "Получилось"
   ]
  },
  {
   "cell_type": "markdown",
   "metadata": {},
   "source": [
    "Посмотрим на гистограмму"
   ]
  },
  {
   "cell_type": "code",
   "execution_count": 27,
   "metadata": {},
   "outputs": [
    {
     "data": {
      "text/plain": [
       "Text(0, 0.5, 'Количество')"
      ]
     },
     "execution_count": 27,
     "metadata": {},
     "output_type": "execute_result"
    },
    {
     "data": {
      "image/png": "[encoded data removed]",
      "text/plain": [
       "<Figure size 432x288 with 1 Axes>"
      ]
     },
     "metadata": {
      "needs_background": "light"
     },
     "output_type": "display_data"
    }
   ],
   "source": [
    "calls['duration'].plot(kind='hist', bins=50)\n",
    "plt.xlabel('duration')\n",
    "plt.ylabel('Количество')"
   ]
  },
  {
   "cell_type": "markdown",
   "metadata": {},
   "source": [
    "Датасет messages"
   ]
  },
  {
   "cell_type": "code",
   "execution_count": 28,
   "metadata": {},
   "outputs": [
    {
     "data": {
      "text/html": [
       "<div>\n",
       "<style scoped>\n",
       "    .dataframe tbody tr th:only-of-type {\n",
       "        vertical-align: middle;\n",
       "    }\n",
       "\n",
       "    .dataframe tbody tr th {\n",
       "        vertical-align: top;\n",
       "    }\n",
       "\n",
       "    .dataframe thead th {\n",
       "        text-align: right;\n",
       "    }\n",
       "</style>\n",
       "<table border=\"1\" class=\"dataframe\">\n",
       "  <thead>\n",
       "    <tr style=\"text-align: right;\">\n",
       "      <th></th>\n",
       "      <th>id</th>\n",
       "      <th>message_date</th>\n",
       "      <th>user_id</th>\n",
       "    </tr>\n",
       "  </thead>\n",
       "  <tbody>\n",
       "    <tr>\n",
       "      <td>0</td>\n",
       "      <td>1000_0</td>\n",
       "      <td>2018-06-27</td>\n",
       "      <td>1000</td>\n",
       "    </tr>\n",
       "    <tr>\n",
       "      <td>1</td>\n",
       "      <td>1000_1</td>\n",
       "      <td>2018-10-08</td>\n",
       "      <td>1000</td>\n",
       "    </tr>\n",
       "    <tr>\n",
       "      <td>2</td>\n",
       "      <td>1000_2</td>\n",
       "      <td>2018-08-04</td>\n",
       "      <td>1000</td>\n",
       "    </tr>\n",
       "    <tr>\n",
       "      <td>3</td>\n",
       "      <td>1000_3</td>\n",
       "      <td>2018-06-16</td>\n",
       "      <td>1000</td>\n",
       "    </tr>\n",
       "    <tr>\n",
       "      <td>4</td>\n",
       "      <td>1000_4</td>\n",
       "      <td>2018-12-05</td>\n",
       "      <td>1000</td>\n",
       "    </tr>\n",
       "  </tbody>\n",
       "</table>\n",
       "</div>"
      ],
      "text/plain": [
       "       id message_date  user_id\n",
       "0  1000_0   2018-06-27     1000\n",
       "1  1000_1   2018-10-08     1000\n",
       "2  1000_2   2018-08-04     1000\n",
       "3  1000_3   2018-06-16     1000\n",
       "4  1000_4   2018-12-05     1000"
      ]
     },
     "execution_count": 28,
     "metadata": {},
     "output_type": "execute_result"
    }
   ],
   "source": [
    "messages.head(5)"
   ]
  },
  {
   "cell_type": "code",
   "execution_count": 29,
   "metadata": {},
   "outputs": [
    {
     "name": "stdout",
     "output_type": "stream",
     "text": [
      "<class 'pandas.core.frame.DataFrame'>\n",
      "RangeIndex: 123036 entries, 0 to 123035\n",
      "Data columns (total 3 columns):\n",
      "id              123036 non-null object\n",
      "message_date    123036 non-null object\n",
      "user_id         123036 non-null int64\n",
      "dtypes: int64(1), object(2)\n",
      "memory usage: 2.8+ MB\n"
     ]
    }
   ],
   "source": [
    "messages.info()"
   ]
  },
  {
   "cell_type": "markdown",
   "metadata": {},
   "source": [
    "Приведем дату к нужному формату, добавим столбец месяц"
   ]
  },
  {
   "cell_type": "code",
   "execution_count": 30,
   "metadata": {},
   "outputs": [],
   "source": [
    "messages['message_date'] = pd.to_datetime(messages['message_date'], format='%Y-%m-%d')\n",
    "messages['month'] = messages['message_date'].apply(lambda x: x.month)"
   ]
  },
  {
   "cell_type": "code",
   "execution_count": 31,
   "metadata": {},
   "outputs": [],
   "source": [
    "messages['month'].loc[(messages['month'] == 1)] = \"январь\"\n",
    "messages['month'].loc[(messages['month'] == 2)] = \"февраль\"\n",
    "messages['month'].loc[(messages['month'] == 3)] = \"март\"\n",
    "messages['month'].loc[(messages['month'] == 4)] = \"апрель\"\n",
    "messages['month'].loc[(messages['month'] == 5)] = \"май\"\n",
    "messages['month'].loc[(messages['month'] == 6)] = \"июнь\"\n",
    "messages['month'].loc[(messages['month'] == 7)] = \"июль\"\n",
    "messages['month'].loc[(messages['month'] == 8)] = \"август\"\n",
    "messages['month'].loc[(messages['month'] == 9)] = \"сентябрь\"\n",
    "messages['month'].loc[(messages['month'] == 10)] = \"октябрь\"\n",
    "messages['month'].loc[(messages['month'] == 11)] = \"ноябрь\"\n",
    "messages['month'].loc[(messages['month'] == 12)] = \"декабрь\""
   ]
  },
  {
   "cell_type": "code",
   "execution_count": 32,
   "metadata": {},
   "outputs": [
    {
     "data": {
      "text/plain": [
       "array(['июнь', 'октябрь', 'август', 'декабрь', 'ноябрь', 'май', 'июль',\n",
       "       'сентябрь', 'март', 'апрель', 'февраль', 'январь'], dtype=object)"
      ]
     },
     "execution_count": 32,
     "metadata": {},
     "output_type": "execute_result"
    }
   ],
   "source": [
    "messages['month'].unique()"
   ]
  },
  {
   "cell_type": "markdown",
   "metadata": {},
   "source": [
    "Датасет internet"
   ]
  },
  {
   "cell_type": "code",
   "execution_count": 33,
   "metadata": {},
   "outputs": [
    {
     "data": {
      "text/html": [
       "<div>\n",
       "<style scoped>\n",
       "    .dataframe tbody tr th:only-of-type {\n",
       "        vertical-align: middle;\n",
       "    }\n",
       "\n",
       "    .dataframe tbody tr th {\n",
       "        vertical-align: top;\n",
       "    }\n",
       "\n",
       "    .dataframe thead th {\n",
       "        text-align: right;\n",
       "    }\n",
       "</style>\n",
       "<table border=\"1\" class=\"dataframe\">\n",
       "  <thead>\n",
       "    <tr style=\"text-align: right;\">\n",
       "      <th></th>\n",
       "      <th>Unnamed: 0</th>\n",
       "      <th>id</th>\n",
       "      <th>mb_used</th>\n",
       "      <th>session_date</th>\n",
       "      <th>user_id</th>\n",
       "    </tr>\n",
       "  </thead>\n",
       "  <tbody>\n",
       "    <tr>\n",
       "      <td>0</td>\n",
       "      <td>0</td>\n",
       "      <td>1000_0</td>\n",
       "      <td>112.95</td>\n",
       "      <td>2018-11-25</td>\n",
       "      <td>1000</td>\n",
       "    </tr>\n",
       "    <tr>\n",
       "      <td>1</td>\n",
       "      <td>1</td>\n",
       "      <td>1000_1</td>\n",
       "      <td>1052.81</td>\n",
       "      <td>2018-09-07</td>\n",
       "      <td>1000</td>\n",
       "    </tr>\n",
       "    <tr>\n",
       "      <td>2</td>\n",
       "      <td>2</td>\n",
       "      <td>1000_2</td>\n",
       "      <td>1197.26</td>\n",
       "      <td>2018-06-25</td>\n",
       "      <td>1000</td>\n",
       "    </tr>\n",
       "    <tr>\n",
       "      <td>3</td>\n",
       "      <td>3</td>\n",
       "      <td>1000_3</td>\n",
       "      <td>550.27</td>\n",
       "      <td>2018-08-22</td>\n",
       "      <td>1000</td>\n",
       "    </tr>\n",
       "    <tr>\n",
       "      <td>4</td>\n",
       "      <td>4</td>\n",
       "      <td>1000_4</td>\n",
       "      <td>302.56</td>\n",
       "      <td>2018-09-24</td>\n",
       "      <td>1000</td>\n",
       "    </tr>\n",
       "  </tbody>\n",
       "</table>\n",
       "</div>"
      ],
      "text/plain": [
       "   Unnamed: 0      id  mb_used session_date  user_id\n",
       "0           0  1000_0   112.95   2018-11-25     1000\n",
       "1           1  1000_1  1052.81   2018-09-07     1000\n",
       "2           2  1000_2  1197.26   2018-06-25     1000\n",
       "3           3  1000_3   550.27   2018-08-22     1000\n",
       "4           4  1000_4   302.56   2018-09-24     1000"
      ]
     },
     "execution_count": 33,
     "metadata": {},
     "output_type": "execute_result"
    }
   ],
   "source": [
    "internet.head(5)"
   ]
  },
  {
   "cell_type": "code",
   "execution_count": 34,
   "metadata": {},
   "outputs": [
    {
     "name": "stdout",
     "output_type": "stream",
     "text": [
      "<class 'pandas.core.frame.DataFrame'>\n",
      "RangeIndex: 149396 entries, 0 to 149395\n",
      "Data columns (total 5 columns):\n",
      "Unnamed: 0      149396 non-null int64\n",
      "id              149396 non-null object\n",
      "mb_used         149396 non-null float64\n",
      "session_date    149396 non-null object\n",
      "user_id         149396 non-null int64\n",
      "dtypes: float64(1), int64(2), object(2)\n",
      "memory usage: 5.7+ MB\n"
     ]
    }
   ],
   "source": [
    "internet.info()"
   ]
  },
  {
   "cell_type": "markdown",
   "metadata": {},
   "source": [
    "Приведем к нужному формату, добавим столбец месяц"
   ]
  },
  {
   "cell_type": "code",
   "execution_count": 35,
   "metadata": {},
   "outputs": [],
   "source": [
    "internet['session_date'] = pd.to_datetime(internet['session_date'], format='%Y-%m-%d')\n",
    "internet['month'] = internet['session_date'].apply(lambda x: x.month)"
   ]
  },
  {
   "cell_type": "code",
   "execution_count": 36,
   "metadata": {},
   "outputs": [],
   "source": [
    "internet['month'].loc[(internet['month'] == 1)] = \"январь\"\n",
    "internet['month'].loc[(internet['month'] == 2)] = \"февраль\"\n",
    "internet['month'].loc[(internet['month'] == 3)] = \"март\"\n",
    "internet['month'].loc[(internet['month'] == 4)] = \"апрель\"\n",
    "internet['month'].loc[(internet['month'] == 5)] = \"май\"\n",
    "internet['month'].loc[(internet['month'] == 6)] = \"июнь\"\n",
    "internet['month'].loc[(internet['month'] == 7)] = \"июль\"\n",
    "internet['month'].loc[(internet['month'] == 8)] = \"август\"\n",
    "internet['month'].loc[(internet['month'] == 9)] = \"сентябрь\"\n",
    "internet['month'].loc[(internet['month'] == 10)] = \"октябрь\"\n",
    "internet['month'].loc[(internet['month'] == 11)] = \"ноябрь\"\n",
    "internet['month'].loc[(internet['month'] == 12)] = \"декабрь\""
   ]
  },
  {
   "cell_type": "markdown",
   "metadata": {},
   "source": [
    "Округлим объем трафика до целых значений, аналогично calls"
   ]
  },
  {
   "cell_type": "code",
   "execution_count": 37,
   "metadata": {},
   "outputs": [],
   "source": [
    "internet['mb_used'] = internet['mb_used'].apply(np.ceil)"
   ]
  },
  {
   "cell_type": "code",
   "execution_count": 38,
   "metadata": {},
   "outputs": [
    {
     "data": {
      "text/html": [
       "<div>\n",
       "<style scoped>\n",
       "    .dataframe tbody tr th:only-of-type {\n",
       "        vertical-align: middle;\n",
       "    }\n",
       "\n",
       "    .dataframe tbody tr th {\n",
       "        vertical-align: top;\n",
       "    }\n",
       "\n",
       "    .dataframe thead th {\n",
       "        text-align: right;\n",
       "    }\n",
       "</style>\n",
       "<table border=\"1\" class=\"dataframe\">\n",
       "  <thead>\n",
       "    <tr style=\"text-align: right;\">\n",
       "      <th></th>\n",
       "      <th>Unnamed: 0</th>\n",
       "      <th>id</th>\n",
       "      <th>mb_used</th>\n",
       "      <th>session_date</th>\n",
       "      <th>user_id</th>\n",
       "      <th>month</th>\n",
       "    </tr>\n",
       "  </thead>\n",
       "  <tbody>\n",
       "    <tr>\n",
       "      <td>0</td>\n",
       "      <td>0</td>\n",
       "      <td>1000_0</td>\n",
       "      <td>113.0</td>\n",
       "      <td>2018-11-25</td>\n",
       "      <td>1000</td>\n",
       "      <td>ноябрь</td>\n",
       "    </tr>\n",
       "    <tr>\n",
       "      <td>1</td>\n",
       "      <td>1</td>\n",
       "      <td>1000_1</td>\n",
       "      <td>1053.0</td>\n",
       "      <td>2018-09-07</td>\n",
       "      <td>1000</td>\n",
       "      <td>сентябрь</td>\n",
       "    </tr>\n",
       "    <tr>\n",
       "      <td>2</td>\n",
       "      <td>2</td>\n",
       "      <td>1000_2</td>\n",
       "      <td>1198.0</td>\n",
       "      <td>2018-06-25</td>\n",
       "      <td>1000</td>\n",
       "      <td>июнь</td>\n",
       "    </tr>\n",
       "    <tr>\n",
       "      <td>3</td>\n",
       "      <td>3</td>\n",
       "      <td>1000_3</td>\n",
       "      <td>551.0</td>\n",
       "      <td>2018-08-22</td>\n",
       "      <td>1000</td>\n",
       "      <td>август</td>\n",
       "    </tr>\n",
       "    <tr>\n",
       "      <td>4</td>\n",
       "      <td>4</td>\n",
       "      <td>1000_4</td>\n",
       "      <td>303.0</td>\n",
       "      <td>2018-09-24</td>\n",
       "      <td>1000</td>\n",
       "      <td>сентябрь</td>\n",
       "    </tr>\n",
       "  </tbody>\n",
       "</table>\n",
       "</div>"
      ],
      "text/plain": [
       "   Unnamed: 0      id  mb_used session_date  user_id     month\n",
       "0           0  1000_0    113.0   2018-11-25     1000    ноябрь\n",
       "1           1  1000_1   1053.0   2018-09-07     1000  сентябрь\n",
       "2           2  1000_2   1198.0   2018-06-25     1000      июнь\n",
       "3           3  1000_3    551.0   2018-08-22     1000    август\n",
       "4           4  1000_4    303.0   2018-09-24     1000  сентябрь"
      ]
     },
     "execution_count": 38,
     "metadata": {},
     "output_type": "execute_result"
    }
   ],
   "source": [
    "internet.head(5)"
   ]
  },
  {
   "cell_type": "markdown",
   "metadata": {},
   "source": [
    "Посмотрим на гистограмму"
   ]
  },
  {
   "cell_type": "code",
   "execution_count": 39,
   "metadata": {},
   "outputs": [
    {
     "data": {
      "text/plain": [
       "Text(0, 0.5, 'Количество')"
      ]
     },
     "execution_count": 39,
     "metadata": {},
     "output_type": "execute_result"
    },
    {
     "data": {
      "image/png": "[encoded data removed]",
      "text/plain": [
       "<Figure size 432x288 with 1 Axes>"
      ]
     },
     "metadata": {
      "needs_background": "light"
     },
     "output_type": "display_data"
    }
   ],
   "source": [
    "internet['mb_used'].plot(kind='hist', bins=50)\n",
    "plt.xlabel('mb_used')\n",
    "plt.ylabel('Количество')"
   ]
  },
  {
   "cell_type": "markdown",
   "metadata": {},
   "source": [
    "Посмотрим на строки с нулевым трафиком"
   ]
  },
  {
   "cell_type": "code",
   "execution_count": 40,
   "metadata": {},
   "outputs": [
    {
     "data": {
      "text/html": [
       "<div>\n",
       "<style scoped>\n",
       "    .dataframe tbody tr th:only-of-type {\n",
       "        vertical-align: middle;\n",
       "    }\n",
       "\n",
       "    .dataframe tbody tr th {\n",
       "        vertical-align: top;\n",
       "    }\n",
       "\n",
       "    .dataframe thead th {\n",
       "        text-align: right;\n",
       "    }\n",
       "</style>\n",
       "<table border=\"1\" class=\"dataframe\">\n",
       "  <thead>\n",
       "    <tr style=\"text-align: right;\">\n",
       "      <th></th>\n",
       "      <th>Unnamed: 0</th>\n",
       "      <th>id</th>\n",
       "      <th>mb_used</th>\n",
       "      <th>session_date</th>\n",
       "      <th>user_id</th>\n",
       "      <th>month</th>\n",
       "    </tr>\n",
       "  </thead>\n",
       "  <tbody>\n",
       "    <tr>\n",
       "      <td>11</td>\n",
       "      <td>11</td>\n",
       "      <td>1000_11</td>\n",
       "      <td>0.0</td>\n",
       "      <td>2018-08-28</td>\n",
       "      <td>1000</td>\n",
       "      <td>август</td>\n",
       "    </tr>\n",
       "    <tr>\n",
       "      <td>38</td>\n",
       "      <td>38</td>\n",
       "      <td>1000_38</td>\n",
       "      <td>0.0</td>\n",
       "      <td>2018-11-27</td>\n",
       "      <td>1000</td>\n",
       "      <td>ноябрь</td>\n",
       "    </tr>\n",
       "    <tr>\n",
       "      <td>46</td>\n",
       "      <td>46</td>\n",
       "      <td>1000_46</td>\n",
       "      <td>0.0</td>\n",
       "      <td>2018-06-30</td>\n",
       "      <td>1000</td>\n",
       "      <td>июнь</td>\n",
       "    </tr>\n",
       "    <tr>\n",
       "      <td>67</td>\n",
       "      <td>67</td>\n",
       "      <td>1000_67</td>\n",
       "      <td>0.0</td>\n",
       "      <td>2018-06-16</td>\n",
       "      <td>1000</td>\n",
       "      <td>июнь</td>\n",
       "    </tr>\n",
       "    <tr>\n",
       "      <td>72</td>\n",
       "      <td>72</td>\n",
       "      <td>1000_72</td>\n",
       "      <td>0.0</td>\n",
       "      <td>2018-06-15</td>\n",
       "      <td>1000</td>\n",
       "      <td>июнь</td>\n",
       "    </tr>\n",
       "    <tr>\n",
       "      <td>...</td>\n",
       "      <td>...</td>\n",
       "      <td>...</td>\n",
       "      <td>...</td>\n",
       "      <td>...</td>\n",
       "      <td>...</td>\n",
       "      <td>...</td>\n",
       "    </tr>\n",
       "    <tr>\n",
       "      <td>149380</td>\n",
       "      <td>149380</td>\n",
       "      <td>1499_141</td>\n",
       "      <td>0.0</td>\n",
       "      <td>2018-12-11</td>\n",
       "      <td>1499</td>\n",
       "      <td>декабрь</td>\n",
       "    </tr>\n",
       "    <tr>\n",
       "      <td>149381</td>\n",
       "      <td>149381</td>\n",
       "      <td>1499_142</td>\n",
       "      <td>0.0</td>\n",
       "      <td>2018-11-01</td>\n",
       "      <td>1499</td>\n",
       "      <td>ноябрь</td>\n",
       "    </tr>\n",
       "    <tr>\n",
       "      <td>149383</td>\n",
       "      <td>149383</td>\n",
       "      <td>1499_144</td>\n",
       "      <td>0.0</td>\n",
       "      <td>2018-11-27</td>\n",
       "      <td>1499</td>\n",
       "      <td>ноябрь</td>\n",
       "    </tr>\n",
       "    <tr>\n",
       "      <td>149386</td>\n",
       "      <td>149386</td>\n",
       "      <td>1499_147</td>\n",
       "      <td>0.0</td>\n",
       "      <td>2018-10-21</td>\n",
       "      <td>1499</td>\n",
       "      <td>октябрь</td>\n",
       "    </tr>\n",
       "    <tr>\n",
       "      <td>149393</td>\n",
       "      <td>149393</td>\n",
       "      <td>1499_154</td>\n",
       "      <td>0.0</td>\n",
       "      <td>2018-10-27</td>\n",
       "      <td>1499</td>\n",
       "      <td>октябрь</td>\n",
       "    </tr>\n",
       "  </tbody>\n",
       "</table>\n",
       "<p>19598 rows × 6 columns</p>\n",
       "</div>"
      ],
      "text/plain": [
       "        Unnamed: 0        id  mb_used session_date  user_id    month\n",
       "11              11   1000_11      0.0   2018-08-28     1000   август\n",
       "38              38   1000_38      0.0   2018-11-27     1000   ноябрь\n",
       "46              46   1000_46      0.0   2018-06-30     1000     июнь\n",
       "67              67   1000_67      0.0   2018-06-16     1000     июнь\n",
       "72              72   1000_72      0.0   2018-06-15     1000     июнь\n",
       "...            ...       ...      ...          ...      ...      ...\n",
       "149380      149380  1499_141      0.0   2018-12-11     1499  декабрь\n",
       "149381      149381  1499_142      0.0   2018-11-01     1499   ноябрь\n",
       "149383      149383  1499_144      0.0   2018-11-27     1499   ноябрь\n",
       "149386      149386  1499_147      0.0   2018-10-21     1499  октябрь\n",
       "149393      149393  1499_154      0.0   2018-10-27     1499  октябрь\n",
       "\n",
       "[19598 rows x 6 columns]"
      ]
     },
     "execution_count": 40,
     "metadata": {},
     "output_type": "execute_result"
    }
   ],
   "source": [
    "internet.query('mb_used == 0')"
   ]
  },
  {
   "cell_type": "markdown",
   "metadata": {},
   "source": [
    "19598 строк или 13% датасета. Если округление, всегда, происходит в большую сторону, то это, очевидный баг - некорректность выгрузки, так при загрузке страницы, трафик должен возникать сразу, хотя бы на уровне служебных команд, хоть бы 1 Кб должен быть передан или принят. Или это те пользователи, кто не пользовался интернетом. Придется удалить."
   ]
  },
  {
   "cell_type": "code",
   "execution_count": 41,
   "metadata": {},
   "outputs": [],
   "source": [
    "internet['mb_used'] = internet['mb_used'].replace(0, np.NaN)\n",
    "internet = internet.dropna()"
   ]
  },
  {
   "cell_type": "markdown",
   "metadata": {},
   "source": [
    "Посмотрим еще раз на гистограмму"
   ]
  },
  {
   "cell_type": "code",
   "execution_count": 42,
   "metadata": {},
   "outputs": [
    {
     "data": {
      "text/plain": [
       "Text(0, 0.5, 'Количество')"
      ]
     },
     "execution_count": 42,
     "metadata": {},
     "output_type": "execute_result"
    },
    {
     "data": {
      "image/png": "[encoded data removed]",
      "text/plain": [
       "<Figure size 432x288 with 1 Axes>"
      ]
     },
     "metadata": {
      "needs_background": "light"
     },
     "output_type": "display_data"
    }
   ],
   "source": [
    "internet['mb_used'].plot(kind='hist', bins=50)\n",
    "plt.xlabel('mb_used')\n",
    "plt.ylabel('Количество')"
   ]
  },
  {
   "cell_type": "markdown",
   "metadata": {},
   "source": [
    "Вид, кардинально поменялся, основное количество трафика приходится на объем от 0 до 1000 Мб."
   ]
  },
  {
   "cell_type": "markdown",
   "metadata": {},
   "source": [
    "Датасет tariffs"
   ]
  },
  {
   "cell_type": "code",
   "execution_count": 43,
   "metadata": {},
   "outputs": [
    {
     "data": {
      "text/html": [
       "<div>\n",
       "<style scoped>\n",
       "    .dataframe tbody tr th:only-of-type {\n",
       "        vertical-align: middle;\n",
       "    }\n",
       "\n",
       "    .dataframe tbody tr th {\n",
       "        vertical-align: top;\n",
       "    }\n",
       "\n",
       "    .dataframe thead th {\n",
       "        text-align: right;\n",
       "    }\n",
       "</style>\n",
       "<table border=\"1\" class=\"dataframe\">\n",
       "  <thead>\n",
       "    <tr style=\"text-align: right;\">\n",
       "      <th></th>\n",
       "      <th>messages_included</th>\n",
       "      <th>mb_per_month_included</th>\n",
       "      <th>minutes_included</th>\n",
       "      <th>rub_monthly_fee</th>\n",
       "      <th>rub_per_gb</th>\n",
       "      <th>rub_per_message</th>\n",
       "      <th>rub_per_minute</th>\n",
       "      <th>tariff_name</th>\n",
       "    </tr>\n",
       "  </thead>\n",
       "  <tbody>\n",
       "    <tr>\n",
       "      <td>0</td>\n",
       "      <td>50</td>\n",
       "      <td>15360</td>\n",
       "      <td>500</td>\n",
       "      <td>550</td>\n",
       "      <td>200</td>\n",
       "      <td>3</td>\n",
       "      <td>3</td>\n",
       "      <td>smart</td>\n",
       "    </tr>\n",
       "    <tr>\n",
       "      <td>1</td>\n",
       "      <td>1000</td>\n",
       "      <td>30720</td>\n",
       "      <td>3000</td>\n",
       "      <td>1950</td>\n",
       "      <td>150</td>\n",
       "      <td>1</td>\n",
       "      <td>1</td>\n",
       "      <td>ultra</td>\n",
       "    </tr>\n",
       "  </tbody>\n",
       "</table>\n",
       "</div>"
      ],
      "text/plain": [
       "   messages_included  mb_per_month_included  minutes_included  \\\n",
       "0                 50                  15360               500   \n",
       "1               1000                  30720              3000   \n",
       "\n",
       "   rub_monthly_fee  rub_per_gb  rub_per_message  rub_per_minute tariff_name  \n",
       "0              550         200                3               3       smart  \n",
       "1             1950         150                1               1       ultra  "
      ]
     },
     "execution_count": 43,
     "metadata": {},
     "output_type": "execute_result"
    }
   ],
   "source": [
    "tariffs.head()"
   ]
  },
  {
   "cell_type": "markdown",
   "metadata": {},
   "source": [
    "Здесь все верно"
   ]
  },
  {
   "cell_type": "markdown",
   "metadata": {},
   "source": [
    "##* Краткие выводы: открыл датасеты, посмотрел на данные, очевидны проблемы в calls и internet, возникшие, вероятно, из-за разночтения, разного подхода к тарификации звонков и трафика и выгрузки датасета. Коротко говоря, хотя в выгрузке данные и есть, но они не тарифицируется. Или пользователи не использовали эти услуги, а значит их как бы и нет. "
   ]
  },
  {
   "cell_type": "markdown",
   "metadata": {},
   "source": [
    "Посчитаем количество сделанных звонков и израсходованных минут разговора по месяцам"
   ]
  },
  {
   "cell_type": "code",
   "execution_count": 44,
   "metadata": {},
   "outputs": [
    {
     "name": "stdout",
     "output_type": "stream",
     "text": [
      "             id  duration\n",
      "          count       sum\n",
      "month                    \n",
      "август    17257  153698.0\n",
      "апрель     7504   66310.0\n",
      "декабрь   27385  243675.0\n",
      "июль      14780  131746.0\n",
      "июнь      11833  105180.0\n",
      "май       10116   88810.0\n",
      "март       5383   48151.0\n",
      "ноябрь    23664  210089.0\n",
      "октябрь   21757  193928.0\n",
      "сентябрь  19446  173475.0\n",
      "февраль    2705   24455.0\n",
      "январь     1164   10784.0\n"
     ]
    }
   ],
   "source": [
    "calls_duration_month = calls.groupby('month').agg({'id': ['count'], 'duration': ['sum']})\n",
    "calls_duration_month_user_id = calls.groupby('month').agg({'user_id': ['count'], 'duration': ['sum']})\n",
    "print(calls_duration_month)"
   ]
  },
  {
   "cell_type": "code",
   "execution_count": 45,
   "metadata": {},
   "outputs": [
    {
     "name": "stdout",
     "output_type": "stream",
     "text": [
      "         user_id  duration\n",
      "           count       sum\n",
      "month                     \n",
      "август     17257  153698.0\n",
      "апрель      7504   66310.0\n",
      "декабрь    27385  243675.0\n",
      "июль       14780  131746.0\n",
      "июнь       11833  105180.0\n",
      "май        10116   88810.0\n",
      "март        5383   48151.0\n",
      "ноябрь     23664  210089.0\n",
      "октябрь    21757  193928.0\n",
      "сентябрь   19446  173475.0\n",
      "февраль     2705   24455.0\n",
      "январь      1164   10784.0\n"
     ]
    }
   ],
   "source": [
    "print(calls_duration_month_user_id)"
   ]
  },
  {
   "cell_type": "markdown",
   "metadata": {},
   "source": [
    "Посчитал, как видно из таблицы, максимальное количество звонков было сделано в декабре, логично - поздравляли с наступающим Новым годом, минимальное в январе, тоже логично - самый главный праздник прошел, всем захотелось отдохнуть, максимальная длительность звонков, также была в декабре, минимальная, также в январе. Пока все правдоподобно."
   ]
  },
  {
   "cell_type": "markdown",
   "metadata": {},
   "source": [
    "Посчитаем количество отправленных сообщений по месяцам"
   ]
  },
  {
   "cell_type": "code",
   "execution_count": 46,
   "metadata": {},
   "outputs": [
    {
     "name": "stdout",
     "output_type": "stream",
     "text": [
      "         user_id\n",
      "           count\n",
      "month           \n",
      "август     13088\n",
      "апрель      5179\n",
      "декабрь    20555\n",
      "июль       11320\n",
      "июнь        8983\n",
      "май         7298\n",
      "март        3648\n",
      "ноябрь     18244\n",
      "октябрь    17114\n",
      "сентябрь   14759\n",
      "февраль     1924\n",
      "январь       924\n"
     ]
    }
   ],
   "source": [
    "messages_month = messages.groupby('month').agg({'user_id': ['count']})\n",
    "print(messages_month)"
   ]
  },
  {
   "cell_type": "markdown",
   "metadata": {},
   "source": [
    "Наибольшее количество сообщений было отправлено в декабре, наименьшее в январе. Пока, тоже все логично."
   ]
  },
  {
   "cell_type": "markdown",
   "metadata": {},
   "source": [
    "Посчитаем объем израсходованного интернет-трафика по месяцам"
   ]
  },
  {
   "cell_type": "code",
   "execution_count": 47,
   "metadata": {},
   "outputs": [
    {
     "name": "stdout",
     "output_type": "stream",
     "text": [
      "         user_id\n",
      "           count\n",
      "month           \n",
      "август     14009\n",
      "апрель      5692\n",
      "декабрь    21478\n",
      "июль       11788\n",
      "июнь        9656\n",
      "май         8209\n",
      "март        4262\n",
      "ноябрь     18910\n",
      "октябрь    17367\n",
      "сентябрь   15198\n",
      "февраль     2263\n",
      "январь       966\n"
     ]
    }
   ],
   "source": [
    "internet_month = internet.groupby('month').agg({'user_id': ['count']})\n",
    "print(internet_month)"
   ]
  },
  {
   "cell_type": "markdown",
   "metadata": {},
   "source": [
    "Наибольший объем интернет-трафика зафиксирован в декабре -#в этот момент лучше удаляться из все групп WA#, все отправляют картинки, видосики...Логично."
   ]
  },
  {
   "cell_type": "markdown",
   "metadata": {},
   "source": [
    "Посчитаем помесячную выручку с каждого пользователя (\"вычтите бесплатный лимит из суммарного количества звонков, сообщений и интернет-трафика; остаток умножьте на значение из тарифного плана; прибавьте абонентскую плату, соответствующую тарифному плану\"). Создам объединенный датасет."
   ]
  },
  {
   "cell_type": "markdown",
   "metadata": {},
   "source": [
    "Из каждого датасета возьму нужную информацию и склею эти данные в один датафрейм data, применив конкатенацию:"
   ]
  },
  {
   "cell_type": "code",
   "execution_count": 48,
   "metadata": {},
   "outputs": [],
   "source": [
    "data_calls = calls.groupby(['user_id', 'month'])['duration'].agg(['count', 'sum'])\n",
    "data_messages = messages.groupby(['user_id', 'month'])['id'].count()\n",
    "data_internet = internet.groupby(['user_id', 'month'])['mb_used'].sum()"
   ]
  },
  {
   "cell_type": "code",
   "execution_count": 49,
   "metadata": {},
   "outputs": [
    {
     "data": {
      "text/html": [
       "<div>\n",
       "<style scoped>\n",
       "    .dataframe tbody tr th:only-of-type {\n",
       "        vertical-align: middle;\n",
       "    }\n",
       "\n",
       "    .dataframe tbody tr th {\n",
       "        vertical-align: top;\n",
       "    }\n",
       "\n",
       "    .dataframe thead th {\n",
       "        text-align: right;\n",
       "    }\n",
       "</style>\n",
       "<table border=\"1\" class=\"dataframe\">\n",
       "  <thead>\n",
       "    <tr style=\"text-align: right;\">\n",
       "      <th></th>\n",
       "      <th>user_id</th>\n",
       "      <th>month</th>\n",
       "      <th>count</th>\n",
       "      <th>sum</th>\n",
       "      <th>id</th>\n",
       "      <th>mb_used</th>\n",
       "    </tr>\n",
       "  </thead>\n",
       "  <tbody>\n",
       "    <tr>\n",
       "      <td>0</td>\n",
       "      <td>1000</td>\n",
       "      <td>август</td>\n",
       "      <td>42.0</td>\n",
       "      <td>408.0</td>\n",
       "      <td>81.0</td>\n",
       "      <td>14070.0</td>\n",
       "    </tr>\n",
       "    <tr>\n",
       "      <td>1</td>\n",
       "      <td>1000</td>\n",
       "      <td>декабрь</td>\n",
       "      <td>38.0</td>\n",
       "      <td>333.0</td>\n",
       "      <td>70.0</td>\n",
       "      <td>9827.0</td>\n",
       "    </tr>\n",
       "    <tr>\n",
       "      <td>2</td>\n",
       "      <td>1000</td>\n",
       "      <td>июль</td>\n",
       "      <td>41.0</td>\n",
       "      <td>340.0</td>\n",
       "      <td>75.0</td>\n",
       "      <td>14016.0</td>\n",
       "    </tr>\n",
       "    <tr>\n",
       "      <td>3</td>\n",
       "      <td>1000</td>\n",
       "      <td>июнь</td>\n",
       "      <td>28.0</td>\n",
       "      <td>172.0</td>\n",
       "      <td>60.0</td>\n",
       "      <td>23257.0</td>\n",
       "    </tr>\n",
       "    <tr>\n",
       "      <td>4</td>\n",
       "      <td>1000</td>\n",
       "      <td>май</td>\n",
       "      <td>17.0</td>\n",
       "      <td>159.0</td>\n",
       "      <td>22.0</td>\n",
       "      <td>2256.0</td>\n",
       "    </tr>\n",
       "  </tbody>\n",
       "</table>\n",
       "</div>"
      ],
      "text/plain": [
       "   user_id    month  count    sum    id  mb_used\n",
       "0     1000   август   42.0  408.0  81.0  14070.0\n",
       "1     1000  декабрь   38.0  333.0  70.0   9827.0\n",
       "2     1000     июль   41.0  340.0  75.0  14016.0\n",
       "3     1000     июнь   28.0  172.0  60.0  23257.0\n",
       "4     1000      май   17.0  159.0  22.0   2256.0"
      ]
     },
     "execution_count": 49,
     "metadata": {},
     "output_type": "execute_result"
    }
   ],
   "source": [
    "data = pd.concat([data_calls, data_messages, data_internet], axis=1)\n",
    "data = data.reset_index()\n",
    "data.head()"
   ]
  },
  {
   "cell_type": "markdown",
   "metadata": {},
   "source": [
    "Добавим столбец с тарифом и городом"
   ]
  },
  {
   "cell_type": "code",
   "execution_count": 50,
   "metadata": {},
   "outputs": [],
   "source": [
    "data_tariff = dict(pd.Series(users['tariff'].values, index=users['user_id']))\n",
    "data['Тариф'] = data['user_id'].map(data_tariff)\n",
    "data_gorod = dict(pd.Series(users['city'].values, index=users['user_id']))\n",
    "data['Город'] = data['user_id'].map(data_gorod)"
   ]
  },
  {
   "cell_type": "markdown",
   "metadata": {},
   "source": [
    "Приведем данные в столбце Город к нижнему регистру, на всякий случай"
   ]
  },
  {
   "cell_type": "code",
   "execution_count": 51,
   "metadata": {},
   "outputs": [],
   "source": [
    "data['Город'] = data['Город'].str.lower()"
   ]
  },
  {
   "cell_type": "markdown",
   "metadata": {},
   "source": [
    "Переменуем столбцы"
   ]
  },
  {
   "cell_type": "code",
   "execution_count": 52,
   "metadata": {},
   "outputs": [],
   "source": [
    "data.columns = ['User_id', 'Месяц', 'Кол-во звонков, шт.', 'Длительность звонков, мин.', \n",
    "                            'Кол-во СМС, шт.', 'Интернет, Мб', 'Тариф', 'Город']"
   ]
  },
  {
   "cell_type": "code",
   "execution_count": 53,
   "metadata": {},
   "outputs": [
    {
     "data": {
      "text/html": [
       "<div>\n",
       "<style scoped>\n",
       "    .dataframe tbody tr th:only-of-type {\n",
       "        vertical-align: middle;\n",
       "    }\n",
       "\n",
       "    .dataframe tbody tr th {\n",
       "        vertical-align: top;\n",
       "    }\n",
       "\n",
       "    .dataframe thead th {\n",
       "        text-align: right;\n",
       "    }\n",
       "</style>\n",
       "<table border=\"1\" class=\"dataframe\">\n",
       "  <thead>\n",
       "    <tr style=\"text-align: right;\">\n",
       "      <th></th>\n",
       "      <th>User_id</th>\n",
       "      <th>Месяц</th>\n",
       "      <th>Кол-во звонков, шт.</th>\n",
       "      <th>Длительность звонков, мин.</th>\n",
       "      <th>Кол-во СМС, шт.</th>\n",
       "      <th>Интернет, Мб</th>\n",
       "      <th>Тариф</th>\n",
       "      <th>Город</th>\n",
       "    </tr>\n",
       "  </thead>\n",
       "  <tbody>\n",
       "    <tr>\n",
       "      <td>0</td>\n",
       "      <td>1000</td>\n",
       "      <td>август</td>\n",
       "      <td>42.0</td>\n",
       "      <td>408.0</td>\n",
       "      <td>81.0</td>\n",
       "      <td>14070.0</td>\n",
       "      <td>ultra</td>\n",
       "      <td>краснодар</td>\n",
       "    </tr>\n",
       "    <tr>\n",
       "      <td>1</td>\n",
       "      <td>1000</td>\n",
       "      <td>декабрь</td>\n",
       "      <td>38.0</td>\n",
       "      <td>333.0</td>\n",
       "      <td>70.0</td>\n",
       "      <td>9827.0</td>\n",
       "      <td>ultra</td>\n",
       "      <td>краснодар</td>\n",
       "    </tr>\n",
       "    <tr>\n",
       "      <td>2</td>\n",
       "      <td>1000</td>\n",
       "      <td>июль</td>\n",
       "      <td>41.0</td>\n",
       "      <td>340.0</td>\n",
       "      <td>75.0</td>\n",
       "      <td>14016.0</td>\n",
       "      <td>ultra</td>\n",
       "      <td>краснодар</td>\n",
       "    </tr>\n",
       "    <tr>\n",
       "      <td>3</td>\n",
       "      <td>1000</td>\n",
       "      <td>июнь</td>\n",
       "      <td>28.0</td>\n",
       "      <td>172.0</td>\n",
       "      <td>60.0</td>\n",
       "      <td>23257.0</td>\n",
       "      <td>ultra</td>\n",
       "      <td>краснодар</td>\n",
       "    </tr>\n",
       "    <tr>\n",
       "      <td>4</td>\n",
       "      <td>1000</td>\n",
       "      <td>май</td>\n",
       "      <td>17.0</td>\n",
       "      <td>159.0</td>\n",
       "      <td>22.0</td>\n",
       "      <td>2256.0</td>\n",
       "      <td>ultra</td>\n",
       "      <td>краснодар</td>\n",
       "    </tr>\n",
       "    <tr>\n",
       "      <td>5</td>\n",
       "      <td>1000</td>\n",
       "      <td>ноябрь</td>\n",
       "      <td>37.0</td>\n",
       "      <td>338.0</td>\n",
       "      <td>58.0</td>\n",
       "      <td>14768.0</td>\n",
       "      <td>ultra</td>\n",
       "      <td>краснодар</td>\n",
       "    </tr>\n",
       "    <tr>\n",
       "      <td>6</td>\n",
       "      <td>1000</td>\n",
       "      <td>октябрь</td>\n",
       "      <td>44.0</td>\n",
       "      <td>350.0</td>\n",
       "      <td>73.0</td>\n",
       "      <td>14717.0</td>\n",
       "      <td>ultra</td>\n",
       "      <td>краснодар</td>\n",
       "    </tr>\n",
       "    <tr>\n",
       "      <td>7</td>\n",
       "      <td>1000</td>\n",
       "      <td>сентябрь</td>\n",
       "      <td>46.0</td>\n",
       "      <td>466.0</td>\n",
       "      <td>57.0</td>\n",
       "      <td>14581.0</td>\n",
       "      <td>ultra</td>\n",
       "      <td>краснодар</td>\n",
       "    </tr>\n",
       "    <tr>\n",
       "      <td>8</td>\n",
       "      <td>1001</td>\n",
       "      <td>декабрь</td>\n",
       "      <td>47.0</td>\n",
       "      <td>414.0</td>\n",
       "      <td>NaN</td>\n",
       "      <td>14053.0</td>\n",
       "      <td>smart</td>\n",
       "      <td>москва</td>\n",
       "    </tr>\n",
       "    <tr>\n",
       "      <td>9</td>\n",
       "      <td>1001</td>\n",
       "      <td>ноябрь</td>\n",
       "      <td>45.0</td>\n",
       "      <td>430.0</td>\n",
       "      <td>NaN</td>\n",
       "      <td>18452.0</td>\n",
       "      <td>smart</td>\n",
       "      <td>москва</td>\n",
       "    </tr>\n",
       "  </tbody>\n",
       "</table>\n",
       "</div>"
      ],
      "text/plain": [
       "   User_id     Месяц  Кол-во звонков, шт.  Длительность звонков, мин.  \\\n",
       "0     1000    август                 42.0                       408.0   \n",
       "1     1000   декабрь                 38.0                       333.0   \n",
       "2     1000      июль                 41.0                       340.0   \n",
       "3     1000      июнь                 28.0                       172.0   \n",
       "4     1000       май                 17.0                       159.0   \n",
       "5     1000    ноябрь                 37.0                       338.0   \n",
       "6     1000   октябрь                 44.0                       350.0   \n",
       "7     1000  сентябрь                 46.0                       466.0   \n",
       "8     1001   декабрь                 47.0                       414.0   \n",
       "9     1001    ноябрь                 45.0                       430.0   \n",
       "\n",
       "   Кол-во СМС, шт.  Интернет, Мб  Тариф      Город  \n",
       "0             81.0       14070.0  ultra  краснодар  \n",
       "1             70.0        9827.0  ultra  краснодар  \n",
       "2             75.0       14016.0  ultra  краснодар  \n",
       "3             60.0       23257.0  ultra  краснодар  \n",
       "4             22.0        2256.0  ultra  краснодар  \n",
       "5             58.0       14768.0  ultra  краснодар  \n",
       "6             73.0       14717.0  ultra  краснодар  \n",
       "7             57.0       14581.0  ultra  краснодар  \n",
       "8              NaN       14053.0  smart     москва  \n",
       "9              NaN       18452.0  smart     москва  "
      ]
     },
     "execution_count": 53,
     "metadata": {},
     "output_type": "execute_result"
    }
   ],
   "source": [
    "data.sort_values(by=['User_id', 'Месяц']).head(10)"
   ]
  },
  {
   "cell_type": "code",
   "execution_count": 54,
   "metadata": {},
   "outputs": [
    {
     "name": "stdout",
     "output_type": "stream",
     "text": [
      "<class 'pandas.core.frame.DataFrame'>\n",
      "RangeIndex: 3214 entries, 0 to 3213\n",
      "Data columns (total 8 columns):\n",
      "User_id                       3214 non-null int64\n",
      "Месяц                         3214 non-null object\n",
      "Кол-во звонков, шт.           3168 non-null float64\n",
      "Длительность звонков, мин.    3168 non-null float64\n",
      "Кол-во СМС, шт.               2717 non-null float64\n",
      "Интернет, Мб                  3201 non-null float64\n",
      "Тариф                         3214 non-null object\n",
      "Город                         3214 non-null object\n",
      "dtypes: float64(4), int64(1), object(3)\n",
      "memory usage: 201.0+ KB\n"
     ]
    }
   ],
   "source": [
    "data.info()"
   ]
  },
  {
   "cell_type": "code",
   "execution_count": 55,
   "metadata": {},
   "outputs": [
    {
     "data": {
      "text/html": [
       "<div>\n",
       "<style scoped>\n",
       "    .dataframe tbody tr th:only-of-type {\n",
       "        vertical-align: middle;\n",
       "    }\n",
       "\n",
       "    .dataframe tbody tr th {\n",
       "        vertical-align: top;\n",
       "    }\n",
       "\n",
       "    .dataframe thead th {\n",
       "        text-align: right;\n",
       "    }\n",
       "</style>\n",
       "<table border=\"1\" class=\"dataframe\">\n",
       "  <thead>\n",
       "    <tr style=\"text-align: right;\">\n",
       "      <th></th>\n",
       "      <th>User_id</th>\n",
       "      <th>Месяц</th>\n",
       "      <th>Кол-во звонков, шт.</th>\n",
       "      <th>Длительность звонков, мин.</th>\n",
       "      <th>Кол-во СМС, шт.</th>\n",
       "      <th>Интернет, Мб</th>\n",
       "      <th>Тариф</th>\n",
       "      <th>Город</th>\n",
       "    </tr>\n",
       "  </thead>\n",
       "  <tbody>\n",
       "    <tr>\n",
       "      <td>3209</td>\n",
       "      <td>1498</td>\n",
       "      <td>сентябрь</td>\n",
       "      <td>53.0</td>\n",
       "      <td>471.0</td>\n",
       "      <td>44.0</td>\n",
       "      <td>22166.0</td>\n",
       "      <td>smart</td>\n",
       "      <td>владикавказ</td>\n",
       "    </tr>\n",
       "    <tr>\n",
       "      <td>3210</td>\n",
       "      <td>1499</td>\n",
       "      <td>декабрь</td>\n",
       "      <td>56.0</td>\n",
       "      <td>492.0</td>\n",
       "      <td>66.0</td>\n",
       "      <td>13077.0</td>\n",
       "      <td>smart</td>\n",
       "      <td>пермь</td>\n",
       "    </tr>\n",
       "    <tr>\n",
       "      <td>3211</td>\n",
       "      <td>1499</td>\n",
       "      <td>ноябрь</td>\n",
       "      <td>62.0</td>\n",
       "      <td>612.0</td>\n",
       "      <td>59.0</td>\n",
       "      <td>17984.0</td>\n",
       "      <td>smart</td>\n",
       "      <td>пермь</td>\n",
       "    </tr>\n",
       "    <tr>\n",
       "      <td>3212</td>\n",
       "      <td>1499</td>\n",
       "      <td>октябрь</td>\n",
       "      <td>44.0</td>\n",
       "      <td>449.0</td>\n",
       "      <td>48.0</td>\n",
       "      <td>17809.0</td>\n",
       "      <td>smart</td>\n",
       "      <td>пермь</td>\n",
       "    </tr>\n",
       "    <tr>\n",
       "      <td>3213</td>\n",
       "      <td>1499</td>\n",
       "      <td>сентябрь</td>\n",
       "      <td>8.0</td>\n",
       "      <td>70.0</td>\n",
       "      <td>11.0</td>\n",
       "      <td>1848.0</td>\n",
       "      <td>smart</td>\n",
       "      <td>пермь</td>\n",
       "    </tr>\n",
       "  </tbody>\n",
       "</table>\n",
       "</div>"
      ],
      "text/plain": [
       "      User_id     Месяц  Кол-во звонков, шт.  Длительность звонков, мин.  \\\n",
       "3209     1498  сентябрь                 53.0                       471.0   \n",
       "3210     1499   декабрь                 56.0                       492.0   \n",
       "3211     1499    ноябрь                 62.0                       612.0   \n",
       "3212     1499   октябрь                 44.0                       449.0   \n",
       "3213     1499  сентябрь                  8.0                        70.0   \n",
       "\n",
       "      Кол-во СМС, шт.  Интернет, Мб  Тариф        Город  \n",
       "3209             44.0       22166.0  smart  владикавказ  \n",
       "3210             66.0       13077.0  smart        пермь  \n",
       "3211             59.0       17984.0  smart        пермь  \n",
       "3212             48.0       17809.0  smart        пермь  \n",
       "3213             11.0        1848.0  smart        пермь  "
      ]
     },
     "execution_count": 55,
     "metadata": {},
     "output_type": "execute_result"
    }
   ],
   "source": [
    "data.tail()"
   ]
  },
  {
   "cell_type": "markdown",
   "metadata": {},
   "source": [
    "Посмотрим на пользователей, которые, вообще не проявляли никакой активности"
   ]
  },
  {
   "cell_type": "code",
   "execution_count": 56,
   "metadata": {},
   "outputs": [
    {
     "data": {
      "text/html": [
       "<div>\n",
       "<style scoped>\n",
       "    .dataframe tbody tr th:only-of-type {\n",
       "        vertical-align: middle;\n",
       "    }\n",
       "\n",
       "    .dataframe tbody tr th {\n",
       "        vertical-align: top;\n",
       "    }\n",
       "\n",
       "    .dataframe thead th {\n",
       "        text-align: right;\n",
       "    }\n",
       "</style>\n",
       "<table border=\"1\" class=\"dataframe\">\n",
       "  <thead>\n",
       "    <tr style=\"text-align: right;\">\n",
       "      <th></th>\n",
       "      <th>User_id</th>\n",
       "      <th>Месяц</th>\n",
       "      <th>Кол-во звонков, шт.</th>\n",
       "      <th>Длительность звонков, мин.</th>\n",
       "      <th>Кол-во СМС, шт.</th>\n",
       "      <th>Интернет, Мб</th>\n",
       "      <th>Тариф</th>\n",
       "      <th>Город</th>\n",
       "    </tr>\n",
       "  </thead>\n",
       "  <tbody>\n",
       "  </tbody>\n",
       "</table>\n",
       "</div>"
      ],
      "text/plain": [
       "Empty DataFrame\n",
       "Columns: [User_id, Месяц, Кол-во звонков, шт., Длительность звонков, мин., Кол-во СМС, шт., Интернет, Мб, Тариф, Город]\n",
       "Index: []"
      ]
     },
     "execution_count": 56,
     "metadata": {},
     "output_type": "execute_result"
    }
   ],
   "source": [
    "data[(data['Интернет, Мб'].isnull()) & (data['Кол-во СМС, шт.'].isnull()) & (data['Длительность звонков, мин.'].isnull())]"
   ]
  },
  {
   "cell_type": "markdown",
   "metadata": {},
   "source": [
    "Таких нет, значит не звонил, так не звонили, не писали, так не писали. Заполню нулями"
   ]
  },
  {
   "cell_type": "code",
   "execution_count": 57,
   "metadata": {},
   "outputs": [],
   "source": [
    "data = data.fillna(0)"
   ]
  },
  {
   "cell_type": "code",
   "execution_count": 58,
   "metadata": {},
   "outputs": [
    {
     "name": "stdout",
     "output_type": "stream",
     "text": [
      "<class 'pandas.core.frame.DataFrame'>\n",
      "RangeIndex: 3214 entries, 0 to 3213\n",
      "Data columns (total 8 columns):\n",
      "User_id                       3214 non-null int64\n",
      "Месяц                         3214 non-null object\n",
      "Кол-во звонков, шт.           3214 non-null float64\n",
      "Длительность звонков, мин.    3214 non-null float64\n",
      "Кол-во СМС, шт.               3214 non-null float64\n",
      "Интернет, Мб                  3214 non-null float64\n",
      "Тариф                         3214 non-null object\n",
      "Город                         3214 non-null object\n",
      "dtypes: float64(4), int64(1), object(3)\n",
      "memory usage: 201.0+ KB\n"
     ]
    }
   ],
   "source": [
    "data.info()"
   ]
  },
  {
   "cell_type": "markdown",
   "metadata": {},
   "source": [
    "Добавим столбец с информацией о ежемесячном доходе с каждого пользователя. Создам новые столбцы - \"Абонентская плата, руб.\", \"Звонки сверх лимита, мин.\", \"СМС сверх лимита\", \"Интернет сверх лимита\", \"Плата сверх лимита\""
   ]
  },
  {
   "cell_type": "markdown",
   "metadata": {},
   "source": [
    "Создадим словарь"
   ]
  },
  {
   "cell_type": "code",
   "execution_count": 59,
   "metadata": {},
   "outputs": [],
   "source": [
    "month_price = {'smart': 550, 'ultra': 1950}\n",
    "data['Абонентская плата, руб.'] = data['Тариф'].map(month_price)"
   ]
  },
  {
   "cell_type": "code",
   "execution_count": 60,
   "metadata": {},
   "outputs": [
    {
     "data": {
      "text/html": [
       "<div>\n",
       "<style scoped>\n",
       "    .dataframe tbody tr th:only-of-type {\n",
       "        vertical-align: middle;\n",
       "    }\n",
       "\n",
       "    .dataframe tbody tr th {\n",
       "        vertical-align: top;\n",
       "    }\n",
       "\n",
       "    .dataframe thead th {\n",
       "        text-align: right;\n",
       "    }\n",
       "</style>\n",
       "<table border=\"1\" class=\"dataframe\">\n",
       "  <thead>\n",
       "    <tr style=\"text-align: right;\">\n",
       "      <th></th>\n",
       "      <th>User_id</th>\n",
       "      <th>Месяц</th>\n",
       "      <th>Кол-во звонков, шт.</th>\n",
       "      <th>Длительность звонков, мин.</th>\n",
       "      <th>Кол-во СМС, шт.</th>\n",
       "      <th>Интернет, Мб</th>\n",
       "      <th>Тариф</th>\n",
       "      <th>Город</th>\n",
       "      <th>Абонентская плата, руб.</th>\n",
       "    </tr>\n",
       "  </thead>\n",
       "  <tbody>\n",
       "    <tr>\n",
       "      <td>0</td>\n",
       "      <td>1000</td>\n",
       "      <td>август</td>\n",
       "      <td>42.0</td>\n",
       "      <td>408.0</td>\n",
       "      <td>81.0</td>\n",
       "      <td>14070.0</td>\n",
       "      <td>ultra</td>\n",
       "      <td>краснодар</td>\n",
       "      <td>1950</td>\n",
       "    </tr>\n",
       "    <tr>\n",
       "      <td>1</td>\n",
       "      <td>1000</td>\n",
       "      <td>декабрь</td>\n",
       "      <td>38.0</td>\n",
       "      <td>333.0</td>\n",
       "      <td>70.0</td>\n",
       "      <td>9827.0</td>\n",
       "      <td>ultra</td>\n",
       "      <td>краснодар</td>\n",
       "      <td>1950</td>\n",
       "    </tr>\n",
       "    <tr>\n",
       "      <td>2</td>\n",
       "      <td>1000</td>\n",
       "      <td>июль</td>\n",
       "      <td>41.0</td>\n",
       "      <td>340.0</td>\n",
       "      <td>75.0</td>\n",
       "      <td>14016.0</td>\n",
       "      <td>ultra</td>\n",
       "      <td>краснодар</td>\n",
       "      <td>1950</td>\n",
       "    </tr>\n",
       "    <tr>\n",
       "      <td>3</td>\n",
       "      <td>1000</td>\n",
       "      <td>июнь</td>\n",
       "      <td>28.0</td>\n",
       "      <td>172.0</td>\n",
       "      <td>60.0</td>\n",
       "      <td>23257.0</td>\n",
       "      <td>ultra</td>\n",
       "      <td>краснодар</td>\n",
       "      <td>1950</td>\n",
       "    </tr>\n",
       "    <tr>\n",
       "      <td>4</td>\n",
       "      <td>1000</td>\n",
       "      <td>май</td>\n",
       "      <td>17.0</td>\n",
       "      <td>159.0</td>\n",
       "      <td>22.0</td>\n",
       "      <td>2256.0</td>\n",
       "      <td>ultra</td>\n",
       "      <td>краснодар</td>\n",
       "      <td>1950</td>\n",
       "    </tr>\n",
       "  </tbody>\n",
       "</table>\n",
       "</div>"
      ],
      "text/plain": [
       "   User_id    Месяц  Кол-во звонков, шт.  Длительность звонков, мин.  \\\n",
       "0     1000   август                 42.0                       408.0   \n",
       "1     1000  декабрь                 38.0                       333.0   \n",
       "2     1000     июль                 41.0                       340.0   \n",
       "3     1000     июнь                 28.0                       172.0   \n",
       "4     1000      май                 17.0                       159.0   \n",
       "\n",
       "   Кол-во СМС, шт.  Интернет, Мб  Тариф      Город  Абонентская плата, руб.  \n",
       "0             81.0       14070.0  ultra  краснодар                     1950  \n",
       "1             70.0        9827.0  ultra  краснодар                     1950  \n",
       "2             75.0       14016.0  ultra  краснодар                     1950  \n",
       "3             60.0       23257.0  ultra  краснодар                     1950  \n",
       "4             22.0        2256.0  ultra  краснодар                     1950  "
      ]
     },
     "execution_count": 60,
     "metadata": {},
     "output_type": "execute_result"
    }
   ],
   "source": [
    "data.head(5)"
   ]
  },
  {
   "cell_type": "markdown",
   "metadata": {},
   "source": [
    "Напишу функцию, для подсчета превышения значений, сверх лимита:"
   ]
  },
  {
   "cell_type": "code",
   "execution_count": 61,
   "metadata": {},
   "outputs": [],
   "source": [
    "def calls_over_plan(row):\n",
    "    if row['Тариф'] == 'smart':\n",
    "        result = row['Длительность звонков, мин.'] - 500\n",
    "        return np.where(result > 0, result, 0)\n",
    "    else:\n",
    "        result = row['Длительность звонков, мин.'] - 3000\n",
    "        return np.where(result > 0, result, 0)\n",
    "    \n",
    "    \n",
    "def sms_over_plan(row):\n",
    "    if row['Тариф'] == 'smart':\n",
    "        result = row['Кол-во СМС, шт.'] - 50\n",
    "        return np.where(result > 0, result, 0)\n",
    "    else:\n",
    "        result =  row['Кол-во СМС, шт.'] - 1000\n",
    "        return np.where(result > 0, result, 0)\n",
    "    \n",
    "\n",
    "def internet_over_plan(row):\n",
    "    if row['Тариф'] == 'smart':\n",
    "        result = row['Интернет, Мб'] - 15 * 1024\n",
    "        return np.where(result > 0, result, 0)\n",
    "    else:\n",
    "        result = row['Интернет, Мб'] - 30 * 1024\n",
    "        return np.where(result > 0, result, 0)\n",
    "    \n",
    "    \n",
    "def month_revenue(row):\n",
    "    sum_per_month = 0\n",
    "    if row['Тариф'] == 'smart':\n",
    "        sum_per_month += np.ceil(row['Звонки сверх лимита, мин.']) * 3\n",
    "        sum_per_month += row['СМС сверх лимита'] * 3\n",
    "        sum_per_month += np.ceil(row['Интернет сверх лимита']/1024) * 200\n",
    "        return sum_per_month\n",
    "    \n",
    "    else:\n",
    "        sum_per_month += np.ceil(row['Звонки сверх лимита, мин.']) * 1\n",
    "        sum_per_month += row['СМС сверх лимита'] * 1\n",
    "        sum_per_month += np.ceil(row['Интернет сверх лимита']/1024) * 150\n",
    "        return sum_per_month"
   ]
  },
  {
   "cell_type": "markdown",
   "metadata": {},
   "source": [
    "Создадим новые столбцы, приведем к нужному типу:"
   ]
  },
  {
   "cell_type": "code",
   "execution_count": 62,
   "metadata": {},
   "outputs": [],
   "source": [
    "data['Звонки сверх лимита, мин.'] = data.apply(calls_over_plan, axis=1)\n",
    "data['СМС сверх лимита'] = data.apply(sms_over_plan, axis=1)\n",
    "data['Интернет сверх лимита'] = data.apply(internet_over_plan, axis=1)\n",
    "\n",
    "data['Плата сверх лимита'] = data.apply(month_revenue, axis=1)\n",
    "\n",
    "for column in ['Звонки сверх лимита, мин.', 'Интернет сверх лимита']:\n",
    "    data[column] = data[column].astype('float')\n",
    "\n",
    "for column in ['СМС сверх лимита', 'Плата сверх лимита']:\n",
    "    data[column] = data[column].astype('int')"
   ]
  },
  {
   "cell_type": "markdown",
   "metadata": {},
   "source": [
    "Посмотрим на датафрейм"
   ]
  },
  {
   "cell_type": "code",
   "execution_count": 63,
   "metadata": {},
   "outputs": [
    {
     "data": {
      "text/html": [
       "<div>\n",
       "<style scoped>\n",
       "    .dataframe tbody tr th:only-of-type {\n",
       "        vertical-align: middle;\n",
       "    }\n",
       "\n",
       "    .dataframe tbody tr th {\n",
       "        vertical-align: top;\n",
       "    }\n",
       "\n",
       "    .dataframe thead th {\n",
       "        text-align: right;\n",
       "    }\n",
       "</style>\n",
       "<table border=\"1\" class=\"dataframe\">\n",
       "  <thead>\n",
       "    <tr style=\"text-align: right;\">\n",
       "      <th></th>\n",
       "      <th>User_id</th>\n",
       "      <th>Месяц</th>\n",
       "      <th>Кол-во звонков, шт.</th>\n",
       "      <th>Длительность звонков, мин.</th>\n",
       "      <th>Кол-во СМС, шт.</th>\n",
       "      <th>Интернет, Мб</th>\n",
       "      <th>Тариф</th>\n",
       "      <th>Город</th>\n",
       "      <th>Абонентская плата, руб.</th>\n",
       "      <th>Звонки сверх лимита, мин.</th>\n",
       "      <th>СМС сверх лимита</th>\n",
       "      <th>Интернет сверх лимита</th>\n",
       "      <th>Плата сверх лимита</th>\n",
       "    </tr>\n",
       "  </thead>\n",
       "  <tbody>\n",
       "    <tr>\n",
       "      <td>0</td>\n",
       "      <td>1000</td>\n",
       "      <td>август</td>\n",
       "      <td>42.0</td>\n",
       "      <td>408.0</td>\n",
       "      <td>81.0</td>\n",
       "      <td>14070.0</td>\n",
       "      <td>ultra</td>\n",
       "      <td>краснодар</td>\n",
       "      <td>1950</td>\n",
       "      <td>0.0</td>\n",
       "      <td>0</td>\n",
       "      <td>0.0</td>\n",
       "      <td>0</td>\n",
       "    </tr>\n",
       "    <tr>\n",
       "      <td>1</td>\n",
       "      <td>1000</td>\n",
       "      <td>декабрь</td>\n",
       "      <td>38.0</td>\n",
       "      <td>333.0</td>\n",
       "      <td>70.0</td>\n",
       "      <td>9827.0</td>\n",
       "      <td>ultra</td>\n",
       "      <td>краснодар</td>\n",
       "      <td>1950</td>\n",
       "      <td>0.0</td>\n",
       "      <td>0</td>\n",
       "      <td>0.0</td>\n",
       "      <td>0</td>\n",
       "    </tr>\n",
       "    <tr>\n",
       "      <td>2</td>\n",
       "      <td>1000</td>\n",
       "      <td>июль</td>\n",
       "      <td>41.0</td>\n",
       "      <td>340.0</td>\n",
       "      <td>75.0</td>\n",
       "      <td>14016.0</td>\n",
       "      <td>ultra</td>\n",
       "      <td>краснодар</td>\n",
       "      <td>1950</td>\n",
       "      <td>0.0</td>\n",
       "      <td>0</td>\n",
       "      <td>0.0</td>\n",
       "      <td>0</td>\n",
       "    </tr>\n",
       "    <tr>\n",
       "      <td>3</td>\n",
       "      <td>1000</td>\n",
       "      <td>июнь</td>\n",
       "      <td>28.0</td>\n",
       "      <td>172.0</td>\n",
       "      <td>60.0</td>\n",
       "      <td>23257.0</td>\n",
       "      <td>ultra</td>\n",
       "      <td>краснодар</td>\n",
       "      <td>1950</td>\n",
       "      <td>0.0</td>\n",
       "      <td>0</td>\n",
       "      <td>0.0</td>\n",
       "      <td>0</td>\n",
       "    </tr>\n",
       "    <tr>\n",
       "      <td>4</td>\n",
       "      <td>1000</td>\n",
       "      <td>май</td>\n",
       "      <td>17.0</td>\n",
       "      <td>159.0</td>\n",
       "      <td>22.0</td>\n",
       "      <td>2256.0</td>\n",
       "      <td>ultra</td>\n",
       "      <td>краснодар</td>\n",
       "      <td>1950</td>\n",
       "      <td>0.0</td>\n",
       "      <td>0</td>\n",
       "      <td>0.0</td>\n",
       "      <td>0</td>\n",
       "    </tr>\n",
       "  </tbody>\n",
       "</table>\n",
       "</div>"
      ],
      "text/plain": [
       "   User_id    Месяц  Кол-во звонков, шт.  Длительность звонков, мин.  \\\n",
       "0     1000   август                 42.0                       408.0   \n",
       "1     1000  декабрь                 38.0                       333.0   \n",
       "2     1000     июль                 41.0                       340.0   \n",
       "3     1000     июнь                 28.0                       172.0   \n",
       "4     1000      май                 17.0                       159.0   \n",
       "\n",
       "   Кол-во СМС, шт.  Интернет, Мб  Тариф      Город  Абонентская плата, руб.  \\\n",
       "0             81.0       14070.0  ultra  краснодар                     1950   \n",
       "1             70.0        9827.0  ultra  краснодар                     1950   \n",
       "2             75.0       14016.0  ultra  краснодар                     1950   \n",
       "3             60.0       23257.0  ultra  краснодар                     1950   \n",
       "4             22.0        2256.0  ultra  краснодар                     1950   \n",
       "\n",
       "   Звонки сверх лимита, мин.  СМС сверх лимита  Интернет сверх лимита  \\\n",
       "0                        0.0                 0                    0.0   \n",
       "1                        0.0                 0                    0.0   \n",
       "2                        0.0                 0                    0.0   \n",
       "3                        0.0                 0                    0.0   \n",
       "4                        0.0                 0                    0.0   \n",
       "\n",
       "   Плата сверх лимита  \n",
       "0                   0  \n",
       "1                   0  \n",
       "2                   0  \n",
       "3                   0  \n",
       "4                   0  "
      ]
     },
     "execution_count": 63,
     "metadata": {},
     "output_type": "execute_result"
    }
   ],
   "source": [
    "data.head(5)"
   ]
  },
  {
   "cell_type": "markdown",
   "metadata": {},
   "source": [
    "Создадим столбец \"Сумма за месяц\" в котором сложу данные по столбцам: \"Абонентская плата, руб.\" и \"Плата сверх лимита\""
   ]
  },
  {
   "cell_type": "code",
   "execution_count": 64,
   "metadata": {},
   "outputs": [],
   "source": [
    "data['Сумма за месяц'] = data['Абонентская плата, руб.'] + data['Плата сверх лимита']"
   ]
  },
  {
   "cell_type": "markdown",
   "metadata": {},
   "source": [
    "Посмотрим на датафрейм"
   ]
  },
  {
   "cell_type": "code",
   "execution_count": 65,
   "metadata": {},
   "outputs": [
    {
     "data": {
      "text/html": [
       "<div>\n",
       "<style scoped>\n",
       "    .dataframe tbody tr th:only-of-type {\n",
       "        vertical-align: middle;\n",
       "    }\n",
       "\n",
       "    .dataframe tbody tr th {\n",
       "        vertical-align: top;\n",
       "    }\n",
       "\n",
       "    .dataframe thead th {\n",
       "        text-align: right;\n",
       "    }\n",
       "</style>\n",
       "<table border=\"1\" class=\"dataframe\">\n",
       "  <thead>\n",
       "    <tr style=\"text-align: right;\">\n",
       "      <th></th>\n",
       "      <th>User_id</th>\n",
       "      <th>Месяц</th>\n",
       "      <th>Кол-во звонков, шт.</th>\n",
       "      <th>Длительность звонков, мин.</th>\n",
       "      <th>Кол-во СМС, шт.</th>\n",
       "      <th>Интернет, Мб</th>\n",
       "      <th>Тариф</th>\n",
       "      <th>Город</th>\n",
       "      <th>Абонентская плата, руб.</th>\n",
       "      <th>Звонки сверх лимита, мин.</th>\n",
       "      <th>СМС сверх лимита</th>\n",
       "      <th>Интернет сверх лимита</th>\n",
       "      <th>Плата сверх лимита</th>\n",
       "      <th>Сумма за месяц</th>\n",
       "    </tr>\n",
       "  </thead>\n",
       "  <tbody>\n",
       "    <tr>\n",
       "      <td>0</td>\n",
       "      <td>1000</td>\n",
       "      <td>август</td>\n",
       "      <td>42.0</td>\n",
       "      <td>408.0</td>\n",
       "      <td>81.0</td>\n",
       "      <td>14070.0</td>\n",
       "      <td>ultra</td>\n",
       "      <td>краснодар</td>\n",
       "      <td>1950</td>\n",
       "      <td>0.0</td>\n",
       "      <td>0</td>\n",
       "      <td>0.0</td>\n",
       "      <td>0</td>\n",
       "      <td>1950</td>\n",
       "    </tr>\n",
       "    <tr>\n",
       "      <td>1</td>\n",
       "      <td>1000</td>\n",
       "      <td>декабрь</td>\n",
       "      <td>38.0</td>\n",
       "      <td>333.0</td>\n",
       "      <td>70.0</td>\n",
       "      <td>9827.0</td>\n",
       "      <td>ultra</td>\n",
       "      <td>краснодар</td>\n",
       "      <td>1950</td>\n",
       "      <td>0.0</td>\n",
       "      <td>0</td>\n",
       "      <td>0.0</td>\n",
       "      <td>0</td>\n",
       "      <td>1950</td>\n",
       "    </tr>\n",
       "    <tr>\n",
       "      <td>2</td>\n",
       "      <td>1000</td>\n",
       "      <td>июль</td>\n",
       "      <td>41.0</td>\n",
       "      <td>340.0</td>\n",
       "      <td>75.0</td>\n",
       "      <td>14016.0</td>\n",
       "      <td>ultra</td>\n",
       "      <td>краснодар</td>\n",
       "      <td>1950</td>\n",
       "      <td>0.0</td>\n",
       "      <td>0</td>\n",
       "      <td>0.0</td>\n",
       "      <td>0</td>\n",
       "      <td>1950</td>\n",
       "    </tr>\n",
       "    <tr>\n",
       "      <td>3</td>\n",
       "      <td>1000</td>\n",
       "      <td>июнь</td>\n",
       "      <td>28.0</td>\n",
       "      <td>172.0</td>\n",
       "      <td>60.0</td>\n",
       "      <td>23257.0</td>\n",
       "      <td>ultra</td>\n",
       "      <td>краснодар</td>\n",
       "      <td>1950</td>\n",
       "      <td>0.0</td>\n",
       "      <td>0</td>\n",
       "      <td>0.0</td>\n",
       "      <td>0</td>\n",
       "      <td>1950</td>\n",
       "    </tr>\n",
       "    <tr>\n",
       "      <td>4</td>\n",
       "      <td>1000</td>\n",
       "      <td>май</td>\n",
       "      <td>17.0</td>\n",
       "      <td>159.0</td>\n",
       "      <td>22.0</td>\n",
       "      <td>2256.0</td>\n",
       "      <td>ultra</td>\n",
       "      <td>краснодар</td>\n",
       "      <td>1950</td>\n",
       "      <td>0.0</td>\n",
       "      <td>0</td>\n",
       "      <td>0.0</td>\n",
       "      <td>0</td>\n",
       "      <td>1950</td>\n",
       "    </tr>\n",
       "  </tbody>\n",
       "</table>\n",
       "</div>"
      ],
      "text/plain": [
       "   User_id    Месяц  Кол-во звонков, шт.  Длительность звонков, мин.  \\\n",
       "0     1000   август                 42.0                       408.0   \n",
       "1     1000  декабрь                 38.0                       333.0   \n",
       "2     1000     июль                 41.0                       340.0   \n",
       "3     1000     июнь                 28.0                       172.0   \n",
       "4     1000      май                 17.0                       159.0   \n",
       "\n",
       "   Кол-во СМС, шт.  Интернет, Мб  Тариф      Город  Абонентская плата, руб.  \\\n",
       "0             81.0       14070.0  ultra  краснодар                     1950   \n",
       "1             70.0        9827.0  ultra  краснодар                     1950   \n",
       "2             75.0       14016.0  ultra  краснодар                     1950   \n",
       "3             60.0       23257.0  ultra  краснодар                     1950   \n",
       "4             22.0        2256.0  ultra  краснодар                     1950   \n",
       "\n",
       "   Звонки сверх лимита, мин.  СМС сверх лимита  Интернет сверх лимита  \\\n",
       "0                        0.0                 0                    0.0   \n",
       "1                        0.0                 0                    0.0   \n",
       "2                        0.0                 0                    0.0   \n",
       "3                        0.0                 0                    0.0   \n",
       "4                        0.0                 0                    0.0   \n",
       "\n",
       "   Плата сверх лимита  Сумма за месяц  \n",
       "0                   0            1950  \n",
       "1                   0            1950  \n",
       "2                   0            1950  \n",
       "3                   0            1950  \n",
       "4                   0            1950  "
      ]
     },
     "execution_count": 65,
     "metadata": {},
     "output_type": "execute_result"
    }
   ],
   "source": [
    "data.head(5)"
   ]
  },
  {
   "cell_type": "markdown",
   "metadata": {},
   "source": [
    "Пока не видно, что кто-то пользуется тарифом сверх лимита, посмотрим снизу"
   ]
  },
  {
   "cell_type": "code",
   "execution_count": 66,
   "metadata": {},
   "outputs": [
    {
     "data": {
      "text/html": [
       "<div>\n",
       "<style scoped>\n",
       "    .dataframe tbody tr th:only-of-type {\n",
       "        vertical-align: middle;\n",
       "    }\n",
       "\n",
       "    .dataframe tbody tr th {\n",
       "        vertical-align: top;\n",
       "    }\n",
       "\n",
       "    .dataframe thead th {\n",
       "        text-align: right;\n",
       "    }\n",
       "</style>\n",
       "<table border=\"1\" class=\"dataframe\">\n",
       "  <thead>\n",
       "    <tr style=\"text-align: right;\">\n",
       "      <th></th>\n",
       "      <th>User_id</th>\n",
       "      <th>Месяц</th>\n",
       "      <th>Кол-во звонков, шт.</th>\n",
       "      <th>Длительность звонков, мин.</th>\n",
       "      <th>Кол-во СМС, шт.</th>\n",
       "      <th>Интернет, Мб</th>\n",
       "      <th>Тариф</th>\n",
       "      <th>Город</th>\n",
       "      <th>Абонентская плата, руб.</th>\n",
       "      <th>Звонки сверх лимита, мин.</th>\n",
       "      <th>СМС сверх лимита</th>\n",
       "      <th>Интернет сверх лимита</th>\n",
       "      <th>Плата сверх лимита</th>\n",
       "      <th>Сумма за месяц</th>\n",
       "    </tr>\n",
       "  </thead>\n",
       "  <tbody>\n",
       "    <tr>\n",
       "      <td>3209</td>\n",
       "      <td>1498</td>\n",
       "      <td>сентябрь</td>\n",
       "      <td>53.0</td>\n",
       "      <td>471.0</td>\n",
       "      <td>44.0</td>\n",
       "      <td>22166.0</td>\n",
       "      <td>smart</td>\n",
       "      <td>владикавказ</td>\n",
       "      <td>550</td>\n",
       "      <td>0.0</td>\n",
       "      <td>0</td>\n",
       "      <td>6806.0</td>\n",
       "      <td>1400</td>\n",
       "      <td>1950</td>\n",
       "    </tr>\n",
       "    <tr>\n",
       "      <td>3210</td>\n",
       "      <td>1499</td>\n",
       "      <td>декабрь</td>\n",
       "      <td>56.0</td>\n",
       "      <td>492.0</td>\n",
       "      <td>66.0</td>\n",
       "      <td>13077.0</td>\n",
       "      <td>smart</td>\n",
       "      <td>пермь</td>\n",
       "      <td>550</td>\n",
       "      <td>0.0</td>\n",
       "      <td>16</td>\n",
       "      <td>0.0</td>\n",
       "      <td>48</td>\n",
       "      <td>598</td>\n",
       "    </tr>\n",
       "    <tr>\n",
       "      <td>3211</td>\n",
       "      <td>1499</td>\n",
       "      <td>ноябрь</td>\n",
       "      <td>62.0</td>\n",
       "      <td>612.0</td>\n",
       "      <td>59.0</td>\n",
       "      <td>17984.0</td>\n",
       "      <td>smart</td>\n",
       "      <td>пермь</td>\n",
       "      <td>550</td>\n",
       "      <td>112.0</td>\n",
       "      <td>9</td>\n",
       "      <td>2624.0</td>\n",
       "      <td>963</td>\n",
       "      <td>1513</td>\n",
       "    </tr>\n",
       "    <tr>\n",
       "      <td>3212</td>\n",
       "      <td>1499</td>\n",
       "      <td>октябрь</td>\n",
       "      <td>44.0</td>\n",
       "      <td>449.0</td>\n",
       "      <td>48.0</td>\n",
       "      <td>17809.0</td>\n",
       "      <td>smart</td>\n",
       "      <td>пермь</td>\n",
       "      <td>550</td>\n",
       "      <td>0.0</td>\n",
       "      <td>0</td>\n",
       "      <td>2449.0</td>\n",
       "      <td>600</td>\n",
       "      <td>1150</td>\n",
       "    </tr>\n",
       "    <tr>\n",
       "      <td>3213</td>\n",
       "      <td>1499</td>\n",
       "      <td>сентябрь</td>\n",
       "      <td>8.0</td>\n",
       "      <td>70.0</td>\n",
       "      <td>11.0</td>\n",
       "      <td>1848.0</td>\n",
       "      <td>smart</td>\n",
       "      <td>пермь</td>\n",
       "      <td>550</td>\n",
       "      <td>0.0</td>\n",
       "      <td>0</td>\n",
       "      <td>0.0</td>\n",
       "      <td>0</td>\n",
       "      <td>550</td>\n",
       "    </tr>\n",
       "  </tbody>\n",
       "</table>\n",
       "</div>"
      ],
      "text/plain": [
       "      User_id     Месяц  Кол-во звонков, шт.  Длительность звонков, мин.  \\\n",
       "3209     1498  сентябрь                 53.0                       471.0   \n",
       "3210     1499   декабрь                 56.0                       492.0   \n",
       "3211     1499    ноябрь                 62.0                       612.0   \n",
       "3212     1499   октябрь                 44.0                       449.0   \n",
       "3213     1499  сентябрь                  8.0                        70.0   \n",
       "\n",
       "      Кол-во СМС, шт.  Интернет, Мб  Тариф        Город  \\\n",
       "3209             44.0       22166.0  smart  владикавказ   \n",
       "3210             66.0       13077.0  smart        пермь   \n",
       "3211             59.0       17984.0  smart        пермь   \n",
       "3212             48.0       17809.0  smart        пермь   \n",
       "3213             11.0        1848.0  smart        пермь   \n",
       "\n",
       "      Абонентская плата, руб.  Звонки сверх лимита, мин.  СМС сверх лимита  \\\n",
       "3209                      550                        0.0                 0   \n",
       "3210                      550                        0.0                16   \n",
       "3211                      550                      112.0                 9   \n",
       "3212                      550                        0.0                 0   \n",
       "3213                      550                        0.0                 0   \n",
       "\n",
       "      Интернет сверх лимита  Плата сверх лимита  Сумма за месяц  \n",
       "3209                 6806.0                1400            1950  \n",
       "3210                    0.0                  48             598  \n",
       "3211                 2624.0                 963            1513  \n",
       "3212                 2449.0                 600            1150  \n",
       "3213                    0.0                   0             550  "
      ]
     },
     "execution_count": 66,
     "metadata": {},
     "output_type": "execute_result"
    }
   ],
   "source": [
    "data.tail(5)"
   ]
  },
  {
   "cell_type": "markdown",
   "metadata": {},
   "source": [
    "Кто-то все же есть, посмотрим сколько таких, для каждого тарифа"
   ]
  },
  {
   "cell_type": "code",
   "execution_count": 67,
   "metadata": {},
   "outputs": [
    {
     "data": {
      "text/plain": [
       "2650"
      ]
     },
     "execution_count": 67,
     "metadata": {},
     "output_type": "execute_result"
    }
   ],
   "source": [
    "(data['Тариф'] == 'smart').loc[(data['Сумма за месяц'] > 550)].count()"
   ]
  },
  {
   "cell_type": "code",
   "execution_count": 68,
   "metadata": {},
   "outputs": [
    {
     "data": {
      "text/plain": [
       "556"
      ]
     },
     "execution_count": 68,
     "metadata": {},
     "output_type": "execute_result"
    }
   ],
   "source": [
    "(data['Тариф'] == 'ultra').loc[(data['Сумма за месяц'] > 1950)].count()"
   ]
  },
  {
   "cell_type": "markdown",
   "metadata": {},
   "source": [
    "Посчитаем сколько всего пользователей в каждом тарифе"
   ]
  },
  {
   "cell_type": "code",
   "execution_count": 69,
   "metadata": {},
   "outputs": [
    {
     "name": "stdout",
     "output_type": "stream",
     "text": [
      "Тариф\n",
      "smart    2229\n",
      "ultra     985\n",
      "Name: User_id, dtype: int64\n"
     ]
    }
   ],
   "source": [
    "users_by_tariff = data.groupby('Тариф')['User_id'].count()\n",
    "print(users_by_tariff)"
   ]
  },
  {
   "cell_type": "markdown",
   "metadata": {},
   "source": [
    "##Проанализирую данные\n",
    "Опишe поведение клиентов оператора, исходя из выборки. Сколько минут разговора, сколько сообщений и какой объём интернет-трафика требуется пользователям каждого тарифа в месяц? Посчитаю среднее количество, дисперсию и стандартное отклонение. Построю гистограммы. Опишу распределения."
   ]
  },
  {
   "cell_type": "markdown",
   "metadata": {},
   "source": [
    "Построим сводную таблицу"
   ]
  },
  {
   "cell_type": "code",
   "execution_count": 70,
   "metadata": {},
   "outputs": [
    {
     "data": {
      "text/html": [
       "<div>\n",
       "<style scoped>\n",
       "    .dataframe tbody tr th:only-of-type {\n",
       "        vertical-align: middle;\n",
       "    }\n",
       "\n",
       "    .dataframe tbody tr th {\n",
       "        vertical-align: top;\n",
       "    }\n",
       "\n",
       "    .dataframe thead tr th {\n",
       "        text-align: left;\n",
       "    }\n",
       "</style>\n",
       "<table border=\"1\" class=\"dataframe\">\n",
       "  <thead>\n",
       "    <tr>\n",
       "      <th></th>\n",
       "      <th colspan=\"2\" halign=\"left\">mean</th>\n",
       "      <th colspan=\"2\" halign=\"left\">var</th>\n",
       "      <th colspan=\"2\" halign=\"left\">std</th>\n",
       "    </tr>\n",
       "    <tr>\n",
       "      <th>Тариф</th>\n",
       "      <th>smart</th>\n",
       "      <th>ultra</th>\n",
       "      <th>smart</th>\n",
       "      <th>ultra</th>\n",
       "      <th>smart</th>\n",
       "      <th>ultra</th>\n",
       "    </tr>\n",
       "  </thead>\n",
       "  <tbody>\n",
       "    <tr>\n",
       "      <td>Длительность звонков, мин.</td>\n",
       "      <td>417.934948</td>\n",
       "      <td>526.623350</td>\n",
       "      <td>3.621932e+04</td>\n",
       "      <td>1.008736e+05</td>\n",
       "      <td>190.313730</td>\n",
       "      <td>317.606098</td>\n",
       "    </tr>\n",
       "    <tr>\n",
       "      <td>Интернет, Мб</td>\n",
       "      <td>16229.188425</td>\n",
       "      <td>19486.901523</td>\n",
       "      <td>3.454591e+07</td>\n",
       "      <td>1.019356e+08</td>\n",
       "      <td>5877.576978</td>\n",
       "      <td>10096.317202</td>\n",
       "    </tr>\n",
       "    <tr>\n",
       "      <td>Кол-во СМС, шт.</td>\n",
       "      <td>33.384029</td>\n",
       "      <td>49.363452</td>\n",
       "      <td>7.968130e+02</td>\n",
       "      <td>2.285266e+03</td>\n",
       "      <td>28.227876</td>\n",
       "      <td>47.804457</td>\n",
       "    </tr>\n",
       "    <tr>\n",
       "      <td>Кол-во звонков, шт.</td>\n",
       "      <td>46.947510</td>\n",
       "      <td>59.236548</td>\n",
       "      <td>4.426467e+02</td>\n",
       "      <td>1.264707e+03</td>\n",
       "      <td>21.039171</td>\n",
       "      <td>35.562722</td>\n",
       "    </tr>\n",
       "    <tr>\n",
       "      <td>Плата сверх лимита</td>\n",
       "      <td>744.639300</td>\n",
       "      <td>121.065990</td>\n",
       "      <td>6.739313e+05</td>\n",
       "      <td>1.434912e+05</td>\n",
       "      <td>820.933202</td>\n",
       "      <td>378.802377</td>\n",
       "    </tr>\n",
       "  </tbody>\n",
       "</table>\n",
       "</div>"
      ],
      "text/plain": [
       "                                    mean                         var  \\\n",
       "Тариф                              smart         ultra         smart   \n",
       "Длительность звонков, мин.    417.934948    526.623350  3.621932e+04   \n",
       "Интернет, Мб                16229.188425  19486.901523  3.454591e+07   \n",
       "Кол-во СМС, шт.                33.384029     49.363452  7.968130e+02   \n",
       "Кол-во звонков, шт.            46.947510     59.236548  4.426467e+02   \n",
       "Плата сверх лимита            744.639300    121.065990  6.739313e+05   \n",
       "\n",
       "                                                  std                \n",
       "Тариф                              ultra        smart         ultra  \n",
       "Длительность звонков, мин.  1.008736e+05   190.313730    317.606098  \n",
       "Интернет, Мб                1.019356e+08  5877.576978  10096.317202  \n",
       "Кол-во СМС, шт.             2.285266e+03    28.227876     47.804457  \n",
       "Кол-во звонков, шт.         1.264707e+03    21.039171     35.562722  \n",
       "Плата сверх лимита          1.434912e+05   820.933202    378.802377  "
      ]
     },
     "execution_count": 70,
     "metadata": {},
     "output_type": "execute_result"
    }
   ],
   "source": [
    "data.pivot_table(columns='Тариф', values = ['Длительность звонков, мин.', 'Кол-во звонков, шт.', 'Кол-во СМС, шт.', 'Интернет, Мб', 'Плата сверх лимита'], aggfunc= ['mean', np.var, np.std])"
   ]
  },
  {
   "cell_type": "markdown",
   "metadata": {},
   "source": [
    "Самое главное, что видно из таблицы, пользователи тарифа smart, в среднем, почти в 6 раз чаще платят за превышение лимита, чем пользователи тарифа ultra. При этом, в среднем, ни пользователи тарифа smart, ни пользователи тарифа ultra не выговаривают оплаченное количество минут, не используют все сообщения, входящие в оплаченный пакет, при этом пользователи тарифа smart, в среднем, более склоны к преышению интернет трафика. Как показывает дисперсия, для тарифа smart, разброс, значительно выше, то есть пользователи тарифа smart, значительно чаще выходят за средние показатели. Стандартное отклонение показывает, что пользователи тарифа ultra, чаще выходят за средние объемы интернет-трафика."
   ]
  },
  {
   "cell_type": "markdown",
   "metadata": {},
   "source": [
    "Посмотрим подробнее на сводную таблицу:"
   ]
  },
  {
   "cell_type": "code",
   "execution_count": 71,
   "metadata": {},
   "outputs": [
    {
     "data": {
      "text/html": [
       "<div>\n",
       "<style scoped>\n",
       "    .dataframe tbody tr th:only-of-type {\n",
       "        vertical-align: middle;\n",
       "    }\n",
       "\n",
       "    .dataframe tbody tr th {\n",
       "        vertical-align: top;\n",
       "    }\n",
       "\n",
       "    .dataframe thead tr th {\n",
       "        text-align: left;\n",
       "    }\n",
       "</style>\n",
       "<table border=\"1\" class=\"dataframe\">\n",
       "  <thead>\n",
       "    <tr>\n",
       "      <th></th>\n",
       "      <th colspan=\"2\" halign=\"left\">mean</th>\n",
       "      <th colspan=\"2\" halign=\"left\">sum</th>\n",
       "      <th colspan=\"2\" halign=\"left\">var</th>\n",
       "      <th colspan=\"2\" halign=\"left\">std</th>\n",
       "    </tr>\n",
       "    <tr>\n",
       "      <th>Тариф</th>\n",
       "      <th>smart</th>\n",
       "      <th>ultra</th>\n",
       "      <th>smart</th>\n",
       "      <th>ultra</th>\n",
       "      <th>smart</th>\n",
       "      <th>ultra</th>\n",
       "      <th>smart</th>\n",
       "      <th>ultra</th>\n",
       "    </tr>\n",
       "  </thead>\n",
       "  <tbody>\n",
       "    <tr>\n",
       "      <td>Звонки сверх лимита, мин.</td>\n",
       "      <td>41.605653</td>\n",
       "      <td>0.000000</td>\n",
       "      <td>92739.0</td>\n",
       "      <td>0.0</td>\n",
       "      <td>7.170461e+03</td>\n",
       "      <td>0.000000e+00</td>\n",
       "      <td>84.678573</td>\n",
       "      <td>0.000000</td>\n",
       "    </tr>\n",
       "    <tr>\n",
       "      <td>Интернет сверх лимита</td>\n",
       "      <td>2770.599821</td>\n",
       "      <td>754.551269</td>\n",
       "      <td>6175667.0</td>\n",
       "      <td>743233.0</td>\n",
       "      <td>1.299150e+07</td>\n",
       "      <td>5.916452e+06</td>\n",
       "      <td>3604.372271</td>\n",
       "      <td>2432.375777</td>\n",
       "    </tr>\n",
       "    <tr>\n",
       "      <td>Плата сверх лимита</td>\n",
       "      <td>744.639300</td>\n",
       "      <td>121.065990</td>\n",
       "      <td>1659801.0</td>\n",
       "      <td>119250.0</td>\n",
       "      <td>6.739313e+05</td>\n",
       "      <td>1.434912e+05</td>\n",
       "      <td>820.933202</td>\n",
       "      <td>378.802377</td>\n",
       "    </tr>\n",
       "    <tr>\n",
       "      <td>СМС сверх лимита</td>\n",
       "      <td>5.799910</td>\n",
       "      <td>0.000000</td>\n",
       "      <td>12928.0</td>\n",
       "      <td>0.0</td>\n",
       "      <td>1.806996e+02</td>\n",
       "      <td>0.000000e+00</td>\n",
       "      <td>13.442456</td>\n",
       "      <td>0.000000</td>\n",
       "    </tr>\n",
       "    <tr>\n",
       "      <td>Сумма за месяц</td>\n",
       "      <td>1294.639300</td>\n",
       "      <td>2071.065990</td>\n",
       "      <td>2885751.0</td>\n",
       "      <td>2040000.0</td>\n",
       "      <td>6.739313e+05</td>\n",
       "      <td>1.434912e+05</td>\n",
       "      <td>820.933202</td>\n",
       "      <td>378.802377</td>\n",
       "    </tr>\n",
       "  </tbody>\n",
       "</table>\n",
       "</div>"
      ],
      "text/plain": [
       "                                  mean                     sum             \\\n",
       "Тариф                            smart        ultra      smart      ultra   \n",
       "Звонки сверх лимита, мин.    41.605653     0.000000    92739.0        0.0   \n",
       "Интернет сверх лимита      2770.599821   754.551269  6175667.0   743233.0   \n",
       "Плата сверх лимита          744.639300   121.065990  1659801.0   119250.0   \n",
       "СМС сверх лимита              5.799910     0.000000    12928.0        0.0   \n",
       "Сумма за месяц             1294.639300  2071.065990  2885751.0  2040000.0   \n",
       "\n",
       "                                    var                        std  \\\n",
       "Тариф                             smart         ultra        smart   \n",
       "Звонки сверх лимита, мин.  7.170461e+03  0.000000e+00    84.678573   \n",
       "Интернет сверх лимита      1.299150e+07  5.916452e+06  3604.372271   \n",
       "Плата сверх лимита         6.739313e+05  1.434912e+05   820.933202   \n",
       "СМС сверх лимита           1.806996e+02  0.000000e+00    13.442456   \n",
       "Сумма за месяц             6.739313e+05  1.434912e+05   820.933202   \n",
       "\n",
       "                                        \n",
       "Тариф                            ultra  \n",
       "Звонки сверх лимита, мин.     0.000000  \n",
       "Интернет сверх лимита      2432.375777  \n",
       "Плата сверх лимита          378.802377  \n",
       "СМС сверх лимита              0.000000  \n",
       "Сумма за месяц              378.802377  "
      ]
     },
     "execution_count": 71,
     "metadata": {},
     "output_type": "execute_result"
    }
   ],
   "source": [
    "data.pivot_table(columns='Тариф', values = ['Звонки сверх лимита, мин.', 'СМС сверх лимита', 'Интернет сверх лимита', 'Плата сверх лимита', 'Сумма за месяц'], aggfunc= ['mean', 'sum', np.var, np.std])"
   ]
  },
  {
   "cell_type": "markdown",
   "metadata": {},
   "source": [
    "Выводы, сделанные на основании предыдущей сводной таблицы, уточнены - пользователи тарифа smart, в среднем, значительно чаще совершают сверлимитные действия, а значит и оплачивают их. Сумма переплат за месяц, в тарифе smart, также выше."
   ]
  },
  {
   "cell_type": "markdown",
   "metadata": {},
   "source": [
    "Посмотрим на гистограммы"
   ]
  },
  {
   "cell_type": "markdown",
   "metadata": {},
   "source": [
    "Гистограммы длительности звонков:"
   ]
  },
  {
   "cell_type": "markdown",
   "metadata": {},
   "source": [
    "Для тарифа smart"
   ]
  },
  {
   "cell_type": "code",
   "execution_count": 72,
   "metadata": {},
   "outputs": [
    {
     "data": {
      "text/plain": [
       "Text(0, 0.5, 'Количество')"
      ]
     },
     "execution_count": 72,
     "metadata": {},
     "output_type": "execute_result"
    },
    {
     "data": {
      "image/png": "[encoded data removed]",
      "text/plain": [
       "<Figure size 432x288 with 1 Axes>"
      ]
     },
     "metadata": {
      "needs_background": "light"
     },
     "output_type": "display_data"
    }
   ],
   "source": [
    "data_smart = data.loc[(data['Тариф'] == 'smart')]\n",
    "data_smart['Длительность звонков, мин.'].hist(bins=10, range=(0, 1000))\n",
    "plt.xlabel('Длительность звонков, мин.')\n",
    "plt.ylabel('Количество')"
   ]
  },
  {
   "cell_type": "markdown",
   "metadata": {},
   "source": [
    "Для тарифа ultra"
   ]
  },
  {
   "cell_type": "code",
   "execution_count": 73,
   "metadata": {},
   "outputs": [
    {
     "data": {
      "text/plain": [
       "Text(0, 0.5, 'Количество')"
      ]
     },
     "execution_count": 73,
     "metadata": {},
     "output_type": "execute_result"
    },
    {
     "data": {
      "image/png": "[encoded data removed]",
      "text/plain": [
       "<Figure size 432x288 with 1 Axes>"
      ]
     },
     "metadata": {
      "needs_background": "light"
     },
     "output_type": "display_data"
    }
   ],
   "source": [
    "data_ultra = data.loc[(data['Тариф'] == 'ultra')]\n",
    "data_ultra['Длительность звонков, мин.'].hist(bins=10, range=(0, 2000))\n",
    "plt.xlabel('Длительность звонков, мин.')\n",
    "plt.ylabel('Количество')"
   ]
  },
  {
   "cell_type": "markdown",
   "metadata": {},
   "source": [
    "Для тарифа smart, гистограмма длительности звонков, больше похожа на нормальное распределение, то есть большинство пользователей наговаривают от 200 до 600 минут, но есть довольно большое количество пользователей, которое выходит за рамки оплаченного времени разговора, для тарифа ultra, диаграмма выглядит более компактной, то есть большинство пользователей, наговаривают от 250 до 750 минут - вписывается в оплаченный тариф."
   ]
  },
  {
   "cell_type": "markdown",
   "metadata": {},
   "source": [
    "Гистограммы количества СМС:"
   ]
  },
  {
   "cell_type": "markdown",
   "metadata": {},
   "source": [
    "Для тарифа smart"
   ]
  },
  {
   "cell_type": "code",
   "execution_count": 74,
   "metadata": {},
   "outputs": [
    {
     "data": {
      "text/plain": [
       "Text(0, 0.5, 'Количество')"
      ]
     },
     "execution_count": 74,
     "metadata": {},
     "output_type": "execute_result"
    },
    {
     "data": {
      "image/png": "[encoded data removed]",
      "text/plain": [
       "<Figure size 432x288 with 1 Axes>"
      ]
     },
     "metadata": {
      "needs_background": "light"
     },
     "output_type": "display_data"
    }
   ],
   "source": [
    "data_smart['Кол-во СМС, шт.'].hist(bins=10, range=(0, 300))\n",
    "plt.xlabel('Кол-во СМС, шт.')\n",
    "plt.ylabel('Количество')"
   ]
  },
  {
   "cell_type": "markdown",
   "metadata": {},
   "source": [
    "Для тарифа ultra"
   ]
  },
  {
   "cell_type": "code",
   "execution_count": 75,
   "metadata": {},
   "outputs": [
    {
     "data": {
      "text/plain": [
       "Text(0, 0.5, 'Количество')"
      ]
     },
     "execution_count": 75,
     "metadata": {},
     "output_type": "execute_result"
    },
    {
     "data": {
      "image/png": "[encoded data removed]",
      "text/plain": [
       "<Figure size 432x288 with 1 Axes>"
      ]
     },
     "metadata": {
      "needs_background": "light"
     },
     "output_type": "display_data"
    }
   ],
   "source": [
    "data_ultra['Кол-во СМС, шт.'].hist(bins=10, range=(0, 300))\n",
    "plt.xlabel('Кол-во СМС, шт.')\n",
    "plt.ylabel('Количество')"
   ]
  },
  {
   "cell_type": "markdown",
   "metadata": {},
   "source": [
    "Как видно из гистограмм и в тарифе smart и в тарифе ultra, большинство пользователей не выходит за рамки оплаченного пакета смс, при этом пользователи тарифа smart, все же использует, заметное количество смс, выходящее за пределы, оплаченных 50 сообщений"
   ]
  },
  {
   "cell_type": "markdown",
   "metadata": {},
   "source": [
    "Гистограммы количества Интернет трафика:"
   ]
  },
  {
   "cell_type": "markdown",
   "metadata": {},
   "source": [
    "Для тарифа smart"
   ]
  },
  {
   "cell_type": "code",
   "execution_count": 76,
   "metadata": {},
   "outputs": [
    {
     "data": {
      "text/plain": [
       "Text(0, 0.5, 'Количество')"
      ]
     },
     "execution_count": 76,
     "metadata": {},
     "output_type": "execute_result"
    },
    {
     "data": {
      "image/png": "[encoded data removed]",
      "text/plain": [
       "<Figure size 432x288 with 1 Axes>"
      ]
     },
     "metadata": {
      "needs_background": "light"
     },
     "output_type": "display_data"
    }
   ],
   "source": [
    "data_smart['Интернет, Мб'].hist(bins=10, range=(0, 40000))\n",
    "plt.xlabel('Интернет, Мб')\n",
    "plt.ylabel('Количество')"
   ]
  },
  {
   "cell_type": "markdown",
   "metadata": {},
   "source": [
    "Для тарифа ultra"
   ]
  },
  {
   "cell_type": "code",
   "execution_count": 77,
   "metadata": {},
   "outputs": [
    {
     "data": {
      "text/plain": [
       "Text(0, 0.5, 'Количество')"
      ]
     },
     "execution_count": 77,
     "metadata": {},
     "output_type": "execute_result"
    },
    {
     "data": {
      "image/png": "[encoded data removed]",
      "text/plain": [
       "<Figure size 432x288 with 1 Axes>"
      ]
     },
     "metadata": {
      "needs_background": "light"
     },
     "output_type": "display_data"
    }
   ],
   "source": [
    "data_ultra['Интернет, Мб'].hist(bins=10, range=(0, 60000))\n",
    "plt.xlabel('Интернет, Мб')\n",
    "plt.ylabel('Количество')"
   ]
  },
  {
   "cell_type": "markdown",
   "metadata": {},
   "source": [
    "Как видно из гистограмм, объем интернет трафика, пользователей тарифа smart очень похож на нормальное распределение, основной обхем трафика приходится от 5000 до 30000 Мб, далее количество интернет-трафика, исчезающе мало, пользователи тарифа ultra, хотя и несколько больше пользуются интернетом, при этом все равно, очень мало выходят за предел 40000 Мб или 39 Гб, то есть недоплачивают за превышение трафика."
   ]
  },
  {
   "cell_type": "markdown",
   "metadata": {},
   "source": [
    "Краткий вывод - несмотря на то что тариф smart, значительно дешевле тарифа ultra, пользователей тарифа smart, значительно больше, они более склоны к дополнительным тратам. Можно сказатьь и иначе - тариф ultra слишком \"жирное\" предложение."
   ]
  },
  {
   "cell_type": "markdown",
   "metadata": {},
   "source": [
    "##* \n",
    "H0 (нулевая гипотеза) - средняя выручка пользователей тарифа smart не отличается от средней выручки пользователей тарифа ultra.\n",
    "H1 (альтернативная гипотеза) - средняя выручка пользователей тарифа smart отличается от средней выручки пользователей тарифа ultra."
   ]
  },
  {
   "cell_type": "markdown",
   "metadata": {},
   "source": [
    "Посмотрим на гистограммы распределения месячной выручки для каждого тарифа, чтобы устранить возможные выбросы"
   ]
  },
  {
   "cell_type": "markdown",
   "metadata": {},
   "source": [
    "Для тарифа smart"
   ]
  },
  {
   "cell_type": "code",
   "execution_count": 78,
   "metadata": {},
   "outputs": [
    {
     "data": {
      "text/plain": [
       "Text(0, 0.5, 'Количество')"
      ]
     },
     "execution_count": 78,
     "metadata": {},
     "output_type": "execute_result"
    },
    {
     "data": {
      "image/png": "[encoded data removed]",
      "text/plain": [
       "<Figure size 432x288 with 1 Axes>"
      ]
     },
     "metadata": {
      "needs_background": "light"
     },
     "output_type": "display_data"
    }
   ],
   "source": [
    "data_smart['Сумма за месяц'].hist(bins=10, range=(550, 5000))\n",
    "plt.xlabel('Сумма за месяц')\n",
    "plt.ylabel('Количество')"
   ]
  },
  {
   "cell_type": "markdown",
   "metadata": {},
   "source": [
    "Для тарифа ultra"
   ]
  },
  {
   "cell_type": "code",
   "execution_count": 79,
   "metadata": {},
   "outputs": [
    {
     "data": {
      "text/plain": [
       "Text(0, 0.5, 'Количество')"
      ]
     },
     "execution_count": 79,
     "metadata": {},
     "output_type": "execute_result"
    },
    {
     "data": {
      "image/png": "[encoded data removed]",
      "text/plain": [
       "<Figure size 432x288 with 1 Axes>"
      ]
     },
     "metadata": {
      "needs_background": "light"
     },
     "output_type": "display_data"
    }
   ],
   "source": [
    "data_ultra['Сумма за месяц'].hist(bins=10, range=(1950, 5000))\n",
    "plt.xlabel('Сумма за месяц')\n",
    "plt.ylabel('Количество')"
   ]
  },
  {
   "cell_type": "markdown",
   "metadata": {},
   "source": [
    "По гистограммам определим доверительные интервалы"
   ]
  },
  {
   "cell_type": "code",
   "execution_count": 80,
   "metadata": {},
   "outputs": [],
   "source": [
    "smart_mean_revenue = data[(data['Тариф'] == 'smart') & (data['Сумма за месяц'] >= 550) & (data['Сумма за месяц'] <= 4000)]['Сумма за месяц']\n",
    "\n",
    "ultra_mean_revenue = data[(data['Тариф'] == 'ultra') & (data['Сумма за месяц'] >= 1950) & (data['Сумма за месяц'] <= 4000)]['Сумма за месяц']"
   ]
  },
  {
   "cell_type": "markdown",
   "metadata": {},
   "source": [
    "Вызовем библиотеку"
   ]
  },
  {
   "cell_type": "code",
   "execution_count": 81,
   "metadata": {},
   "outputs": [],
   "source": [
    "from scipy.stats import ttest_ind"
   ]
  },
  {
   "cell_type": "code",
   "execution_count": 82,
   "metadata": {},
   "outputs": [
    {
     "name": "stdout",
     "output_type": "stream",
     "text": [
      "t = -31.657171974391705\n",
      "p-value = 1.6703001840e-191\n",
      "\n",
      "Пороговое значение alpha = 0.05\n"
     ]
    }
   ],
   "source": [
    "stat, p = ttest_ind(smart_mean_revenue, ultra_mean_revenue)\n",
    "print('t = {}\\np-value = {:.10e}'.format(stat, p))\n",
    "print('\\nПороговое значение alpha = 0.05')"
   ]
  },
  {
   "cell_type": "markdown",
   "metadata": {},
   "source": [
    "Нулевую гипотезу отвергаю, посмотрю у кого средняя выручка больше"
   ]
  },
  {
   "cell_type": "code",
   "execution_count": 83,
   "metadata": {},
   "outputs": [
    {
     "name": "stdout",
     "output_type": "stream",
     "text": [
      "Средняя выручка по пользователям тарифа \"Смарт\" - 1264.42\n",
      "Средняя выручка по пользователям тарифа \"Ультра\" - 2061.467889908257\n"
     ]
    }
   ],
   "source": [
    "print('Средняя выручка по пользователям тарифа \"Смарт\" - {:.2f}'.format(smart_mean_revenue.mean()))\n",
    "print('Средняя выручка по пользователям тарифа \"Ультра\" - {}'.format(ultra_mean_revenue.mean()))"
   ]
  },
  {
   "cell_type": "markdown",
   "metadata": {},
   "source": [
    "Вполне ожидаемо, что средняя выручка пользователей тарифа ultra, больше, при этом, в среднем, пользователи тарифа smart, ежемесячно платили сверх тарифа более 700 рублей. Если считать предоплаченный паке услуг \"постоянными издержками\" оператора, а все что сверху \"заработком\", то пользователи тарифа smart, намного доходнее."
   ]
  },
  {
   "cell_type": "markdown",
   "metadata": {},
   "source": [
    "H0 (нулевая гипотеза) - средняя выручка пользователей из Москвы отличается от выручки пользователей из других регионов.\n",
    "H1 (альтернативная гипотеза) - средняя выручка пользователей из Москвы не отличается от выручки пользователей из других регионов"
   ]
  },
  {
   "cell_type": "markdown",
   "metadata": {},
   "source": [
    "Выделим пользователей из Москвы и не из Москвы"
   ]
  },
  {
   "cell_type": "code",
   "execution_count": 84,
   "metadata": {},
   "outputs": [
    {
     "data": {
      "text/plain": [
       "Text(0, 0.5, 'Пользователи')"
      ]
     },
     "execution_count": 84,
     "metadata": {},
     "output_type": "execute_result"
    },
    {
     "data": {
      "image/png": "[encoded data removed]",
      "text/plain": [
       "<Figure size 432x288 with 1 Axes>"
      ]
     },
     "metadata": {
      "needs_background": "light"
     },
     "output_type": "display_data"
    }
   ],
   "source": [
    "data_moscow = data.loc[(data['Город'] == 'москва')]\n",
    "data_moscow['Сумма за месяц'].hist(bins=10, range=(550, 5000))\n",
    "plt.xlabel('Сумма за месяц')\n",
    "plt.ylabel('Пользователи')"
   ]
  },
  {
   "cell_type": "code",
   "execution_count": 85,
   "metadata": {},
   "outputs": [
    {
     "data": {
      "text/plain": [
       "Text(0, 0.5, 'Пользователи')"
      ]
     },
     "execution_count": 85,
     "metadata": {},
     "output_type": "execute_result"
    },
    {
     "data": {
      "image/png": "[encoded data removed]",
      "text/plain": [
       "<Figure size 432x288 with 1 Axes>"
      ]
     },
     "metadata": {
      "needs_background": "light"
     },
     "output_type": "display_data"
    }
   ],
   "source": [
    "data_n_moscow = data.loc[(data['Город'] != 'москва')]\n",
    "data_n_moscow['Сумма за месяц'].hist(bins=10, range=(550, 5000))\n",
    "plt.xlabel('Сумма за месяц')\n",
    "plt.ylabel('Пользователи')"
   ]
  },
  {
   "cell_type": "markdown",
   "metadata": {},
   "source": [
    "Интересные гистограмы, очень похожи, наблюдаются 2 пика, для разных тарифов, при этом пользователи не из Москвы, несколько больше склоны к перепалте по тарифу smart"
   ]
  },
  {
   "cell_type": "markdown",
   "metadata": {},
   "source": [
    "Доверительные интервалы, оставляю прежние, найду переменные"
   ]
  },
  {
   "cell_type": "code",
   "execution_count": 86,
   "metadata": {},
   "outputs": [],
   "source": [
    "data_moscow_revenue = data[(data['Город'] == 'москва') & (data['Сумма за месяц'] >= 550) & (data['Сумма за месяц'] <= 4000)]['Сумма за месяц']\n",
    "\n",
    "data_n_moscow = data[(data['Город'] != 'москва') & (data['Сумма за месяц'] >= 550) & (data['Сумма за месяц'] <= 4000)]['Сумма за месяц']"
   ]
  },
  {
   "cell_type": "code",
   "execution_count": 87,
   "metadata": {},
   "outputs": [
    {
     "name": "stdout",
     "output_type": "stream",
     "text": [
      "t = 0.9772365073675234\n",
      "p-value = 3.2852620284e-01\n",
      "\n",
      "Пороговое значение alpha = 0.05\n"
     ]
    }
   ],
   "source": [
    "stat, p = ttest_ind(data_moscow_revenue, data_n_moscow)\n",
    "print('t = {}\\np-value = {:.10e}'.format(stat, p))\n",
    "print('\\nПороговое значение alpha = 0.05')"
   ]
  },
  {
   "cell_type": "markdown",
   "metadata": {},
   "source": [
    "Нулевую гипотезу отвергнуть не получается"
   ]
  },
  {
   "cell_type": "markdown",
   "metadata": {},
   "source": [
    "Посмотрим на средние значения"
   ]
  },
  {
   "cell_type": "code",
   "execution_count": 88,
   "metadata": {},
   "outputs": [
    {
     "name": "stdout",
     "output_type": "stream",
     "text": [
      "Средняя выручка по пользователю в месяц в Москве: 1536.27\n",
      "Средняя выручка по пользователю в месяц в регионах: 1503.14\n"
     ]
    }
   ],
   "source": [
    "print('Средняя выручка по пользователю в месяц в Москве: {:.2f}'.format(data_moscow_revenue.mean()))\n",
    "print('Средняя выручка по пользователю в месяц в регионах: {:.2f}'.format(data_n_moscow.mean()))"
   ]
  },
  {
   "cell_type": "markdown",
   "metadata": {},
   "source": [
    "Средние значения, абсолютно сопоставимы"
   ]
  },
  {
   "cell_type": "markdown",
   "metadata": {},
   "source": [
    "Подготовка к общему выводу"
   ]
  },
  {
   "cell_type": "markdown",
   "metadata": {},
   "source": [
    "Оценю общие данные по тарифам в части использования включенных в абонентскую плату лимитов"
   ]
  },
  {
   "cell_type": "code",
   "execution_count": 89,
   "metadata": {},
   "outputs": [
    {
     "name": "stdout",
     "output_type": "stream",
     "text": [
      "Средний процент использования пакета интернет-трафика по тарифу \"Смарт\" - 105.66% = 16,229 Гб\n",
      "Средний процент использования пакета минут по тарифу \"Смарт\" - 83.59% = 417.93 мин\n",
      "Средний процент использования пакета СМС по тарифу \"Смарт\" - 66.77% = 33 шт.\n",
      "---------------------------------------------------------------------------------\n",
      "Средний процент использования пакета интернет-трафика по тарифу \"Ультра\" - 63.43% = 19,487 Гб\n",
      "Средний процент использования пакета минут по тарифу \"Ультра\" - 17.55% = 526.62 мин\n",
      "Средний процент использования пакета СМС по тарифу \"Ультра\" - 4.94% = 49 шт.\n"
     ]
    }
   ],
   "source": [
    "smart_mean_internet = (data[(data['Тариф'] == 'smart')]['Интернет, Мб']/(1024 * 15)).mean()\n",
    "print('Средний процент использования пакета интернет-трафика по тарифу \"Смарт\" - {:.2%} = {:,.0f} Гб'.\n",
    "      format(smart_mean_internet, smart_mean_internet * 1024 * 15))\n",
    "smart_mean_calls = (data[(data['Тариф'] == 'smart')]['Длительность звонков, мин.']/(500)).mean()\n",
    "print('Средний процент использования пакета минут по тарифу \"Смарт\" - {:.2%} = {:.2f} мин'.\n",
    "      format(smart_mean_calls, smart_mean_calls * 500))\n",
    "smart_mean_sms = (data[(data['Тариф'] == 'smart')]['Кол-во СМС, шт.']/(50)).mean()\n",
    "print('Средний процент использования пакета СМС по тарифу \"Смарт\" - {:.2%} = {:.0f} шт.'.\n",
    "      format(smart_mean_sms, smart_mean_sms * 50))\n",
    "print('---------------------------------------------------------------------------------')\n",
    "ultra_mean_internet = (data[(data['Тариф'] == 'ultra')]['Интернет, Мб']/(1024 * 30)).mean()\n",
    "print('Средний процент использования пакета интернет-трафика по тарифу \"Ультра\" - {:.2%} = {:,.0f} Гб'.\n",
    "      format(ultra_mean_internet, ultra_mean_internet * 1024 * 30))\n",
    "ultra_mean_calls = (data[(data['Тариф'] == 'ultra')]['Длительность звонков, мин.']/(3000)).mean()\n",
    "print('Средний процент использования пакета минут по тарифу \"Ультра\" - {:.2%} = {:.2f} мин'.\n",
    "      format(ultra_mean_calls, ultra_mean_calls * 3000))\n",
    "ultra_mean_sms = (data[(data['Тариф'] == 'ultra')]['Кол-во СМС, шт.']/(1000)).mean()\n",
    "print('Средний процент использования пакета СМС по тарифу \"Ультра\" - {:.2%} = {:.0f} шт.'.\n",
    "      format(ultra_mean_sms, ultra_mean_sms * 1000))"
   ]
  },
  {
   "cell_type": "markdown",
   "metadata": {},
   "source": [
    "Прежние выводы подтверждаются - тариф ultra, слишком хорош, даже с учетом его цены, если считать предоплаченный пакет за постоянные издержки компании, тариф smart близок к оптимальному"
   ]
  },
  {
   "cell_type": "markdown",
   "metadata": {},
   "source": [
    "Посчитаю переплаты по тарифам"
   ]
  },
  {
   "cell_type": "code",
   "execution_count": 90,
   "metadata": {},
   "outputs": [
    {
     "name": "stdout",
     "output_type": "stream",
     "text": [
      "Среднее превышение пакета интернет по тарифу \"Смарт\" - 2771 Мб на сумму - 600 руб.\n",
      "Среднее превышение пакета минут по тарифу \"Смарт\" - 42 мин на сумму - 126 руб.\n",
      "Среднее превышение пакета СМС по тарифу \"Смарт\" - 6 шт. на сумму - 18 руб.\n",
      "----------------------------------------------------------------\n",
      "Среднее превышение пакета интернет по тарифу \"Ультра\" - 755 Мб на сумму - 150 руб.\n",
      "Среднее превышение пакета минут по тарифу \"Ультра\" - 0 мин на сумму - 0 руб.\n",
      "Среднее превышение пакета СМС по тарифу \"Ультра\" - 0 шт. на сумму - 0 руб.\n"
     ]
    }
   ],
   "source": [
    "smart_over_mean_internet = data[(data['Тариф'] == 'smart')]['Интернет сверх лимита'].mean()\n",
    "smart_over_mean_internet_rub = np.round(smart_over_mean_internet, -3)/1000 * 200\n",
    "print('Среднее превышение пакета интернет по тарифу \"Смарт\" - {:.0f} Мб на сумму - {:.0f} руб.'.\n",
    "      format(smart_over_mean_internet, smart_over_mean_internet_rub))\n",
    "\n",
    "smart_over_mean_calls = np.ceil(data[(data['Тариф'] == 'smart')]['Звонки сверх лимита, мин.'].mean())\n",
    "smart_over_mean_calls_rub = smart_over_mean_calls * 3\n",
    "print('Среднее превышение пакета минут по тарифу \"Смарт\" - {:.0f} мин на сумму - {:.0f} руб.'.\n",
    "      format(smart_over_mean_calls, smart_over_mean_calls_rub))\n",
    "\n",
    "smart_over_mean_sms = np.ceil(data[(data['Тариф'] == 'smart')]['СМС сверх лимита'].mean())\n",
    "smart_over_mean_sms_rub = smart_over_mean_sms * 3\n",
    "print('Среднее превышение пакета СМС по тарифу \"Смарт\" - {:.0f} шт. на сумму - {:.0f} руб.'.\n",
    "      format(smart_over_mean_sms, smart_over_mean_sms_rub))\n",
    "\n",
    "print('----------------------------------------------------------------')\n",
    "\n",
    "ultra_over_mean_internet = data[(data['Тариф'] == 'ultra')]['Интернет сверх лимита'].mean()\n",
    "ultra_over_mean_internet_rub = np.round(ultra_over_mean_internet, -3)/1000 * 150\n",
    "print('Среднее превышение пакета интернет по тарифу \"Ультра\" - {:.0f} Мб на сумму - {:.0f} руб.'.\n",
    "      format(ultra_over_mean_internet, ultra_over_mean_internet_rub))\n",
    "\n",
    "ultra_over_mean_calls = np.ceil(data[(data['Тариф'] == 'ultra')]['Звонки сверх лимита, мин.'].mean())\n",
    "ultra_over_mean_calls_rub = ultra_over_mean_calls * 3\n",
    "print('Среднее превышение пакета минут по тарифу \"Ультра\" - {:.0f} мин на сумму - {:.0f} руб.'.\n",
    "      format(ultra_over_mean_calls, ultra_over_mean_calls_rub))\n",
    "\n",
    "ultra_over_mean_sms = np.ceil(data[(data['Тариф'] == 'ultra')]['СМС сверх лимита'].mean())\n",
    "ultra_over_mean_sms_rub = ultra_over_mean_sms * 3\n",
    "print('Среднее превышение пакета СМС по тарифу \"Ультра\" - {:.0f} шт. на сумму - {:.0f} руб.'.\n",
    "      format(ultra_over_mean_sms, ultra_over_mean_sms_rub))"
   ]
  },
  {
   "cell_type": "markdown",
   "metadata": {},
   "source": [
    "Посмотрим на информацию по выручке"
   ]
  },
  {
   "cell_type": "code",
   "execution_count": 91,
   "metadata": {},
   "outputs": [
    {
     "data": {
      "image/png": "[encoded data removed]",
      "text/plain": [
       "<Figure size 1440x360 with 1 Axes>"
      ]
     },
     "metadata": {},
     "output_type": "display_data"
    }
   ],
   "source": [
    "all_revenue = data['Сумма за месяц'].sum()\n",
    "\n",
    "\n",
    "def func_pct(pct):\n",
    "    value = float(pct/100.*all_revenue)\n",
    "    return \"{:.2f}%\\n({:,.0f} руб.)\".format(pct, value)\n",
    "\n",
    "explode = (0.05, 0)  # сектор 'ultra' немного выдвинем\n",
    "\n",
    "axes = data.groupby('Тариф')['Сумма за месяц'].sum().plot(kind='pie', subplots=True, fontsize=15,\n",
    "                                                                     use_index=False, shadow=True, explode=explode,\n",
    "                                                                     title = 'Выручка', pctdistance=0.45,\n",
    "                                                                     startangle=20, figsize=(20,5),\n",
    "                                                                     autopct=lambda pct: func_pct(pct))\n",
    "\n",
    "for ax in axes:\n",
    "    ax.legend(['Смарт', 'Ультра'], bbox_to_anchor=(0.87,0.87), framealpha=0.2, prop={'size':12})\n",
    "    ax.set_ylabel('')\n",
    "    \n",
    "ax.title.set_size(40)\n",
    "plt.tight_layout(pad=0)"
   ]
  },
  {
   "cell_type": "markdown",
   "metadata": {},
   "source": [
    "##* Общий вывод:\n",
    "Тариф Смарт приносит около 60% всей выручки, но при этом на него приходится, немногим больше 2200 пользователей. Тариф Ультра дает остальные 40% выручки, но эту выручку генерируют, чуть менее 1000 пользователей.\n",
    "\n",
    "Среднему пользователю тарифа Смарт не хватает 1 Гб интернета к заложенными в абонентскую плату 15 Гб и ему приходится доплачивать за это 600 рублей, в среднем.\n",
    "\n",
    "Таким образом, в тарифной сетке есть дешевый тариф Смарт за 550 рублей, где пользователю не хватает интернета и количество использованных минут разговора на грани лимита (418 мин из 500), и есть тариф Ультра, стоимостью 1950 рублей, где лимитов по всем типам связи более чем достаточно, иногда, пользователи тарифа Ультра доплачивают за интернет, в среднем 150 рублей.\n",
    "\n",
    "Рекомендации компании \"Мегалайн\"  - надо развивать тариф Смарт с дополнительными пакетами услуг за Интернет, Звонки, для максимизации дополнительных продаж с одного абонента, если исходить из версии, что оплаченный пакет услуг, это, фактически постоянные издержки компании. Тариф Ультра предлагать не всем пользователем, а, например, тем, кто давно с компанией, постоянно переплачивает за ее услугу (есть риск перехода к другому оператору), также, можно предлагать тариф Ультра при реализации корпоративных программ."
   ]
  }
 ],
 "metadata": {
  "kernelspec": {
   "display_name": "Python 3",
   "language": "python",
   "name": "python3"
  },
  "language_info": {
   "codemirror_mode": {
    "name": "ipython",
    "version": 3
   },
   "file_extension": ".py",
   "mimetype": "text/x-python",
   "name": "python",
   "nbconvert_exporter": "python",
   "pygments_lexer": "ipython3",
   "version": "3.7.6"
  }
 },
 "nbformat": 4,
 "nbformat_minor": 2
}
