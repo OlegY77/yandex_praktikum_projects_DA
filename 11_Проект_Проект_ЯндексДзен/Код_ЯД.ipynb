{
 "cells": [
  {
   "cell_type": "markdown",
   "metadata": {},
   "source": [
    "# **<font color=\"black\">Аналитика в Яндекс.Дзене</font>**</font>"
   ]
  },
  {
   "cell_type": "markdown",
   "metadata": {},
   "source": [
    "Знакомство с проектной работой\n",
    "Познакомьтесь с проектом, который вам предстоит выполнить после этого курса.\n",
    "Описание проекта\n",
    "Вы работаете аналитиком в Яндекс.Дзене. Почти всё ваше время занимает анализ пользовательского взаимодействия с карточками статей.\n",
    "Каждую карточку определяют её тема и источник (у него тоже есть тема). Примеры тем: «Красота и здоровье», «Россия», «Путешествия».\n",
    "Пользователей системы характеризует возрастная категория. Скажем, «26-30» или «45+».\n",
    "Есть три способа взаимодействия пользователей с системой:\n",
    "Карточка отображена для пользователя (show);\n",
    "Пользователь кликнул на карточку (click);\n",
    "Пользователь просмотрел статью карточки (view).\n",
    "Каждую неделю начинающие менеджеры Денис и Валерия задают вам одни и те же вопросы:\n",
    "Cколько взаимодействий пользователей с карточками происходит в системе с разбивкой по темам карточек?\n",
    "Как много событий генерируют источники с разными темами?\n",
    "Насколько хорошо пользователи конвертируются из показов карточек в просмотры статей?\n",
    "На шестую неделю работы вы решаете, что процесс пора автоматизировать. Для Дениса и Валерии нужно сделать дашборд."
   ]
  },
  {
   "cell_type": "code",
   "execution_count": 15,
   "metadata": {},
   "outputs": [],
   "source": [
    "# импортируем библиотеки\n",
    "import pandas as pd\n",
    "from sqlalchemy import create_engine\n",
    "\n",
    "db_config = {'user': 'praktikum_student',         # имя пользователя\n",
    "             'pwd': 'Sdf4$2;d-d30pp', # пароль\n",
    "             'host': 'rc1b-wcoijxj3yxfsf3fs.mdb.yandexcloud.net',\n",
    "             'port': 6432,              # порт подключения\n",
    "             'db': 'data-analyst-zen-project-db'}          # название базы данных\n",
    "\n",
    "connection_string = 'postgresql://{}:{}@{}:{}/{}'.format(db_config['user'],\n",
    "                                                                                                                                             db_config['pwd'],\n",
    "                                                                                                                                            db_config['host'],\n",
    "                                                                                                                                             db_config['port'],\n",
    "                                                                       db_config['db'])\n",
    "\n",
    "engine = create_engine(connection_string)"
   ]
  },
  {
   "cell_type": "code",
   "execution_count": 16,
   "metadata": {},
   "outputs": [],
   "source": [
    "db_config = {'user': 'praktikum_student',         # имя пользователя\n",
    "             'pwd': 'Sdf4$2;d-d30pp', # пароль\n",
    "             'host': 'rc1b-wcoijxj3yxfsf3fs.mdb.yandexcloud.net',\n",
    "             'port': 6432,              # порт подключения\n",
    "             'db': 'data-analyst-zen-project-db'}          # название базы данных\n",
    "\n",
    "connection_string = 'postgresql://{}:{}@{}:{}/{}'.format(db_config['user'],\n",
    "                                                                                                                                             db_config['pwd'],\n",
    "                                                                                                                                            db_config['host'],\n",
    "                                                                                                                                             db_config['port'],\n",
    "                                                                       db_config['db'])\n",
    "\n",
    "engine = create_engine(connection_string)"
   ]
  },
  {
   "cell_type": "code",
   "execution_count": 17,
   "metadata": {},
   "outputs": [],
   "source": [
    "query = '''\n",
    "            SELECT * FROM dash_visits\n",
    "        '''\n",
    "dash_visits = pd.io.sql.read_sql(query, con = engine)"
   ]
  },
  {
   "cell_type": "code",
   "execution_count": 18,
   "metadata": {},
   "outputs": [
    {
     "data": {
      "text/html": [
       "<div>\n",
       "<style scoped>\n",
       "    .dataframe tbody tr th:only-of-type {\n",
       "        vertical-align: middle;\n",
       "    }\n",
       "\n",
       "    .dataframe tbody tr th {\n",
       "        vertical-align: top;\n",
       "    }\n",
       "\n",
       "    .dataframe thead th {\n",
       "        text-align: right;\n",
       "    }\n",
       "</style>\n",
       "<table border=\"1\" class=\"dataframe\">\n",
       "  <thead>\n",
       "    <tr style=\"text-align: right;\">\n",
       "      <th></th>\n",
       "      <th>record_id</th>\n",
       "      <th>item_topic</th>\n",
       "      <th>source_topic</th>\n",
       "      <th>age_segment</th>\n",
       "      <th>dt</th>\n",
       "      <th>visits</th>\n",
       "    </tr>\n",
       "  </thead>\n",
       "  <tbody>\n",
       "    <tr>\n",
       "      <td>0</td>\n",
       "      <td>1040597</td>\n",
       "      <td>Деньги</td>\n",
       "      <td>Авто</td>\n",
       "      <td>18-25</td>\n",
       "      <td>2019-09-24 18:32:00</td>\n",
       "      <td>3</td>\n",
       "    </tr>\n",
       "    <tr>\n",
       "      <td>1</td>\n",
       "      <td>1040598</td>\n",
       "      <td>Деньги</td>\n",
       "      <td>Авто</td>\n",
       "      <td>18-25</td>\n",
       "      <td>2019-09-24 18:35:00</td>\n",
       "      <td>1</td>\n",
       "    </tr>\n",
       "    <tr>\n",
       "      <td>2</td>\n",
       "      <td>1040599</td>\n",
       "      <td>Деньги</td>\n",
       "      <td>Авто</td>\n",
       "      <td>18-25</td>\n",
       "      <td>2019-09-24 18:54:00</td>\n",
       "      <td>4</td>\n",
       "    </tr>\n",
       "    <tr>\n",
       "      <td>3</td>\n",
       "      <td>1040600</td>\n",
       "      <td>Деньги</td>\n",
       "      <td>Авто</td>\n",
       "      <td>18-25</td>\n",
       "      <td>2019-09-24 18:55:00</td>\n",
       "      <td>17</td>\n",
       "    </tr>\n",
       "    <tr>\n",
       "      <td>4</td>\n",
       "      <td>1040601</td>\n",
       "      <td>Деньги</td>\n",
       "      <td>Авто</td>\n",
       "      <td>18-25</td>\n",
       "      <td>2019-09-24 18:56:00</td>\n",
       "      <td>27</td>\n",
       "    </tr>\n",
       "    <tr>\n",
       "      <td>...</td>\n",
       "      <td>...</td>\n",
       "      <td>...</td>\n",
       "      <td>...</td>\n",
       "      <td>...</td>\n",
       "      <td>...</td>\n",
       "      <td>...</td>\n",
       "    </tr>\n",
       "    <tr>\n",
       "      <td>30740</td>\n",
       "      <td>1071337</td>\n",
       "      <td>Юмор</td>\n",
       "      <td>Финансы</td>\n",
       "      <td>36-40</td>\n",
       "      <td>2019-09-24 18:57:00</td>\n",
       "      <td>2</td>\n",
       "    </tr>\n",
       "    <tr>\n",
       "      <td>30741</td>\n",
       "      <td>1071338</td>\n",
       "      <td>Юмор</td>\n",
       "      <td>Финансы</td>\n",
       "      <td>36-40</td>\n",
       "      <td>2019-09-24 19:00:00</td>\n",
       "      <td>1</td>\n",
       "    </tr>\n",
       "    <tr>\n",
       "      <td>30742</td>\n",
       "      <td>1071339</td>\n",
       "      <td>Юмор</td>\n",
       "      <td>Финансы</td>\n",
       "      <td>41-45</td>\n",
       "      <td>2019-09-24 18:54:00</td>\n",
       "      <td>1</td>\n",
       "    </tr>\n",
       "    <tr>\n",
       "      <td>30743</td>\n",
       "      <td>1071340</td>\n",
       "      <td>Юмор</td>\n",
       "      <td>Финансы</td>\n",
       "      <td>41-45</td>\n",
       "      <td>2019-09-24 18:56:00</td>\n",
       "      <td>1</td>\n",
       "    </tr>\n",
       "    <tr>\n",
       "      <td>30744</td>\n",
       "      <td>1071341</td>\n",
       "      <td>Юмор</td>\n",
       "      <td>Финансы</td>\n",
       "      <td>41-45</td>\n",
       "      <td>2019-09-24 19:00:00</td>\n",
       "      <td>1</td>\n",
       "    </tr>\n",
       "  </tbody>\n",
       "</table>\n",
       "<p>30745 rows × 6 columns</p>\n",
       "</div>"
      ],
      "text/plain": [
       "       record_id item_topic source_topic age_segment                  dt  \\\n",
       "0        1040597     Деньги         Авто       18-25 2019-09-24 18:32:00   \n",
       "1        1040598     Деньги         Авто       18-25 2019-09-24 18:35:00   \n",
       "2        1040599     Деньги         Авто       18-25 2019-09-24 18:54:00   \n",
       "3        1040600     Деньги         Авто       18-25 2019-09-24 18:55:00   \n",
       "4        1040601     Деньги         Авто       18-25 2019-09-24 18:56:00   \n",
       "...          ...        ...          ...         ...                 ...   \n",
       "30740    1071337       Юмор      Финансы       36-40 2019-09-24 18:57:00   \n",
       "30741    1071338       Юмор      Финансы       36-40 2019-09-24 19:00:00   \n",
       "30742    1071339       Юмор      Финансы       41-45 2019-09-24 18:54:00   \n",
       "30743    1071340       Юмор      Финансы       41-45 2019-09-24 18:56:00   \n",
       "30744    1071341       Юмор      Финансы       41-45 2019-09-24 19:00:00   \n",
       "\n",
       "       visits  \n",
       "0           3  \n",
       "1           1  \n",
       "2           4  \n",
       "3          17  \n",
       "4          27  \n",
       "...       ...  \n",
       "30740       2  \n",
       "30741       1  \n",
       "30742       1  \n",
       "30743       1  \n",
       "30744       1  \n",
       "\n",
       "[30745 rows x 6 columns]"
      ]
     },
     "metadata": {},
     "output_type": "display_data"
    }
   ],
   "source": [
    "display(dash_visits)"
   ]
  },
  {
   "cell_type": "code",
   "execution_count": 19,
   "metadata": {},
   "outputs": [
    {
     "name": "stdout",
     "output_type": "stream",
     "text": [
      "<class 'pandas.core.frame.DataFrame'>\n",
      "RangeIndex: 30745 entries, 0 to 30744\n",
      "Data columns (total 6 columns):\n",
      "record_id       30745 non-null int64\n",
      "item_topic      30745 non-null object\n",
      "source_topic    30745 non-null object\n",
      "age_segment     30745 non-null object\n",
      "dt              30745 non-null datetime64[ns]\n",
      "visits          30745 non-null int64\n",
      "dtypes: datetime64[ns](1), int64(2), object(3)\n",
      "memory usage: 1.4+ MB\n"
     ]
    }
   ],
   "source": [
    "dash_visits.info()"
   ]
  },
  {
   "cell_type": "code",
   "execution_count": 20,
   "metadata": {},
   "outputs": [],
   "source": [
    "dash_visits.to_csv('dash_visits.csv')"
   ]
  },
  {
   "cell_type": "code",
   "execution_count": 21,
   "metadata": {},
   "outputs": [
    {
     "data": {
      "text/html": [
       "<a href='dash_visits.csv' target='_blank'>dash_visits.csv</a><br>"
      ],
      "text/plain": [
       "/home/user-0-431678354/work/dash_visits.csv"
      ]
     },
     "execution_count": 21,
     "metadata": {},
     "output_type": "execute_result"
    }
   ],
   "source": [
    "from IPython.display import FileLink, FileLinks\n",
    "dash_visits.to_csv('dash_visits.csv', index=False)\n",
    "FileLink('dash_visits.csv')"
   ]
  }
 ],
 "metadata": {
  "kernelspec": {
   "display_name": "Python 3",
   "language": "python",
   "name": "python3"
  },
  "language_info": {
   "codemirror_mode": {
    "name": "ipython",
    "version": 3
   },
   "file_extension": ".py",
   "mimetype": "text/x-python",
   "name": "python",
   "nbconvert_exporter": "python",
   "pygments_lexer": "ipython3",
   "version": "3.7.6"
  },
  "widgets": {
   "application/vnd.jupyter.widget-state+json": {
    "state": {},
    "version_major": 2,
    "version_minor": 0
   }
  }
 },
 "nbformat": 4,
 "nbformat_minor": 2
}
